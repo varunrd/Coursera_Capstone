{
 "cells": [
  {
   "cell_type": "markdown",
   "metadata": {},
   "source": [
    " ## Prediction of Optimal Location for setting up a coaching institute"
   ]
  },
  {
   "cell_type": "markdown",
   "metadata": {},
   "source": [
    "We will use the clusturing method to find optimal Solution to the problem. We are using the data from Foursquare API\\\n",
    "and will mainly be using the location coordinates."
   ]
  },
  {
   "cell_type": "code",
   "execution_count": 55,
   "metadata": {},
   "outputs": [
    {
     "name": "stdout",
     "output_type": "stream",
     "text": [
      "Solving environment: done\n",
      "\n",
      "\n",
      "==> WARNING: A newer version of conda exists. <==\n",
      "  current version: 4.5.11\n",
      "  latest version: 4.8.0\n",
      "\n",
      "Please update conda by running\n",
      "\n",
      "    $ conda update -n base -c defaults conda\n",
      "\n",
      "\n",
      "\n",
      "# All requested packages already installed.\n",
      "\n",
      "Solving environment: done\n",
      "\n",
      "\n",
      "==> WARNING: A newer version of conda exists. <==\n",
      "  current version: 4.5.11\n",
      "  latest version: 4.8.0\n",
      "\n",
      "Please update conda by running\n",
      "\n",
      "    $ conda update -n base -c defaults conda\n",
      "\n",
      "\n",
      "\n",
      "# All requested packages already installed.\n",
      "\n",
      "Folium installed\n",
      "Libraries imported.\n"
     ]
    }
   ],
   "source": [
    "import requests # library to handle requests\n",
    "import pandas as pd # library for data analsysis\n",
    "import numpy as np # library to handle data in a vectorized manner\n",
    "import random # library for random number generation\n",
    "import matplotlib.pyplot as plt #library to plot a graph\n",
    "from sklearn.cluster import KMeans #library for K Means\n",
    "%matplotlib inline\n",
    "\n",
    "!conda install -c conda-forge geopy --yes \n",
    "from geopy.geocoders import Nominatim # module to convert an address into latitude and longitude values\n",
    "\n",
    "# libraries for displaying images\n",
    "from IPython.display import Image \n",
    "from IPython.core.display import HTML \n",
    "    \n",
    "# tranforming json file into a pandas dataframe library\n",
    "from pandas.io.json import json_normalize\n",
    "\n",
    "!conda install -c conda-forge folium=0.5.0 --yes\n",
    "import folium # plotting library for map\n",
    "\n",
    "print('Folium installed')\n",
    "print('Libraries imported.')"
   ]
  },
  {
   "cell_type": "markdown",
   "metadata": {},
   "source": [
    "Now we will input the Client ID and Client Secret for gathering information from Foursquare API"
   ]
  },
  {
   "cell_type": "code",
   "execution_count": 56,
   "metadata": {},
   "outputs": [],
   "source": [
    "CLIENT_ID = 'NAEG5PK5YPSB5KCU05ERESVK3WMVILXOY3WXLGLCZJNRGAXF'\n",
    "CLIENT_SECRET = 'CL0BLCB3S21FUPV0MKZJMPSN1VOI4IXKFGGCWV2BQ4ECGKDV'\n",
    "VERSION = '20191218'\n",
    "LIMIT = 50"
   ]
  },
  {
   "cell_type": "markdown",
   "metadata": {},
   "source": [
    "We want to gather information about colleges in Pune and to do so we have to pass two location coordinates to the foursqaure\n",
    "API.\n",
    "1. The main City\n",
    "2. The Outercity i.e. Pimpri Chinchwad.\n",
    "In the next few cells we will pass gather coordinates of both the areas and pass it to Foursquare API, gather Information, put it in a dataframe and then use it carry out our clustering."
   ]
  },
  {
   "cell_type": "code",
   "execution_count": 57,
   "metadata": {},
   "outputs": [
    {
     "name": "stdout",
     "output_type": "stream",
     "text": [
      "18.521428 73.8544541\n"
     ]
    }
   ],
   "source": [
    "address = 'Pune, Mahārāshtra, India'\n",
    "\n",
    "geolocator = Nominatim(user_agent=\"foursquare_agent\")\n",
    "location = geolocator.geocode(address)\n",
    "latitude = location.latitude\n",
    "longitude = location.longitude\n",
    "print(latitude, longitude)"
   ]
  },
  {
   "cell_type": "code",
   "execution_count": 61,
   "metadata": {},
   "outputs": [
    {
     "name": "stdout",
     "output_type": "stream",
     "text": [
      "College & University .... OK!\n"
     ]
    }
   ],
   "source": [
    "search_query = 'College & University'\n",
    "Radius = 10000\n",
    "print(search_query + ' .... OK!')"
   ]
  },
  {
   "cell_type": "code",
   "execution_count": 62,
   "metadata": {},
   "outputs": [
    {
     "data": {
      "text/plain": [
       "'https://api.foursquare.com/v2/venues/search?client_id=NAEG5PK5YPSB5KCU05ERESVK3WMVILXOY3WXLGLCZJNRGAXF&client_secret=CL0BLCB3S21FUPV0MKZJMPSN1VOI4IXKFGGCWV2BQ4ECGKDV&ll=18.521428,73.8544541&v=20191218&query=College & University&radius=10000&limit=50'"
      ]
     },
     "execution_count": 62,
     "metadata": {},
     "output_type": "execute_result"
    }
   ],
   "source": [
    "url = 'https://api.foursquare.com/v2/venues/search?client_id={}&client_secret={}&ll={},{}&v={}&query={}&radius={}&limit={}'.format(CLIENT_ID, CLIENT_SECRET, latitude, longitude, VERSION, search_query, Radius, LIMIT)\n",
    "url"
   ]
  },
  {
   "cell_type": "code",
   "execution_count": 63,
   "metadata": {},
   "outputs": [],
   "source": [
    "results = requests.get(url).json()"
   ]
  },
  {
   "cell_type": "code",
   "execution_count": 64,
   "metadata": {},
   "outputs": [
    {
     "data": {
      "text/html": [
       "<div>\n",
       "<style scoped>\n",
       "    .dataframe tbody tr th:only-of-type {\n",
       "        vertical-align: middle;\n",
       "    }\n",
       "\n",
       "    .dataframe tbody tr th {\n",
       "        vertical-align: top;\n",
       "    }\n",
       "\n",
       "    .dataframe thead th {\n",
       "        text-align: right;\n",
       "    }\n",
       "</style>\n",
       "<table border=\"1\" class=\"dataframe\">\n",
       "  <thead>\n",
       "    <tr style=\"text-align: right;\">\n",
       "      <th></th>\n",
       "      <th>id</th>\n",
       "      <th>name</th>\n",
       "      <th>categories</th>\n",
       "      <th>referralId</th>\n",
       "      <th>hasPerk</th>\n",
       "      <th>location.address</th>\n",
       "      <th>location.crossStreet</th>\n",
       "      <th>location.lat</th>\n",
       "      <th>location.lng</th>\n",
       "      <th>location.labeledLatLngs</th>\n",
       "      <th>location.distance</th>\n",
       "      <th>location.postalCode</th>\n",
       "      <th>location.cc</th>\n",
       "      <th>location.city</th>\n",
       "      <th>location.state</th>\n",
       "      <th>location.country</th>\n",
       "      <th>location.formattedAddress</th>\n",
       "      <th>location.neighborhood</th>\n",
       "    </tr>\n",
       "  </thead>\n",
       "  <tbody>\n",
       "    <tr>\n",
       "      <th>0</th>\n",
       "      <td>4d6ab9ac9d7e2d4300a819b3</td>\n",
       "      <td>P.E.S. Modern College of Engineering</td>\n",
       "      <td>[{'id': '4bf58dd8d48988d19e941735', 'name': 'C...</td>\n",
       "      <td>v-1576704384</td>\n",
       "      <td>False</td>\n",
       "      <td>Shivajinagar, Pune, Maharashtra</td>\n",
       "      <td>1186/A, Off J.M. Road</td>\n",
       "      <td>18.525628</td>\n",
       "      <td>73.846090</td>\n",
       "      <td>[{'label': 'display', 'lat': 18.52562811414942...</td>\n",
       "      <td>998</td>\n",
       "      <td>411005</td>\n",
       "      <td>IN</td>\n",
       "      <td>Pune</td>\n",
       "      <td>Mahārāshtra</td>\n",
       "      <td>India</td>\n",
       "      <td>[Shivajinagar, Pune, Maharashtra (1186/A, Off ...</td>\n",
       "      <td>NaN</td>\n",
       "    </tr>\n",
       "    <tr>\n",
       "      <th>1</th>\n",
       "      <td>4e5700e6b993bf36edfc65d0</td>\n",
       "      <td>Modern College Of Science</td>\n",
       "      <td>[{'id': '4bf58dd8d48988d19b941735', 'name': 'C...</td>\n",
       "      <td>v-1576704384</td>\n",
       "      <td>False</td>\n",
       "      <td>Modern College Road</td>\n",
       "      <td>Off JM Road</td>\n",
       "      <td>18.526315</td>\n",
       "      <td>73.845694</td>\n",
       "      <td>[{'label': 'display', 'lat': 18.52631498125122...</td>\n",
       "      <td>1072</td>\n",
       "      <td>NaN</td>\n",
       "      <td>IN</td>\n",
       "      <td>Pune</td>\n",
       "      <td>Mahārāshtra</td>\n",
       "      <td>India</td>\n",
       "      <td>[Modern College Road (Off JM Road), Pune, Mahā...</td>\n",
       "      <td>NaN</td>\n",
       "    </tr>\n",
       "    <tr>\n",
       "      <th>2</th>\n",
       "      <td>4e1fc5c41838712abe601b1f</td>\n",
       "      <td>S. P. College</td>\n",
       "      <td>[{'id': '4bf58dd8d48988d1a8941735', 'name': 'G...</td>\n",
       "      <td>v-1576704384</td>\n",
       "      <td>False</td>\n",
       "      <td>Tilak Road</td>\n",
       "      <td>NaN</td>\n",
       "      <td>18.507308</td>\n",
       "      <td>73.849743</td>\n",
       "      <td>[{'label': 'display', 'lat': 18.50730817151161...</td>\n",
       "      <td>1648</td>\n",
       "      <td>411030</td>\n",
       "      <td>IN</td>\n",
       "      <td>Pune</td>\n",
       "      <td>Mahārāshtra</td>\n",
       "      <td>India</td>\n",
       "      <td>[Tilak Road, Pune 411030, Mahārāshtra, India]</td>\n",
       "      <td>NaN</td>\n",
       "    </tr>\n",
       "    <tr>\n",
       "      <th>3</th>\n",
       "      <td>5066c65ae4b0bb2af9550efc</td>\n",
       "      <td>Fergusson College Road</td>\n",
       "      <td>[{'id': '4bf58dd8d48988d1f9931735', 'name': 'R...</td>\n",
       "      <td>v-1576704384</td>\n",
       "      <td>False</td>\n",
       "      <td>Shivaji Nagar</td>\n",
       "      <td>Ferguson College Rd</td>\n",
       "      <td>18.520328</td>\n",
       "      <td>73.841421</td>\n",
       "      <td>[{'label': 'display', 'lat': 18.52032787237845...</td>\n",
       "      <td>1381</td>\n",
       "      <td>411004</td>\n",
       "      <td>IN</td>\n",
       "      <td>Pune</td>\n",
       "      <td>Mahārāshtra</td>\n",
       "      <td>India</td>\n",
       "      <td>[Shivaji Nagar (Ferguson College Rd), Pune 411...</td>\n",
       "      <td>NaN</td>\n",
       "    </tr>\n",
       "    <tr>\n",
       "      <th>4</th>\n",
       "      <td>4d6ab55b9d7e2d432d7e19b3</td>\n",
       "      <td>Fergusson College</td>\n",
       "      <td>[{'id': '4bf58dd8d48988d1a8941735', 'name': 'G...</td>\n",
       "      <td>v-1576704384</td>\n",
       "      <td>False</td>\n",
       "      <td>Fergusson College Rd</td>\n",
       "      <td>Shivaji Nagar</td>\n",
       "      <td>18.522833</td>\n",
       "      <td>73.839503</td>\n",
       "      <td>[{'label': 'display', 'lat': 18.5228330531064,...</td>\n",
       "      <td>1585</td>\n",
       "      <td>411004</td>\n",
       "      <td>IN</td>\n",
       "      <td>Pune</td>\n",
       "      <td>Mahārāshtra</td>\n",
       "      <td>India</td>\n",
       "      <td>[Fergusson College Rd (Shivaji Nagar), Pune 41...</td>\n",
       "      <td>NaN</td>\n",
       "    </tr>\n",
       "  </tbody>\n",
       "</table>\n",
       "</div>"
      ],
      "text/plain": [
       "                         id                                  name  \\\n",
       "0  4d6ab9ac9d7e2d4300a819b3  P.E.S. Modern College of Engineering   \n",
       "1  4e5700e6b993bf36edfc65d0             Modern College Of Science   \n",
       "2  4e1fc5c41838712abe601b1f                         S. P. College   \n",
       "3  5066c65ae4b0bb2af9550efc                Fergusson College Road   \n",
       "4  4d6ab55b9d7e2d432d7e19b3                     Fergusson College   \n",
       "\n",
       "                                          categories    referralId  hasPerk  \\\n",
       "0  [{'id': '4bf58dd8d48988d19e941735', 'name': 'C...  v-1576704384    False   \n",
       "1  [{'id': '4bf58dd8d48988d19b941735', 'name': 'C...  v-1576704384    False   \n",
       "2  [{'id': '4bf58dd8d48988d1a8941735', 'name': 'G...  v-1576704384    False   \n",
       "3  [{'id': '4bf58dd8d48988d1f9931735', 'name': 'R...  v-1576704384    False   \n",
       "4  [{'id': '4bf58dd8d48988d1a8941735', 'name': 'G...  v-1576704384    False   \n",
       "\n",
       "                  location.address   location.crossStreet  location.lat  \\\n",
       "0  Shivajinagar, Pune, Maharashtra  1186/A, Off J.M. Road     18.525628   \n",
       "1              Modern College Road            Off JM Road     18.526315   \n",
       "2                       Tilak Road                    NaN     18.507308   \n",
       "3                    Shivaji Nagar    Ferguson College Rd     18.520328   \n",
       "4             Fergusson College Rd          Shivaji Nagar     18.522833   \n",
       "\n",
       "   location.lng                            location.labeledLatLngs  \\\n",
       "0     73.846090  [{'label': 'display', 'lat': 18.52562811414942...   \n",
       "1     73.845694  [{'label': 'display', 'lat': 18.52631498125122...   \n",
       "2     73.849743  [{'label': 'display', 'lat': 18.50730817151161...   \n",
       "3     73.841421  [{'label': 'display', 'lat': 18.52032787237845...   \n",
       "4     73.839503  [{'label': 'display', 'lat': 18.5228330531064,...   \n",
       "\n",
       "   location.distance location.postalCode location.cc location.city  \\\n",
       "0                998              411005          IN          Pune   \n",
       "1               1072                 NaN          IN          Pune   \n",
       "2               1648              411030          IN          Pune   \n",
       "3               1381              411004          IN          Pune   \n",
       "4               1585              411004          IN          Pune   \n",
       "\n",
       "  location.state location.country  \\\n",
       "0    Mahārāshtra            India   \n",
       "1    Mahārāshtra            India   \n",
       "2    Mahārāshtra            India   \n",
       "3    Mahārāshtra            India   \n",
       "4    Mahārāshtra            India   \n",
       "\n",
       "                           location.formattedAddress location.neighborhood  \n",
       "0  [Shivajinagar, Pune, Maharashtra (1186/A, Off ...                   NaN  \n",
       "1  [Modern College Road (Off JM Road), Pune, Mahā...                   NaN  \n",
       "2      [Tilak Road, Pune 411030, Mahārāshtra, India]                   NaN  \n",
       "3  [Shivaji Nagar (Ferguson College Rd), Pune 411...                   NaN  \n",
       "4  [Fergusson College Rd (Shivaji Nagar), Pune 41...                   NaN  "
      ]
     },
     "execution_count": 64,
     "metadata": {},
     "output_type": "execute_result"
    }
   ],
   "source": [
    "# assigning relevant part of JSON to venues\n",
    "venues = results['response']['venues']\n",
    "\n",
    "# tranforming venues into a dataframe\n",
    "dataframe = json_normalize(venues)\n",
    "dataframe.head()"
   ]
  },
  {
   "cell_type": "markdown",
   "metadata": {},
   "source": [
    "For Pimpri Chinchwad"
   ]
  },
  {
   "cell_type": "code",
   "execution_count": 69,
   "metadata": {},
   "outputs": [
    {
     "name": "stdout",
     "output_type": "stream",
     "text": [
      "18.6279288 73.8009829\n"
     ]
    }
   ],
   "source": [
    "address = 'Pimpri-Chinchwad, Mahārāshtra, India'\n",
    "\n",
    "geolocator = Nominatim(user_agent=\"foursquare_agent\")\n",
    "location = geolocator.geocode(address)\n",
    "latitude = location.latitude\n",
    "longitude = location.longitude\n",
    "print(latitude, longitude)"
   ]
  },
  {
   "cell_type": "code",
   "execution_count": 70,
   "metadata": {},
   "outputs": [
    {
     "name": "stdout",
     "output_type": "stream",
     "text": [
      "College & University .... OK!\n"
     ]
    }
   ],
   "source": [
    "search_query = 'College & University'\n",
    "Radius = 10000\n",
    "print(search_query + ' .... OK!')"
   ]
  },
  {
   "cell_type": "code",
   "execution_count": 71,
   "metadata": {},
   "outputs": [
    {
     "data": {
      "text/plain": [
       "'https://api.foursquare.com/v2/venues/search?client_id=NAEG5PK5YPSB5KCU05ERESVK3WMVILXOY3WXLGLCZJNRGAXF&client_secret=CL0BLCB3S21FUPV0MKZJMPSN1VOI4IXKFGGCWV2BQ4ECGKDV&ll=18.6279288,73.8009829&v=20191218&query=College & University&radius=10000&limit=50'"
      ]
     },
     "execution_count": 71,
     "metadata": {},
     "output_type": "execute_result"
    }
   ],
   "source": [
    "url = 'https://api.foursquare.com/v2/venues/search?client_id={}&client_secret={}&ll={},{}&v={}&query={}&radius={}&limit={}'.format(CLIENT_ID, CLIENT_SECRET, latitude, longitude, VERSION, search_query, Radius, LIMIT)\n",
    "url"
   ]
  },
  {
   "cell_type": "code",
   "execution_count": 72,
   "metadata": {},
   "outputs": [],
   "source": [
    "results = requests.get(url).json()"
   ]
  },
  {
   "cell_type": "code",
   "execution_count": 73,
   "metadata": {},
   "outputs": [
    {
     "data": {
      "text/html": [
       "<div>\n",
       "<style scoped>\n",
       "    .dataframe tbody tr th:only-of-type {\n",
       "        vertical-align: middle;\n",
       "    }\n",
       "\n",
       "    .dataframe tbody tr th {\n",
       "        vertical-align: top;\n",
       "    }\n",
       "\n",
       "    .dataframe thead th {\n",
       "        text-align: right;\n",
       "    }\n",
       "</style>\n",
       "<table border=\"1\" class=\"dataframe\">\n",
       "  <thead>\n",
       "    <tr style=\"text-align: right;\">\n",
       "      <th></th>\n",
       "      <th>id</th>\n",
       "      <th>name</th>\n",
       "      <th>categories</th>\n",
       "      <th>referralId</th>\n",
       "      <th>hasPerk</th>\n",
       "      <th>location.lat</th>\n",
       "      <th>location.lng</th>\n",
       "      <th>location.labeledLatLngs</th>\n",
       "      <th>location.distance</th>\n",
       "      <th>location.cc</th>\n",
       "      <th>location.country</th>\n",
       "      <th>location.formattedAddress</th>\n",
       "      <th>location.address</th>\n",
       "      <th>location.postalCode</th>\n",
       "      <th>location.city</th>\n",
       "      <th>location.state</th>\n",
       "      <th>location.crossStreet</th>\n",
       "    </tr>\n",
       "  </thead>\n",
       "  <tbody>\n",
       "    <tr>\n",
       "      <th>0</th>\n",
       "      <td>4d83307802eb5481401614f5</td>\n",
       "      <td>D Y Patil Medical College</td>\n",
       "      <td>[{'id': '4bf58dd8d48988d197941735', 'name': 'C...</td>\n",
       "      <td>v-1576704434</td>\n",
       "      <td>False</td>\n",
       "      <td>18.624557</td>\n",
       "      <td>73.820710</td>\n",
       "      <td>[{'label': 'display', 'lat': 18.62455720850943...</td>\n",
       "      <td>2114</td>\n",
       "      <td>IN</td>\n",
       "      <td>India</td>\n",
       "      <td>[India]</td>\n",
       "      <td>NaN</td>\n",
       "      <td>NaN</td>\n",
       "      <td>NaN</td>\n",
       "      <td>NaN</td>\n",
       "      <td>NaN</td>\n",
       "    </tr>\n",
       "    <tr>\n",
       "      <th>1</th>\n",
       "      <td>4fb2183be4b07eeb437fba20</td>\n",
       "      <td>ophathal opd d. y patil medical college</td>\n",
       "      <td>[{'id': '4bf58dd8d48988d177941735', 'name': 'D...</td>\n",
       "      <td>v-1576704434</td>\n",
       "      <td>False</td>\n",
       "      <td>18.623299</td>\n",
       "      <td>73.802246</td>\n",
       "      <td>[{'label': 'display', 'lat': 18.62329864501953...</td>\n",
       "      <td>532</td>\n",
       "      <td>IN</td>\n",
       "      <td>India</td>\n",
       "      <td>[D. Y Patil Medical College, Pimpri,pune 41101...</td>\n",
       "      <td>D. Y Patil Medical College</td>\n",
       "      <td>411018</td>\n",
       "      <td>Pimpri,pune</td>\n",
       "      <td>Mahārāshtra</td>\n",
       "      <td>NaN</td>\n",
       "    </tr>\n",
       "    <tr>\n",
       "      <th>2</th>\n",
       "      <td>5108970ce4b0e0092a4f883e</td>\n",
       "      <td>indira college of commerce and science dhruv b...</td>\n",
       "      <td>[{'id': '4bf58dd8d48988d19b941735', 'name': 'C...</td>\n",
       "      <td>v-1576704434</td>\n",
       "      <td>False</td>\n",
       "      <td>18.630693</td>\n",
       "      <td>73.791356</td>\n",
       "      <td>[{'label': 'display', 'lat': 18.63069344484637...</td>\n",
       "      <td>1061</td>\n",
       "      <td>IN</td>\n",
       "      <td>India</td>\n",
       "      <td>[India]</td>\n",
       "      <td>NaN</td>\n",
       "      <td>NaN</td>\n",
       "      <td>NaN</td>\n",
       "      <td>NaN</td>\n",
       "      <td>NaN</td>\n",
       "    </tr>\n",
       "    <tr>\n",
       "      <th>3</th>\n",
       "      <td>50aa4860498eeb8d61d0604b</td>\n",
       "      <td>College Mess</td>\n",
       "      <td>[{'id': '4bf58dd8d48988d142941735', 'name': 'A...</td>\n",
       "      <td>v-1576704434</td>\n",
       "      <td>False</td>\n",
       "      <td>18.624766</td>\n",
       "      <td>73.821089</td>\n",
       "      <td>[{'label': 'display', 'lat': 18.624766408696, ...</td>\n",
       "      <td>2149</td>\n",
       "      <td>IN</td>\n",
       "      <td>India</td>\n",
       "      <td>[D Y Patil Medical College, India]</td>\n",
       "      <td>D Y Patil Medical College</td>\n",
       "      <td>NaN</td>\n",
       "      <td>NaN</td>\n",
       "      <td>NaN</td>\n",
       "      <td>NaN</td>\n",
       "    </tr>\n",
       "    <tr>\n",
       "      <th>4</th>\n",
       "      <td>51b95dd5498e165e6ae26ec0</td>\n",
       "      <td>Dr. Arvind Telang College</td>\n",
       "      <td>[{'id': '4bf58dd8d48988d19b941735', 'name': 'C...</td>\n",
       "      <td>v-1576704434</td>\n",
       "      <td>False</td>\n",
       "      <td>18.638723</td>\n",
       "      <td>73.802816</td>\n",
       "      <td>[{'label': 'display', 'lat': 18.63872321176424...</td>\n",
       "      <td>1217</td>\n",
       "      <td>IN</td>\n",
       "      <td>India</td>\n",
       "      <td>[Akurdi, Pune, Mahārāshtra, India]</td>\n",
       "      <td>Akurdi</td>\n",
       "      <td>NaN</td>\n",
       "      <td>Pune</td>\n",
       "      <td>Mahārāshtra</td>\n",
       "      <td>NaN</td>\n",
       "    </tr>\n",
       "  </tbody>\n",
       "</table>\n",
       "</div>"
      ],
      "text/plain": [
       "                         id  \\\n",
       "0  4d83307802eb5481401614f5   \n",
       "1  4fb2183be4b07eeb437fba20   \n",
       "2  5108970ce4b0e0092a4f883e   \n",
       "3  50aa4860498eeb8d61d0604b   \n",
       "4  51b95dd5498e165e6ae26ec0   \n",
       "\n",
       "                                                name  \\\n",
       "0                          D Y Patil Medical College   \n",
       "1            ophathal opd d. y patil medical college   \n",
       "2  indira college of commerce and science dhruv b...   \n",
       "3                                       College Mess   \n",
       "4                          Dr. Arvind Telang College   \n",
       "\n",
       "                                          categories    referralId  hasPerk  \\\n",
       "0  [{'id': '4bf58dd8d48988d197941735', 'name': 'C...  v-1576704434    False   \n",
       "1  [{'id': '4bf58dd8d48988d177941735', 'name': 'D...  v-1576704434    False   \n",
       "2  [{'id': '4bf58dd8d48988d19b941735', 'name': 'C...  v-1576704434    False   \n",
       "3  [{'id': '4bf58dd8d48988d142941735', 'name': 'A...  v-1576704434    False   \n",
       "4  [{'id': '4bf58dd8d48988d19b941735', 'name': 'C...  v-1576704434    False   \n",
       "\n",
       "   location.lat  location.lng  \\\n",
       "0     18.624557     73.820710   \n",
       "1     18.623299     73.802246   \n",
       "2     18.630693     73.791356   \n",
       "3     18.624766     73.821089   \n",
       "4     18.638723     73.802816   \n",
       "\n",
       "                             location.labeledLatLngs  location.distance  \\\n",
       "0  [{'label': 'display', 'lat': 18.62455720850943...               2114   \n",
       "1  [{'label': 'display', 'lat': 18.62329864501953...                532   \n",
       "2  [{'label': 'display', 'lat': 18.63069344484637...               1061   \n",
       "3  [{'label': 'display', 'lat': 18.624766408696, ...               2149   \n",
       "4  [{'label': 'display', 'lat': 18.63872321176424...               1217   \n",
       "\n",
       "  location.cc location.country  \\\n",
       "0          IN            India   \n",
       "1          IN            India   \n",
       "2          IN            India   \n",
       "3          IN            India   \n",
       "4          IN            India   \n",
       "\n",
       "                           location.formattedAddress  \\\n",
       "0                                            [India]   \n",
       "1  [D. Y Patil Medical College, Pimpri,pune 41101...   \n",
       "2                                            [India]   \n",
       "3                 [D Y Patil Medical College, India]   \n",
       "4                 [Akurdi, Pune, Mahārāshtra, India]   \n",
       "\n",
       "             location.address location.postalCode location.city  \\\n",
       "0                         NaN                 NaN           NaN   \n",
       "1  D. Y Patil Medical College              411018   Pimpri,pune   \n",
       "2                         NaN                 NaN           NaN   \n",
       "3   D Y Patil Medical College                 NaN           NaN   \n",
       "4                      Akurdi                 NaN          Pune   \n",
       "\n",
       "  location.state location.crossStreet  \n",
       "0            NaN                  NaN  \n",
       "1    Mahārāshtra                  NaN  \n",
       "2            NaN                  NaN  \n",
       "3            NaN                  NaN  \n",
       "4    Mahārāshtra                  NaN  "
      ]
     },
     "execution_count": 73,
     "metadata": {},
     "output_type": "execute_result"
    }
   ],
   "source": [
    "# assigning relevant part of JSON to venues\n",
    "venues = results['response']['venues']\n",
    "\n",
    "# tranforming venues into a dataframe\n",
    "dataframe2 = json_normalize(venues)\n",
    "dataframe2.head()"
   ]
  },
  {
   "cell_type": "markdown",
   "metadata": {},
   "source": [
    "We then create 2 numpy arrays so that we can convert the 2 1D arrays into 1 2D array which will be expected in clustering.\\\n",
    "LNG will give the longitudinal Data\\\n",
    "LAT will give the Latitudinal Data\\\n",
    "LAT and LNG are arrays formed my combing both the cooridnates from both the data frames in 1 array."
   ]
  },
  {
   "cell_type": "code",
   "execution_count": 74,
   "metadata": {},
   "outputs": [
    {
     "data": {
      "text/plain": [
       "array([73.8460903 , 73.84569402, 73.84974293, 73.84142103, 73.83950275,\n",
       "       73.86505127, 73.84078926, 73.83916964, 73.83939937, 73.83869868,\n",
       "       73.85447502, 73.85075371, 73.82841772, 73.859137  , 73.8555069 ,\n",
       "       73.82915292, 73.85722351, 73.87998297, 73.85353332, 73.85598555,\n",
       "       73.85935661, 73.84790344, 73.82808459, 73.85245938, 73.86136083,\n",
       "       73.86308365, 73.85487143, 73.83894564, 73.86495972, 73.84053081,\n",
       "       73.8444    , 73.85746147, 73.83454041, 73.85277216, 73.81154202,\n",
       "       73.8419207 , 73.84553528, 73.81575821, 73.86810303, 73.84053802,\n",
       "       73.84069061, 73.84166225, 73.84646935, 73.85641479, 73.84081149,\n",
       "       73.84940409, 73.84107069, 73.84107069, 73.8403298 , 73.85429498,\n",
       "       73.82070953, 73.80224609, 73.79135592, 73.82108863, 73.8028164 ,\n",
       "       73.75830173, 73.81180573, 73.83928299, 73.74965434, 73.81806156,\n",
       "       73.8227601 , 73.81950905, 73.82030171, 73.81995133, 73.82176067,\n",
       "       73.78522041, 73.84413186, 73.79985225, 73.776959  , 73.776959  ,\n",
       "       73.77639592, 73.77647066, 73.78014374, 73.77131715, 73.83068514,\n",
       "       73.76830656, 73.77646491, 73.74673129, 73.78238238, 73.77699347,\n",
       "       73.75960204, 73.84610178, 73.754209  , 73.76221056, 73.74913788,\n",
       "       73.81890019, 73.77793568, 73.74901581, 73.74916186, 73.74799542,\n",
       "       73.8161488 , 73.82793066, 73.75194864, 73.77805633, 73.81748142,\n",
       "       73.76023981, 73.82081866, 73.79727869, 73.76781245, 73.83642428])"
      ]
     },
     "execution_count": 74,
     "metadata": {},
     "output_type": "execute_result"
    }
   ],
   "source": [
    "LNG=dfValues = np.concatenate([dataframe['location.lng'].values, dataframe2['location.lng'].values])\n",
    "LNG"
   ]
  },
  {
   "cell_type": "code",
   "execution_count": 75,
   "metadata": {},
   "outputs": [
    {
     "data": {
      "text/plain": [
       "array([18.52562811, 18.52631498, 18.50730817, 18.52032787, 18.52283305,\n",
       "       18.53048134, 18.52178556, 18.52080945, 18.52587937, 18.51228513,\n",
       "       18.51880106, 18.52752996, 18.51713664, 18.519761  , 18.51810455,\n",
       "       18.5145496 , 18.52905655, 18.53252407, 18.51699978, 18.52971766,\n",
       "       18.53104814, 18.52146378, 18.5075792 , 18.52820891, 18.5257435 ,\n",
       "       18.51929862, 18.52995255, 18.51249865, 18.52132416, 18.51998753,\n",
       "       18.5249    , 18.45837276, 18.51265423, 18.48993161, 18.51093244,\n",
       "       18.52675674, 18.53120804, 18.48571154, 18.52012444, 18.52047539,\n",
       "       18.52279091, 18.52690532, 18.51006116, 18.5077343 , 18.5165195 ,\n",
       "       18.5085944 , 18.52209344, 18.53058335, 18.52692963, 18.50970271,\n",
       "       18.62455721, 18.62329865, 18.63069344, 18.62476641, 18.63872321,\n",
       "       18.64555387, 18.61884308, 18.59793093, 18.61146347, 18.62151443,\n",
       "       18.62430173, 18.62413482, 18.61869954, 18.61884883, 18.62309323,\n",
       "       18.61478965, 18.58799394, 18.5639396 , 18.597005  , 18.596993  ,\n",
       "       18.64700757, 18.64761048, 18.65274811, 18.65223626, 18.62136693,\n",
       "       18.61227156, 18.65660513, 18.6205144 , 18.66371047, 18.65813843,\n",
       "       18.64601581, 18.61572397, 18.645474  , 18.65187325, 18.61252785,\n",
       "       18.57916635, 18.57402517, 18.61162186, 18.61204718, 18.61694475,\n",
       "       18.57584239, 18.5420751 , 18.60664813, 18.57483081, 18.57156599,\n",
       "       18.64731159, 18.56311724, 18.55507413, 18.57451646, 18.53713135])"
      ]
     },
     "execution_count": 75,
     "metadata": {},
     "output_type": "execute_result"
    }
   ],
   "source": [
    "LAT=dfValues = np.concatenate([dataframe['location.lat'].values, dataframe2['location.lat'].values])\n",
    "LAT"
   ]
  },
  {
   "cell_type": "code",
   "execution_count": 76,
   "metadata": {},
   "outputs": [
    {
     "data": {
      "text/plain": [
       "(100, 2)"
      ]
     },
     "execution_count": 76,
     "metadata": {},
     "output_type": "execute_result"
    }
   ],
   "source": [
    "data1=np.transpose(np.array([LAT,LNG]))\n",
    "data1.shape"
   ]
  },
  {
   "cell_type": "markdown",
   "metadata": {},
   "source": [
    "We now have the final data that will be used in analysis.\\\n",
    "Now we will move towards clustering the data."
   ]
  },
  {
   "cell_type": "markdown",
   "metadata": {},
   "source": [
    "For clustering we use the K means method which will give us points where we can open the coaching centres as it will be the centroid of clusters formed by loation coordinates of various colleges. But we don't yet know how many Coaching Centres we should open. For this we need to know appropriate No. of clusters. WHich means a appropriate set of colleges such that any more set of colleges will not effect much to the distance traveled by a student to the class from College or University and any less number of set of colleges will drastically increase the distance. We will use the knee bend method which is explained after we calculat the SSE for every K Means cluster all having different No. of clusters.\\\n",
    "SSE is the average square of distance between a cluster centre and the elements in that cluster. More the distance, bad is the clustering."
   ]
  },
  {
   "cell_type": "markdown",
   "metadata": {},
   "source": [
    "The terms in the program are\\\n",
    "KMeans: Used to call the K-means algorithm.\\\n",
    "n_clusters: No. of clusters to be formed.\\\n",
    "n_init: Gives the number of iterations the KMeans algorith will perform to choose the best Clsuter.\\\n",
    "k_means: The K-Means fit that is performed on data.\\\n",
    "k_means.inertia_: Will give the SSE for a given KMeans fit\\\n",
    "init = \"k-meas++\" will give some an very good initial centre point to form the cluster."
   ]
  },
  {
   "cell_type": "code",
   "execution_count": 77,
   "metadata": {},
   "outputs": [
    {
     "data": {
      "image/png": "[encoded data removed]",
      "text/plain": [
       "<Figure size 432x288 with 1 Axes>"
      ]
     },
     "metadata": {
      "needs_background": "light"
     },
     "output_type": "display_data"
    }
   ],
   "source": [
    "sse={}\n",
    "for K in range(1,10):\n",
    "    k_means = KMeans(init = \"k-means++\", n_clusters = K, n_init = 12)\n",
    "    k_means.fit(data1)\n",
    "    sse[K] = k_means.inertia_\n",
    "plt.figure()\n",
    "plt.plot(list(sse.keys()), list(sse.values()))\n",
    "plt.xlabel(\"Number of cluster\")\n",
    "plt.ylabel(\"SSE\")\n",
    "plt.show()"
   ]
  },
  {
   "cell_type": "markdown",
   "metadata": {},
   "source": [
    "From the above diagram we see that the number of SSE reduces drastically at 2 but remains almost same after words.\\\n",
    "The Point where such a sharp difference is observed is called knee bend and we choose\\\n",
    "appropriate No. of clusters to be formed = the knee bend"
   ]
  },
  {
   "cell_type": "code",
   "execution_count": 78,
   "metadata": {},
   "outputs": [
    {
     "data": {
      "text/plain": [
       "KMeans(algorithm='auto', copy_x=True, init='k-means++', max_iter=300,\n",
       "    n_clusters=2, n_init=12, n_jobs=None, precompute_distances='auto',\n",
       "    random_state=None, tol=0.0001, verbose=0)"
      ]
     },
     "execution_count": 78,
     "metadata": {},
     "output_type": "execute_result"
    }
   ],
   "source": [
    "k_means = KMeans(init = \"k-means++\", n_clusters = 2, n_init = 12)\n",
    "k_means.fit(data1)"
   ]
  },
  {
   "cell_type": "code",
   "execution_count": 79,
   "metadata": {},
   "outputs": [
    {
     "data": {
      "text/plain": [
       "array([[18.52065405, 73.84497271],\n",
       "       [18.61859758, 73.78901255]])"
      ]
     },
     "execution_count": 79,
     "metadata": {},
     "output_type": "execute_result"
    }
   ],
   "source": [
    "k_means_cluster_centers = k_means.cluster_centers_\n",
    "k_means_cluster_centers"
   ]
  },
  {
   "cell_type": "markdown",
   "metadata": {},
   "source": [
    "Thus we have the optimal coordinates to start a coaching institute.\\\n",
    "We will plot these coordinates on the map along with college coordinates so as to visualize our answer and help the concerned Coaching Classes take a good decision.\\\n",
    "The red dot are the places around which the centres should be opened and blue dots are the colleges.\\"
   ]
  },
  {
   "cell_type": "code",
   "execution_count": 96,
   "metadata": {},
   "outputs": [
    {
     "data": {
      "text/html": [
       "<div style=\"width:100%;\"><div style=\"position:relative;width:100%;height:0;padding-bottom:60%;\"><iframe src=\"data:text/html;charset=utf-8;base64,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\" style=\"position:absolute;width:100%;height:100%;left:0;top:0;border:none !important;\" allowfullscreen webkitallowfullscreen mozallowfullscreen></iframe></div></div>"
      ],
      "text/plain": [
       "<folium.folium.Map at 0x7f376a627390>"
      ]
     },
     "execution_count": 96,
     "metadata": {},
     "output_type": "execute_result"
    }
   ],
   "source": [
    "venues_map = folium.Map(location=(k_means_cluster_centers[0,0],k_means_cluster_centers[0,1]), zoom_start=10.8)\n",
    "\n",
    "folium.features.CircleMarker(\n",
    "    [k_means_cluster_centers[0,0],k_means_cluster_centers[0,1]],\n",
    "    radius=7,\n",
    "    color='red',\n",
    "    popup='Centre 1',\n",
    "    fill = True,\n",
    "    fill_color = 'red',\n",
    "    fill_opacity = 0.9\n",
    ").add_to(venues_map)\n",
    "\n",
    "folium.features.CircleMarker(\n",
    "    [k_means_cluster_centers[1,0],k_means_cluster_centers[1,1]],\n",
    "    radius=7,\n",
    "    color='red',\n",
    "    popup='Centre 2',\n",
    "    fill = True,\n",
    "    fill_color = 'red',\n",
    "    fill_opacity = 0.9\n",
    ").add_to(venues_map)\n",
    "\n",
    "for lat, lng, label in zip(dataframe['location.lat'], dataframe['location.lng'], dataframe.name):\n",
    "    folium.features.CircleMarker(\n",
    "        [lat, lng],\n",
    "        radius=3,\n",
    "        color='blue',\n",
    "        popup='College or University',\n",
    "        fill = True,\n",
    "        fill_color='blue',\n",
    "        fill_opacity=0.6\n",
    "    ).add_to(venues_map)\n",
    "\n",
    "for lat, lng, label in zip(dataframe2['location.lat'], dataframe2['location.lng'], dataframe2.name):\n",
    "    folium.features.CircleMarker(\n",
    "        [lat, lng],\n",
    "        radius=3,\n",
    "        color='blue',\n",
    "        popup='College or University',\n",
    "        fill = True,\n",
    "        fill_color='blue',\n",
    "        fill_opacity=0.6\n",
    "    ).add_to(venues_map)\n",
    "venues_map"
   ]
  },
  {
   "cell_type": "markdown",
   "metadata": {},
   "source": [
    "Hence, from in the map we see the two red dots around which the centres should be opened and blue dots represent the college\\\n",
    "Because the folium map cannot be displayed in the githib code, I have included a screenshot in the repository."
   ]
  }
 ],
 "metadata": {
  "kernelspec": {
   "display_name": "Python",
   "language": "python",
   "name": "conda-env-python-py"
  },
  "language_info": {
   "codemirror_mode": {
    "name": "ipython",
    "version": 3
   },
   "file_extension": ".py",
   "mimetype": "text/x-python",
   "name": "python",
   "nbconvert_exporter": "python",
   "pygments_lexer": "ipython3",
   "version": "3.6.7"
  }
 },
 "nbformat": 4,
 "nbformat_minor": 4
}
