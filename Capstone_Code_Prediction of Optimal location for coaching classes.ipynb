{
 "cells": [
  {
   "cell_type": "markdown",
   "metadata": {},
   "source": [
    " ## Prediction of Optimal Location for setting up a coaching institute"
   ]
  },
  {
   "cell_type": "markdown",
   "metadata": {},
   "source": [
    "We will use the clusturing method to find optimal Solution to the problem. We are using the data from Foursquare API\\\n",
    "and will mainly be using the location coordinates."
   ]
  },
  {
   "cell_type": "code",
   "execution_count": 55,
   "metadata": {},
   "outputs": [
    {
     "name": "stdout",
     "output_type": "stream",
     "text": [
      "Solving environment: done\n",
      "\n",
      "\n",
      "==> WARNING: A newer version of conda exists. <==\n",
      "  current version: 4.5.11\n",
      "  latest version: 4.8.0\n",
      "\n",
      "Please update conda by running\n",
      "\n",
      "    $ conda update -n base -c defaults conda\n",
      "\n",
      "\n",
      "\n",
      "# All requested packages already installed.\n",
      "\n",
      "Solving environment: done\n",
      "\n",
      "\n",
      "==> WARNING: A newer version of conda exists. <==\n",
      "  current version: 4.5.11\n",
      "  latest version: 4.8.0\n",
      "\n",
      "Please update conda by running\n",
      "\n",
      "    $ conda update -n base -c defaults conda\n",
      "\n",
      "\n",
      "\n",
      "# All requested packages already installed.\n",
      "\n",
      "Folium installed\n",
      "Libraries imported.\n"
     ]
    }
   ],
   "source": [
    "import requests # library to handle requests\n",
    "import pandas as pd # library for data analsysis\n",
    "import numpy as np # library to handle data in a vectorized manner\n",
    "import random # library for random number generation\n",
    "import matplotlib.pyplot as plt #library to plot a graph\n",
    "from sklearn.cluster import KMeans #library for K Means\n",
    "%matplotlib inline\n",
    "\n",
    "!conda install -c conda-forge geopy --yes \n",
    "from geopy.geocoders import Nominatim # module to convert an address into latitude and longitude values\n",
    "\n",
    "# libraries for displaying images\n",
    "from IPython.display import Image \n",
    "from IPython.core.display import HTML \n",
    "    \n",
    "# tranforming json file into a pandas dataframe library\n",
    "from pandas.io.json import json_normalize\n",
    "\n",
    "!conda install -c conda-forge folium=0.5.0 --yes\n",
    "import folium # plotting library for map\n",
    "\n",
    "print('Folium installed')\n",
    "print('Libraries imported.')"
   ]
  },
  {
   "cell_type": "markdown",
   "metadata": {},
   "source": [
    "Now we will input the Client ID and Client Secret for gathering information from Foursquare API"
   ]
  },
  {
   "cell_type": "code",
   "execution_count": 56,
   "metadata": {},
   "outputs": [],
   "source": [
    "CLIENT_ID = 'NAEG5PK5YPSB5KCU05ERESVK3WMVILXOY3WXLGLCZJNRGAXF'\n",
    "CLIENT_SECRET = 'CL0BLCB3S21FUPV0MKZJMPSN1VOI4IXKFGGCWV2BQ4ECGKDV'\n",
    "VERSION = '20191218'\n",
    "LIMIT = 50"
   ]
  },
  {
   "cell_type": "markdown",
   "metadata": {},
   "source": [
    "We want to gather information about colleges in Pune and to do so we have to pass two location coordinates to the foursqaure\n",
    "API.\n",
    "1. The main City\n",
    "2. The Outercity i.e. Pimpri Chinchwad.\n",
    "In the next few cells we will pass gather coordinates of both the areas and pass it to Foursquare API, gather Information, put it in a dataframe and then use it carry out our clustering."
   ]
  },
  {
   "cell_type": "code",
   "execution_count": 57,
   "metadata": {},
   "outputs": [
    {
     "name": "stdout",
     "output_type": "stream",
     "text": [
      "18.521428 73.8544541\n"
     ]
    }
   ],
   "source": [
    "address = 'Pune, Mahārāshtra, India'\n",
    "\n",
    "geolocator = Nominatim(user_agent=\"foursquare_agent\")\n",
    "location = geolocator.geocode(address)\n",
    "latitude = location.latitude\n",
    "longitude = location.longitude\n",
    "print(latitude, longitude)"
   ]
  },
  {
   "cell_type": "code",
   "execution_count": 61,
   "metadata": {},
   "outputs": [
    {
     "name": "stdout",
     "output_type": "stream",
     "text": [
      "College & University .... OK!\n"
     ]
    }
   ],
   "source": [
    "search_query = 'College & University'\n",
    "Radius = 10000\n",
    "print(search_query + ' .... OK!')"
   ]
  },
  {
   "cell_type": "code",
   "execution_count": 62,
   "metadata": {},
   "outputs": [
    {
     "data": {
      "text/plain": [
       "'https://api.foursquare.com/v2/venues/search?client_id=NAEG5PK5YPSB5KCU05ERESVK3WMVILXOY3WXLGLCZJNRGAXF&client_secret=CL0BLCB3S21FUPV0MKZJMPSN1VOI4IXKFGGCWV2BQ4ECGKDV&ll=18.521428,73.8544541&v=20191218&query=College & University&radius=10000&limit=50'"
      ]
     },
     "execution_count": 62,
     "metadata": {},
     "output_type": "execute_result"
    }
   ],
   "source": [
    "url = 'https://api.foursquare.com/v2/venues/search?client_id={}&client_secret={}&ll={},{}&v={}&query={}&radius={}&limit={}'.format(CLIENT_ID, CLIENT_SECRET, latitude, longitude, VERSION, search_query, Radius, LIMIT)\n",
    "url"
   ]
  },
  {
   "cell_type": "code",
   "execution_count": 63,
   "metadata": {},
   "outputs": [],
   "source": [
    "results = requests.get(url).json()"
   ]
  },
  {
   "cell_type": "code",
   "execution_count": 64,
   "metadata": {},
   "outputs": [
    {
     "data": {
      "text/html": [
       "<div>\n",
       "<style scoped>\n",
       "    .dataframe tbody tr th:only-of-type {\n",
       "        vertical-align: middle;\n",
       "    }\n",
       "\n",
       "    .dataframe tbody tr th {\n",
       "        vertical-align: top;\n",
       "    }\n",
       "\n",
       "    .dataframe thead th {\n",
       "        text-align: right;\n",
       "    }\n",
       "</style>\n",
       "<table border=\"1\" class=\"dataframe\">\n",
       "  <thead>\n",
       "    <tr style=\"text-align: right;\">\n",
       "      <th></th>\n",
       "      <th>id</th>\n",
       "      <th>name</th>\n",
       "      <th>categories</th>\n",
       "      <th>referralId</th>\n",
       "      <th>hasPerk</th>\n",
       "      <th>location.address</th>\n",
       "      <th>location.crossStreet</th>\n",
       "      <th>location.lat</th>\n",
       "      <th>location.lng</th>\n",
       "      <th>location.labeledLatLngs</th>\n",
       "      <th>location.distance</th>\n",
       "      <th>location.postalCode</th>\n",
       "      <th>location.cc</th>\n",
       "      <th>location.city</th>\n",
       "      <th>location.state</th>\n",
       "      <th>location.country</th>\n",
       "      <th>location.formattedAddress</th>\n",
       "      <th>location.neighborhood</th>\n",
       "    </tr>\n",
       "  </thead>\n",
       "  <tbody>\n",
       "    <tr>\n",
       "      <th>0</th>\n",
       "      <td>4d6ab9ac9d7e2d4300a819b3</td>\n",
       "      <td>P.E.S. Modern College of Engineering</td>\n",
       "      <td>[{'id': '4bf58dd8d48988d19e941735', 'name': 'C...</td>\n",
       "      <td>v-1576704384</td>\n",
       "      <td>False</td>\n",
       "      <td>Shivajinagar, Pune, Maharashtra</td>\n",
       "      <td>1186/A, Off J.M. Road</td>\n",
       "      <td>18.525628</td>\n",
       "      <td>73.846090</td>\n",
       "      <td>[{'label': 'display', 'lat': 18.52562811414942...</td>\n",
       "      <td>998</td>\n",
       "      <td>411005</td>\n",
       "      <td>IN</td>\n",
       "      <td>Pune</td>\n",
       "      <td>Mahārāshtra</td>\n",
       "      <td>India</td>\n",
       "      <td>[Shivajinagar, Pune, Maharashtra (1186/A, Off ...</td>\n",
       "      <td>NaN</td>\n",
       "    </tr>\n",
       "    <tr>\n",
       "      <th>1</th>\n",
       "      <td>4e5700e6b993bf36edfc65d0</td>\n",
       "      <td>Modern College Of Science</td>\n",
       "      <td>[{'id': '4bf58dd8d48988d19b941735', 'name': 'C...</td>\n",
       "      <td>v-1576704384</td>\n",
       "      <td>False</td>\n",
       "      <td>Modern College Road</td>\n",
       "      <td>Off JM Road</td>\n",
       "      <td>18.526315</td>\n",
       "      <td>73.845694</td>\n",
       "      <td>[{'label': 'display', 'lat': 18.52631498125122...</td>\n",
       "      <td>1072</td>\n",
       "      <td>NaN</td>\n",
       "      <td>IN</td>\n",
       "      <td>Pune</td>\n",
       "      <td>Mahārāshtra</td>\n",
       "      <td>India</td>\n",
       "      <td>[Modern College Road (Off JM Road), Pune, Mahā...</td>\n",
       "      <td>NaN</td>\n",
       "    </tr>\n",
       "    <tr>\n",
       "      <th>2</th>\n",
       "      <td>4e1fc5c41838712abe601b1f</td>\n",
       "      <td>S. P. College</td>\n",
       "      <td>[{'id': '4bf58dd8d48988d1a8941735', 'name': 'G...</td>\n",
       "      <td>v-1576704384</td>\n",
       "      <td>False</td>\n",
       "      <td>Tilak Road</td>\n",
       "      <td>NaN</td>\n",
       "      <td>18.507308</td>\n",
       "      <td>73.849743</td>\n",
       "      <td>[{'label': 'display', 'lat': 18.50730817151161...</td>\n",
       "      <td>1648</td>\n",
       "      <td>411030</td>\n",
       "      <td>IN</td>\n",
       "      <td>Pune</td>\n",
       "      <td>Mahārāshtra</td>\n",
       "      <td>India</td>\n",
       "      <td>[Tilak Road, Pune 411030, Mahārāshtra, India]</td>\n",
       "      <td>NaN</td>\n",
       "    </tr>\n",
       "    <tr>\n",
       "      <th>3</th>\n",
       "      <td>5066c65ae4b0bb2af9550efc</td>\n",
       "      <td>Fergusson College Road</td>\n",
       "      <td>[{'id': '4bf58dd8d48988d1f9931735', 'name': 'R...</td>\n",
       "      <td>v-1576704384</td>\n",
       "      <td>False</td>\n",
       "      <td>Shivaji Nagar</td>\n",
       "      <td>Ferguson College Rd</td>\n",
       "      <td>18.520328</td>\n",
       "      <td>73.841421</td>\n",
       "      <td>[{'label': 'display', 'lat': 18.52032787237845...</td>\n",
       "      <td>1381</td>\n",
       "      <td>411004</td>\n",
       "      <td>IN</td>\n",
       "      <td>Pune</td>\n",
       "      <td>Mahārāshtra</td>\n",
       "      <td>India</td>\n",
       "      <td>[Shivaji Nagar (Ferguson College Rd), Pune 411...</td>\n",
       "      <td>NaN</td>\n",
       "    </tr>\n",
       "    <tr>\n",
       "      <th>4</th>\n",
       "      <td>4d6ab55b9d7e2d432d7e19b3</td>\n",
       "      <td>Fergusson College</td>\n",
       "      <td>[{'id': '4bf58dd8d48988d1a8941735', 'name': 'G...</td>\n",
       "      <td>v-1576704384</td>\n",
       "      <td>False</td>\n",
       "      <td>Fergusson College Rd</td>\n",
       "      <td>Shivaji Nagar</td>\n",
       "      <td>18.522833</td>\n",
       "      <td>73.839503</td>\n",
       "      <td>[{'label': 'display', 'lat': 18.5228330531064,...</td>\n",
       "      <td>1585</td>\n",
       "      <td>411004</td>\n",
       "      <td>IN</td>\n",
       "      <td>Pune</td>\n",
       "      <td>Mahārāshtra</td>\n",
       "      <td>India</td>\n",
       "      <td>[Fergusson College Rd (Shivaji Nagar), Pune 41...</td>\n",
       "      <td>NaN</td>\n",
       "    </tr>\n",
       "  </tbody>\n",
       "</table>\n",
       "</div>"
      ],
      "text/plain": [
       "                         id                                  name  \\\n",
       "0  4d6ab9ac9d7e2d4300a819b3  P.E.S. Modern College of Engineering   \n",
       "1  4e5700e6b993bf36edfc65d0             Modern College Of Science   \n",
       "2  4e1fc5c41838712abe601b1f                         S. P. College   \n",
       "3  5066c65ae4b0bb2af9550efc                Fergusson College Road   \n",
       "4  4d6ab55b9d7e2d432d7e19b3                     Fergusson College   \n",
       "\n",
       "                                          categories    referralId  hasPerk  \\\n",
       "0  [{'id': '4bf58dd8d48988d19e941735', 'name': 'C...  v-1576704384    False   \n",
       "1  [{'id': '4bf58dd8d48988d19b941735', 'name': 'C...  v-1576704384    False   \n",
       "2  [{'id': '4bf58dd8d48988d1a8941735', 'name': 'G...  v-1576704384    False   \n",
       "3  [{'id': '4bf58dd8d48988d1f9931735', 'name': 'R...  v-1576704384    False   \n",
       "4  [{'id': '4bf58dd8d48988d1a8941735', 'name': 'G...  v-1576704384    False   \n",
       "\n",
       "                  location.address   location.crossStreet  location.lat  \\\n",
       "0  Shivajinagar, Pune, Maharashtra  1186/A, Off J.M. Road     18.525628   \n",
       "1              Modern College Road            Off JM Road     18.526315   \n",
       "2                       Tilak Road                    NaN     18.507308   \n",
       "3                    Shivaji Nagar    Ferguson College Rd     18.520328   \n",
       "4             Fergusson College Rd          Shivaji Nagar     18.522833   \n",
       "\n",
       "   location.lng                            location.labeledLatLngs  \\\n",
       "0     73.846090  [{'label': 'display', 'lat': 18.52562811414942...   \n",
       "1     73.845694  [{'label': 'display', 'lat': 18.52631498125122...   \n",
       "2     73.849743  [{'label': 'display', 'lat': 18.50730817151161...   \n",
       "3     73.841421  [{'label': 'display', 'lat': 18.52032787237845...   \n",
       "4     73.839503  [{'label': 'display', 'lat': 18.5228330531064,...   \n",
       "\n",
       "   location.distance location.postalCode location.cc location.city  \\\n",
       "0                998              411005          IN          Pune   \n",
       "1               1072                 NaN          IN          Pune   \n",
       "2               1648              411030          IN          Pune   \n",
       "3               1381              411004          IN          Pune   \n",
       "4               1585              411004          IN          Pune   \n",
       "\n",
       "  location.state location.country  \\\n",
       "0    Mahārāshtra            India   \n",
       "1    Mahārāshtra            India   \n",
       "2    Mahārāshtra            India   \n",
       "3    Mahārāshtra            India   \n",
       "4    Mahārāshtra            India   \n",
       "\n",
       "                           location.formattedAddress location.neighborhood  \n",
       "0  [Shivajinagar, Pune, Maharashtra (1186/A, Off ...                   NaN  \n",
       "1  [Modern College Road (Off JM Road), Pune, Mahā...                   NaN  \n",
       "2      [Tilak Road, Pune 411030, Mahārāshtra, India]                   NaN  \n",
       "3  [Shivaji Nagar (Ferguson College Rd), Pune 411...                   NaN  \n",
       "4  [Fergusson College Rd (Shivaji Nagar), Pune 41...                   NaN  "
      ]
     },
     "execution_count": 64,
     "metadata": {},
     "output_type": "execute_result"
    }
   ],
   "source": [
    "# assigning relevant part of JSON to venues\n",
    "venues = results['response']['venues']\n",
    "\n",
    "# tranforming venues into a dataframe\n",
    "dataframe = json_normalize(venues)\n",
    "dataframe.head()"
   ]
  },
  {
   "cell_type": "markdown",
   "metadata": {},
   "source": [
    "For Pimpri Chinchwad"
   ]
  },
  {
   "cell_type": "code",
   "execution_count": 69,
   "metadata": {},
   "outputs": [
    {
     "name": "stdout",
     "output_type": "stream",
     "text": [
      "18.6279288 73.8009829\n"
     ]
    }
   ],
   "source": [
    "address = 'Pimpri-Chinchwad, Mahārāshtra, India'\n",
    "\n",
    "geolocator = Nominatim(user_agent=\"foursquare_agent\")\n",
    "location = geolocator.geocode(address)\n",
    "latitude = location.latitude\n",
    "longitude = location.longitude\n",
    "print(latitude, longitude)"
   ]
  },
  {
   "cell_type": "code",
   "execution_count": 70,
   "metadata": {},
   "outputs": [
    {
     "name": "stdout",
     "output_type": "stream",
     "text": [
      "College & University .... OK!\n"
     ]
    }
   ],
   "source": [
    "search_query = 'College & University'\n",
    "Radius = 10000\n",
    "print(search_query + ' .... OK!')"
   ]
  },
  {
   "cell_type": "code",
   "execution_count": 71,
   "metadata": {},
   "outputs": [
    {
     "data": {
      "text/plain": [
       "'https://api.foursquare.com/v2/venues/search?client_id=NAEG5PK5YPSB5KCU05ERESVK3WMVILXOY3WXLGLCZJNRGAXF&client_secret=CL0BLCB3S21FUPV0MKZJMPSN1VOI4IXKFGGCWV2BQ4ECGKDV&ll=18.6279288,73.8009829&v=20191218&query=College & University&radius=10000&limit=50'"
      ]
     },
     "execution_count": 71,
     "metadata": {},
     "output_type": "execute_result"
    }
   ],
   "source": [
    "url = 'https://api.foursquare.com/v2/venues/search?client_id={}&client_secret={}&ll={},{}&v={}&query={}&radius={}&limit={}'.format(CLIENT_ID, CLIENT_SECRET, latitude, longitude, VERSION, search_query, Radius, LIMIT)\n",
    "url"
   ]
  },
  {
   "cell_type": "code",
   "execution_count": 72,
   "metadata": {},
   "outputs": [],
   "source": [
    "results = requests.get(url).json()"
   ]
  },
  {
   "cell_type": "code",
   "execution_count": 73,
   "metadata": {},
   "outputs": [
    {
     "data": {
      "text/html": [
       "<div>\n",
       "<style scoped>\n",
       "    .dataframe tbody tr th:only-of-type {\n",
       "        vertical-align: middle;\n",
       "    }\n",
       "\n",
       "    .dataframe tbody tr th {\n",
       "        vertical-align: top;\n",
       "    }\n",
       "\n",
       "    .dataframe thead th {\n",
       "        text-align: right;\n",
       "    }\n",
       "</style>\n",
       "<table border=\"1\" class=\"dataframe\">\n",
       "  <thead>\n",
       "    <tr style=\"text-align: right;\">\n",
       "      <th></th>\n",
       "      <th>id</th>\n",
       "      <th>name</th>\n",
       "      <th>categories</th>\n",
       "      <th>referralId</th>\n",
       "      <th>hasPerk</th>\n",
       "      <th>location.lat</th>\n",
       "      <th>location.lng</th>\n",
       "      <th>location.labeledLatLngs</th>\n",
       "      <th>location.distance</th>\n",
       "      <th>location.cc</th>\n",
       "      <th>location.country</th>\n",
       "      <th>location.formattedAddress</th>\n",
       "      <th>location.address</th>\n",
       "      <th>location.postalCode</th>\n",
       "      <th>location.city</th>\n",
       "      <th>location.state</th>\n",
       "      <th>location.crossStreet</th>\n",
       "    </tr>\n",
       "  </thead>\n",
       "  <tbody>\n",
       "    <tr>\n",
       "      <th>0</th>\n",
       "      <td>4d83307802eb5481401614f5</td>\n",
       "      <td>D Y Patil Medical College</td>\n",
       "      <td>[{'id': '4bf58dd8d48988d197941735', 'name': 'C...</td>\n",
       "      <td>v-1576704434</td>\n",
       "      <td>False</td>\n",
       "      <td>18.624557</td>\n",
       "      <td>73.820710</td>\n",
       "      <td>[{'label': 'display', 'lat': 18.62455720850943...</td>\n",
       "      <td>2114</td>\n",
       "      <td>IN</td>\n",
       "      <td>India</td>\n",
       "      <td>[India]</td>\n",
       "      <td>NaN</td>\n",
       "      <td>NaN</td>\n",
       "      <td>NaN</td>\n",
       "      <td>NaN</td>\n",
       "      <td>NaN</td>\n",
       "    </tr>\n",
       "    <tr>\n",
       "      <th>1</th>\n",
       "      <td>4fb2183be4b07eeb437fba20</td>\n",
       "      <td>ophathal opd d. y patil medical college</td>\n",
       "      <td>[{'id': '4bf58dd8d48988d177941735', 'name': 'D...</td>\n",
       "      <td>v-1576704434</td>\n",
       "      <td>False</td>\n",
       "      <td>18.623299</td>\n",
       "      <td>73.802246</td>\n",
       "      <td>[{'label': 'display', 'lat': 18.62329864501953...</td>\n",
       "      <td>532</td>\n",
       "      <td>IN</td>\n",
       "      <td>India</td>\n",
       "      <td>[D. Y Patil Medical College, Pimpri,pune 41101...</td>\n",
       "      <td>D. Y Patil Medical College</td>\n",
       "      <td>411018</td>\n",
       "      <td>Pimpri,pune</td>\n",
       "      <td>Mahārāshtra</td>\n",
       "      <td>NaN</td>\n",
       "    </tr>\n",
       "    <tr>\n",
       "      <th>2</th>\n",
       "      <td>5108970ce4b0e0092a4f883e</td>\n",
       "      <td>indira college of commerce and science dhruv b...</td>\n",
       "      <td>[{'id': '4bf58dd8d48988d19b941735', 'name': 'C...</td>\n",
       "      <td>v-1576704434</td>\n",
       "      <td>False</td>\n",
       "      <td>18.630693</td>\n",
       "      <td>73.791356</td>\n",
       "      <td>[{'label': 'display', 'lat': 18.63069344484637...</td>\n",
       "      <td>1061</td>\n",
       "      <td>IN</td>\n",
       "      <td>India</td>\n",
       "      <td>[India]</td>\n",
       "      <td>NaN</td>\n",
       "      <td>NaN</td>\n",
       "      <td>NaN</td>\n",
       "      <td>NaN</td>\n",
       "      <td>NaN</td>\n",
       "    </tr>\n",
       "    <tr>\n",
       "      <th>3</th>\n",
       "      <td>50aa4860498eeb8d61d0604b</td>\n",
       "      <td>College Mess</td>\n",
       "      <td>[{'id': '4bf58dd8d48988d142941735', 'name': 'A...</td>\n",
       "      <td>v-1576704434</td>\n",
       "      <td>False</td>\n",
       "      <td>18.624766</td>\n",
       "      <td>73.821089</td>\n",
       "      <td>[{'label': 'display', 'lat': 18.624766408696, ...</td>\n",
       "      <td>2149</td>\n",
       "      <td>IN</td>\n",
       "      <td>India</td>\n",
       "      <td>[D Y Patil Medical College, India]</td>\n",
       "      <td>D Y Patil Medical College</td>\n",
       "      <td>NaN</td>\n",
       "      <td>NaN</td>\n",
       "      <td>NaN</td>\n",
       "      <td>NaN</td>\n",
       "    </tr>\n",
       "    <tr>\n",
       "      <th>4</th>\n",
       "      <td>51b95dd5498e165e6ae26ec0</td>\n",
       "      <td>Dr. Arvind Telang College</td>\n",
       "      <td>[{'id': '4bf58dd8d48988d19b941735', 'name': 'C...</td>\n",
       "      <td>v-1576704434</td>\n",
       "      <td>False</td>\n",
       "      <td>18.638723</td>\n",
       "      <td>73.802816</td>\n",
       "      <td>[{'label': 'display', 'lat': 18.63872321176424...</td>\n",
       "      <td>1217</td>\n",
       "      <td>IN</td>\n",
       "      <td>India</td>\n",
       "      <td>[Akurdi, Pune, Mahārāshtra, India]</td>\n",
       "      <td>Akurdi</td>\n",
       "      <td>NaN</td>\n",
       "      <td>Pune</td>\n",
       "      <td>Mahārāshtra</td>\n",
       "      <td>NaN</td>\n",
       "    </tr>\n",
       "  </tbody>\n",
       "</table>\n",
       "</div>"
      ],
      "text/plain": [
       "                         id  \\\n",
       "0  4d83307802eb5481401614f5   \n",
       "1  4fb2183be4b07eeb437fba20   \n",
       "2  5108970ce4b0e0092a4f883e   \n",
       "3  50aa4860498eeb8d61d0604b   \n",
       "4  51b95dd5498e165e6ae26ec0   \n",
       "\n",
       "                                                name  \\\n",
       "0                          D Y Patil Medical College   \n",
       "1            ophathal opd d. y patil medical college   \n",
       "2  indira college of commerce and science dhruv b...   \n",
       "3                                       College Mess   \n",
       "4                          Dr. Arvind Telang College   \n",
       "\n",
       "                                          categories    referralId  hasPerk  \\\n",
       "0  [{'id': '4bf58dd8d48988d197941735', 'name': 'C...  v-1576704434    False   \n",
       "1  [{'id': '4bf58dd8d48988d177941735', 'name': 'D...  v-1576704434    False   \n",
       "2  [{'id': '4bf58dd8d48988d19b941735', 'name': 'C...  v-1576704434    False   \n",
       "3  [{'id': '4bf58dd8d48988d142941735', 'name': 'A...  v-1576704434    False   \n",
       "4  [{'id': '4bf58dd8d48988d19b941735', 'name': 'C...  v-1576704434    False   \n",
       "\n",
       "   location.lat  location.lng  \\\n",
       "0     18.624557     73.820710   \n",
       "1     18.623299     73.802246   \n",
       "2     18.630693     73.791356   \n",
       "3     18.624766     73.821089   \n",
       "4     18.638723     73.802816   \n",
       "\n",
       "                             location.labeledLatLngs  location.distance  \\\n",
       "0  [{'label': 'display', 'lat': 18.62455720850943...               2114   \n",
       "1  [{'label': 'display', 'lat': 18.62329864501953...                532   \n",
       "2  [{'label': 'display', 'lat': 18.63069344484637...               1061   \n",
       "3  [{'label': 'display', 'lat': 18.624766408696, ...               2149   \n",
       "4  [{'label': 'display', 'lat': 18.63872321176424...               1217   \n",
       "\n",
       "  location.cc location.country  \\\n",
       "0          IN            India   \n",
       "1          IN            India   \n",
       "2          IN            India   \n",
       "3          IN            India   \n",
       "4          IN            India   \n",
       "\n",
       "                           location.formattedAddress  \\\n",
       "0                                            [India]   \n",
       "1  [D. Y Patil Medical College, Pimpri,pune 41101...   \n",
       "2                                            [India]   \n",
       "3                 [D Y Patil Medical College, India]   \n",
       "4                 [Akurdi, Pune, Mahārāshtra, India]   \n",
       "\n",
       "             location.address location.postalCode location.city  \\\n",
       "0                         NaN                 NaN           NaN   \n",
       "1  D. Y Patil Medical College              411018   Pimpri,pune   \n",
       "2                         NaN                 NaN           NaN   \n",
       "3   D Y Patil Medical College                 NaN           NaN   \n",
       "4                      Akurdi                 NaN          Pune   \n",
       "\n",
       "  location.state location.crossStreet  \n",
       "0            NaN                  NaN  \n",
       "1    Mahārāshtra                  NaN  \n",
       "2            NaN                  NaN  \n",
       "3            NaN                  NaN  \n",
       "4    Mahārāshtra                  NaN  "
      ]
     },
     "execution_count": 73,
     "metadata": {},
     "output_type": "execute_result"
    }
   ],
   "source": [
    "# assigning relevant part of JSON to venues\n",
    "venues = results['response']['venues']\n",
    "\n",
    "# tranforming venues into a dataframe\n",
    "dataframe2 = json_normalize(venues)\n",
    "dataframe2.head()"
   ]
  },
  {
   "cell_type": "markdown",
   "metadata": {},
   "source": [
    "We then create 2 numpy arrays so that we can convert the 2 1D arrays into 1 2D array which will be expected in clustering.\\\n",
    "LNG will give the longitudinal Data\\\n",
    "LAT will give the Latitudinal Data\\\n",
    "LAT and LNG are arrays formed my combing both the cooridnates from both the data frames in 1 array."
   ]
  },
  {
   "cell_type": "code",
   "execution_count": 74,
   "metadata": {},
   "outputs": [
    {
     "data": {
      "text/plain": [
       "array([73.8460903 , 73.84569402, 73.84974293, 73.84142103, 73.83950275,\n",
       "       73.86505127, 73.84078926, 73.83916964, 73.83939937, 73.83869868,\n",
       "       73.85447502, 73.85075371, 73.82841772, 73.859137  , 73.8555069 ,\n",
       "       73.82915292, 73.85722351, 73.87998297, 73.85353332, 73.85598555,\n",
       "       73.85935661, 73.84790344, 73.82808459, 73.85245938, 73.86136083,\n",
       "       73.86308365, 73.85487143, 73.83894564, 73.86495972, 73.84053081,\n",
       "       73.8444    , 73.85746147, 73.83454041, 73.85277216, 73.81154202,\n",
       "       73.8419207 , 73.84553528, 73.81575821, 73.86810303, 73.84053802,\n",
       "       73.84069061, 73.84166225, 73.84646935, 73.85641479, 73.84081149,\n",
       "       73.84940409, 73.84107069, 73.84107069, 73.8403298 , 73.85429498,\n",
       "       73.82070953, 73.80224609, 73.79135592, 73.82108863, 73.8028164 ,\n",
       "       73.75830173, 73.81180573, 73.83928299, 73.74965434, 73.81806156,\n",
       "       73.8227601 , 73.81950905, 73.82030171, 73.81995133, 73.82176067,\n",
       "       73.78522041, 73.84413186, 73.79985225, 73.776959  , 73.776959  ,\n",
       "       73.77639592, 73.77647066, 73.78014374, 73.77131715, 73.83068514,\n",
       "       73.76830656, 73.77646491, 73.74673129, 73.78238238, 73.77699347,\n",
       "       73.75960204, 73.84610178, 73.754209  , 73.76221056, 73.74913788,\n",
       "       73.81890019, 73.77793568, 73.74901581, 73.74916186, 73.74799542,\n",
       "       73.8161488 , 73.82793066, 73.75194864, 73.77805633, 73.81748142,\n",
       "       73.76023981, 73.82081866, 73.79727869, 73.76781245, 73.83642428])"
      ]
     },
     "execution_count": 74,
     "metadata": {},
     "output_type": "execute_result"
    }
   ],
   "source": [
    "LNG=dfValues = np.concatenate([dataframe['location.lng'].values, dataframe2['location.lng'].values])\n",
    "LNG"
   ]
  },
  {
   "cell_type": "code",
   "execution_count": 75,
   "metadata": {},
   "outputs": [
    {
     "data": {
      "text/plain": [
       "array([18.52562811, 18.52631498, 18.50730817, 18.52032787, 18.52283305,\n",
       "       18.53048134, 18.52178556, 18.52080945, 18.52587937, 18.51228513,\n",
       "       18.51880106, 18.52752996, 18.51713664, 18.519761  , 18.51810455,\n",
       "       18.5145496 , 18.52905655, 18.53252407, 18.51699978, 18.52971766,\n",
       "       18.53104814, 18.52146378, 18.5075792 , 18.52820891, 18.5257435 ,\n",
       "       18.51929862, 18.52995255, 18.51249865, 18.52132416, 18.51998753,\n",
       "       18.5249    , 18.45837276, 18.51265423, 18.48993161, 18.51093244,\n",
       "       18.52675674, 18.53120804, 18.48571154, 18.52012444, 18.52047539,\n",
       "       18.52279091, 18.52690532, 18.51006116, 18.5077343 , 18.5165195 ,\n",
       "       18.5085944 , 18.52209344, 18.53058335, 18.52692963, 18.50970271,\n",
       "       18.62455721, 18.62329865, 18.63069344, 18.62476641, 18.63872321,\n",
       "       18.64555387, 18.61884308, 18.59793093, 18.61146347, 18.62151443,\n",
       "       18.62430173, 18.62413482, 18.61869954, 18.61884883, 18.62309323,\n",
       "       18.61478965, 18.58799394, 18.5639396 , 18.597005  , 18.596993  ,\n",
       "       18.64700757, 18.64761048, 18.65274811, 18.65223626, 18.62136693,\n",
       "       18.61227156, 18.65660513, 18.6205144 , 18.66371047, 18.65813843,\n",
       "       18.64601581, 18.61572397, 18.645474  , 18.65187325, 18.61252785,\n",
       "       18.57916635, 18.57402517, 18.61162186, 18.61204718, 18.61694475,\n",
       "       18.57584239, 18.5420751 , 18.60664813, 18.57483081, 18.57156599,\n",
       "       18.64731159, 18.56311724, 18.55507413, 18.57451646, 18.53713135])"
      ]
     },
     "execution_count": 75,
     "metadata": {},
     "output_type": "execute_result"
    }
   ],
   "source": [
    "LAT=dfValues = np.concatenate([dataframe['location.lat'].values, dataframe2['location.lat'].values])\n",
    "LAT"
   ]
  },
  {
   "cell_type": "code",
   "execution_count": 76,
   "metadata": {},
   "outputs": [
    {
     "data": {
      "text/plain": [
       "(100, 2)"
      ]
     },
     "execution_count": 76,
     "metadata": {},
     "output_type": "execute_result"
    }
   ],
   "source": [
    "data1=np.transpose(np.array([LAT,LNG]))\n",
    "data1.shape"
   ]
  },
  {
   "cell_type": "markdown",
   "metadata": {},
   "source": [
    "We now have the final data that will be used in analysis.\\\n",
    "Now we will move towards clustering the data."
   ]
  },
  {
   "cell_type": "markdown",
   "metadata": {},
   "source": [
    "For clustering we use the K means method which will give us points where we can open the coaching centres as it will be the centroid of clusters formed by loation coordinates of various colleges. But we don't yet know how many Coaching Centres we should open. For this we need to know appropriate No. of clusters. WHich means a appropriate set of colleges such that any more set of colleges will not effect much to the distance traveled by a student to the class from College or University and any less number of set of colleges will drastically increase the distance. We will use the knee bend method which is explained after we calculat the SSE for every K Means cluster all having different No. of clusters.\\\n",
    "SSE is the average square of distance between a cluster centre and the elements in that cluster. More the distance, bad is the clustering."
   ]
  },
  {
   "cell_type": "markdown",
   "metadata": {},
   "source": [
    "The terms in the program are\\\n",
    "KMeans: Used to call the K-means algorithm.\\\n",
    "n_clusters: No. of clusters to be formed.\\\n",
    "n_init: Gives the number of iterations the KMeans algorith will perform to choose the best Clsuter.\\\n",
    "k_means: The K-Means fit that is performed on data.\\\n",
    "k_means.inertia_: Will give the SSE for a given KMeans fit\\\n",
    "init = \"k-meas++\" will give some an very good initial centre point to form the cluster."
   ]
  },
  {
   "cell_type": "code",
   "execution_count": 77,
   "metadata": {},
   "outputs": [
    {
     "data": {
      "image/png": "[encoded data removed]",
      "text/plain": [
       "<Figure size 432x288 with 1 Axes>"
      ]
     },
     "metadata": {
      "needs_background": "light"
     },
     "output_type": "display_data"
    }
   ],
   "source": [
    "sse={}\n",
    "for K in range(1,10):\n",
    "    k_means = KMeans(init = \"k-means++\", n_clusters = K, n_init = 12)\n",
    "    k_means.fit(data1)\n",
    "    sse[K] = k_means.inertia_\n",
    "plt.figure()\n",
    "plt.plot(list(sse.keys()), list(sse.values()))\n",
    "plt.xlabel(\"Number of cluster\")\n",
    "plt.ylabel(\"SSE\")\n",
    "plt.show()"
   ]
  },
  {
   "cell_type": "markdown",
   "metadata": {},
   "source": [
    "From the above diagram we see that the number of SSE reduces drastically at 2 but remains almost same after words.\\\n",
    "The Point where such a sharp difference is observed is called knee bend and we choose\\\n",
    "appropriate No. of clusters to be formed = the knee bend"
   ]
  },
  {
   "cell_type": "code",
   "execution_count": 78,
   "metadata": {},
   "outputs": [
    {
     "data": {
      "text/plain": [
       "KMeans(algorithm='auto', copy_x=True, init='k-means++', max_iter=300,\n",
       "    n_clusters=2, n_init=12, n_jobs=None, precompute_distances='auto',\n",
       "    random_state=None, tol=0.0001, verbose=0)"
      ]
     },
     "execution_count": 78,
     "metadata": {},
     "output_type": "execute_result"
    }
   ],
   "source": [
    "k_means = KMeans(init = \"k-means++\", n_clusters = 2, n_init = 12)\n",
    "k_means.fit(data1)"
   ]
  },
  {
   "cell_type": "code",
   "execution_count": 79,
   "metadata": {},
   "outputs": [
    {
     "data": {
      "text/plain": [
       "array([[18.52065405, 73.84497271],\n",
       "       [18.61859758, 73.78901255]])"
      ]
     },
     "execution_count": 79,
     "metadata": {},
     "output_type": "execute_result"
    }
   ],
   "source": [
    "k_means_cluster_centers = k_means.cluster_centers_\n",
    "k_means_cluster_centers"
   ]
  },
  {
   "cell_type": "markdown",
   "metadata": {},
   "source": [
    "Thus we have the optimal coordinates to start a coaching institute.\\\n",
    "We will plot these coordinates on the map along with college coordinates so as to visualize our answer and help the concerned Coaching Classes take a good decision.\\\n",
    "The red dot are the places around which the centres should be opened and blue dots are the colleges.\\"
   ]
  },
  {
   "cell_type": "code",
   "execution_count": 95,
   "metadata": {},
   "outputs": [
    {
     "data": {
      "text/html": [
       "<div style=\"width:100%;\"><div style=\"position:relative;width:100%;height:0;padding-bottom:60%;\"><iframe src=\"data:text/html;charset=utf-8;base64,PCFET0NUWVBFIGh0bWw+CjxoZWFkPiAgICAKICAgIDxtZXRhIGh0dHAtZXF1aXY9ImNvbnRlbnQtdHlwZSIgY29udGVudD0idGV4dC9odG1sOyBjaGFyc2V0PVVURi04IiAvPgogICAgPHNjcmlwdD5MX1BSRUZFUl9DQU5WQVMgPSBmYWxzZTsgTF9OT19UT1VDSCA9IGZhbHNlOyBMX0RJU0FCTEVfM0QgPSBmYWxzZTs8L3NjcmlwdD4KICAgIDxzY3JpcHQgc3JjPSJodHRwczovL2Nkbi5qc2RlbGl2ci5uZXQvbnBtL2xlYWZsZXRAMS4yLjAvZGlzdC9sZWFmbGV0LmpzIj48L3NjcmlwdD4KICAgIDxzY3JpcHQgc3JjPSJodHRwczovL2FqYXguZ29vZ2xlYXBpcy5jb20vYWpheC9saWJzL2pxdWVyeS8xLjExLjEvanF1ZXJ5Lm1pbi5qcyI+PC9zY3JpcHQ+CiAgICA8c2NyaXB0IHNyYz0iaHR0cHM6Ly9tYXhjZG4uYm9vdHN0cmFwY2RuLmNvbS9ib290c3RyYXAvMy4yLjAvanMvYm9vdHN0cmFwLm1pbi5qcyI+PC9zY3JpcHQ+CiAgICA8c2NyaXB0IHNyYz0iaHR0cHM6Ly9jZG5qcy5jbG91ZGZsYXJlLmNvbS9hamF4L2xpYnMvTGVhZmxldC5hd2Vzb21lLW1hcmtlcnMvMi4wLjIvbGVhZmxldC5hd2Vzb21lLW1hcmtlcnMuanMiPjwvc2NyaXB0PgogICAgPGxpbmsgcmVsPSJzdHlsZXNoZWV0IiBocmVmPSJodHRwczovL2Nkbi5qc2RlbGl2ci5uZXQvbnBtL2xlYWZsZXRAMS4yLjAvZGlzdC9sZWFmbGV0LmNzcyIvPgogICAgPGxpbmsgcmVsPSJzdHlsZXNoZWV0IiBocmVmPSJodHRwczovL21heGNkbi5ib290c3RyYXBjZG4uY29tL2Jvb3RzdHJhcC8zLjIuMC9jc3MvYm9vdHN0cmFwLm1pbi5jc3MiLz4KICAgIDxsaW5rIHJlbD0ic3R5bGVzaGVldCIgaHJlZj0iaHR0cHM6Ly9tYXhjZG4uYm9vdHN0cmFwY2RuLmNvbS9ib290c3RyYXAvMy4yLjAvY3NzL2Jvb3RzdHJhcC10aGVtZS5taW4uY3NzIi8+CiAgICA8bGluayByZWw9InN0eWxlc2hlZXQiIGhyZWY9Imh0dHBzOi8vbWF4Y2RuLmJvb3RzdHJhcGNkbi5jb20vZm9udC1hd2Vzb21lLzQuNi4zL2Nzcy9mb250LWF3ZXNvbWUubWluLmNzcyIvPgogICAgPGxpbmsgcmVsPSJzdHlsZXNoZWV0IiBocmVmPSJodHRwczovL2NkbmpzLmNsb3VkZmxhcmUuY29tL2FqYXgvbGlicy9MZWFmbGV0LmF3ZXNvbWUtbWFya2Vycy8yLjAuMi9sZWFmbGV0LmF3ZXNvbWUtbWFya2Vycy5jc3MiLz4KICAgIDxsaW5rIHJlbD0ic3R5bGVzaGVldCIgaHJlZj0iaHR0cHM6Ly9yYXdnaXQuY29tL3B5dGhvbi12aXN1YWxpemF0aW9uL2ZvbGl1bS9tYXN0ZXIvZm9saXVtL3RlbXBsYXRlcy9sZWFmbGV0LmF3ZXNvbWUucm90YXRlLmNzcyIvPgogICAgPHN0eWxlPmh0bWwsIGJvZHkge3dpZHRoOiAxMDAlO2hlaWdodDogMTAwJTttYXJnaW46IDA7cGFkZGluZzogMDt9PC9zdHlsZT4KICAgIDxzdHlsZT4jbWFwIHtwb3NpdGlvbjphYnNvbHV0ZTt0b3A6MDtib3R0b206MDtyaWdodDowO2xlZnQ6MDt9PC9zdHlsZT4KICAgIAogICAgICAgICAgICA8c3R5bGU+ICNtYXBfZWM4M2QyMTAxNDQwNGE3YTlhZDU0OWZkMDZkMTRiNjkgewogICAgICAgICAgICAgICAgcG9zaXRpb24gOiByZWxhdGl2ZTsKICAgICAgICAgICAgICAgIHdpZHRoIDogMTAwLjAlOwogICAgICAgICAgICAgICAgaGVpZ2h0OiAxMDAuMCU7CiAgICAgICAgICAgICAgICBsZWZ0OiAwLjAlOwogICAgICAgICAgICAgICAgdG9wOiAwLjAlOwogICAgICAgICAgICAgICAgfQogICAgICAgICAgICA8L3N0eWxlPgogICAgICAgIAo8L2hlYWQ+Cjxib2R5PiAgICAKICAgIAogICAgICAgICAgICA8ZGl2IGNsYXNzPSJmb2xpdW0tbWFwIiBpZD0ibWFwX2VjODNkMjEwMTQ0MDRhN2E5YWQ1NDlmZDA2ZDE0YjY5IiA+PC9kaXY+CiAgICAgICAgCjwvYm9keT4KPHNjcmlwdD4gICAgCiAgICAKCiAgICAgICAgICAgIAogICAgICAgICAgICAgICAgdmFyIGJvdW5kcyA9IG51bGw7CiAgICAgICAgICAgIAoKICAgICAgICAgICAgdmFyIG1hcF9lYzgzZDIxMDE0NDA0YTdhOWFkNTQ5ZmQwNmQxNGI2OSA9IEwubWFwKAogICAgICAgICAgICAgICAgICAgICAgICAgICAgICAgICAgJ21hcF9lYzgzZDIxMDE0NDA0YTdhOWFkNTQ5ZmQwNmQxNGI2OScsCiAgICAgICAgICAgICAgICAgICAgICAgICAgICAgICAgICB7Y2VudGVyOiBbMTguNTIwNjU0MDQ4ODY0NDc2LDczLjg0NDk3MjcwODk0MTAzXSwKICAgICAgICAgICAgICAgICAgICAgICAgICAgICAgICAgIHpvb206IDEwLjgsCiAgICAgICAgICAgICAgICAgICAgICAgICAgICAgICAgICBtYXhCb3VuZHM6IGJvdW5kcywKICAgICAgICAgICAgICAgICAgICAgICAgICAgICAgICAgIGxheWVyczogW10sCiAgICAgICAgICAgICAgICAgICAgICAgICAgICAgICAgICB3b3JsZENvcHlKdW1wOiBmYWxzZSwKICAgICAgICAgICAgICAgICAgICAgICAgICAgICAgICAgIGNyczogTC5DUlMuRVBTRzM4NTcKICAgICAgICAgICAgICAgICAgICAgICAgICAgICAgICAgfSk7CiAgICAgICAgICAgIAogICAgICAgIAogICAgCiAgICAgICAgICAgIHZhciB0aWxlX2xheWVyX2FlN2MwZGYzYWMwOTQwOWY4NWUxZDA4ZTFhNjAyMmQ5ID0gTC50aWxlTGF5ZXIoCiAgICAgICAgICAgICAgICAnaHR0cHM6Ly97c30udGlsZS5vcGVuc3RyZWV0bWFwLm9yZy97en0ve3h9L3t5fS5wbmcnLAogICAgICAgICAgICAgICAgewogICJhdHRyaWJ1dGlvbiI6IG51bGwsCiAgImRldGVjdFJldGluYSI6IGZhbHNlLAogICJtYXhab29tIjogMTgsCiAgIm1pblpvb20iOiAxLAogICJub1dyYXAiOiBmYWxzZSwKICAic3ViZG9tYWlucyI6ICJhYmMiCn0KICAgICAgICAgICAgICAgICkuYWRkVG8obWFwX2VjODNkMjEwMTQ0MDRhN2E5YWQ1NDlmZDA2ZDE0YjY5KTsKICAgICAgICAKICAgIAogICAgICAgICAgICB2YXIgY2lyY2xlX21hcmtlcl9lNzUxNmFkYWE2ZmY0ODkxYWViZmQyZmEwYTM4MjM0NyA9IEwuY2lyY2xlTWFya2VyKAogICAgICAgICAgICAgICAgWzE4LjUyMDY1NDA0ODg2NDQ3Niw3My44NDQ5NzI3MDg5NDEwM10sCiAgICAgICAgICAgICAgICB7CiAgImJ1YmJsaW5nTW91c2VFdmVudHMiOiB0cnVlLAogICJjb2xvciI6ICJyZWQiLAogICJkYXNoQXJyYXkiOiBudWxsLAogICJkYXNoT2Zmc2V0IjogbnVsbCwKICAiZmlsbCI6IHRydWUsCiAgImZpbGxDb2xvciI6ICJyZWQiLAogICJmaWxsT3BhY2l0eSI6IDAuOSwKICAiZmlsbFJ1bGUiOiAiZXZlbm9kZCIsCiAgImxpbmVDYXAiOiAicm91bmQiLAogICJsaW5lSm9pbiI6ICJyb3VuZCIsCiAgIm9wYWNpdHkiOiAxLjAsCiAgInJhZGl1cyI6IDcsCiAgInN0cm9rZSI6IHRydWUsCiAgIndlaWdodCI6IDMKfQogICAgICAgICAgICAgICAgKS5hZGRUbyhtYXBfZWM4M2QyMTAxNDQwNGE3YTlhZDU0OWZkMDZkMTRiNjkpOwogICAgICAgICAgICAKICAgIAogICAgICAgICAgICB2YXIgcG9wdXBfNDk3ZDEyMTA0YjhlNDY5ZDgxY2Y1ZmQ0Mzk3ZDA4MTggPSBMLnBvcHVwKHttYXhXaWR0aDogJzMwMCd9KTsKCiAgICAgICAgICAgIAogICAgICAgICAgICAgICAgdmFyIGh0bWxfY2FjOGNhNzRhYThjNGMwZTk2YWUzM2I5ZTg5ZTI3MTUgPSAkKCc8ZGl2IGlkPSJodG1sX2NhYzhjYTc0YWE4YzRjMGU5NmFlMzNiOWU4OWUyNzE1IiBzdHlsZT0id2lkdGg6IDEwMC4wJTsgaGVpZ2h0OiAxMDAuMCU7Ij5DZW50cmUgMTwvZGl2PicpWzBdOwogICAgICAgICAgICAgICAgcG9wdXBfNDk3ZDEyMTA0YjhlNDY5ZDgxY2Y1ZmQ0Mzk3ZDA4MTguc2V0Q29udGVudChodG1sX2NhYzhjYTc0YWE4YzRjMGU5NmFlMzNiOWU4OWUyNzE1KTsKICAgICAgICAgICAgCgogICAgICAgICAgICBjaXJjbGVfbWFya2VyX2U3NTE2YWRhYTZmZjQ4OTFhZWJmZDJmYTBhMzgyMzQ3LmJpbmRQb3B1cChwb3B1cF80OTdkMTIxMDRiOGU0NjlkODFjZjVmZDQzOTdkMDgxOCk7CgogICAgICAgICAgICAKICAgICAgICAKICAgIAogICAgICAgICAgICB2YXIgY2lyY2xlX21hcmtlcl80NTU5NzAzMGEyMDA0NGJhYjA1NjliMDE5YTc4ZTllNyA9IEwuY2lyY2xlTWFya2VyKAogICAgICAgICAgICAgICAgWzE4LjYxODU5NzU4NDkwMzUyLDczLjc4OTAxMjU0NzMzNTc0XSwKICAgICAgICAgICAgICAgIHsKICAiYnViYmxpbmdNb3VzZUV2ZW50cyI6IHRydWUsCiAgImNvbG9yIjogInJlZCIsCiAgImRhc2hBcnJheSI6IG51bGwsCiAgImRhc2hPZmZzZXQiOiBudWxsLAogICJmaWxsIjogdHJ1ZSwKICAiZmlsbENvbG9yIjogInJlZCIsCiAgImZpbGxPcGFjaXR5IjogMC45LAogICJmaWxsUnVsZSI6ICJldmVub2RkIiwKICAibGluZUNhcCI6ICJyb3VuZCIsCiAgImxpbmVKb2luIjogInJvdW5kIiwKICAib3BhY2l0eSI6IDEuMCwKICAicmFkaXVzIjogNywKICAic3Ryb2tlIjogdHJ1ZSwKICAid2VpZ2h0IjogMwp9CiAgICAgICAgICAgICAgICApLmFkZFRvKG1hcF9lYzgzZDIxMDE0NDA0YTdhOWFkNTQ5ZmQwNmQxNGI2OSk7CiAgICAgICAgICAgIAogICAgCiAgICAgICAgICAgIHZhciBwb3B1cF8xZjg0YjdjMWM5ZGU0NTEzODM4MjZlM2EwZGJkZmJhYiA9IEwucG9wdXAoe21heFdpZHRoOiAnMzAwJ30pOwoKICAgICAgICAgICAgCiAgICAgICAgICAgICAgICB2YXIgaHRtbF85ZWNhY2QyZjZhZGE0ZDNlYTVhZTQxODM5NjlkZWU1NyA9ICQoJzxkaXYgaWQ9Imh0bWxfOWVjYWNkMmY2YWRhNGQzZWE1YWU0MTgzOTY5ZGVlNTciIHN0eWxlPSJ3aWR0aDogMTAwLjAlOyBoZWlnaHQ6IDEwMC4wJTsiPkNlbnRyZSAyPC9kaXY+JylbMF07CiAgICAgICAgICAgICAgICBwb3B1cF8xZjg0YjdjMWM5ZGU0NTEzODM4MjZlM2EwZGJkZmJhYi5zZXRDb250ZW50KGh0bWxfOWVjYWNkMmY2YWRhNGQzZWE1YWU0MTgzOTY5ZGVlNTcpOwogICAgICAgICAgICAKCiAgICAgICAgICAgIGNpcmNsZV9tYXJrZXJfNDU1OTcwMzBhMjAwNDRiYWIwNTY5YjAxOWE3OGU5ZTcuYmluZFBvcHVwKHBvcHVwXzFmODRiN2MxYzlkZTQ1MTM4MzgyNmUzYTBkYmRmYmFiKTsKCiAgICAgICAgICAgIAogICAgICAgIAogICAgCiAgICAgICAgICAgIHZhciBjaXJjbGVfbWFya2VyXzc5MTNhYTllMTM0YjRmMmY4NDNlN2E4YjRlZDM2NjdjID0gTC5jaXJjbGVNYXJrZXIoCiAgICAgICAgICAgICAgICBbMTguNTI1NjI4MTE0MTQ5NDIzLDczLjg0NjA5MDI5NTM5NzI5XSwKICAgICAgICAgICAgICAgIHsKICAiYnViYmxpbmdNb3VzZUV2ZW50cyI6IHRydWUsCiAgImNvbG9yIjogImJsdWUiLAogICJkYXNoQXJyYXkiOiBudWxsLAogICJkYXNoT2Zmc2V0IjogbnVsbCwKICAiZmlsbCI6IHRydWUsCiAgImZpbGxDb2xvciI6ICJibHVlIiwKICAiZmlsbE9wYWNpdHkiOiAwLjYsCiAgImZpbGxSdWxlIjogImV2ZW5vZGQiLAogICJsaW5lQ2FwIjogInJvdW5kIiwKICAibGluZUpvaW4iOiAicm91bmQiLAogICJvcGFjaXR5IjogMS4wLAogICJyYWRpdXMiOiAzLAogICJzdHJva2UiOiB0cnVlLAogICJ3ZWlnaHQiOiAzCn0KICAgICAgICAgICAgICAgICkuYWRkVG8obWFwX2VjODNkMjEwMTQ0MDRhN2E5YWQ1NDlmZDA2ZDE0YjY5KTsKICAgICAgICAgICAgCiAgICAKICAgICAgICAgICAgdmFyIHBvcHVwXzk1NTc0ZWQyMGQwZTRlZWQ4OWYxY2MwMWE0MjNmMzM2ID0gTC5wb3B1cCh7bWF4V2lkdGg6ICczMDAnfSk7CgogICAgICAgICAgICAKICAgICAgICAgICAgICAgIHZhciBodG1sXzllZDdmYzk5MjE0ZDRmMDhhODcxMTI1N2Q2ODVkNDJmID0gJCgnPGRpdiBpZD0iaHRtbF85ZWQ3ZmM5OTIxNGQ0ZjA4YTg3MTEyNTdkNjg1ZDQyZiIgc3R5bGU9IndpZHRoOiAxMDAuMCU7IGhlaWdodDogMTAwLjAlOyI+Q29sbGVnZSBvciBVbml2ZXJzaXR5PC9kaXY+JylbMF07CiAgICAgICAgICAgICAgICBwb3B1cF85NTU3NGVkMjBkMGU0ZWVkODlmMWNjMDFhNDIzZjMzNi5zZXRDb250ZW50KGh0bWxfOWVkN2ZjOTkyMTRkNGYwOGE4NzExMjU3ZDY4NWQ0MmYpOwogICAgICAgICAgICAKCiAgICAgICAgICAgIGNpcmNsZV9tYXJrZXJfNzkxM2FhOWUxMzRiNGYyZjg0M2U3YThiNGVkMzY2N2MuYmluZFBvcHVwKHBvcHVwXzk1NTc0ZWQyMGQwZTRlZWQ4OWYxY2MwMWE0MjNmMzM2KTsKCiAgICAgICAgICAgIAogICAgICAgIAogICAgCiAgICAgICAgICAgIHZhciBjaXJjbGVfbWFya2VyXzZiOTA1YzAzNzJmMzRiYmQ4ZDVmM2M1YTdlZWIzMjk3ID0gTC5jaXJjbGVNYXJrZXIoCiAgICAgICAgICAgICAgICBbMTguNTI2MzE0OTgxMjUxMjI1LDczLjg0NTY5NDAxNTIwOTg0XSwKICAgICAgICAgICAgICAgIHsKICAiYnViYmxpbmdNb3VzZUV2ZW50cyI6IHRydWUsCiAgImNvbG9yIjogImJsdWUiLAogICJkYXNoQXJyYXkiOiBudWxsLAogICJkYXNoT2Zmc2V0IjogbnVsbCwKICAiZmlsbCI6IHRydWUsCiAgImZpbGxDb2xvciI6ICJibHVlIiwKICAiZmlsbE9wYWNpdHkiOiAwLjYsCiAgImZpbGxSdWxlIjogImV2ZW5vZGQiLAogICJsaW5lQ2FwIjogInJvdW5kIiwKICAibGluZUpvaW4iOiAicm91bmQiLAogICJvcGFjaXR5IjogMS4wLAogICJyYWRpdXMiOiAzLAogICJzdHJva2UiOiB0cnVlLAogICJ3ZWlnaHQiOiAzCn0KICAgICAgICAgICAgICAgICkuYWRkVG8obWFwX2VjODNkMjEwMTQ0MDRhN2E5YWQ1NDlmZDA2ZDE0YjY5KTsKICAgICAgICAgICAgCiAgICAKICAgICAgICAgICAgdmFyIHBvcHVwX2MzZWYzODE0ZDAxZTQ4MjdiOTU4NjExYmZlYmI4MjBhID0gTC5wb3B1cCh7bWF4V2lkdGg6ICczMDAnfSk7CgogICAgICAgICAgICAKICAgICAgICAgICAgICAgIHZhciBodG1sX2UwNDE0YzZmYmQ3ZjQ1Yjg4Y2Y3MGFkMjRiYzkwNTYyID0gJCgnPGRpdiBpZD0iaHRtbF9lMDQxNGM2ZmJkN2Y0NWI4OGNmNzBhZDI0YmM5MDU2MiIgc3R5bGU9IndpZHRoOiAxMDAuMCU7IGhlaWdodDogMTAwLjAlOyI+Q29sbGVnZSBvciBVbml2ZXJzaXR5PC9kaXY+JylbMF07CiAgICAgICAgICAgICAgICBwb3B1cF9jM2VmMzgxNGQwMWU0ODI3Yjk1ODYxMWJmZWJiODIwYS5zZXRDb250ZW50KGh0bWxfZTA0MTRjNmZiZDdmNDViODhjZjcwYWQyNGJjOTA1NjIpOwogICAgICAgICAgICAKCiAgICAgICAgICAgIGNpcmNsZV9tYXJrZXJfNmI5MDVjMDM3MmYzNGJiZDhkNWYzYzVhN2VlYjMyOTcuYmluZFBvcHVwKHBvcHVwX2MzZWYzODE0ZDAxZTQ4MjdiOTU4NjExYmZlYmI4MjBhKTsKCiAgICAgICAgICAgIAogICAgICAgIAogICAgCiAgICAgICAgICAgIHZhciBjaXJjbGVfbWFya2VyXzkzOWEzZWRiZGM3MTQ5ZWM5OWQ5YjcxMDlhYzRjZWZjID0gTC5jaXJjbGVNYXJrZXIoCiAgICAgICAgICAgICAgICBbMTguNTA3MzA4MTcxNTExNjEsNzMuODQ5NzQyOTI3MTg0XSwKICAgICAgICAgICAgICAgIHsKICAiYnViYmxpbmdNb3VzZUV2ZW50cyI6IHRydWUsCiAgImNvbG9yIjogImJsdWUiLAogICJkYXNoQXJyYXkiOiBudWxsLAogICJkYXNoT2Zmc2V0IjogbnVsbCwKICAiZmlsbCI6IHRydWUsCiAgImZpbGxDb2xvciI6ICJibHVlIiwKICAiZmlsbE9wYWNpdHkiOiAwLjYsCiAgImZpbGxSdWxlIjogImV2ZW5vZGQiLAogICJsaW5lQ2FwIjogInJvdW5kIiwKICAibGluZUpvaW4iOiAicm91bmQiLAogICJvcGFjaXR5IjogMS4wLAogICJyYWRpdXMiOiAzLAogICJzdHJva2UiOiB0cnVlLAogICJ3ZWlnaHQiOiAzCn0KICAgICAgICAgICAgICAgICkuYWRkVG8obWFwX2VjODNkMjEwMTQ0MDRhN2E5YWQ1NDlmZDA2ZDE0YjY5KTsKICAgICAgICAgICAgCiAgICAKICAgICAgICAgICAgdmFyIHBvcHVwX2EzMDk1ZmZkM2IzYjQ3OTk4YTMxYmYwYWExMmY4MzUzID0gTC5wb3B1cCh7bWF4V2lkdGg6ICczMDAnfSk7CgogICAgICAgICAgICAKICAgICAgICAgICAgICAgIHZhciBodG1sXzVlMTk3MThhOTBlNDQyYmFhZmY2NDY0NzM1OWU2YzM2ID0gJCgnPGRpdiBpZD0iaHRtbF81ZTE5NzE4YTkwZTQ0MmJhYWZmNjQ2NDczNTllNmMzNiIgc3R5bGU9IndpZHRoOiAxMDAuMCU7IGhlaWdodDogMTAwLjAlOyI+Q29sbGVnZSBvciBVbml2ZXJzaXR5PC9kaXY+JylbMF07CiAgICAgICAgICAgICAgICBwb3B1cF9hMzA5NWZmZDNiM2I0Nzk5OGEzMWJmMGFhMTJmODM1My5zZXRDb250ZW50KGh0bWxfNWUxOTcxOGE5MGU0NDJiYWFmZjY0NjQ3MzU5ZTZjMzYpOwogICAgICAgICAgICAKCiAgICAgICAgICAgIGNpcmNsZV9tYXJrZXJfOTM5YTNlZGJkYzcxNDllYzk5ZDliNzEwOWFjNGNlZmMuYmluZFBvcHVwKHBvcHVwX2EzMDk1ZmZkM2IzYjQ3OTk4YTMxYmYwYWExMmY4MzUzKTsKCiAgICAgICAgICAgIAogICAgICAgIAogICAgCiAgICAgICAgICAgIHZhciBjaXJjbGVfbWFya2VyXzk0ZDA2NjljNmRmZDRkNThhZTBkMWExYWM1NDFiZGU3ID0gTC5jaXJjbGVNYXJrZXIoCiAgICAgICAgICAgICAgICBbMTguNTIwMzI3ODcyMzc4NDU2LDczLjg0MTQyMTAzMDc1NjE0XSwKICAgICAgICAgICAgICAgIHsKICAiYnViYmxpbmdNb3VzZUV2ZW50cyI6IHRydWUsCiAgImNvbG9yIjogImJsdWUiLAogICJkYXNoQXJyYXkiOiBudWxsLAogICJkYXNoT2Zmc2V0IjogbnVsbCwKICAiZmlsbCI6IHRydWUsCiAgImZpbGxDb2xvciI6ICJibHVlIiwKICAiZmlsbE9wYWNpdHkiOiAwLjYsCiAgImZpbGxSdWxlIjogImV2ZW5vZGQiLAogICJsaW5lQ2FwIjogInJvdW5kIiwKICAibGluZUpvaW4iOiAicm91bmQiLAogICJvcGFjaXR5IjogMS4wLAogICJyYWRpdXMiOiAzLAogICJzdHJva2UiOiB0cnVlLAogICJ3ZWlnaHQiOiAzCn0KICAgICAgICAgICAgICAgICkuYWRkVG8obWFwX2VjODNkMjEwMTQ0MDRhN2E5YWQ1NDlmZDA2ZDE0YjY5KTsKICAgICAgICAgICAgCiAgICAKICAgICAgICAgICAgdmFyIHBvcHVwXzU1NjNkNDgzOWViNjRkNWE5M2U0YWI0YmEwOTM3ODE3ID0gTC5wb3B1cCh7bWF4V2lkdGg6ICczMDAnfSk7CgogICAgICAgICAgICAKICAgICAgICAgICAgICAgIHZhciBodG1sXzQwOTg2MmYzMmE0ZjQ0MThiMzlkMjMzNzAzYjVjZGNjID0gJCgnPGRpdiBpZD0iaHRtbF80MDk4NjJmMzJhNGY0NDE4YjM5ZDIzMzcwM2I1Y2RjYyIgc3R5bGU9IndpZHRoOiAxMDAuMCU7IGhlaWdodDogMTAwLjAlOyI+Q29sbGVnZSBvciBVbml2ZXJzaXR5PC9kaXY+JylbMF07CiAgICAgICAgICAgICAgICBwb3B1cF81NTYzZDQ4MzllYjY0ZDVhOTNlNGFiNGJhMDkzNzgxNy5zZXRDb250ZW50KGh0bWxfNDA5ODYyZjMyYTRmNDQxOGIzOWQyMzM3MDNiNWNkY2MpOwogICAgICAgICAgICAKCiAgICAgICAgICAgIGNpcmNsZV9tYXJrZXJfOTRkMDY2OWM2ZGZkNGQ1OGFlMGQxYTFhYzU0MWJkZTcuYmluZFBvcHVwKHBvcHVwXzU1NjNkNDgzOWViNjRkNWE5M2U0YWI0YmEwOTM3ODE3KTsKCiAgICAgICAgICAgIAogICAgICAgIAogICAgCiAgICAgICAgICAgIHZhciBjaXJjbGVfbWFya2VyX2IwNTdkMmJjMmZhYzQ3ODQ4YzAwYzQ0ZDdhNTA5YTkzID0gTC5jaXJjbGVNYXJrZXIoCiAgICAgICAgICAgICAgICBbMTguNTIyODMzMDUzMTA2NCw3My44Mzk1MDI3NTIyNDk0Nl0sCiAgICAgICAgICAgICAgICB7CiAgImJ1YmJsaW5nTW91c2VFdmVudHMiOiB0cnVlLAogICJjb2xvciI6ICJibHVlIiwKICAiZGFzaEFycmF5IjogbnVsbCwKICAiZGFzaE9mZnNldCI6IG51bGwsCiAgImZpbGwiOiB0cnVlLAogICJmaWxsQ29sb3IiOiAiYmx1ZSIsCiAgImZpbGxPcGFjaXR5IjogMC42LAogICJmaWxsUnVsZSI6ICJldmVub2RkIiwKICAibGluZUNhcCI6ICJyb3VuZCIsCiAgImxpbmVKb2luIjogInJvdW5kIiwKICAib3BhY2l0eSI6IDEuMCwKICAicmFkaXVzIjogMywKICAic3Ryb2tlIjogdHJ1ZSwKICAid2VpZ2h0IjogMwp9CiAgICAgICAgICAgICAgICApLmFkZFRvKG1hcF9lYzgzZDIxMDE0NDA0YTdhOWFkNTQ5ZmQwNmQxNGI2OSk7CiAgICAgICAgICAgIAogICAgCiAgICAgICAgICAgIHZhciBwb3B1cF80Mjc3ZDRhZGQ3ZWM0YTg4ODM4MGY4MWUwZmU2MTJjMiA9IEwucG9wdXAoe21heFdpZHRoOiAnMzAwJ30pOwoKICAgICAgICAgICAgCiAgICAgICAgICAgICAgICB2YXIgaHRtbF9iODRjYmMxMjRmYzY0NDBjYjM3NmFjNWI0Yzg1MmFkMSA9ICQoJzxkaXYgaWQ9Imh0bWxfYjg0Y2JjMTI0ZmM2NDQwY2IzNzZhYzViNGM4NTJhZDEiIHN0eWxlPSJ3aWR0aDogMTAwLjAlOyBoZWlnaHQ6IDEwMC4wJTsiPkNvbGxlZ2Ugb3IgVW5pdmVyc2l0eTwvZGl2PicpWzBdOwogICAgICAgICAgICAgICAgcG9wdXBfNDI3N2Q0YWRkN2VjNGE4ODgzODBmODFlMGZlNjEyYzIuc2V0Q29udGVudChodG1sX2I4NGNiYzEyNGZjNjQ0MGNiMzc2YWM1YjRjODUyYWQxKTsKICAgICAgICAgICAgCgogICAgICAgICAgICBjaXJjbGVfbWFya2VyX2IwNTdkMmJjMmZhYzQ3ODQ4YzAwYzQ0ZDdhNTA5YTkzLmJpbmRQb3B1cChwb3B1cF80Mjc3ZDRhZGQ3ZWM0YTg4ODM4MGY4MWUwZmU2MTJjMik7CgogICAgICAgICAgICAKICAgICAgICAKICAgIAogICAgICAgICAgICB2YXIgY2lyY2xlX21hcmtlcl9mYWIzMGY4OGYzYjg0ZmE5YWJiMmMxNGYwNGU1ZWIyZCA9IEwuY2lyY2xlTWFya2VyKAogICAgICAgICAgICAgICAgWzE4LjUzMDQ4MTMzODUwMDk3Nyw3My44NjUwNTEyNjk1MzEyNV0sCiAgICAgICAgICAgICAgICB7CiAgImJ1YmJsaW5nTW91c2VFdmVudHMiOiB0cnVlLAogICJjb2xvciI6ICJibHVlIiwKICAiZGFzaEFycmF5IjogbnVsbCwKICAiZGFzaE9mZnNldCI6IG51bGwsCiAgImZpbGwiOiB0cnVlLAogICJmaWxsQ29sb3IiOiAiYmx1ZSIsCiAgImZpbGxPcGFjaXR5IjogMC42LAogICJmaWxsUnVsZSI6ICJldmVub2RkIiwKICAibGluZUNhcCI6ICJyb3VuZCIsCiAgImxpbmVKb2luIjogInJvdW5kIiwKICAib3BhY2l0eSI6IDEuMCwKICAicmFkaXVzIjogMywKICAic3Ryb2tlIjogdHJ1ZSwKICAid2VpZ2h0IjogMwp9CiAgICAgICAgICAgICAgICApLmFkZFRvKG1hcF9lYzgzZDIxMDE0NDA0YTdhOWFkNTQ5ZmQwNmQxNGI2OSk7CiAgICAgICAgICAgIAogICAgCiAgICAgICAgICAgIHZhciBwb3B1cF83MzY5ZjQxZGFlMTg0ZjBlOTNmYTIxODA0NzIyNTQ2MyA9IEwucG9wdXAoe21heFdpZHRoOiAnMzAwJ30pOwoKICAgICAgICAgICAgCiAgICAgICAgICAgICAgICB2YXIgaHRtbF9iYzVhNDg5M2E1ZGU0NTY1YTYwZDMyNDhlMWFhZDVmMyA9ICQoJzxkaXYgaWQ9Imh0bWxfYmM1YTQ4OTNhNWRlNDU2NWE2MGQzMjQ4ZTFhYWQ1ZjMiIHN0eWxlPSJ3aWR0aDogMTAwLjAlOyBoZWlnaHQ6IDEwMC4wJTsiPkNvbGxlZ2Ugb3IgVW5pdmVyc2l0eTwvZGl2PicpWzBdOwogICAgICAgICAgICAgICAgcG9wdXBfNzM2OWY0MWRhZTE4NGYwZTkzZmEyMTgwNDcyMjU0NjMuc2V0Q29udGVudChodG1sX2JjNWE0ODkzYTVkZTQ1NjVhNjBkMzI0OGUxYWFkNWYzKTsKICAgICAgICAgICAgCgogICAgICAgICAgICBjaXJjbGVfbWFya2VyX2ZhYjMwZjg4ZjNiODRmYTlhYmIyYzE0ZjA0ZTVlYjJkLmJpbmRQb3B1cChwb3B1cF83MzY5ZjQxZGFlMTg0ZjBlOTNmYTIxODA0NzIyNTQ2Myk7CgogICAgICAgICAgICAKICAgICAgICAKICAgIAogICAgICAgICAgICB2YXIgY2lyY2xlX21hcmtlcl85MDcxMDU4MTkwZjM0ODQ2OGExMGExMDNmOTczZGQ0ZiA9IEwuY2lyY2xlTWFya2VyKAogICAgICAgICAgICAgICAgWzE4LjUyMTc4NTU1ODczMTg0Myw3My44NDA3ODkyNjQ0NDQ3NV0sCiAgICAgICAgICAgICAgICB7CiAgImJ1YmJsaW5nTW91c2VFdmVudHMiOiB0cnVlLAogICJjb2xvciI6ICJibHVlIiwKICAiZGFzaEFycmF5IjogbnVsbCwKICAiZGFzaE9mZnNldCI6IG51bGwsCiAgImZpbGwiOiB0cnVlLAogICJmaWxsQ29sb3IiOiAiYmx1ZSIsCiAgImZpbGxPcGFjaXR5IjogMC42LAogICJmaWxsUnVsZSI6ICJldmVub2RkIiwKICAibGluZUNhcCI6ICJyb3VuZCIsCiAgImxpbmVKb2luIjogInJvdW5kIiwKICAib3BhY2l0eSI6IDEuMCwKICAicmFkaXVzIjogMywKICAic3Ryb2tlIjogdHJ1ZSwKICAid2VpZ2h0IjogMwp9CiAgICAgICAgICAgICAgICApLmFkZFRvKG1hcF9lYzgzZDIxMDE0NDA0YTdhOWFkNTQ5ZmQwNmQxNGI2OSk7CiAgICAgICAgICAgIAogICAgCiAgICAgICAgICAgIHZhciBwb3B1cF9kYWZmN2FhOTM4MWU0YzM4YTUxMDU1NmU2MDQ3ZDk5OCA9IEwucG9wdXAoe21heFdpZHRoOiAnMzAwJ30pOwoKICAgICAgICAgICAgCiAgICAgICAgICAgICAgICB2YXIgaHRtbF84YmM0NDNmY2ZlMWQ0MzAyOTQ0YjI3YTdlNTk5MDkzYyA9ICQoJzxkaXYgaWQ9Imh0bWxfOGJjNDQzZmNmZTFkNDMwMjk0NGIyN2E3ZTU5OTA5M2MiIHN0eWxlPSJ3aWR0aDogMTAwLjAlOyBoZWlnaHQ6IDEwMC4wJTsiPkNvbGxlZ2Ugb3IgVW5pdmVyc2l0eTwvZGl2PicpWzBdOwogICAgICAgICAgICAgICAgcG9wdXBfZGFmZjdhYTkzODFlNGMzOGE1MTA1NTZlNjA0N2Q5OTguc2V0Q29udGVudChodG1sXzhiYzQ0M2ZjZmUxZDQzMDI5NDRiMjdhN2U1OTkwOTNjKTsKICAgICAgICAgICAgCgogICAgICAgICAgICBjaXJjbGVfbWFya2VyXzkwNzEwNTgxOTBmMzQ4NDY4YTEwYTEwM2Y5NzNkZDRmLmJpbmRQb3B1cChwb3B1cF9kYWZmN2FhOTM4MWU0YzM4YTUxMDU1NmU2MDQ3ZDk5OCk7CgogICAgICAgICAgICAKICAgICAgICAKICAgIAogICAgICAgICAgICB2YXIgY2lyY2xlX21hcmtlcl9hNjg3NGM2ZjFiNTQ0MGVmODRkYjQxMzk0NjI0YzVmMCA9IEwuY2lyY2xlTWFya2VyKAogICAgICAgICAgICAgICAgWzE4LjUyMDgwOTQ1NDQzOTgyNCw3My44MzkxNjk2MzYxMTc5OV0sCiAgICAgICAgICAgICAgICB7CiAgImJ1YmJsaW5nTW91c2VFdmVudHMiOiB0cnVlLAogICJjb2xvciI6ICJibHVlIiwKICAiZGFzaEFycmF5IjogbnVsbCwKICAiZGFzaE9mZnNldCI6IG51bGwsCiAgImZpbGwiOiB0cnVlLAogICJmaWxsQ29sb3IiOiAiYmx1ZSIsCiAgImZpbGxPcGFjaXR5IjogMC42LAogICJmaWxsUnVsZSI6ICJldmVub2RkIiwKICAibGluZUNhcCI6ICJyb3VuZCIsCiAgImxpbmVKb2luIjogInJvdW5kIiwKICAib3BhY2l0eSI6IDEuMCwKICAicmFkaXVzIjogMywKICAic3Ryb2tlIjogdHJ1ZSwKICAid2VpZ2h0IjogMwp9CiAgICAgICAgICAgICAgICApLmFkZFRvKG1hcF9lYzgzZDIxMDE0NDA0YTdhOWFkNTQ5ZmQwNmQxNGI2OSk7CiAgICAgICAgICAgIAogICAgCiAgICAgICAgICAgIHZhciBwb3B1cF80ZGE0MTZmZWY2YzM0MzY0YTYzZWM3MGViN2M1NWFkMSA9IEwucG9wdXAoe21heFdpZHRoOiAnMzAwJ30pOwoKICAgICAgICAgICAgCiAgICAgICAgICAgICAgICB2YXIgaHRtbF9iMGZiNzJhZGRhNTc0ZGY4YTQzMGEzNjMzZWEzYWNlOCA9ICQoJzxkaXYgaWQ9Imh0bWxfYjBmYjcyYWRkYTU3NGRmOGE0MzBhMzYzM2VhM2FjZTgiIHN0eWxlPSJ3aWR0aDogMTAwLjAlOyBoZWlnaHQ6IDEwMC4wJTsiPkNvbGxlZ2Ugb3IgVW5pdmVyc2l0eTwvZGl2PicpWzBdOwogICAgICAgICAgICAgICAgcG9wdXBfNGRhNDE2ZmVmNmMzNDM2NGE2M2VjNzBlYjdjNTVhZDEuc2V0Q29udGVudChodG1sX2IwZmI3MmFkZGE1NzRkZjhhNDMwYTM2MzNlYTNhY2U4KTsKICAgICAgICAgICAgCgogICAgICAgICAgICBjaXJjbGVfbWFya2VyX2E2ODc0YzZmMWI1NDQwZWY4NGRiNDEzOTQ2MjRjNWYwLmJpbmRQb3B1cChwb3B1cF80ZGE0MTZmZWY2YzM0MzY0YTYzZWM3MGViN2M1NWFkMSk7CgogICAgICAgICAgICAKICAgICAgICAKICAgIAogICAgICAgICAgICB2YXIgY2lyY2xlX21hcmtlcl84MWIxYTFmZDBjYWQ0ZDAwYTRkNGQyZTk2NDcwZjA0YiA9IEwuY2lyY2xlTWFya2VyKAogICAgICAgICAgICAgICAgWzE4LjUyNTg3OTM2Nzc0NDcsNzMuODM5Mzk5MzcxNDQxMjJdLAogICAgICAgICAgICAgICAgewogICJidWJibGluZ01vdXNlRXZlbnRzIjogdHJ1ZSwKICAiY29sb3IiOiAiYmx1ZSIsCiAgImRhc2hBcnJheSI6IG51bGwsCiAgImRhc2hPZmZzZXQiOiBudWxsLAogICJmaWxsIjogdHJ1ZSwKICAiZmlsbENvbG9yIjogImJsdWUiLAogICJmaWxsT3BhY2l0eSI6IDAuNiwKICAiZmlsbFJ1bGUiOiAiZXZlbm9kZCIsCiAgImxpbmVDYXAiOiAicm91bmQiLAogICJsaW5lSm9pbiI6ICJyb3VuZCIsCiAgIm9wYWNpdHkiOiAxLjAsCiAgInJhZGl1cyI6IDMsCiAgInN0cm9rZSI6IHRydWUsCiAgIndlaWdodCI6IDMKfQogICAgICAgICAgICAgICAgKS5hZGRUbyhtYXBfZWM4M2QyMTAxNDQwNGE3YTlhZDU0OWZkMDZkMTRiNjkpOwogICAgICAgICAgICAKICAgIAogICAgICAgICAgICB2YXIgcG9wdXBfZTkyZjI3M2ExNDVlNGQ1OTgyZGNhOTE3NzY5N2JiN2QgPSBMLnBvcHVwKHttYXhXaWR0aDogJzMwMCd9KTsKCiAgICAgICAgICAgIAogICAgICAgICAgICAgICAgdmFyIGh0bWxfZDMyYjJhNDgzZjU3NDcyMWExYjlmNWIzM2E0MjY2NTAgPSAkKCc8ZGl2IGlkPSJodG1sX2QzMmIyYTQ4M2Y1NzQ3MjFhMWI5ZjViMzNhNDI2NjUwIiBzdHlsZT0id2lkdGg6IDEwMC4wJTsgaGVpZ2h0OiAxMDAuMCU7Ij5Db2xsZWdlIG9yIFVuaXZlcnNpdHk8L2Rpdj4nKVswXTsKICAgICAgICAgICAgICAgIHBvcHVwX2U5MmYyNzNhMTQ1ZTRkNTk4MmRjYTkxNzc2OTdiYjdkLnNldENvbnRlbnQoaHRtbF9kMzJiMmE0ODNmNTc0NzIxYTFiOWY1YjMzYTQyNjY1MCk7CiAgICAgICAgICAgIAoKICAgICAgICAgICAgY2lyY2xlX21hcmtlcl84MWIxYTFmZDBjYWQ0ZDAwYTRkNGQyZTk2NDcwZjA0Yi5iaW5kUG9wdXAocG9wdXBfZTkyZjI3M2ExNDVlNGQ1OTgyZGNhOTE3NzY5N2JiN2QpOwoKICAgICAgICAgICAgCiAgICAgICAgCiAgICAKICAgICAgICAgICAgdmFyIGNpcmNsZV9tYXJrZXJfMWI4ZTY0YWU2MDhjNDI1NDlmNWI0NjA1MTNlYzMxOTQgPSBMLmNpcmNsZU1hcmtlcigKICAgICAgICAgICAgICAgIFsxOC41MTIyODUxMjk3NDMxNiw3My44Mzg2OTg2Nzc4Njk1Nl0sCiAgICAgICAgICAgICAgICB7CiAgImJ1YmJsaW5nTW91c2VFdmVudHMiOiB0cnVlLAogICJjb2xvciI6ICJibHVlIiwKICAiZGFzaEFycmF5IjogbnVsbCwKICAiZGFzaE9mZnNldCI6IG51bGwsCiAgImZpbGwiOiB0cnVlLAogICJmaWxsQ29sb3IiOiAiYmx1ZSIsCiAgImZpbGxPcGFjaXR5IjogMC42LAogICJmaWxsUnVsZSI6ICJldmVub2RkIiwKICAibGluZUNhcCI6ICJyb3VuZCIsCiAgImxpbmVKb2luIjogInJvdW5kIiwKICAib3BhY2l0eSI6IDEuMCwKICAicmFkaXVzIjogMywKICAic3Ryb2tlIjogdHJ1ZSwKICAid2VpZ2h0IjogMwp9CiAgICAgICAgICAgICAgICApLmFkZFRvKG1hcF9lYzgzZDIxMDE0NDA0YTdhOWFkNTQ5ZmQwNmQxNGI2OSk7CiAgICAgICAgICAgIAogICAgCiAgICAgICAgICAgIHZhciBwb3B1cF8xOWVjMTFhOGU4ZTQ0NGY4OTRlZTAyMzgyNDJhNmNmMiA9IEwucG9wdXAoe21heFdpZHRoOiAnMzAwJ30pOwoKICAgICAgICAgICAgCiAgICAgICAgICAgICAgICB2YXIgaHRtbF84Yzg5Mzk1N2E0ZDQ0ZjJlYmI1ZDQ5ZWJlNGQ1ZTk0ZSA9ICQoJzxkaXYgaWQ9Imh0bWxfOGM4OTM5NTdhNGQ0NGYyZWJiNWQ0OWViZTRkNWU5NGUiIHN0eWxlPSJ3aWR0aDogMTAwLjAlOyBoZWlnaHQ6IDEwMC4wJTsiPkNvbGxlZ2Ugb3IgVW5pdmVyc2l0eTwvZGl2PicpWzBdOwogICAgICAgICAgICAgICAgcG9wdXBfMTllYzExYThlOGU0NDRmODk0ZWUwMjM4MjQyYTZjZjIuc2V0Q29udGVudChodG1sXzhjODkzOTU3YTRkNDRmMmViYjVkNDllYmU0ZDVlOTRlKTsKICAgICAgICAgICAgCgogICAgICAgICAgICBjaXJjbGVfbWFya2VyXzFiOGU2NGFlNjA4YzQyNTQ5ZjViNDYwNTEzZWMzMTk0LmJpbmRQb3B1cChwb3B1cF8xOWVjMTFhOGU4ZTQ0NGY4OTRlZTAyMzgyNDJhNmNmMik7CgogICAgICAgICAgICAKICAgICAgICAKICAgIAogICAgICAgICAgICB2YXIgY2lyY2xlX21hcmtlcl84MTU2MDA2M2Y3MTA0NTJiOWEyNGZiZWE1MjBhNzc2MyA9IEwuY2lyY2xlTWFya2VyKAogICAgICAgICAgICAgICAgWzE4LjUxODgwMTA2MDQwOTM0LDczLjg1NDQ3NTAyMTM2MjNdLAogICAgICAgICAgICAgICAgewogICJidWJibGluZ01vdXNlRXZlbnRzIjogdHJ1ZSwKICAiY29sb3IiOiAiYmx1ZSIsCiAgImRhc2hBcnJheSI6IG51bGwsCiAgImRhc2hPZmZzZXQiOiBudWxsLAogICJmaWxsIjogdHJ1ZSwKICAiZmlsbENvbG9yIjogImJsdWUiLAogICJmaWxsT3BhY2l0eSI6IDAuNiwKICAiZmlsbFJ1bGUiOiAiZXZlbm9kZCIsCiAgImxpbmVDYXAiOiAicm91bmQiLAogICJsaW5lSm9pbiI6ICJyb3VuZCIsCiAgIm9wYWNpdHkiOiAxLjAsCiAgInJhZGl1cyI6IDMsCiAgInN0cm9rZSI6IHRydWUsCiAgIndlaWdodCI6IDMKfQogICAgICAgICAgICAgICAgKS5hZGRUbyhtYXBfZWM4M2QyMTAxNDQwNGE3YTlhZDU0OWZkMDZkMTRiNjkpOwogICAgICAgICAgICAKICAgIAogICAgICAgICAgICB2YXIgcG9wdXBfZWRjN2E4OWQwM2JhNDRjMTliNmVjYmM3MDM0MWU5OTIgPSBMLnBvcHVwKHttYXhXaWR0aDogJzMwMCd9KTsKCiAgICAgICAgICAgIAogICAgICAgICAgICAgICAgdmFyIGh0bWxfNjI0ZWJkZWZmMzJhNDdiMmJkMGFhMDNlMmE0MzBiZDggPSAkKCc8ZGl2IGlkPSJodG1sXzYyNGViZGVmZjMyYTQ3YjJiZDBhYTAzZTJhNDMwYmQ4IiBzdHlsZT0id2lkdGg6IDEwMC4wJTsgaGVpZ2h0OiAxMDAuMCU7Ij5Db2xsZWdlIG9yIFVuaXZlcnNpdHk8L2Rpdj4nKVswXTsKICAgICAgICAgICAgICAgIHBvcHVwX2VkYzdhODlkMDNiYTQ0YzE5YjZlY2JjNzAzNDFlOTkyLnNldENvbnRlbnQoaHRtbF82MjRlYmRlZmYzMmE0N2IyYmQwYWEwM2UyYTQzMGJkOCk7CiAgICAgICAgICAgIAoKICAgICAgICAgICAgY2lyY2xlX21hcmtlcl84MTU2MDA2M2Y3MTA0NTJiOWEyNGZiZWE1MjBhNzc2My5iaW5kUG9wdXAocG9wdXBfZWRjN2E4OWQwM2JhNDRjMTliNmVjYmM3MDM0MWU5OTIpOwoKICAgICAgICAgICAgCiAgICAgICAgCiAgICAKICAgICAgICAgICAgdmFyIGNpcmNsZV9tYXJrZXJfNWVmMzVjODU2NTA4NGIwYTk1ZmZmMDhmMjcwYjk3ZGQgPSBMLmNpcmNsZU1hcmtlcigKICAgICAgICAgICAgICAgIFsxOC41Mjc1Mjk5NTgxMjU3OTcsNzMuODUwNzUzNzA2NDA5N10sCiAgICAgICAgICAgICAgICB7CiAgImJ1YmJsaW5nTW91c2VFdmVudHMiOiB0cnVlLAogICJjb2xvciI6ICJibHVlIiwKICAiZGFzaEFycmF5IjogbnVsbCwKICAiZGFzaE9mZnNldCI6IG51bGwsCiAgImZpbGwiOiB0cnVlLAogICJmaWxsQ29sb3IiOiAiYmx1ZSIsCiAgImZpbGxPcGFjaXR5IjogMC42LAogICJmaWxsUnVsZSI6ICJldmVub2RkIiwKICAibGluZUNhcCI6ICJyb3VuZCIsCiAgImxpbmVKb2luIjogInJvdW5kIiwKICAib3BhY2l0eSI6IDEuMCwKICAicmFkaXVzIjogMywKICAic3Ryb2tlIjogdHJ1ZSwKICAid2VpZ2h0IjogMwp9CiAgICAgICAgICAgICAgICApLmFkZFRvKG1hcF9lYzgzZDIxMDE0NDA0YTdhOWFkNTQ5ZmQwNmQxNGI2OSk7CiAgICAgICAgICAgIAogICAgCiAgICAgICAgICAgIHZhciBwb3B1cF8zODAxY2E1ZWEyOTY0NDcxOGY4YzkxOTk4YWRhNDZkMiA9IEwucG9wdXAoe21heFdpZHRoOiAnMzAwJ30pOwoKICAgICAgICAgICAgCiAgICAgICAgICAgICAgICB2YXIgaHRtbF9lNzM5YzE4MjVhZDI0YTUzOTRhM2MzNTIzZDAxMmJmNCA9ICQoJzxkaXYgaWQ9Imh0bWxfZTczOWMxODI1YWQyNGE1Mzk0YTNjMzUyM2QwMTJiZjQiIHN0eWxlPSJ3aWR0aDogMTAwLjAlOyBoZWlnaHQ6IDEwMC4wJTsiPkNvbGxlZ2Ugb3IgVW5pdmVyc2l0eTwvZGl2PicpWzBdOwogICAgICAgICAgICAgICAgcG9wdXBfMzgwMWNhNWVhMjk2NDQ3MThmOGM5MTk5OGFkYTQ2ZDIuc2V0Q29udGVudChodG1sX2U3MzljMTgyNWFkMjRhNTM5NGEzYzM1MjNkMDEyYmY0KTsKICAgICAgICAgICAgCgogICAgICAgICAgICBjaXJjbGVfbWFya2VyXzVlZjM1Yzg1NjUwODRiMGE5NWZmZjA4ZjI3MGI5N2RkLmJpbmRQb3B1cChwb3B1cF8zODAxY2E1ZWEyOTY0NDcxOGY4YzkxOTk4YWRhNDZkMik7CgogICAgICAgICAgICAKICAgICAgICAKICAgIAogICAgICAgICAgICB2YXIgY2lyY2xlX21hcmtlcl9kMjdkZGYyMzUyMjA0ZTFjOTA0YTEwYjcxMTBiMDljOCA9IEwuY2lyY2xlTWFya2VyKAogICAgICAgICAgICAgICAgWzE4LjUxNzEzNjYzNjg0MjI3Nyw3My44Mjg0MTc3MjQxNDk4Ml0sCiAgICAgICAgICAgICAgICB7CiAgImJ1YmJsaW5nTW91c2VFdmVudHMiOiB0cnVlLAogICJjb2xvciI6ICJibHVlIiwKICAiZGFzaEFycmF5IjogbnVsbCwKICAiZGFzaE9mZnNldCI6IG51bGwsCiAgImZpbGwiOiB0cnVlLAogICJmaWxsQ29sb3IiOiAiYmx1ZSIsCiAgImZpbGxPcGFjaXR5IjogMC42LAogICJmaWxsUnVsZSI6ICJldmVub2RkIiwKICAibGluZUNhcCI6ICJyb3VuZCIsCiAgImxpbmVKb2luIjogInJvdW5kIiwKICAib3BhY2l0eSI6IDEuMCwKICAicmFkaXVzIjogMywKICAic3Ryb2tlIjogdHJ1ZSwKICAid2VpZ2h0IjogMwp9CiAgICAgICAgICAgICAgICApLmFkZFRvKG1hcF9lYzgzZDIxMDE0NDA0YTdhOWFkNTQ5ZmQwNmQxNGI2OSk7CiAgICAgICAgICAgIAogICAgCiAgICAgICAgICAgIHZhciBwb3B1cF85Y2YxZWQ1MmNkOWI0ZTkyYjA0ZDhmMGVmMjIwNTU1YyA9IEwucG9wdXAoe21heFdpZHRoOiAnMzAwJ30pOwoKICAgICAgICAgICAgCiAgICAgICAgICAgICAgICB2YXIgaHRtbF81MDJmNDNiNjY1ODE0MzVmOGUxNDVjMTEzYjU1YTMyYyA9ICQoJzxkaXYgaWQ9Imh0bWxfNTAyZjQzYjY2NTgxNDM1ZjhlMTQ1YzExM2I1NWEzMmMiIHN0eWxlPSJ3aWR0aDogMTAwLjAlOyBoZWlnaHQ6IDEwMC4wJTsiPkNvbGxlZ2Ugb3IgVW5pdmVyc2l0eTwvZGl2PicpWzBdOwogICAgICAgICAgICAgICAgcG9wdXBfOWNmMWVkNTJjZDliNGU5MmIwNGQ4ZjBlZjIyMDU1NWMuc2V0Q29udGVudChodG1sXzUwMmY0M2I2NjU4MTQzNWY4ZTE0NWMxMTNiNTVhMzJjKTsKICAgICAgICAgICAgCgogICAgICAgICAgICBjaXJjbGVfbWFya2VyX2QyN2RkZjIzNTIyMDRlMWM5MDRhMTBiNzExMGIwOWM4LmJpbmRQb3B1cChwb3B1cF85Y2YxZWQ1MmNkOWI0ZTkyYjA0ZDhmMGVmMjIwNTU1Yyk7CgogICAgICAgICAgICAKICAgICAgICAKICAgIAogICAgICAgICAgICB2YXIgY2lyY2xlX21hcmtlcl9hYjE4ODcxMDI2MzQ0MzY1OTM2Yzc0NjFiZTVkZjUzMCA9IEwuY2lyY2xlTWFya2VyKAogICAgICAgICAgICAgICAgWzE4LjUxOTc2MSw3My44NTkxMzddLAogICAgICAgICAgICAgICAgewogICJidWJibGluZ01vdXNlRXZlbnRzIjogdHJ1ZSwKICAiY29sb3IiOiAiYmx1ZSIsCiAgImRhc2hBcnJheSI6IG51bGwsCiAgImRhc2hPZmZzZXQiOiBudWxsLAogICJmaWxsIjogdHJ1ZSwKICAiZmlsbENvbG9yIjogImJsdWUiLAogICJmaWxsT3BhY2l0eSI6IDAuNiwKICAiZmlsbFJ1bGUiOiAiZXZlbm9kZCIsCiAgImxpbmVDYXAiOiAicm91bmQiLAogICJsaW5lSm9pbiI6ICJyb3VuZCIsCiAgIm9wYWNpdHkiOiAxLjAsCiAgInJhZGl1cyI6IDMsCiAgInN0cm9rZSI6IHRydWUsCiAgIndlaWdodCI6IDMKfQogICAgICAgICAgICAgICAgKS5hZGRUbyhtYXBfZWM4M2QyMTAxNDQwNGE3YTlhZDU0OWZkMDZkMTRiNjkpOwogICAgICAgICAgICAKICAgIAogICAgICAgICAgICB2YXIgcG9wdXBfNDE4OGVmZmQ3YmFmNDU1YTgyNjM0MDk0ZWYyY2UwNjQgPSBMLnBvcHVwKHttYXhXaWR0aDogJzMwMCd9KTsKCiAgICAgICAgICAgIAogICAgICAgICAgICAgICAgdmFyIGh0bWxfYzQxM2RjYWZiYjVhNDIyYzk4NzY5MDc2ZGE2NGZmNmEgPSAkKCc8ZGl2IGlkPSJodG1sX2M0MTNkY2FmYmI1YTQyMmM5ODc2OTA3NmRhNjRmZjZhIiBzdHlsZT0id2lkdGg6IDEwMC4wJTsgaGVpZ2h0OiAxMDAuMCU7Ij5Db2xsZWdlIG9yIFVuaXZlcnNpdHk8L2Rpdj4nKVswXTsKICAgICAgICAgICAgICAgIHBvcHVwXzQxODhlZmZkN2JhZjQ1NWE4MjYzNDA5NGVmMmNlMDY0LnNldENvbnRlbnQoaHRtbF9jNDEzZGNhZmJiNWE0MjJjOTg3NjkwNzZkYTY0ZmY2YSk7CiAgICAgICAgICAgIAoKICAgICAgICAgICAgY2lyY2xlX21hcmtlcl9hYjE4ODcxMDI2MzQ0MzY1OTM2Yzc0NjFiZTVkZjUzMC5iaW5kUG9wdXAocG9wdXBfNDE4OGVmZmQ3YmFmNDU1YTgyNjM0MDk0ZWYyY2UwNjQpOwoKICAgICAgICAgICAgCiAgICAgICAgCiAgICAKICAgICAgICAgICAgdmFyIGNpcmNsZV9tYXJrZXJfN2U4NjQ4ZmE5ZGQ1NDM3NjhiNmRjZWQ4MzcwYmIzYjUgPSBMLmNpcmNsZU1hcmtlcigKICAgICAgICAgICAgICAgIFsxOC41MTgxMDQ1NTMyMjI2NTYsNzMuODU1NTA2ODk2OTcyNjZdLAogICAgICAgICAgICAgICAgewogICJidWJibGluZ01vdXNlRXZlbnRzIjogdHJ1ZSwKICAiY29sb3IiOiAiYmx1ZSIsCiAgImRhc2hBcnJheSI6IG51bGwsCiAgImRhc2hPZmZzZXQiOiBudWxsLAogICJmaWxsIjogdHJ1ZSwKICAiZmlsbENvbG9yIjogImJsdWUiLAogICJmaWxsT3BhY2l0eSI6IDAuNiwKICAiZmlsbFJ1bGUiOiAiZXZlbm9kZCIsCiAgImxpbmVDYXAiOiAicm91bmQiLAogICJsaW5lSm9pbiI6ICJyb3VuZCIsCiAgIm9wYWNpdHkiOiAxLjAsCiAgInJhZGl1cyI6IDMsCiAgInN0cm9rZSI6IHRydWUsCiAgIndlaWdodCI6IDMKfQogICAgICAgICAgICAgICAgKS5hZGRUbyhtYXBfZWM4M2QyMTAxNDQwNGE3YTlhZDU0OWZkMDZkMTRiNjkpOwogICAgICAgICAgICAKICAgIAogICAgICAgICAgICB2YXIgcG9wdXBfN2I5Y2E0NWMwZWYyNGU1MmFkMmZjMTE0N2NjZjNiNGUgPSBMLnBvcHVwKHttYXhXaWR0aDogJzMwMCd9KTsKCiAgICAgICAgICAgIAogICAgICAgICAgICAgICAgdmFyIGh0bWxfZTNjOGIzY2IzNGM4NGZjMzgyOGVhZTA4NzE1YjBlODYgPSAkKCc8ZGl2IGlkPSJodG1sX2UzYzhiM2NiMzRjODRmYzM4MjhlYWUwODcxNWIwZTg2IiBzdHlsZT0id2lkdGg6IDEwMC4wJTsgaGVpZ2h0OiAxMDAuMCU7Ij5Db2xsZWdlIG9yIFVuaXZlcnNpdHk8L2Rpdj4nKVswXTsKICAgICAgICAgICAgICAgIHBvcHVwXzdiOWNhNDVjMGVmMjRlNTJhZDJmYzExNDdjY2YzYjRlLnNldENvbnRlbnQoaHRtbF9lM2M4YjNjYjM0Yzg0ZmMzODI4ZWFlMDg3MTViMGU4Nik7CiAgICAgICAgICAgIAoKICAgICAgICAgICAgY2lyY2xlX21hcmtlcl83ZTg2NDhmYTlkZDU0Mzc2OGI2ZGNlZDgzNzBiYjNiNS5iaW5kUG9wdXAocG9wdXBfN2I5Y2E0NWMwZWYyNGU1MmFkMmZjMTE0N2NjZjNiNGUpOwoKICAgICAgICAgICAgCiAgICAgICAgCiAgICAKICAgICAgICAgICAgdmFyIGNpcmNsZV9tYXJrZXJfNmY2MDM0OWY4ODRhNGJmZmJjZmNhNTU4ZjA5MWMxYzkgPSBMLmNpcmNsZU1hcmtlcigKICAgICAgICAgICAgICAgIFsxOC41MTQ1NDk2MDEzNDc1MjUsNzMuODI5MTUyOTE2MjQ0MzNdLAogICAgICAgICAgICAgICAgewogICJidWJibGluZ01vdXNlRXZlbnRzIjogdHJ1ZSwKICAiY29sb3IiOiAiYmx1ZSIsCiAgImRhc2hBcnJheSI6IG51bGwsCiAgImRhc2hPZmZzZXQiOiBudWxsLAogICJmaWxsIjogdHJ1ZSwKICAiZmlsbENvbG9yIjogImJsdWUiLAogICJmaWxsT3BhY2l0eSI6IDAuNiwKICAiZmlsbFJ1bGUiOiAiZXZlbm9kZCIsCiAgImxpbmVDYXAiOiAicm91bmQiLAogICJsaW5lSm9pbiI6ICJyb3VuZCIsCiAgIm9wYWNpdHkiOiAxLjAsCiAgInJhZGl1cyI6IDMsCiAgInN0cm9rZSI6IHRydWUsCiAgIndlaWdodCI6IDMKfQogICAgICAgICAgICAgICAgKS5hZGRUbyhtYXBfZWM4M2QyMTAxNDQwNGE3YTlhZDU0OWZkMDZkMTRiNjkpOwogICAgICAgICAgICAKICAgIAogICAgICAgICAgICB2YXIgcG9wdXBfOGJhMGQxMmUyN2NjNGM4YWJjMTM1MTlkN2Q5MTljN2UgPSBMLnBvcHVwKHttYXhXaWR0aDogJzMwMCd9KTsKCiAgICAgICAgICAgIAogICAgICAgICAgICAgICAgdmFyIGh0bWxfNmRiNTZmYTE5ZTUyNDk0NThmNTQzMjFlYzlmNTlhN2MgPSAkKCc8ZGl2IGlkPSJodG1sXzZkYjU2ZmExOWU1MjQ5NDU4ZjU0MzIxZWM5ZjU5YTdjIiBzdHlsZT0id2lkdGg6IDEwMC4wJTsgaGVpZ2h0OiAxMDAuMCU7Ij5Db2xsZWdlIG9yIFVuaXZlcnNpdHk8L2Rpdj4nKVswXTsKICAgICAgICAgICAgICAgIHBvcHVwXzhiYTBkMTJlMjdjYzRjOGFiYzEzNTE5ZDdkOTE5YzdlLnNldENvbnRlbnQoaHRtbF82ZGI1NmZhMTllNTI0OTQ1OGY1NDMyMWVjOWY1OWE3Yyk7CiAgICAgICAgICAgIAoKICAgICAgICAgICAgY2lyY2xlX21hcmtlcl82ZjYwMzQ5Zjg4NGE0YmZmYmNmY2E1NThmMDkxYzFjOS5iaW5kUG9wdXAocG9wdXBfOGJhMGQxMmUyN2NjNGM4YWJjMTM1MTlkN2Q5MTljN2UpOwoKICAgICAgICAgICAgCiAgICAgICAgCiAgICAKICAgICAgICAgICAgdmFyIGNpcmNsZV9tYXJrZXJfZjliMWNiZWU2ZDIxNDY3MjgzZWMyY2IyMTlkNmFkNzMgPSBMLmNpcmNsZU1hcmtlcigKICAgICAgICAgICAgICAgIFsxOC41MjkwNTY1NDkwNzIyNjYsNzMuODU3MjIzNTEwNzQyMTldLAogICAgICAgICAgICAgICAgewogICJidWJibGluZ01vdXNlRXZlbnRzIjogdHJ1ZSwKICAiY29sb3IiOiAiYmx1ZSIsCiAgImRhc2hBcnJheSI6IG51bGwsCiAgImRhc2hPZmZzZXQiOiBudWxsLAogICJmaWxsIjogdHJ1ZSwKICAiZmlsbENvbG9yIjogImJsdWUiLAogICJmaWxsT3BhY2l0eSI6IDAuNiwKICAiZmlsbFJ1bGUiOiAiZXZlbm9kZCIsCiAgImxpbmVDYXAiOiAicm91bmQiLAogICJsaW5lSm9pbiI6ICJyb3VuZCIsCiAgIm9wYWNpdHkiOiAxLjAsCiAgInJhZGl1cyI6IDMsCiAgInN0cm9rZSI6IHRydWUsCiAgIndlaWdodCI6IDMKfQogICAgICAgICAgICAgICAgKS5hZGRUbyhtYXBfZWM4M2QyMTAxNDQwNGE3YTlhZDU0OWZkMDZkMTRiNjkpOwogICAgICAgICAgICAKICAgIAogICAgICAgICAgICB2YXIgcG9wdXBfYTVjMzk4N2I1ZjFlNGRmOTgwOTZiMDhjNzVkY2Y3ZTggPSBMLnBvcHVwKHttYXhXaWR0aDogJzMwMCd9KTsKCiAgICAgICAgICAgIAogICAgICAgICAgICAgICAgdmFyIGh0bWxfMTgwZDk3MjdiZTcwNGUyYzhjYjYxNDcwYzhlN2U3ZTYgPSAkKCc8ZGl2IGlkPSJodG1sXzE4MGQ5NzI3YmU3MDRlMmM4Y2I2MTQ3MGM4ZTdlN2U2IiBzdHlsZT0id2lkdGg6IDEwMC4wJTsgaGVpZ2h0OiAxMDAuMCU7Ij5Db2xsZWdlIG9yIFVuaXZlcnNpdHk8L2Rpdj4nKVswXTsKICAgICAgICAgICAgICAgIHBvcHVwX2E1YzM5ODdiNWYxZTRkZjk4MDk2YjA4Yzc1ZGNmN2U4LnNldENvbnRlbnQoaHRtbF8xODBkOTcyN2JlNzA0ZTJjOGNiNjE0NzBjOGU3ZTdlNik7CiAgICAgICAgICAgIAoKICAgICAgICAgICAgY2lyY2xlX21hcmtlcl9mOWIxY2JlZTZkMjE0NjcyODNlYzJjYjIxOWQ2YWQ3My5iaW5kUG9wdXAocG9wdXBfYTVjMzk4N2I1ZjFlNGRmOTgwOTZiMDhjNzVkY2Y3ZTgpOwoKICAgICAgICAgICAgCiAgICAgICAgCiAgICAKICAgICAgICAgICAgdmFyIGNpcmNsZV9tYXJrZXJfYzlmNzE2ZDYwNDQxNDZlNjlkMDgxNTQyY2RmYjA2ZDYgPSBMLmNpcmNsZU1hcmtlcigKICAgICAgICAgICAgICAgIFsxOC41MzI1MjQwNjc1NTA2Niw3My44Nzk5ODI5Njc2NTY3XSwKICAgICAgICAgICAgICAgIHsKICAiYnViYmxpbmdNb3VzZUV2ZW50cyI6IHRydWUsCiAgImNvbG9yIjogImJsdWUiLAogICJkYXNoQXJyYXkiOiBudWxsLAogICJkYXNoT2Zmc2V0IjogbnVsbCwKICAiZmlsbCI6IHRydWUsCiAgImZpbGxDb2xvciI6ICJibHVlIiwKICAiZmlsbE9wYWNpdHkiOiAwLjYsCiAgImZpbGxSdWxlIjogImV2ZW5vZGQiLAogICJsaW5lQ2FwIjogInJvdW5kIiwKICAibGluZUpvaW4iOiAicm91bmQiLAogICJvcGFjaXR5IjogMS4wLAogICJyYWRpdXMiOiAzLAogICJzdHJva2UiOiB0cnVlLAogICJ3ZWlnaHQiOiAzCn0KICAgICAgICAgICAgICAgICkuYWRkVG8obWFwX2VjODNkMjEwMTQ0MDRhN2E5YWQ1NDlmZDA2ZDE0YjY5KTsKICAgICAgICAgICAgCiAgICAKICAgICAgICAgICAgdmFyIHBvcHVwXzA4YmY4OTZhMjY5NzQ4ZGE5NmVhNzllODM5MDFiMTZjID0gTC5wb3B1cCh7bWF4V2lkdGg6ICczMDAnfSk7CgogICAgICAgICAgICAKICAgICAgICAgICAgICAgIHZhciBodG1sXzU2ZDFjZDZiYThiZDRlODQ4MjI0NjY0MjEyMWM4NDZiID0gJCgnPGRpdiBpZD0iaHRtbF81NmQxY2Q2YmE4YmQ0ZTg0ODIyNDY2NDIxMjFjODQ2YiIgc3R5bGU9IndpZHRoOiAxMDAuMCU7IGhlaWdodDogMTAwLjAlOyI+Q29sbGVnZSBvciBVbml2ZXJzaXR5PC9kaXY+JylbMF07CiAgICAgICAgICAgICAgICBwb3B1cF8wOGJmODk2YTI2OTc0OGRhOTZlYTc5ZTgzOTAxYjE2Yy5zZXRDb250ZW50KGh0bWxfNTZkMWNkNmJhOGJkNGU4NDgyMjQ2NjQyMTIxYzg0NmIpOwogICAgICAgICAgICAKCiAgICAgICAgICAgIGNpcmNsZV9tYXJrZXJfYzlmNzE2ZDYwNDQxNDZlNjlkMDgxNTQyY2RmYjA2ZDYuYmluZFBvcHVwKHBvcHVwXzA4YmY4OTZhMjY5NzQ4ZGE5NmVhNzllODM5MDFiMTZjKTsKCiAgICAgICAgICAgIAogICAgICAgIAogICAgCiAgICAgICAgICAgIHZhciBjaXJjbGVfbWFya2VyXzNmMmFlMzkzZjdiNTRmY2U5ZGJmZTYyYzk5M2IwNWE3ID0gTC5jaXJjbGVNYXJrZXIoCiAgICAgICAgICAgICAgICBbMTguNTE2OTk5Nzc5NjM3NTcsNzMuODUzNTMzMzIyNTMzOThdLAogICAgICAgICAgICAgICAgewogICJidWJibGluZ01vdXNlRXZlbnRzIjogdHJ1ZSwKICAiY29sb3IiOiAiYmx1ZSIsCiAgImRhc2hBcnJheSI6IG51bGwsCiAgImRhc2hPZmZzZXQiOiBudWxsLAogICJmaWxsIjogdHJ1ZSwKICAiZmlsbENvbG9yIjogImJsdWUiLAogICJmaWxsT3BhY2l0eSI6IDAuNiwKICAiZmlsbFJ1bGUiOiAiZXZlbm9kZCIsCiAgImxpbmVDYXAiOiAicm91bmQiLAogICJsaW5lSm9pbiI6ICJyb3VuZCIsCiAgIm9wYWNpdHkiOiAxLjAsCiAgInJhZGl1cyI6IDMsCiAgInN0cm9rZSI6IHRydWUsCiAgIndlaWdodCI6IDMKfQogICAgICAgICAgICAgICAgKS5hZGRUbyhtYXBfZWM4M2QyMTAxNDQwNGE3YTlhZDU0OWZkMDZkMTRiNjkpOwogICAgICAgICAgICAKICAgIAogICAgICAgICAgICB2YXIgcG9wdXBfZTExN2U0YzQ5NzQwNGYwZWJiYmM5NjBjMjdkMTFmZTYgPSBMLnBvcHVwKHttYXhXaWR0aDogJzMwMCd9KTsKCiAgICAgICAgICAgIAogICAgICAgICAgICAgICAgdmFyIGh0bWxfYmQwODk0MjdhZTJlNDYxMmI0M2QyMmJjNzQwYTc0ZTUgPSAkKCc8ZGl2IGlkPSJodG1sX2JkMDg5NDI3YWUyZTQ2MTJiNDNkMjJiYzc0MGE3NGU1IiBzdHlsZT0id2lkdGg6IDEwMC4wJTsgaGVpZ2h0OiAxMDAuMCU7Ij5Db2xsZWdlIG9yIFVuaXZlcnNpdHk8L2Rpdj4nKVswXTsKICAgICAgICAgICAgICAgIHBvcHVwX2UxMTdlNGM0OTc0MDRmMGViYmJjOTYwYzI3ZDExZmU2LnNldENvbnRlbnQoaHRtbF9iZDA4OTQyN2FlMmU0NjEyYjQzZDIyYmM3NDBhNzRlNSk7CiAgICAgICAgICAgIAoKICAgICAgICAgICAgY2lyY2xlX21hcmtlcl8zZjJhZTM5M2Y3YjU0ZmNlOWRiZmU2MmM5OTNiMDVhNy5iaW5kUG9wdXAocG9wdXBfZTExN2U0YzQ5NzQwNGYwZWJiYmM5NjBjMjdkMTFmZTYpOwoKICAgICAgICAgICAgCiAgICAgICAgCiAgICAKICAgICAgICAgICAgdmFyIGNpcmNsZV9tYXJrZXJfYzNlMzBlNTZmMzY2NDZlY2I5M2Y5ODY2ZWE4ZmFiNWMgPSBMLmNpcmNsZU1hcmtlcigKICAgICAgICAgICAgICAgIFsxOC41Mjk3MTc2NTczODkxLDczLjg1NTk4NTU1NDU4OTkyXSwKICAgICAgICAgICAgICAgIHsKICAiYnViYmxpbmdNb3VzZUV2ZW50cyI6IHRydWUsCiAgImNvbG9yIjogImJsdWUiLAogICJkYXNoQXJyYXkiOiBudWxsLAogICJkYXNoT2Zmc2V0IjogbnVsbCwKICAiZmlsbCI6IHRydWUsCiAgImZpbGxDb2xvciI6ICJibHVlIiwKICAiZmlsbE9wYWNpdHkiOiAwLjYsCiAgImZpbGxSdWxlIjogImV2ZW5vZGQiLAogICJsaW5lQ2FwIjogInJvdW5kIiwKICAibGluZUpvaW4iOiAicm91bmQiLAogICJvcGFjaXR5IjogMS4wLAogICJyYWRpdXMiOiAzLAogICJzdHJva2UiOiB0cnVlLAogICJ3ZWlnaHQiOiAzCn0KICAgICAgICAgICAgICAgICkuYWRkVG8obWFwX2VjODNkMjEwMTQ0MDRhN2E5YWQ1NDlmZDA2ZDE0YjY5KTsKICAgICAgICAgICAgCiAgICAKICAgICAgICAgICAgdmFyIHBvcHVwXzZmN2Y3N2UwZWM2NjRlNzViNTFhMGZkMmYxNjJmOWZlID0gTC5wb3B1cCh7bWF4V2lkdGg6ICczMDAnfSk7CgogICAgICAgICAgICAKICAgICAgICAgICAgICAgIHZhciBodG1sX2ZlOTliYjg0ZWQ1ZTRhMTg5Y2ViMWI5OWIzZTdlYTlkID0gJCgnPGRpdiBpZD0iaHRtbF9mZTk5YmI4NGVkNWU0YTE4OWNlYjFiOTliM2U3ZWE5ZCIgc3R5bGU9IndpZHRoOiAxMDAuMCU7IGhlaWdodDogMTAwLjAlOyI+Q29sbGVnZSBvciBVbml2ZXJzaXR5PC9kaXY+JylbMF07CiAgICAgICAgICAgICAgICBwb3B1cF82ZjdmNzdlMGVjNjY0ZTc1YjUxYTBmZDJmMTYyZjlmZS5zZXRDb250ZW50KGh0bWxfZmU5OWJiODRlZDVlNGExODljZWIxYjk5YjNlN2VhOWQpOwogICAgICAgICAgICAKCiAgICAgICAgICAgIGNpcmNsZV9tYXJrZXJfYzNlMzBlNTZmMzY2NDZlY2I5M2Y5ODY2ZWE4ZmFiNWMuYmluZFBvcHVwKHBvcHVwXzZmN2Y3N2UwZWM2NjRlNzViNTFhMGZkMmYxNjJmOWZlKTsKCiAgICAgICAgICAgIAogICAgICAgIAogICAgCiAgICAgICAgICAgIHZhciBjaXJjbGVfbWFya2VyX2ZlMDljM2U3NGNkODRiNWU4MjY1NDZiZGQ0MDRhN2NhID0gTC5jaXJjbGVNYXJrZXIoCiAgICAgICAgICAgICAgICBbMTguNTMxMDQ4MTM1NjMyNDY0LDczLjg1OTM1NjYwNTkxODddLAogICAgICAgICAgICAgICAgewogICJidWJibGluZ01vdXNlRXZlbnRzIjogdHJ1ZSwKICAiY29sb3IiOiAiYmx1ZSIsCiAgImRhc2hBcnJheSI6IG51bGwsCiAgImRhc2hPZmZzZXQiOiBudWxsLAogICJmaWxsIjogdHJ1ZSwKICAiZmlsbENvbG9yIjogImJsdWUiLAogICJmaWxsT3BhY2l0eSI6IDAuNiwKICAiZmlsbFJ1bGUiOiAiZXZlbm9kZCIsCiAgImxpbmVDYXAiOiAicm91bmQiLAogICJsaW5lSm9pbiI6ICJyb3VuZCIsCiAgIm9wYWNpdHkiOiAxLjAsCiAgInJhZGl1cyI6IDMsCiAgInN0cm9rZSI6IHRydWUsCiAgIndlaWdodCI6IDMKfQogICAgICAgICAgICAgICAgKS5hZGRUbyhtYXBfZWM4M2QyMTAxNDQwNGE3YTlhZDU0OWZkMDZkMTRiNjkpOwogICAgICAgICAgICAKICAgIAogICAgICAgICAgICB2YXIgcG9wdXBfZWE2ZTBmZmE4MjQ2NGVkNmEwZWQ1MjQ5Y2MxZjY2NDYgPSBMLnBvcHVwKHttYXhXaWR0aDogJzMwMCd9KTsKCiAgICAgICAgICAgIAogICAgICAgICAgICAgICAgdmFyIGh0bWxfYjE1YWQwZDQ2ZDhlNDA3ZThiODcwMTdlYjY0M2RiZGIgPSAkKCc8ZGl2IGlkPSJodG1sX2IxNWFkMGQ0NmQ4ZTQwN2U4Yjg3MDE3ZWI2NDNkYmRiIiBzdHlsZT0id2lkdGg6IDEwMC4wJTsgaGVpZ2h0OiAxMDAuMCU7Ij5Db2xsZWdlIG9yIFVuaXZlcnNpdHk8L2Rpdj4nKVswXTsKICAgICAgICAgICAgICAgIHBvcHVwX2VhNmUwZmZhODI0NjRlZDZhMGVkNTI0OWNjMWY2NjQ2LnNldENvbnRlbnQoaHRtbF9iMTVhZDBkNDZkOGU0MDdlOGI4NzAxN2ViNjQzZGJkYik7CiAgICAgICAgICAgIAoKICAgICAgICAgICAgY2lyY2xlX21hcmtlcl9mZTA5YzNlNzRjZDg0YjVlODI2NTQ2YmRkNDA0YTdjYS5iaW5kUG9wdXAocG9wdXBfZWE2ZTBmZmE4MjQ2NGVkNmEwZWQ1MjQ5Y2MxZjY2NDYpOwoKICAgICAgICAgICAgCiAgICAgICAgCiAgICAKICAgICAgICAgICAgdmFyIGNpcmNsZV9tYXJrZXJfNjRmYzFjOWE3ZmM3NGU5MDljN2Y1ZmRmNWQyY2JiMTcgPSBMLmNpcmNsZU1hcmtlcigKICAgICAgICAgICAgICAgIFsxOC41MjE0NjM3Nzc4Njk5LDczLjg0NzkwMzQ0MTYzNzhdLAogICAgICAgICAgICAgICAgewogICJidWJibGluZ01vdXNlRXZlbnRzIjogdHJ1ZSwKICAiY29sb3IiOiAiYmx1ZSIsCiAgImRhc2hBcnJheSI6IG51bGwsCiAgImRhc2hPZmZzZXQiOiBudWxsLAogICJmaWxsIjogdHJ1ZSwKICAiZmlsbENvbG9yIjogImJsdWUiLAogICJmaWxsT3BhY2l0eSI6IDAuNiwKICAiZmlsbFJ1bGUiOiAiZXZlbm9kZCIsCiAgImxpbmVDYXAiOiAicm91bmQiLAogICJsaW5lSm9pbiI6ICJyb3VuZCIsCiAgIm9wYWNpdHkiOiAxLjAsCiAgInJhZGl1cyI6IDMsCiAgInN0cm9rZSI6IHRydWUsCiAgIndlaWdodCI6IDMKfQogICAgICAgICAgICAgICAgKS5hZGRUbyhtYXBfZWM4M2QyMTAxNDQwNGE3YTlhZDU0OWZkMDZkMTRiNjkpOwogICAgICAgICAgICAKICAgIAogICAgICAgICAgICB2YXIgcG9wdXBfNTU0ZGMwZWVlM2MyNDAxZThmZWE1MTg0MDU5OTVjYTEgPSBMLnBvcHVwKHttYXhXaWR0aDogJzMwMCd9KTsKCiAgICAgICAgICAgIAogICAgICAgICAgICAgICAgdmFyIGh0bWxfYWI3ZGUzYjNkODRhNDkzZThlMjI1MmU4Y2UwNDc5MGQgPSAkKCc8ZGl2IGlkPSJodG1sX2FiN2RlM2IzZDg0YTQ5M2U4ZTIyNTJlOGNlMDQ3OTBkIiBzdHlsZT0id2lkdGg6IDEwMC4wJTsgaGVpZ2h0OiAxMDAuMCU7Ij5Db2xsZWdlIG9yIFVuaXZlcnNpdHk8L2Rpdj4nKVswXTsKICAgICAgICAgICAgICAgIHBvcHVwXzU1NGRjMGVlZTNjMjQwMWU4ZmVhNTE4NDA1OTk1Y2ExLnNldENvbnRlbnQoaHRtbF9hYjdkZTNiM2Q4NGE0OTNlOGUyMjUyZThjZTA0NzkwZCk7CiAgICAgICAgICAgIAoKICAgICAgICAgICAgY2lyY2xlX21hcmtlcl82NGZjMWM5YTdmYzc0ZTkwOWM3ZjVmZGY1ZDJjYmIxNy5iaW5kUG9wdXAocG9wdXBfNTU0ZGMwZWVlM2MyNDAxZThmZWE1MTg0MDU5OTVjYTEpOwoKICAgICAgICAgICAgCiAgICAgICAgCiAgICAKICAgICAgICAgICAgdmFyIGNpcmNsZV9tYXJrZXJfYWNhY2JmODkyMzYzNGNmN2JkMWNhZGZkYTIzZTJiYzcgPSBMLmNpcmNsZU1hcmtlcigKICAgICAgICAgICAgICAgIFsxOC41MDc1NzkyMDI2MDkzNjQsNzMuODI4MDg0NTg5MzMyNDVdLAogICAgICAgICAgICAgICAgewogICJidWJibGluZ01vdXNlRXZlbnRzIjogdHJ1ZSwKICAiY29sb3IiOiAiYmx1ZSIsCiAgImRhc2hBcnJheSI6IG51bGwsCiAgImRhc2hPZmZzZXQiOiBudWxsLAogICJmaWxsIjogdHJ1ZSwKICAiZmlsbENvbG9yIjogImJsdWUiLAogICJmaWxsT3BhY2l0eSI6IDAuNiwKICAiZmlsbFJ1bGUiOiAiZXZlbm9kZCIsCiAgImxpbmVDYXAiOiAicm91bmQiLAogICJsaW5lSm9pbiI6ICJyb3VuZCIsCiAgIm9wYWNpdHkiOiAxLjAsCiAgInJhZGl1cyI6IDMsCiAgInN0cm9rZSI6IHRydWUsCiAgIndlaWdodCI6IDMKfQogICAgICAgICAgICAgICAgKS5hZGRUbyhtYXBfZWM4M2QyMTAxNDQwNGE3YTlhZDU0OWZkMDZkMTRiNjkpOwogICAgICAgICAgICAKICAgIAogICAgICAgICAgICB2YXIgcG9wdXBfOWI4MWYzZjRmNjYzNDc4MGI4ZGY1OTY5ZWZjOTNjMGIgPSBMLnBvcHVwKHttYXhXaWR0aDogJzMwMCd9KTsKCiAgICAgICAgICAgIAogICAgICAgICAgICAgICAgdmFyIGh0bWxfOWU0MzA4ZGJiODViNGFiZjlkZTVhYTFjMjYwNzYxNjIgPSAkKCc8ZGl2IGlkPSJodG1sXzllNDMwOGRiYjg1YjRhYmY5ZGU1YWExYzI2MDc2MTYyIiBzdHlsZT0id2lkdGg6IDEwMC4wJTsgaGVpZ2h0OiAxMDAuMCU7Ij5Db2xsZWdlIG9yIFVuaXZlcnNpdHk8L2Rpdj4nKVswXTsKICAgICAgICAgICAgICAgIHBvcHVwXzliODFmM2Y0ZjY2MzQ3ODBiOGRmNTk2OWVmYzkzYzBiLnNldENvbnRlbnQoaHRtbF85ZTQzMDhkYmI4NWI0YWJmOWRlNWFhMWMyNjA3NjE2Mik7CiAgICAgICAgICAgIAoKICAgICAgICAgICAgY2lyY2xlX21hcmtlcl9hY2FjYmY4OTIzNjM0Y2Y3YmQxY2FkZmRhMjNlMmJjNy5iaW5kUG9wdXAocG9wdXBfOWI4MWYzZjRmNjYzNDc4MGI4ZGY1OTY5ZWZjOTNjMGIpOwoKICAgICAgICAgICAgCiAgICAgICAgCiAgICAKICAgICAgICAgICAgdmFyIGNpcmNsZV9tYXJrZXJfOGI3YzUzYjQ5NDZmNDY4Y2FkZTI1NGVlZTI1OTViYmUgPSBMLmNpcmNsZU1hcmtlcigKICAgICAgICAgICAgICAgIFsxOC41MjgyMDg5MTQ2OTA5OTMsNzMuODUyNDU5Mzg0NTkxNV0sCiAgICAgICAgICAgICAgICB7CiAgImJ1YmJsaW5nTW91c2VFdmVudHMiOiB0cnVlLAogICJjb2xvciI6ICJibHVlIiwKICAiZGFzaEFycmF5IjogbnVsbCwKICAiZGFzaE9mZnNldCI6IG51bGwsCiAgImZpbGwiOiB0cnVlLAogICJmaWxsQ29sb3IiOiAiYmx1ZSIsCiAgImZpbGxPcGFjaXR5IjogMC42LAogICJmaWxsUnVsZSI6ICJldmVub2RkIiwKICAibGluZUNhcCI6ICJyb3VuZCIsCiAgImxpbmVKb2luIjogInJvdW5kIiwKICAib3BhY2l0eSI6IDEuMCwKICAicmFkaXVzIjogMywKICAic3Ryb2tlIjogdHJ1ZSwKICAid2VpZ2h0IjogMwp9CiAgICAgICAgICAgICAgICApLmFkZFRvKG1hcF9lYzgzZDIxMDE0NDA0YTdhOWFkNTQ5ZmQwNmQxNGI2OSk7CiAgICAgICAgICAgIAogICAgCiAgICAgICAgICAgIHZhciBwb3B1cF81N2QxMzUyYWQ0YTU0MjhmOWU4OWIyMTM2M2RmZTc4MSA9IEwucG9wdXAoe21heFdpZHRoOiAnMzAwJ30pOwoKICAgICAgICAgICAgCiAgICAgICAgICAgICAgICB2YXIgaHRtbF81NmFhYjVlYTAzODA0ZDc2YTEwYmM1ODY3Yzk2YjQ3OCA9ICQoJzxkaXYgaWQ9Imh0bWxfNTZhYWI1ZWEwMzgwNGQ3NmExMGJjNTg2N2M5NmI0NzgiIHN0eWxlPSJ3aWR0aDogMTAwLjAlOyBoZWlnaHQ6IDEwMC4wJTsiPkNvbGxlZ2Ugb3IgVW5pdmVyc2l0eTwvZGl2PicpWzBdOwogICAgICAgICAgICAgICAgcG9wdXBfNTdkMTM1MmFkNGE1NDI4ZjllODliMjEzNjNkZmU3ODEuc2V0Q29udGVudChodG1sXzU2YWFiNWVhMDM4MDRkNzZhMTBiYzU4NjdjOTZiNDc4KTsKICAgICAgICAgICAgCgogICAgICAgICAgICBjaXJjbGVfbWFya2VyXzhiN2M1M2I0OTQ2ZjQ2OGNhZGUyNTRlZWUyNTk1YmJlLmJpbmRQb3B1cChwb3B1cF81N2QxMzUyYWQ0YTU0MjhmOWU4OWIyMTM2M2RmZTc4MSk7CgogICAgICAgICAgICAKICAgICAgICAKICAgIAogICAgICAgICAgICB2YXIgY2lyY2xlX21hcmtlcl83M2M5N2M0NDZjMWE0OWIxYTY3Mzk1Nzg4ZmQ3YmMxNiA9IEwuY2lyY2xlTWFya2VyKAogICAgICAgICAgICAgICAgWzE4LjUyNTc0MzQ5NTY1OTk1Miw3My44NjEzNjA4MzIyMTYyXSwKICAgICAgICAgICAgICAgIHsKICAiYnViYmxpbmdNb3VzZUV2ZW50cyI6IHRydWUsCiAgImNvbG9yIjogImJsdWUiLAogICJkYXNoQXJyYXkiOiBudWxsLAogICJkYXNoT2Zmc2V0IjogbnVsbCwKICAiZmlsbCI6IHRydWUsCiAgImZpbGxDb2xvciI6ICJibHVlIiwKICAiZmlsbE9wYWNpdHkiOiAwLjYsCiAgImZpbGxSdWxlIjogImV2ZW5vZGQiLAogICJsaW5lQ2FwIjogInJvdW5kIiwKICAibGluZUpvaW4iOiAicm91bmQiLAogICJvcGFjaXR5IjogMS4wLAogICJyYWRpdXMiOiAzLAogICJzdHJva2UiOiB0cnVlLAogICJ3ZWlnaHQiOiAzCn0KICAgICAgICAgICAgICAgICkuYWRkVG8obWFwX2VjODNkMjEwMTQ0MDRhN2E5YWQ1NDlmZDA2ZDE0YjY5KTsKICAgICAgICAgICAgCiAgICAKICAgICAgICAgICAgdmFyIHBvcHVwXzQyZGUxMzE3MDY2ODRmNGE4ZTE2ZWQ5ZTg3YTFiNzJhID0gTC5wb3B1cCh7bWF4V2lkdGg6ICczMDAnfSk7CgogICAgICAgICAgICAKICAgICAgICAgICAgICAgIHZhciBodG1sX2JmODU3Y2Q0NWEwMDQ1MGU4MWJkNmQxM2QxYzRkMDUzID0gJCgnPGRpdiBpZD0iaHRtbF9iZjg1N2NkNDVhMDA0NTBlODFiZDZkMTNkMWM0ZDA1MyIgc3R5bGU9IndpZHRoOiAxMDAuMCU7IGhlaWdodDogMTAwLjAlOyI+Q29sbGVnZSBvciBVbml2ZXJzaXR5PC9kaXY+JylbMF07CiAgICAgICAgICAgICAgICBwb3B1cF80MmRlMTMxNzA2Njg0ZjRhOGUxNmVkOWU4N2ExYjcyYS5zZXRDb250ZW50KGh0bWxfYmY4NTdjZDQ1YTAwNDUwZTgxYmQ2ZDEzZDFjNGQwNTMpOwogICAgICAgICAgICAKCiAgICAgICAgICAgIGNpcmNsZV9tYXJrZXJfNzNjOTdjNDQ2YzFhNDliMWE2NzM5NTc4OGZkN2JjMTYuYmluZFBvcHVwKHBvcHVwXzQyZGUxMzE3MDY2ODRmNGE4ZTE2ZWQ5ZTg3YTFiNzJhKTsKCiAgICAgICAgICAgIAogICAgICAgIAogICAgCiAgICAgICAgICAgIHZhciBjaXJjbGVfbWFya2VyX2ZiYTYyNTdhY2Q4NzRkNTk5MWIxZGVlN2Q0MDE4NGY2ID0gTC5jaXJjbGVNYXJrZXIoCiAgICAgICAgICAgICAgICBbMTguNTE5Mjk4NjIyMjE5MjM1LDczLjg2MzA4MzY0NjUxMzE4XSwKICAgICAgICAgICAgICAgIHsKICAiYnViYmxpbmdNb3VzZUV2ZW50cyI6IHRydWUsCiAgImNvbG9yIjogImJsdWUiLAogICJkYXNoQXJyYXkiOiBudWxsLAogICJkYXNoT2Zmc2V0IjogbnVsbCwKICAiZmlsbCI6IHRydWUsCiAgImZpbGxDb2xvciI6ICJibHVlIiwKICAiZmlsbE9wYWNpdHkiOiAwLjYsCiAgImZpbGxSdWxlIjogImV2ZW5vZGQiLAogICJsaW5lQ2FwIjogInJvdW5kIiwKICAibGluZUpvaW4iOiAicm91bmQiLAogICJvcGFjaXR5IjogMS4wLAogICJyYWRpdXMiOiAzLAogICJzdHJva2UiOiB0cnVlLAogICJ3ZWlnaHQiOiAzCn0KICAgICAgICAgICAgICAgICkuYWRkVG8obWFwX2VjODNkMjEwMTQ0MDRhN2E5YWQ1NDlmZDA2ZDE0YjY5KTsKICAgICAgICAgICAgCiAgICAKICAgICAgICAgICAgdmFyIHBvcHVwX2M0MjZlYTQ2NzJkNDQ0YTQ4YWM0NmZiZDYxMjBlZGM3ID0gTC5wb3B1cCh7bWF4V2lkdGg6ICczMDAnfSk7CgogICAgICAgICAgICAKICAgICAgICAgICAgICAgIHZhciBodG1sXzBkNTY0ODA2NzExNjQ2YTM5NDczNzI5ZTAyM2I0YmIyID0gJCgnPGRpdiBpZD0iaHRtbF8wZDU2NDgwNjcxMTY0NmEzOTQ3MzcyOWUwMjNiNGJiMiIgc3R5bGU9IndpZHRoOiAxMDAuMCU7IGhlaWdodDogMTAwLjAlOyI+Q29sbGVnZSBvciBVbml2ZXJzaXR5PC9kaXY+JylbMF07CiAgICAgICAgICAgICAgICBwb3B1cF9jNDI2ZWE0NjcyZDQ0NGE0OGFjNDZmYmQ2MTIwZWRjNy5zZXRDb250ZW50KGh0bWxfMGQ1NjQ4MDY3MTE2NDZhMzk0NzM3MjllMDIzYjRiYjIpOwogICAgICAgICAgICAKCiAgICAgICAgICAgIGNpcmNsZV9tYXJrZXJfZmJhNjI1N2FjZDg3NGQ1OTkxYjFkZWU3ZDQwMTg0ZjYuYmluZFBvcHVwKHBvcHVwX2M0MjZlYTQ2NzJkNDQ0YTQ4YWM0NmZiZDYxMjBlZGM3KTsKCiAgICAgICAgICAgIAogICAgICAgIAogICAgCiAgICAgICAgICAgIHZhciBjaXJjbGVfbWFya2VyXzNlMDgxNGI5YTQ4NzQzZTM5NjQ4N2EwYTIyNDkxMWEwID0gTC5jaXJjbGVNYXJrZXIoCiAgICAgICAgICAgICAgICBbMTguNTI5OTUyNTQ4MTM1NTgzLDczLjg1NDg3MTQyOTUyNzI0XSwKICAgICAgICAgICAgICAgIHsKICAiYnViYmxpbmdNb3VzZUV2ZW50cyI6IHRydWUsCiAgImNvbG9yIjogImJsdWUiLAogICJkYXNoQXJyYXkiOiBudWxsLAogICJkYXNoT2Zmc2V0IjogbnVsbCwKICAiZmlsbCI6IHRydWUsCiAgImZpbGxDb2xvciI6ICJibHVlIiwKICAiZmlsbE9wYWNpdHkiOiAwLjYsCiAgImZpbGxSdWxlIjogImV2ZW5vZGQiLAogICJsaW5lQ2FwIjogInJvdW5kIiwKICAibGluZUpvaW4iOiAicm91bmQiLAogICJvcGFjaXR5IjogMS4wLAogICJyYWRpdXMiOiAzLAogICJzdHJva2UiOiB0cnVlLAogICJ3ZWlnaHQiOiAzCn0KICAgICAgICAgICAgICAgICkuYWRkVG8obWFwX2VjODNkMjEwMTQ0MDRhN2E5YWQ1NDlmZDA2ZDE0YjY5KTsKICAgICAgICAgICAgCiAgICAKICAgICAgICAgICAgdmFyIHBvcHVwXzBmNmFmZTM3NjllMDQ1MDViMDZmYjM1MGY1YTBmNDkzID0gTC5wb3B1cCh7bWF4V2lkdGg6ICczMDAnfSk7CgogICAgICAgICAgICAKICAgICAgICAgICAgICAgIHZhciBodG1sXzc5MDJmZjg3MzYxNjQxNTZhMzJlZmMwOGM4N2Q2ZDMxID0gJCgnPGRpdiBpZD0iaHRtbF83OTAyZmY4NzM2MTY0MTU2YTMyZWZjMDhjODdkNmQzMSIgc3R5bGU9IndpZHRoOiAxMDAuMCU7IGhlaWdodDogMTAwLjAlOyI+Q29sbGVnZSBvciBVbml2ZXJzaXR5PC9kaXY+JylbMF07CiAgICAgICAgICAgICAgICBwb3B1cF8wZjZhZmUzNzY5ZTA0NTA1YjA2ZmIzNTBmNWEwZjQ5My5zZXRDb250ZW50KGh0bWxfNzkwMmZmODczNjE2NDE1NmEzMmVmYzA4Yzg3ZDZkMzEpOwogICAgICAgICAgICAKCiAgICAgICAgICAgIGNpcmNsZV9tYXJrZXJfM2UwODE0YjlhNDg3NDNlMzk2NDg3YTBhMjI0OTExYTAuYmluZFBvcHVwKHBvcHVwXzBmNmFmZTM3NjllMDQ1MDViMDZmYjM1MGY1YTBmNDkzKTsKCiAgICAgICAgICAgIAogICAgICAgIAogICAgCiAgICAgICAgICAgIHZhciBjaXJjbGVfbWFya2VyX2NkODM0MTFkNTZhNjQ3YjhhNjhlNDU1MGY1ODY4YmFlID0gTC5jaXJjbGVNYXJrZXIoCiAgICAgICAgICAgICAgICBbMTguNTEyNDk4NjUxNTQ2Nzg1LDczLjgzODk0NTY0MzkyMDQzXSwKICAgICAgICAgICAgICAgIHsKICAiYnViYmxpbmdNb3VzZUV2ZW50cyI6IHRydWUsCiAgImNvbG9yIjogImJsdWUiLAogICJkYXNoQXJyYXkiOiBudWxsLAogICJkYXNoT2Zmc2V0IjogbnVsbCwKICAiZmlsbCI6IHRydWUsCiAgImZpbGxDb2xvciI6ICJibHVlIiwKICAiZmlsbE9wYWNpdHkiOiAwLjYsCiAgImZpbGxSdWxlIjogImV2ZW5vZGQiLAogICJsaW5lQ2FwIjogInJvdW5kIiwKICAibGluZUpvaW4iOiAicm91bmQiLAogICJvcGFjaXR5IjogMS4wLAogICJyYWRpdXMiOiAzLAogICJzdHJva2UiOiB0cnVlLAogICJ3ZWlnaHQiOiAzCn0KICAgICAgICAgICAgICAgICkuYWRkVG8obWFwX2VjODNkMjEwMTQ0MDRhN2E5YWQ1NDlmZDA2ZDE0YjY5KTsKICAgICAgICAgICAgCiAgICAKICAgICAgICAgICAgdmFyIHBvcHVwXzNiMTZhNGE1M2NlNzQ4NDBhZDc0MDYwYTM3YzNhNmY1ID0gTC5wb3B1cCh7bWF4V2lkdGg6ICczMDAnfSk7CgogICAgICAgICAgICAKICAgICAgICAgICAgICAgIHZhciBodG1sXzNmMzAwYjk2NmI0ODQ0NWZhZmJmNDAwYWZkYmQyOGZiID0gJCgnPGRpdiBpZD0iaHRtbF8zZjMwMGI5NjZiNDg0NDVmYWZiZjQwMGFmZGJkMjhmYiIgc3R5bGU9IndpZHRoOiAxMDAuMCU7IGhlaWdodDogMTAwLjAlOyI+Q29sbGVnZSBvciBVbml2ZXJzaXR5PC9kaXY+JylbMF07CiAgICAgICAgICAgICAgICBwb3B1cF8zYjE2YTRhNTNjZTc0ODQwYWQ3NDA2MGEzN2MzYTZmNS5zZXRDb250ZW50KGh0bWxfM2YzMDBiOTY2YjQ4NDQ1ZmFmYmY0MDBhZmRiZDI4ZmIpOwogICAgICAgICAgICAKCiAgICAgICAgICAgIGNpcmNsZV9tYXJrZXJfY2Q4MzQxMWQ1NmE2NDdiOGE2OGU0NTUwZjU4NjhiYWUuYmluZFBvcHVwKHBvcHVwXzNiMTZhNGE1M2NlNzQ4NDBhZDc0MDYwYTM3YzNhNmY1KTsKCiAgICAgICAgICAgIAogICAgICAgIAogICAgCiAgICAgICAgICAgIHZhciBjaXJjbGVfbWFya2VyX2E3ZjkxOTU3ZmFiNzQ2ZjRiNGYyZjViZWY5YjA2YjBmID0gTC5jaXJjbGVNYXJrZXIoCiAgICAgICAgICAgICAgICBbMTguNTIxMzI0MTU3NzE0ODQ0LDczLjg2NDk1OTcxNjc5Njg4XSwKICAgICAgICAgICAgICAgIHsKICAiYnViYmxpbmdNb3VzZUV2ZW50cyI6IHRydWUsCiAgImNvbG9yIjogImJsdWUiLAogICJkYXNoQXJyYXkiOiBudWxsLAogICJkYXNoT2Zmc2V0IjogbnVsbCwKICAiZmlsbCI6IHRydWUsCiAgImZpbGxDb2xvciI6ICJibHVlIiwKICAiZmlsbE9wYWNpdHkiOiAwLjYsCiAgImZpbGxSdWxlIjogImV2ZW5vZGQiLAogICJsaW5lQ2FwIjogInJvdW5kIiwKICAibGluZUpvaW4iOiAicm91bmQiLAogICJvcGFjaXR5IjogMS4wLAogICJyYWRpdXMiOiAzLAogICJzdHJva2UiOiB0cnVlLAogICJ3ZWlnaHQiOiAzCn0KICAgICAgICAgICAgICAgICkuYWRkVG8obWFwX2VjODNkMjEwMTQ0MDRhN2E5YWQ1NDlmZDA2ZDE0YjY5KTsKICAgICAgICAgICAgCiAgICAKICAgICAgICAgICAgdmFyIHBvcHVwX2FlMmM0YWNmZWVlNzQ1Mjc5NGYzNTQ4NGI4YzgyNTVlID0gTC5wb3B1cCh7bWF4V2lkdGg6ICczMDAnfSk7CgogICAgICAgICAgICAKICAgICAgICAgICAgICAgIHZhciBodG1sXzUxMzBmODMyNWMwZjRmYWI4NjQyNDAyZjNjOGIzZDE0ID0gJCgnPGRpdiBpZD0iaHRtbF81MTMwZjgzMjVjMGY0ZmFiODY0MjQwMmYzYzhiM2QxNCIgc3R5bGU9IndpZHRoOiAxMDAuMCU7IGhlaWdodDogMTAwLjAlOyI+Q29sbGVnZSBvciBVbml2ZXJzaXR5PC9kaXY+JylbMF07CiAgICAgICAgICAgICAgICBwb3B1cF9hZTJjNGFjZmVlZTc0NTI3OTRmMzU0ODRiOGM4MjU1ZS5zZXRDb250ZW50KGh0bWxfNTEzMGY4MzI1YzBmNGZhYjg2NDI0MDJmM2M4YjNkMTQpOwogICAgICAgICAgICAKCiAgICAgICAgICAgIGNpcmNsZV9tYXJrZXJfYTdmOTE5NTdmYWI3NDZmNGI0ZjJmNWJlZjliMDZiMGYuYmluZFBvcHVwKHBvcHVwX2FlMmM0YWNmZWVlNzQ1Mjc5NGYzNTQ4NGI4YzgyNTVlKTsKCiAgICAgICAgICAgIAogICAgICAgIAogICAgCiAgICAgICAgICAgIHZhciBjaXJjbGVfbWFya2VyX2ZlYjkzYTMxNjM3OTRmMjU5MmEyM2I3N2U5MDEzNjYyID0gTC5jaXJjbGVNYXJrZXIoCiAgICAgICAgICAgICAgICBbMTguNTE5OTg3NTI3NTM2NTksNzMuODQwNTMwODE0MDA3MThdLAogICAgICAgICAgICAgICAgewogICJidWJibGluZ01vdXNlRXZlbnRzIjogdHJ1ZSwKICAiY29sb3IiOiAiYmx1ZSIsCiAgImRhc2hBcnJheSI6IG51bGwsCiAgImRhc2hPZmZzZXQiOiBudWxsLAogICJmaWxsIjogdHJ1ZSwKICAiZmlsbENvbG9yIjogImJsdWUiLAogICJmaWxsT3BhY2l0eSI6IDAuNiwKICAiZmlsbFJ1bGUiOiAiZXZlbm9kZCIsCiAgImxpbmVDYXAiOiAicm91bmQiLAogICJsaW5lSm9pbiI6ICJyb3VuZCIsCiAgIm9wYWNpdHkiOiAxLjAsCiAgInJhZGl1cyI6IDMsCiAgInN0cm9rZSI6IHRydWUsCiAgIndlaWdodCI6IDMKfQogICAgICAgICAgICAgICAgKS5hZGRUbyhtYXBfZWM4M2QyMTAxNDQwNGE3YTlhZDU0OWZkMDZkMTRiNjkpOwogICAgICAgICAgICAKICAgIAogICAgICAgICAgICB2YXIgcG9wdXBfYTI1NzRmMjdkYTlhNDkzYzg1YWRmM2JkYjcyZTYyM2IgPSBMLnBvcHVwKHttYXhXaWR0aDogJzMwMCd9KTsKCiAgICAgICAgICAgIAogICAgICAgICAgICAgICAgdmFyIGh0bWxfNWE5YzkwOWEwNTlhNGI5MjhiZWU1ZGE5Yjc3YjlkMGYgPSAkKCc8ZGl2IGlkPSJodG1sXzVhOWM5MDlhMDU5YTRiOTI4YmVlNWRhOWI3N2I5ZDBmIiBzdHlsZT0id2lkdGg6IDEwMC4wJTsgaGVpZ2h0OiAxMDAuMCU7Ij5Db2xsZWdlIG9yIFVuaXZlcnNpdHk8L2Rpdj4nKVswXTsKICAgICAgICAgICAgICAgIHBvcHVwX2EyNTc0ZjI3ZGE5YTQ5M2M4NWFkZjNiZGI3MmU2MjNiLnNldENvbnRlbnQoaHRtbF81YTljOTA5YTA1OWE0YjkyOGJlZTVkYTliNzdiOWQwZik7CiAgICAgICAgICAgIAoKICAgICAgICAgICAgY2lyY2xlX21hcmtlcl9mZWI5M2EzMTYzNzk0ZjI1OTJhMjNiNzdlOTAxMzY2Mi5iaW5kUG9wdXAocG9wdXBfYTI1NzRmMjdkYTlhNDkzYzg1YWRmM2JkYjcyZTYyM2IpOwoKICAgICAgICAgICAgCiAgICAgICAgCiAgICAKICAgICAgICAgICAgdmFyIGNpcmNsZV9tYXJrZXJfYmQzODg0YmYwZmEwNDA1MWE1ZGM1Yzk1OTk1MWRhNDQgPSBMLmNpcmNsZU1hcmtlcigKICAgICAgICAgICAgICAgIFsxOC41MjQ5LDczLjg0NDRdLAogICAgICAgICAgICAgICAgewogICJidWJibGluZ01vdXNlRXZlbnRzIjogdHJ1ZSwKICAiY29sb3IiOiAiYmx1ZSIsCiAgImRhc2hBcnJheSI6IG51bGwsCiAgImRhc2hPZmZzZXQiOiBudWxsLAogICJmaWxsIjogdHJ1ZSwKICAiZmlsbENvbG9yIjogImJsdWUiLAogICJmaWxsT3BhY2l0eSI6IDAuNiwKICAiZmlsbFJ1bGUiOiAiZXZlbm9kZCIsCiAgImxpbmVDYXAiOiAicm91bmQiLAogICJsaW5lSm9pbiI6ICJyb3VuZCIsCiAgIm9wYWNpdHkiOiAxLjAsCiAgInJhZGl1cyI6IDMsCiAgInN0cm9rZSI6IHRydWUsCiAgIndlaWdodCI6IDMKfQogICAgICAgICAgICAgICAgKS5hZGRUbyhtYXBfZWM4M2QyMTAxNDQwNGE3YTlhZDU0OWZkMDZkMTRiNjkpOwogICAgICAgICAgICAKICAgIAogICAgICAgICAgICB2YXIgcG9wdXBfMjM5MDEzNmIyZmEzNGI1MGJlZGI1NWRmZWIzNzE5MDUgPSBMLnBvcHVwKHttYXhXaWR0aDogJzMwMCd9KTsKCiAgICAgICAgICAgIAogICAgICAgICAgICAgICAgdmFyIGh0bWxfOGFkZmY2NjA5ZThjNGFhNTk2Y2U1ZWJiZDZhYTA5MDggPSAkKCc8ZGl2IGlkPSJodG1sXzhhZGZmNjYwOWU4YzRhYTU5NmNlNWViYmQ2YWEwOTA4IiBzdHlsZT0id2lkdGg6IDEwMC4wJTsgaGVpZ2h0OiAxMDAuMCU7Ij5Db2xsZWdlIG9yIFVuaXZlcnNpdHk8L2Rpdj4nKVswXTsKICAgICAgICAgICAgICAgIHBvcHVwXzIzOTAxMzZiMmZhMzRiNTBiZWRiNTVkZmViMzcxOTA1LnNldENvbnRlbnQoaHRtbF84YWRmZjY2MDllOGM0YWE1OTZjZTVlYmJkNmFhMDkwOCk7CiAgICAgICAgICAgIAoKICAgICAgICAgICAgY2lyY2xlX21hcmtlcl9iZDM4ODRiZjBmYTA0MDUxYTVkYzVjOTU5OTUxZGE0NC5iaW5kUG9wdXAocG9wdXBfMjM5MDEzNmIyZmEzNGI1MGJlZGI1NWRmZWIzNzE5MDUpOwoKICAgICAgICAgICAgCiAgICAgICAgCiAgICAKICAgICAgICAgICAgdmFyIGNpcmNsZV9tYXJrZXJfYTU2ZWE0NzhjNTVhNGVmNTk0OWZkZDEzYzc4MmQzYzEgPSBMLmNpcmNsZU1hcmtlcigKICAgICAgICAgICAgICAgIFsxOC40NTgzNzI3NTc5MjY4OCw3My44NTc0NjE0NzM0MzkyMl0sCiAgICAgICAgICAgICAgICB7CiAgImJ1YmJsaW5nTW91c2VFdmVudHMiOiB0cnVlLAogICJjb2xvciI6ICJibHVlIiwKICAiZGFzaEFycmF5IjogbnVsbCwKICAiZGFzaE9mZnNldCI6IG51bGwsCiAgImZpbGwiOiB0cnVlLAogICJmaWxsQ29sb3IiOiAiYmx1ZSIsCiAgImZpbGxPcGFjaXR5IjogMC42LAogICJmaWxsUnVsZSI6ICJldmVub2RkIiwKICAibGluZUNhcCI6ICJyb3VuZCIsCiAgImxpbmVKb2luIjogInJvdW5kIiwKICAib3BhY2l0eSI6IDEuMCwKICAicmFkaXVzIjogMywKICAic3Ryb2tlIjogdHJ1ZSwKICAid2VpZ2h0IjogMwp9CiAgICAgICAgICAgICAgICApLmFkZFRvKG1hcF9lYzgzZDIxMDE0NDA0YTdhOWFkNTQ5ZmQwNmQxNGI2OSk7CiAgICAgICAgICAgIAogICAgCiAgICAgICAgICAgIHZhciBwb3B1cF82YzYwNTAwNWUyZWI0ZDg0OGI4Y2RlNWVmMjYyNGMxNSA9IEwucG9wdXAoe21heFdpZHRoOiAnMzAwJ30pOwoKICAgICAgICAgICAgCiAgICAgICAgICAgICAgICB2YXIgaHRtbF80Y2ZmMGFlOWJkMWM0MjNhOTllOWNjMWZiZDY2MGIxMiA9ICQoJzxkaXYgaWQ9Imh0bWxfNGNmZjBhZTliZDFjNDIzYTk5ZTljYzFmYmQ2NjBiMTIiIHN0eWxlPSJ3aWR0aDogMTAwLjAlOyBoZWlnaHQ6IDEwMC4wJTsiPkNvbGxlZ2Ugb3IgVW5pdmVyc2l0eTwvZGl2PicpWzBdOwogICAgICAgICAgICAgICAgcG9wdXBfNmM2MDUwMDVlMmViNGQ4NDhiOGNkZTVlZjI2MjRjMTUuc2V0Q29udGVudChodG1sXzRjZmYwYWU5YmQxYzQyM2E5OWU5Y2MxZmJkNjYwYjEyKTsKICAgICAgICAgICAgCgogICAgICAgICAgICBjaXJjbGVfbWFya2VyX2E1NmVhNDc4YzU1YTRlZjU5NDlmZGQxM2M3ODJkM2MxLmJpbmRQb3B1cChwb3B1cF82YzYwNTAwNWUyZWI0ZDg0OGI4Y2RlNWVmMjYyNGMxNSk7CgogICAgICAgICAgICAKICAgICAgICAKICAgIAogICAgICAgICAgICB2YXIgY2lyY2xlX21hcmtlcl9kN2RhMTNiMjg4NWE0ZjEzOGUwMGI2YmUxOGE0YWZkMyA9IEwuY2lyY2xlTWFya2VyKAogICAgICAgICAgICAgICAgWzE4LjUxMjY1NDIyNTMxNjE0LDczLjgzNDU0MDQxMjQwMjMyXSwKICAgICAgICAgICAgICAgIHsKICAiYnViYmxpbmdNb3VzZUV2ZW50cyI6IHRydWUsCiAgImNvbG9yIjogImJsdWUiLAogICJkYXNoQXJyYXkiOiBudWxsLAogICJkYXNoT2Zmc2V0IjogbnVsbCwKICAiZmlsbCI6IHRydWUsCiAgImZpbGxDb2xvciI6ICJibHVlIiwKICAiZmlsbE9wYWNpdHkiOiAwLjYsCiAgImZpbGxSdWxlIjogImV2ZW5vZGQiLAogICJsaW5lQ2FwIjogInJvdW5kIiwKICAibGluZUpvaW4iOiAicm91bmQiLAogICJvcGFjaXR5IjogMS4wLAogICJyYWRpdXMiOiAzLAogICJzdHJva2UiOiB0cnVlLAogICJ3ZWlnaHQiOiAzCn0KICAgICAgICAgICAgICAgICkuYWRkVG8obWFwX2VjODNkMjEwMTQ0MDRhN2E5YWQ1NDlmZDA2ZDE0YjY5KTsKICAgICAgICAgICAgCiAgICAKICAgICAgICAgICAgdmFyIHBvcHVwXzdmYmQ2YWZjYWExZDQ4NjJiYzE2NGQwMzFhMmRjZjhlID0gTC5wb3B1cCh7bWF4V2lkdGg6ICczMDAnfSk7CgogICAgICAgICAgICAKICAgICAgICAgICAgICAgIHZhciBodG1sX2E3NzU1YTI5OGUwMTRlOTc5NjE2NDNiMTY3NzdjNjFhID0gJCgnPGRpdiBpZD0iaHRtbF9hNzc1NWEyOThlMDE0ZTk3OTYxNjQzYjE2Nzc3YzYxYSIgc3R5bGU9IndpZHRoOiAxMDAuMCU7IGhlaWdodDogMTAwLjAlOyI+Q29sbGVnZSBvciBVbml2ZXJzaXR5PC9kaXY+JylbMF07CiAgICAgICAgICAgICAgICBwb3B1cF83ZmJkNmFmY2FhMWQ0ODYyYmMxNjRkMDMxYTJkY2Y4ZS5zZXRDb250ZW50KGh0bWxfYTc3NTVhMjk4ZTAxNGU5Nzk2MTY0M2IxNjc3N2M2MWEpOwogICAgICAgICAgICAKCiAgICAgICAgICAgIGNpcmNsZV9tYXJrZXJfZDdkYTEzYjI4ODVhNGYxMzhlMDBiNmJlMThhNGFmZDMuYmluZFBvcHVwKHBvcHVwXzdmYmQ2YWZjYWExZDQ4NjJiYzE2NGQwMzFhMmRjZjhlKTsKCiAgICAgICAgICAgIAogICAgICAgIAogICAgCiAgICAgICAgICAgIHZhciBjaXJjbGVfbWFya2VyXzQ2YWI0Nzk2NWUxMDQzNGFiYTdhNTZkNGNjMTM0NjI5ID0gTC5jaXJjbGVNYXJrZXIoCiAgICAgICAgICAgICAgICBbMTguNDg5OTMxNjA2Nzc1OTc2LDczLjg1Mjc3MjE1NjkxNTMyXSwKICAgICAgICAgICAgICAgIHsKICAiYnViYmxpbmdNb3VzZUV2ZW50cyI6IHRydWUsCiAgImNvbG9yIjogImJsdWUiLAogICJkYXNoQXJyYXkiOiBudWxsLAogICJkYXNoT2Zmc2V0IjogbnVsbCwKICAiZmlsbCI6IHRydWUsCiAgImZpbGxDb2xvciI6ICJibHVlIiwKICAiZmlsbE9wYWNpdHkiOiAwLjYsCiAgImZpbGxSdWxlIjogImV2ZW5vZGQiLAogICJsaW5lQ2FwIjogInJvdW5kIiwKICAibGluZUpvaW4iOiAicm91bmQiLAogICJvcGFjaXR5IjogMS4wLAogICJyYWRpdXMiOiAzLAogICJzdHJva2UiOiB0cnVlLAogICJ3ZWlnaHQiOiAzCn0KICAgICAgICAgICAgICAgICkuYWRkVG8obWFwX2VjODNkMjEwMTQ0MDRhN2E5YWQ1NDlmZDA2ZDE0YjY5KTsKICAgICAgICAgICAgCiAgICAKICAgICAgICAgICAgdmFyIHBvcHVwXzdkNjM1Y2ExYjdmMzRiZjY5ZjVmNTIzNGM2ZWE2MTczID0gTC5wb3B1cCh7bWF4V2lkdGg6ICczMDAnfSk7CgogICAgICAgICAgICAKICAgICAgICAgICAgICAgIHZhciBodG1sX2YzMTI1ZTE1NWZiMTRkZjVhMzdlNGE4MDJjM2ZhZGRjID0gJCgnPGRpdiBpZD0iaHRtbF9mMzEyNWUxNTVmYjE0ZGY1YTM3ZTRhODAyYzNmYWRkYyIgc3R5bGU9IndpZHRoOiAxMDAuMCU7IGhlaWdodDogMTAwLjAlOyI+Q29sbGVnZSBvciBVbml2ZXJzaXR5PC9kaXY+JylbMF07CiAgICAgICAgICAgICAgICBwb3B1cF83ZDYzNWNhMWI3ZjM0YmY2OWY1ZjUyMzRjNmVhNjE3My5zZXRDb250ZW50KGh0bWxfZjMxMjVlMTU1ZmIxNGRmNWEzN2U0YTgwMmMzZmFkZGMpOwogICAgICAgICAgICAKCiAgICAgICAgICAgIGNpcmNsZV9tYXJrZXJfNDZhYjQ3OTY1ZTEwNDM0YWJhN2E1NmQ0Y2MxMzQ2MjkuYmluZFBvcHVwKHBvcHVwXzdkNjM1Y2ExYjdmMzRiZjY5ZjVmNTIzNGM2ZWE2MTczKTsKCiAgICAgICAgICAgIAogICAgICAgIAogICAgCiAgICAgICAgICAgIHZhciBjaXJjbGVfbWFya2VyXzllZDAwMjIxMzVmNzQxMGJiNmE5MThmNDVhZmQ1Mjg1ID0gTC5jaXJjbGVNYXJrZXIoCiAgICAgICAgICAgICAgICBbMTguNTEwOTMyNDQwNzUzODQ0LDczLjgxMTU0MjAxNzczNTI5XSwKICAgICAgICAgICAgICAgIHsKICAiYnViYmxpbmdNb3VzZUV2ZW50cyI6IHRydWUsCiAgImNvbG9yIjogImJsdWUiLAogICJkYXNoQXJyYXkiOiBudWxsLAogICJkYXNoT2Zmc2V0IjogbnVsbCwKICAiZmlsbCI6IHRydWUsCiAgImZpbGxDb2xvciI6ICJibHVlIiwKICAiZmlsbE9wYWNpdHkiOiAwLjYsCiAgImZpbGxSdWxlIjogImV2ZW5vZGQiLAogICJsaW5lQ2FwIjogInJvdW5kIiwKICAibGluZUpvaW4iOiAicm91bmQiLAogICJvcGFjaXR5IjogMS4wLAogICJyYWRpdXMiOiAzLAogICJzdHJva2UiOiB0cnVlLAogICJ3ZWlnaHQiOiAzCn0KICAgICAgICAgICAgICAgICkuYWRkVG8obWFwX2VjODNkMjEwMTQ0MDRhN2E5YWQ1NDlmZDA2ZDE0YjY5KTsKICAgICAgICAgICAgCiAgICAKICAgICAgICAgICAgdmFyIHBvcHVwXzc5YzgzOWU2YjU4NDQxYjU5MzQwNTg2OTk5NzFkNWE1ID0gTC5wb3B1cCh7bWF4V2lkdGg6ICczMDAnfSk7CgogICAgICAgICAgICAKICAgICAgICAgICAgICAgIHZhciBodG1sX2RkMTM0ZjU5NGMwNTQxZDQ4M2RjODkzMWVjNTIzNzY1ID0gJCgnPGRpdiBpZD0iaHRtbF9kZDEzNGY1OTRjMDU0MWQ0ODNkYzg5MzFlYzUyMzc2NSIgc3R5bGU9IndpZHRoOiAxMDAuMCU7IGhlaWdodDogMTAwLjAlOyI+Q29sbGVnZSBvciBVbml2ZXJzaXR5PC9kaXY+JylbMF07CiAgICAgICAgICAgICAgICBwb3B1cF83OWM4MzllNmI1ODQ0MWI1OTM0MDU4Njk5OTcxZDVhNS5zZXRDb250ZW50KGh0bWxfZGQxMzRmNTk0YzA1NDFkNDgzZGM4OTMxZWM1MjM3NjUpOwogICAgICAgICAgICAKCiAgICAgICAgICAgIGNpcmNsZV9tYXJrZXJfOWVkMDAyMjEzNWY3NDEwYmI2YTkxOGY0NWFmZDUyODUuYmluZFBvcHVwKHBvcHVwXzc5YzgzOWU2YjU4NDQxYjU5MzQwNTg2OTk5NzFkNWE1KTsKCiAgICAgICAgICAgIAogICAgICAgIAogICAgCiAgICAgICAgICAgIHZhciBjaXJjbGVfbWFya2VyXzBkNzQ4ZjIzZWQyNTQ0ODE4N2RkNzA0MWYxY2M5ZDczID0gTC5jaXJjbGVNYXJrZXIoCiAgICAgICAgICAgICAgICBbMTguNTI2NzU2NzM1MzY1NTgsNzMuODQxOTIwNjk5MDQyNjldLAogICAgICAgICAgICAgICAgewogICJidWJibGluZ01vdXNlRXZlbnRzIjogdHJ1ZSwKICAiY29sb3IiOiAiYmx1ZSIsCiAgImRhc2hBcnJheSI6IG51bGwsCiAgImRhc2hPZmZzZXQiOiBudWxsLAogICJmaWxsIjogdHJ1ZSwKICAiZmlsbENvbG9yIjogImJsdWUiLAogICJmaWxsT3BhY2l0eSI6IDAuNiwKICAiZmlsbFJ1bGUiOiAiZXZlbm9kZCIsCiAgImxpbmVDYXAiOiAicm91bmQiLAogICJsaW5lSm9pbiI6ICJyb3VuZCIsCiAgIm9wYWNpdHkiOiAxLjAsCiAgInJhZGl1cyI6IDMsCiAgInN0cm9rZSI6IHRydWUsCiAgIndlaWdodCI6IDMKfQogICAgICAgICAgICAgICAgKS5hZGRUbyhtYXBfZWM4M2QyMTAxNDQwNGE3YTlhZDU0OWZkMDZkMTRiNjkpOwogICAgICAgICAgICAKICAgIAogICAgICAgICAgICB2YXIgcG9wdXBfNWJjZTIzNjliZmRkNDBhZDk2MDBkODFiZTkwMjg2MmIgPSBMLnBvcHVwKHttYXhXaWR0aDogJzMwMCd9KTsKCiAgICAgICAgICAgIAogICAgICAgICAgICAgICAgdmFyIGh0bWxfOTY4YjQ1YzFkNGVkNGYxNjk5MTU1M2NiNmNkMTgwMjEgPSAkKCc8ZGl2IGlkPSJodG1sXzk2OGI0NWMxZDRlZDRmMTY5OTE1NTNjYjZjZDE4MDIxIiBzdHlsZT0id2lkdGg6IDEwMC4wJTsgaGVpZ2h0OiAxMDAuMCU7Ij5Db2xsZWdlIG9yIFVuaXZlcnNpdHk8L2Rpdj4nKVswXTsKICAgICAgICAgICAgICAgIHBvcHVwXzViY2UyMzY5YmZkZDQwYWQ5NjAwZDgxYmU5MDI4NjJiLnNldENvbnRlbnQoaHRtbF85NjhiNDVjMWQ0ZWQ0ZjE2OTkxNTUzY2I2Y2QxODAyMSk7CiAgICAgICAgICAgIAoKICAgICAgICAgICAgY2lyY2xlX21hcmtlcl8wZDc0OGYyM2VkMjU0NDgxODdkZDcwNDFmMWNjOWQ3My5iaW5kUG9wdXAocG9wdXBfNWJjZTIzNjliZmRkNDBhZDk2MDBkODFiZTkwMjg2MmIpOwoKICAgICAgICAgICAgCiAgICAgICAgCiAgICAKICAgICAgICAgICAgdmFyIGNpcmNsZV9tYXJrZXJfNzliMzI3MTkzMjVkNDk5MWFhMGRmY2NlN2MzMzkwYWQgPSBMLmNpcmNsZU1hcmtlcigKICAgICAgICAgICAgICAgIFsxOC41MzEyMDgwMzgzMzAwNzgsNzMuODQ1NTM1Mjc4MzIwMzFdLAogICAgICAgICAgICAgICAgewogICJidWJibGluZ01vdXNlRXZlbnRzIjogdHJ1ZSwKICAiY29sb3IiOiAiYmx1ZSIsCiAgImRhc2hBcnJheSI6IG51bGwsCiAgImRhc2hPZmZzZXQiOiBudWxsLAogICJmaWxsIjogdHJ1ZSwKICAiZmlsbENvbG9yIjogImJsdWUiLAogICJmaWxsT3BhY2l0eSI6IDAuNiwKICAiZmlsbFJ1bGUiOiAiZXZlbm9kZCIsCiAgImxpbmVDYXAiOiAicm91bmQiLAogICJsaW5lSm9pbiI6ICJyb3VuZCIsCiAgIm9wYWNpdHkiOiAxLjAsCiAgInJhZGl1cyI6IDMsCiAgInN0cm9rZSI6IHRydWUsCiAgIndlaWdodCI6IDMKfQogICAgICAgICAgICAgICAgKS5hZGRUbyhtYXBfZWM4M2QyMTAxNDQwNGE3YTlhZDU0OWZkMDZkMTRiNjkpOwogICAgICAgICAgICAKICAgIAogICAgICAgICAgICB2YXIgcG9wdXBfOTYzZWVmNTU4YjAyNGNlNjhlMzczYTk4N2MyNzdiNGUgPSBMLnBvcHVwKHttYXhXaWR0aDogJzMwMCd9KTsKCiAgICAgICAgICAgIAogICAgICAgICAgICAgICAgdmFyIGh0bWxfYzMyMzExYjU2MDZkNDQwNGEyYmZhZWNhODFhZDBlNWUgPSAkKCc8ZGl2IGlkPSJodG1sX2MzMjMxMWI1NjA2ZDQ0MDRhMmJmYWVjYTgxYWQwZTVlIiBzdHlsZT0id2lkdGg6IDEwMC4wJTsgaGVpZ2h0OiAxMDAuMCU7Ij5Db2xsZWdlIG9yIFVuaXZlcnNpdHk8L2Rpdj4nKVswXTsKICAgICAgICAgICAgICAgIHBvcHVwXzk2M2VlZjU1OGIwMjRjZTY4ZTM3M2E5ODdjMjc3YjRlLnNldENvbnRlbnQoaHRtbF9jMzIzMTFiNTYwNmQ0NDA0YTJiZmFlY2E4MWFkMGU1ZSk7CiAgICAgICAgICAgIAoKICAgICAgICAgICAgY2lyY2xlX21hcmtlcl83OWIzMjcxOTMyNWQ0OTkxYWEwZGZjY2U3YzMzOTBhZC5iaW5kUG9wdXAocG9wdXBfOTYzZWVmNTU4YjAyNGNlNjhlMzczYTk4N2MyNzdiNGUpOwoKICAgICAgICAgICAgCiAgICAgICAgCiAgICAKICAgICAgICAgICAgdmFyIGNpcmNsZV9tYXJrZXJfYTViY2ExYWExYmExNDY2MWJjZDJjMWI5MTUxNWEyYzQgPSBMLmNpcmNsZU1hcmtlcigKICAgICAgICAgICAgICAgIFsxOC40ODU3MTE1NDQzMTY4Nyw3My44MTU3NTgyMDcwMTc0MV0sCiAgICAgICAgICAgICAgICB7CiAgImJ1YmJsaW5nTW91c2VFdmVudHMiOiB0cnVlLAogICJjb2xvciI6ICJibHVlIiwKICAiZGFzaEFycmF5IjogbnVsbCwKICAiZGFzaE9mZnNldCI6IG51bGwsCiAgImZpbGwiOiB0cnVlLAogICJmaWxsQ29sb3IiOiAiYmx1ZSIsCiAgImZpbGxPcGFjaXR5IjogMC42LAogICJmaWxsUnVsZSI6ICJldmVub2RkIiwKICAibGluZUNhcCI6ICJyb3VuZCIsCiAgImxpbmVKb2luIjogInJvdW5kIiwKICAib3BhY2l0eSI6IDEuMCwKICAicmFkaXVzIjogMywKICAic3Ryb2tlIjogdHJ1ZSwKICAid2VpZ2h0IjogMwp9CiAgICAgICAgICAgICAgICApLmFkZFRvKG1hcF9lYzgzZDIxMDE0NDA0YTdhOWFkNTQ5ZmQwNmQxNGI2OSk7CiAgICAgICAgICAgIAogICAgCiAgICAgICAgICAgIHZhciBwb3B1cF9hOThkYmRhM2EyZGI0NjZmYTRkZGYyNGJjYTU1NzYxMyA9IEwucG9wdXAoe21heFdpZHRoOiAnMzAwJ30pOwoKICAgICAgICAgICAgCiAgICAgICAgICAgICAgICB2YXIgaHRtbF83ZTMwYTBlNTNhMjk0N2YxYWU1ZjkyMjhjYzk5Yjg3MiA9ICQoJzxkaXYgaWQ9Imh0bWxfN2UzMGEwZTUzYTI5NDdmMWFlNWY5MjI4Y2M5OWI4NzIiIHN0eWxlPSJ3aWR0aDogMTAwLjAlOyBoZWlnaHQ6IDEwMC4wJTsiPkNvbGxlZ2Ugb3IgVW5pdmVyc2l0eTwvZGl2PicpWzBdOwogICAgICAgICAgICAgICAgcG9wdXBfYTk4ZGJkYTNhMmRiNDY2ZmE0ZGRmMjRiY2E1NTc2MTMuc2V0Q29udGVudChodG1sXzdlMzBhMGU1M2EyOTQ3ZjFhZTVmOTIyOGNjOTliODcyKTsKICAgICAgICAgICAgCgogICAgICAgICAgICBjaXJjbGVfbWFya2VyX2E1YmNhMWFhMWJhMTQ2NjFiY2QyYzFiOTE1MTVhMmM0LmJpbmRQb3B1cChwb3B1cF9hOThkYmRhM2EyZGI0NjZmYTRkZGYyNGJjYTU1NzYxMyk7CgogICAgICAgICAgICAKICAgICAgICAKICAgIAogICAgICAgICAgICB2YXIgY2lyY2xlX21hcmtlcl80MWM4NDUwMjAyYTc0MzNhYjI4YjM1NTNiYjQ0NjhmMyA9IEwuY2lyY2xlTWFya2VyKAogICAgICAgICAgICAgICAgWzE4LjUyMDEyNDQzNTQyNDgwNSw3My44NjgxMDMwMjczNDM3NV0sCiAgICAgICAgICAgICAgICB7CiAgImJ1YmJsaW5nTW91c2VFdmVudHMiOiB0cnVlLAogICJjb2xvciI6ICJibHVlIiwKICAiZGFzaEFycmF5IjogbnVsbCwKICAiZGFzaE9mZnNldCI6IG51bGwsCiAgImZpbGwiOiB0cnVlLAogICJmaWxsQ29sb3IiOiAiYmx1ZSIsCiAgImZpbGxPcGFjaXR5IjogMC42LAogICJmaWxsUnVsZSI6ICJldmVub2RkIiwKICAibGluZUNhcCI6ICJyb3VuZCIsCiAgImxpbmVKb2luIjogInJvdW5kIiwKICAib3BhY2l0eSI6IDEuMCwKICAicmFkaXVzIjogMywKICAic3Ryb2tlIjogdHJ1ZSwKICAid2VpZ2h0IjogMwp9CiAgICAgICAgICAgICAgICApLmFkZFRvKG1hcF9lYzgzZDIxMDE0NDA0YTdhOWFkNTQ5ZmQwNmQxNGI2OSk7CiAgICAgICAgICAgIAogICAgCiAgICAgICAgICAgIHZhciBwb3B1cF8zYzAxYzFhZDM5YTc0NDQ4ODRjZmI5OTcyMjkzYWQ4NyA9IEwucG9wdXAoe21heFdpZHRoOiAnMzAwJ30pOwoKICAgICAgICAgICAgCiAgICAgICAgICAgICAgICB2YXIgaHRtbF8zZjk0NmEyMGI2NWE0ZjQ3OTM1ZGM1NGUxYzRkOWY4ZCA9ICQoJzxkaXYgaWQ9Imh0bWxfM2Y5NDZhMjBiNjVhNGY0NzkzNWRjNTRlMWM0ZDlmOGQiIHN0eWxlPSJ3aWR0aDogMTAwLjAlOyBoZWlnaHQ6IDEwMC4wJTsiPkNvbGxlZ2Ugb3IgVW5pdmVyc2l0eTwvZGl2PicpWzBdOwogICAgICAgICAgICAgICAgcG9wdXBfM2MwMWMxYWQzOWE3NDQ0ODg0Y2ZiOTk3MjI5M2FkODcuc2V0Q29udGVudChodG1sXzNmOTQ2YTIwYjY1YTRmNDc5MzVkYzU0ZTFjNGQ5ZjhkKTsKICAgICAgICAgICAgCgogICAgICAgICAgICBjaXJjbGVfbWFya2VyXzQxYzg0NTAyMDJhNzQzM2FiMjhiMzU1M2JiNDQ2OGYzLmJpbmRQb3B1cChwb3B1cF8zYzAxYzFhZDM5YTc0NDQ4ODRjZmI5OTcyMjkzYWQ4Nyk7CgogICAgICAgICAgICAKICAgICAgICAKICAgIAogICAgICAgICAgICB2YXIgY2lyY2xlX21hcmtlcl8yYTYyNzY5ZThkYTE0NmIxOTI3NmUwNmU1ZGUzZWM0NiA9IEwuY2lyY2xlTWFya2VyKAogICAgICAgICAgICAgICAgWzE4LjUyMDQ3NTM4NzU3MzI0Miw3My44NDA1MzgwMjQ5MDIzNF0sCiAgICAgICAgICAgICAgICB7CiAgImJ1YmJsaW5nTW91c2VFdmVudHMiOiB0cnVlLAogICJjb2xvciI6ICJibHVlIiwKICAiZGFzaEFycmF5IjogbnVsbCwKICAiZGFzaE9mZnNldCI6IG51bGwsCiAgImZpbGwiOiB0cnVlLAogICJmaWxsQ29sb3IiOiAiYmx1ZSIsCiAgImZpbGxPcGFjaXR5IjogMC42LAogICJmaWxsUnVsZSI6ICJldmVub2RkIiwKICAibGluZUNhcCI6ICJyb3VuZCIsCiAgImxpbmVKb2luIjogInJvdW5kIiwKICAib3BhY2l0eSI6IDEuMCwKICAicmFkaXVzIjogMywKICAic3Ryb2tlIjogdHJ1ZSwKICAid2VpZ2h0IjogMwp9CiAgICAgICAgICAgICAgICApLmFkZFRvKG1hcF9lYzgzZDIxMDE0NDA0YTdhOWFkNTQ5ZmQwNmQxNGI2OSk7CiAgICAgICAgICAgIAogICAgCiAgICAgICAgICAgIHZhciBwb3B1cF8wNzEyMzIwNDM1YjM0MDBlYWIwZGEzNGJhMDY1MjU1OSA9IEwucG9wdXAoe21heFdpZHRoOiAnMzAwJ30pOwoKICAgICAgICAgICAgCiAgICAgICAgICAgICAgICB2YXIgaHRtbF82NWNmZTU3NWU5ZGI0NmE1YjdjYTk2ZWIzMDNjODI5MyA9ICQoJzxkaXYgaWQ9Imh0bWxfNjVjZmU1NzVlOWRiNDZhNWI3Y2E5NmViMzAzYzgyOTMiIHN0eWxlPSJ3aWR0aDogMTAwLjAlOyBoZWlnaHQ6IDEwMC4wJTsiPkNvbGxlZ2Ugb3IgVW5pdmVyc2l0eTwvZGl2PicpWzBdOwogICAgICAgICAgICAgICAgcG9wdXBfMDcxMjMyMDQzNWIzNDAwZWFiMGRhMzRiYTA2NTI1NTkuc2V0Q29udGVudChodG1sXzY1Y2ZlNTc1ZTlkYjQ2YTViN2NhOTZlYjMwM2M4MjkzKTsKICAgICAgICAgICAgCgogICAgICAgICAgICBjaXJjbGVfbWFya2VyXzJhNjI3NjllOGRhMTQ2YjE5Mjc2ZTA2ZTVkZTNlYzQ2LmJpbmRQb3B1cChwb3B1cF8wNzEyMzIwNDM1YjM0MDBlYWIwZGEzNGJhMDY1MjU1OSk7CgogICAgICAgICAgICAKICAgICAgICAKICAgIAogICAgICAgICAgICB2YXIgY2lyY2xlX21hcmtlcl8zYjcxMzdiM2ExZjU0NzgwODc2MWQxZDdmM2Y4OGEwNiA9IEwuY2lyY2xlTWFya2VyKAogICAgICAgICAgICAgICAgWzE4LjUyMjc5MDkwODgxMzQ3Nyw3My44NDA2OTA2MTI3OTI5N10sCiAgICAgICAgICAgICAgICB7CiAgImJ1YmJsaW5nTW91c2VFdmVudHMiOiB0cnVlLAogICJjb2xvciI6ICJibHVlIiwKICAiZGFzaEFycmF5IjogbnVsbCwKICAiZGFzaE9mZnNldCI6IG51bGwsCiAgImZpbGwiOiB0cnVlLAogICJmaWxsQ29sb3IiOiAiYmx1ZSIsCiAgImZpbGxPcGFjaXR5IjogMC42LAogICJmaWxsUnVsZSI6ICJldmVub2RkIiwKICAibGluZUNhcCI6ICJyb3VuZCIsCiAgImxpbmVKb2luIjogInJvdW5kIiwKICAib3BhY2l0eSI6IDEuMCwKICAicmFkaXVzIjogMywKICAic3Ryb2tlIjogdHJ1ZSwKICAid2VpZ2h0IjogMwp9CiAgICAgICAgICAgICAgICApLmFkZFRvKG1hcF9lYzgzZDIxMDE0NDA0YTdhOWFkNTQ5ZmQwNmQxNGI2OSk7CiAgICAgICAgICAgIAogICAgCiAgICAgICAgICAgIHZhciBwb3B1cF9iMWU0NTI1NWFjMTE0ZTBmOTA1NDJiNjJlYjM5Y2I5MCA9IEwucG9wdXAoe21heFdpZHRoOiAnMzAwJ30pOwoKICAgICAgICAgICAgCiAgICAgICAgICAgICAgICB2YXIgaHRtbF82ZjAxOThhY2RhZDQ0MjEzYWNiNjc5MjA2ZWIzNDVlOCA9ICQoJzxkaXYgaWQ9Imh0bWxfNmYwMTk4YWNkYWQ0NDIxM2FjYjY3OTIwNmViMzQ1ZTgiIHN0eWxlPSJ3aWR0aDogMTAwLjAlOyBoZWlnaHQ6IDEwMC4wJTsiPkNvbGxlZ2Ugb3IgVW5pdmVyc2l0eTwvZGl2PicpWzBdOwogICAgICAgICAgICAgICAgcG9wdXBfYjFlNDUyNTVhYzExNGUwZjkwNTQyYjYyZWIzOWNiOTAuc2V0Q29udGVudChodG1sXzZmMDE5OGFjZGFkNDQyMTNhY2I2NzkyMDZlYjM0NWU4KTsKICAgICAgICAgICAgCgogICAgICAgICAgICBjaXJjbGVfbWFya2VyXzNiNzEzN2IzYTFmNTQ3ODA4NzYxZDFkN2YzZjg4YTA2LmJpbmRQb3B1cChwb3B1cF9iMWU0NTI1NWFjMTE0ZTBmOTA1NDJiNjJlYjM5Y2I5MCk7CgogICAgICAgICAgICAKICAgICAgICAKICAgIAogICAgICAgICAgICB2YXIgY2lyY2xlX21hcmtlcl83ZjlmM2ZjM2RjOWU0ZDFlOTc5YmU5MDkwY2FlYmUwZiA9IEwuY2lyY2xlTWFya2VyKAogICAgICAgICAgICAgICAgWzE4LjUyNjkwNTMyMDkwODQ1OCw3My44NDE2NjIyNTAwODY5M10sCiAgICAgICAgICAgICAgICB7CiAgImJ1YmJsaW5nTW91c2VFdmVudHMiOiB0cnVlLAogICJjb2xvciI6ICJibHVlIiwKICAiZGFzaEFycmF5IjogbnVsbCwKICAiZGFzaE9mZnNldCI6IG51bGwsCiAgImZpbGwiOiB0cnVlLAogICJmaWxsQ29sb3IiOiAiYmx1ZSIsCiAgImZpbGxPcGFjaXR5IjogMC42LAogICJmaWxsUnVsZSI6ICJldmVub2RkIiwKICAibGluZUNhcCI6ICJyb3VuZCIsCiAgImxpbmVKb2luIjogInJvdW5kIiwKICAib3BhY2l0eSI6IDEuMCwKICAicmFkaXVzIjogMywKICAic3Ryb2tlIjogdHJ1ZSwKICAid2VpZ2h0IjogMwp9CiAgICAgICAgICAgICAgICApLmFkZFRvKG1hcF9lYzgzZDIxMDE0NDA0YTdhOWFkNTQ5ZmQwNmQxNGI2OSk7CiAgICAgICAgICAgIAogICAgCiAgICAgICAgICAgIHZhciBwb3B1cF8yOTlmNGJhYjU1ZDg0ZGJmOGI4ODU4MjE4N2ViYWExMSA9IEwucG9wdXAoe21heFdpZHRoOiAnMzAwJ30pOwoKICAgICAgICAgICAgCiAgICAgICAgICAgICAgICB2YXIgaHRtbF84Y2FmNjI2NDJhYTI0NmIyYmVlZmQwYmEzZGU5ZjI0YyA9ICQoJzxkaXYgaWQ9Imh0bWxfOGNhZjYyNjQyYWEyNDZiMmJlZWZkMGJhM2RlOWYyNGMiIHN0eWxlPSJ3aWR0aDogMTAwLjAlOyBoZWlnaHQ6IDEwMC4wJTsiPkNvbGxlZ2Ugb3IgVW5pdmVyc2l0eTwvZGl2PicpWzBdOwogICAgICAgICAgICAgICAgcG9wdXBfMjk5ZjRiYWI1NWQ4NGRiZjhiODg1ODIxODdlYmFhMTEuc2V0Q29udGVudChodG1sXzhjYWY2MjY0MmFhMjQ2YjJiZWVmZDBiYTNkZTlmMjRjKTsKICAgICAgICAgICAgCgogICAgICAgICAgICBjaXJjbGVfbWFya2VyXzdmOWYzZmMzZGM5ZTRkMWU5NzliZTkwOTBjYWViZTBmLmJpbmRQb3B1cChwb3B1cF8yOTlmNGJhYjU1ZDg0ZGJmOGI4ODU4MjE4N2ViYWExMSk7CgogICAgICAgICAgICAKICAgICAgICAKICAgIAogICAgICAgICAgICB2YXIgY2lyY2xlX21hcmtlcl8yNzJmMDQ1ZDUxZTQ0MmIzYjljODc1M2NhNzUyZWY3ZCA9IEwuY2lyY2xlTWFya2VyKAogICAgICAgICAgICAgICAgWzE4LjUxMDA2MTE1NjgyOTM0LDczLjg0NjQ2OTM0NTIzOTgxXSwKICAgICAgICAgICAgICAgIHsKICAiYnViYmxpbmdNb3VzZUV2ZW50cyI6IHRydWUsCiAgImNvbG9yIjogImJsdWUiLAogICJkYXNoQXJyYXkiOiBudWxsLAogICJkYXNoT2Zmc2V0IjogbnVsbCwKICAiZmlsbCI6IHRydWUsCiAgImZpbGxDb2xvciI6ICJibHVlIiwKICAiZmlsbE9wYWNpdHkiOiAwLjYsCiAgImZpbGxSdWxlIjogImV2ZW5vZGQiLAogICJsaW5lQ2FwIjogInJvdW5kIiwKICAibGluZUpvaW4iOiAicm91bmQiLAogICJvcGFjaXR5IjogMS4wLAogICJyYWRpdXMiOiAzLAogICJzdHJva2UiOiB0cnVlLAogICJ3ZWlnaHQiOiAzCn0KICAgICAgICAgICAgICAgICkuYWRkVG8obWFwX2VjODNkMjEwMTQ0MDRhN2E5YWQ1NDlmZDA2ZDE0YjY5KTsKICAgICAgICAgICAgCiAgICAKICAgICAgICAgICAgdmFyIHBvcHVwX2I0NGYyZjZiZWM1NDQ3MjE5NGUxNDVhNzFjZjY0MzQxID0gTC5wb3B1cCh7bWF4V2lkdGg6ICczMDAnfSk7CgogICAgICAgICAgICAKICAgICAgICAgICAgICAgIHZhciBodG1sX2VkN2FmMjUyZTc2NjQ1ZGE4NGQxMzNlMWVhM2Y5YmNmID0gJCgnPGRpdiBpZD0iaHRtbF9lZDdhZjI1MmU3NjY0NWRhODRkMTMzZTFlYTNmOWJjZiIgc3R5bGU9IndpZHRoOiAxMDAuMCU7IGhlaWdodDogMTAwLjAlOyI+Q29sbGVnZSBvciBVbml2ZXJzaXR5PC9kaXY+JylbMF07CiAgICAgICAgICAgICAgICBwb3B1cF9iNDRmMmY2YmVjNTQ0NzIxOTRlMTQ1YTcxY2Y2NDM0MS5zZXRDb250ZW50KGh0bWxfZWQ3YWYyNTJlNzY2NDVkYTg0ZDEzM2UxZWEzZjliY2YpOwogICAgICAgICAgICAKCiAgICAgICAgICAgIGNpcmNsZV9tYXJrZXJfMjcyZjA0NWQ1MWU0NDJiM2I5Yzg3NTNjYTc1MmVmN2QuYmluZFBvcHVwKHBvcHVwX2I0NGYyZjZiZWM1NDQ3MjE5NGUxNDVhNzFjZjY0MzQxKTsKCiAgICAgICAgICAgIAogICAgICAgIAogICAgCiAgICAgICAgICAgIHZhciBjaXJjbGVfbWFya2VyXzUzNzE3NmNkYzdjNzRlNjA4MzA3MDc1NTY0Y2EyZWI3ID0gTC5jaXJjbGVNYXJrZXIoCiAgICAgICAgICAgICAgICBbMTguNTA3NzM0Mjk4NzA2MDU1LDczLjg1NjQxNDc5NDkyMTg4XSwKICAgICAgICAgICAgICAgIHsKICAiYnViYmxpbmdNb3VzZUV2ZW50cyI6IHRydWUsCiAgImNvbG9yIjogImJsdWUiLAogICJkYXNoQXJyYXkiOiBudWxsLAogICJkYXNoT2Zmc2V0IjogbnVsbCwKICAiZmlsbCI6IHRydWUsCiAgImZpbGxDb2xvciI6ICJibHVlIiwKICAiZmlsbE9wYWNpdHkiOiAwLjYsCiAgImZpbGxSdWxlIjogImV2ZW5vZGQiLAogICJsaW5lQ2FwIjogInJvdW5kIiwKICAibGluZUpvaW4iOiAicm91bmQiLAogICJvcGFjaXR5IjogMS4wLAogICJyYWRpdXMiOiAzLAogICJzdHJva2UiOiB0cnVlLAogICJ3ZWlnaHQiOiAzCn0KICAgICAgICAgICAgICAgICkuYWRkVG8obWFwX2VjODNkMjEwMTQ0MDRhN2E5YWQ1NDlmZDA2ZDE0YjY5KTsKICAgICAgICAgICAgCiAgICAKICAgICAgICAgICAgdmFyIHBvcHVwXzA0OGNmOWQ1N2I2MDQzOWNhMTAxNGFiZjFmOGI0Zjg5ID0gTC5wb3B1cCh7bWF4V2lkdGg6ICczMDAnfSk7CgogICAgICAgICAgICAKICAgICAgICAgICAgICAgIHZhciBodG1sXzJlNGM2MTFlOWQ1ZDRiMjU5N2E2MTIwMjcwN2Q3NmE5ID0gJCgnPGRpdiBpZD0iaHRtbF8yZTRjNjExZTlkNWQ0YjI1OTdhNjEyMDI3MDdkNzZhOSIgc3R5bGU9IndpZHRoOiAxMDAuMCU7IGhlaWdodDogMTAwLjAlOyI+Q29sbGVnZSBvciBVbml2ZXJzaXR5PC9kaXY+JylbMF07CiAgICAgICAgICAgICAgICBwb3B1cF8wNDhjZjlkNTdiNjA0MzljYTEwMTRhYmYxZjhiNGY4OS5zZXRDb250ZW50KGh0bWxfMmU0YzYxMWU5ZDVkNGIyNTk3YTYxMjAyNzA3ZDc2YTkpOwogICAgICAgICAgICAKCiAgICAgICAgICAgIGNpcmNsZV9tYXJrZXJfNTM3MTc2Y2RjN2M3NGU2MDgzMDcwNzU1NjRjYTJlYjcuYmluZFBvcHVwKHBvcHVwXzA0OGNmOWQ1N2I2MDQzOWNhMTAxNGFiZjFmOGI0Zjg5KTsKCiAgICAgICAgICAgIAogICAgICAgIAogICAgCiAgICAgICAgICAgIHZhciBjaXJjbGVfbWFya2VyXzA5YjJkZWE4MzMzNjQwMjBiYzU5NzYzNjE2MWZiMDRhID0gTC5jaXJjbGVNYXJrZXIoCiAgICAgICAgICAgICAgICBbMTguNTE2NTE5NSw3My44NDA4MTE0OV0sCiAgICAgICAgICAgICAgICB7CiAgImJ1YmJsaW5nTW91c2VFdmVudHMiOiB0cnVlLAogICJjb2xvciI6ICJibHVlIiwKICAiZGFzaEFycmF5IjogbnVsbCwKICAiZGFzaE9mZnNldCI6IG51bGwsCiAgImZpbGwiOiB0cnVlLAogICJmaWxsQ29sb3IiOiAiYmx1ZSIsCiAgImZpbGxPcGFjaXR5IjogMC42LAogICJmaWxsUnVsZSI6ICJldmVub2RkIiwKICAibGluZUNhcCI6ICJyb3VuZCIsCiAgImxpbmVKb2luIjogInJvdW5kIiwKICAib3BhY2l0eSI6IDEuMCwKICAicmFkaXVzIjogMywKICAic3Ryb2tlIjogdHJ1ZSwKICAid2VpZ2h0IjogMwp9CiAgICAgICAgICAgICAgICApLmFkZFRvKG1hcF9lYzgzZDIxMDE0NDA0YTdhOWFkNTQ5ZmQwNmQxNGI2OSk7CiAgICAgICAgICAgIAogICAgCiAgICAgICAgICAgIHZhciBwb3B1cF85ZTI3ODI2OTdhZGI0NDFhODVhZWRiZTY3NWExNTJlNyA9IEwucG9wdXAoe21heFdpZHRoOiAnMzAwJ30pOwoKICAgICAgICAgICAgCiAgICAgICAgICAgICAgICB2YXIgaHRtbF8yZWIzMWY5MGE5ZGE0YWZhYjQ5Zjg5NjRjMzc4MDNhMCA9ICQoJzxkaXYgaWQ9Imh0bWxfMmViMzFmOTBhOWRhNGFmYWI0OWY4OTY0YzM3ODAzYTAiIHN0eWxlPSJ3aWR0aDogMTAwLjAlOyBoZWlnaHQ6IDEwMC4wJTsiPkNvbGxlZ2Ugb3IgVW5pdmVyc2l0eTwvZGl2PicpWzBdOwogICAgICAgICAgICAgICAgcG9wdXBfOWUyNzgyNjk3YWRiNDQxYTg1YWVkYmU2NzVhMTUyZTcuc2V0Q29udGVudChodG1sXzJlYjMxZjkwYTlkYTRhZmFiNDlmODk2NGMzNzgwM2EwKTsKICAgICAgICAgICAgCgogICAgICAgICAgICBjaXJjbGVfbWFya2VyXzA5YjJkZWE4MzMzNjQwMjBiYzU5NzYzNjE2MWZiMDRhLmJpbmRQb3B1cChwb3B1cF85ZTI3ODI2OTdhZGI0NDFhODVhZWRiZTY3NWExNTJlNyk7CgogICAgICAgICAgICAKICAgICAgICAKICAgIAogICAgICAgICAgICB2YXIgY2lyY2xlX21hcmtlcl8wZDA4YmJiZGE1MjY0ZjEyOWE0ZGFmMTQ2MWRkNjBlNSA9IEwuY2lyY2xlTWFya2VyKAogICAgICAgICAgICAgICAgWzE4LjUwODU5NDQwMTk2OTcwMiw3My44NDk0MDQwODUyNjAyXSwKICAgICAgICAgICAgICAgIHsKICAiYnViYmxpbmdNb3VzZUV2ZW50cyI6IHRydWUsCiAgImNvbG9yIjogImJsdWUiLAogICJkYXNoQXJyYXkiOiBudWxsLAogICJkYXNoT2Zmc2V0IjogbnVsbCwKICAiZmlsbCI6IHRydWUsCiAgImZpbGxDb2xvciI6ICJibHVlIiwKICAiZmlsbE9wYWNpdHkiOiAwLjYsCiAgImZpbGxSdWxlIjogImV2ZW5vZGQiLAogICJsaW5lQ2FwIjogInJvdW5kIiwKICAibGluZUpvaW4iOiAicm91bmQiLAogICJvcGFjaXR5IjogMS4wLAogICJyYWRpdXMiOiAzLAogICJzdHJva2UiOiB0cnVlLAogICJ3ZWlnaHQiOiAzCn0KICAgICAgICAgICAgICAgICkuYWRkVG8obWFwX2VjODNkMjEwMTQ0MDRhN2E5YWQ1NDlmZDA2ZDE0YjY5KTsKICAgICAgICAgICAgCiAgICAKICAgICAgICAgICAgdmFyIHBvcHVwX2ExYzk4YmEzMTM1MDQ1MmJhOTIxMzVlMGRhNDNhNTczID0gTC5wb3B1cCh7bWF4V2lkdGg6ICczMDAnfSk7CgogICAgICAgICAgICAKICAgICAgICAgICAgICAgIHZhciBodG1sX2UxOTZhZjJhMzQ0OTQ0MGY5ZmQ4MjVhODcyMmZiODI1ID0gJCgnPGRpdiBpZD0iaHRtbF9lMTk2YWYyYTM0NDk0NDBmOWZkODI1YTg3MjJmYjgyNSIgc3R5bGU9IndpZHRoOiAxMDAuMCU7IGhlaWdodDogMTAwLjAlOyI+Q29sbGVnZSBvciBVbml2ZXJzaXR5PC9kaXY+JylbMF07CiAgICAgICAgICAgICAgICBwb3B1cF9hMWM5OGJhMzEzNTA0NTJiYTkyMTM1ZTBkYTQzYTU3My5zZXRDb250ZW50KGh0bWxfZTE5NmFmMmEzNDQ5NDQwZjlmZDgyNWE4NzIyZmI4MjUpOwogICAgICAgICAgICAKCiAgICAgICAgICAgIGNpcmNsZV9tYXJrZXJfMGQwOGJiYmRhNTI2NGYxMjlhNGRhZjE0NjFkZDYwZTUuYmluZFBvcHVwKHBvcHVwX2ExYzk4YmEzMTM1MDQ1MmJhOTIxMzVlMGRhNDNhNTczKTsKCiAgICAgICAgICAgIAogICAgICAgIAogICAgCiAgICAgICAgICAgIHZhciBjaXJjbGVfbWFya2VyXzk2NGQ4ZmJiMzMyNTRiYzViOGE2NDVkNWQzODk5MjNlID0gTC5jaXJjbGVNYXJrZXIoCiAgICAgICAgICAgICAgICBbMTguNTIyMDkzNDM4NjM5MTY4LDczLjg0MTA3MDY4Nzg2OTYyXSwKICAgICAgICAgICAgICAgIHsKICAiYnViYmxpbmdNb3VzZUV2ZW50cyI6IHRydWUsCiAgImNvbG9yIjogImJsdWUiLAogICJkYXNoQXJyYXkiOiBudWxsLAogICJkYXNoT2Zmc2V0IjogbnVsbCwKICAiZmlsbCI6IHRydWUsCiAgImZpbGxDb2xvciI6ICJibHVlIiwKICAiZmlsbE9wYWNpdHkiOiAwLjYsCiAgImZpbGxSdWxlIjogImV2ZW5vZGQiLAogICJsaW5lQ2FwIjogInJvdW5kIiwKICAibGluZUpvaW4iOiAicm91bmQiLAogICJvcGFjaXR5IjogMS4wLAogICJyYWRpdXMiOiAzLAogICJzdHJva2UiOiB0cnVlLAogICJ3ZWlnaHQiOiAzCn0KICAgICAgICAgICAgICAgICkuYWRkVG8obWFwX2VjODNkMjEwMTQ0MDRhN2E5YWQ1NDlmZDA2ZDE0YjY5KTsKICAgICAgICAgICAgCiAgICAKICAgICAgICAgICAgdmFyIHBvcHVwXzVkZjUxYmVmNzFjODQ4OTg4M2EwNTJhMDBmMmJmZmJjID0gTC5wb3B1cCh7bWF4V2lkdGg6ICczMDAnfSk7CgogICAgICAgICAgICAKICAgICAgICAgICAgICAgIHZhciBodG1sX2YwZTM1Y2UzYzk2ODQ3OTE5YzFkMzM2ZDlhOWNjMWMzID0gJCgnPGRpdiBpZD0iaHRtbF9mMGUzNWNlM2M5Njg0NzkxOWMxZDMzNmQ5YTljYzFjMyIgc3R5bGU9IndpZHRoOiAxMDAuMCU7IGhlaWdodDogMTAwLjAlOyI+Q29sbGVnZSBvciBVbml2ZXJzaXR5PC9kaXY+JylbMF07CiAgICAgICAgICAgICAgICBwb3B1cF81ZGY1MWJlZjcxYzg0ODk4ODNhMDUyYTAwZjJiZmZiYy5zZXRDb250ZW50KGh0bWxfZjBlMzVjZTNjOTY4NDc5MTljMWQzMzZkOWE5Y2MxYzMpOwogICAgICAgICAgICAKCiAgICAgICAgICAgIGNpcmNsZV9tYXJrZXJfOTY0ZDhmYmIzMzI1NGJjNWI4YTY0NWQ1ZDM4OTkyM2UuYmluZFBvcHVwKHBvcHVwXzVkZjUxYmVmNzFjODQ4OTg4M2EwNTJhMDBmMmJmZmJjKTsKCiAgICAgICAgICAgIAogICAgICAgIAogICAgCiAgICAgICAgICAgIHZhciBjaXJjbGVfbWFya2VyXzgwN2UyZWJhMTUzZTQxYjdiYmJkYjA4NThkYmEwYzMzID0gTC5jaXJjbGVNYXJrZXIoCiAgICAgICAgICAgICAgICBbMTguNTMwNTgzMzQ5MDgwNiw3My44NDEwNzA2ODc4Njk2Ml0sCiAgICAgICAgICAgICAgICB7CiAgImJ1YmJsaW5nTW91c2VFdmVudHMiOiB0cnVlLAogICJjb2xvciI6ICJibHVlIiwKICAiZGFzaEFycmF5IjogbnVsbCwKICAiZGFzaE9mZnNldCI6IG51bGwsCiAgImZpbGwiOiB0cnVlLAogICJmaWxsQ29sb3IiOiAiYmx1ZSIsCiAgImZpbGxPcGFjaXR5IjogMC42LAogICJmaWxsUnVsZSI6ICJldmVub2RkIiwKICAibGluZUNhcCI6ICJyb3VuZCIsCiAgImxpbmVKb2luIjogInJvdW5kIiwKICAib3BhY2l0eSI6IDEuMCwKICAicmFkaXVzIjogMywKICAic3Ryb2tlIjogdHJ1ZSwKICAid2VpZ2h0IjogMwp9CiAgICAgICAgICAgICAgICApLmFkZFRvKG1hcF9lYzgzZDIxMDE0NDA0YTdhOWFkNTQ5ZmQwNmQxNGI2OSk7CiAgICAgICAgICAgIAogICAgCiAgICAgICAgICAgIHZhciBwb3B1cF9jYmIwYmZjNWI3Mjk0ZmRhODI0ZDkxNTRlZGU4Y2Q2ZiA9IEwucG9wdXAoe21heFdpZHRoOiAnMzAwJ30pOwoKICAgICAgICAgICAgCiAgICAgICAgICAgICAgICB2YXIgaHRtbF8zZjZiZjZjMzRmM2I0ZDU3ODQ3MzJkZmY2YWE2Yjc1NSA9ICQoJzxkaXYgaWQ9Imh0bWxfM2Y2YmY2YzM0ZjNiNGQ1Nzg0NzMyZGZmNmFhNmI3NTUiIHN0eWxlPSJ3aWR0aDogMTAwLjAlOyBoZWlnaHQ6IDEwMC4wJTsiPkNvbGxlZ2Ugb3IgVW5pdmVyc2l0eTwvZGl2PicpWzBdOwogICAgICAgICAgICAgICAgcG9wdXBfY2JiMGJmYzViNzI5NGZkYTgyNGQ5MTU0ZWRlOGNkNmYuc2V0Q29udGVudChodG1sXzNmNmJmNmMzNGYzYjRkNTc4NDczMmRmZjZhYTZiNzU1KTsKICAgICAgICAgICAgCgogICAgICAgICAgICBjaXJjbGVfbWFya2VyXzgwN2UyZWJhMTUzZTQxYjdiYmJkYjA4NThkYmEwYzMzLmJpbmRQb3B1cChwb3B1cF9jYmIwYmZjNWI3Mjk0ZmRhODI0ZDkxNTRlZGU4Y2Q2Zik7CgogICAgICAgICAgICAKICAgICAgICAKICAgIAogICAgICAgICAgICB2YXIgY2lyY2xlX21hcmtlcl8zZmU5NmFmM2UyMTc0ZDBiYmY5NDRkOGZhZGE3NTdhNiA9IEwuY2lyY2xlTWFya2VyKAogICAgICAgICAgICAgICAgWzE4LjUyNjkyOTYzMjQxMjY0LDczLjg0MDMyOTc5Njc2NjE4XSwKICAgICAgICAgICAgICAgIHsKICAiYnViYmxpbmdNb3VzZUV2ZW50cyI6IHRydWUsCiAgImNvbG9yIjogImJsdWUiLAogICJkYXNoQXJyYXkiOiBudWxsLAogICJkYXNoT2Zmc2V0IjogbnVsbCwKICAiZmlsbCI6IHRydWUsCiAgImZpbGxDb2xvciI6ICJibHVlIiwKICAiZmlsbE9wYWNpdHkiOiAwLjYsCiAgImZpbGxSdWxlIjogImV2ZW5vZGQiLAogICJsaW5lQ2FwIjogInJvdW5kIiwKICAibGluZUpvaW4iOiAicm91bmQiLAogICJvcGFjaXR5IjogMS4wLAogICJyYWRpdXMiOiAzLAogICJzdHJva2UiOiB0cnVlLAogICJ3ZWlnaHQiOiAzCn0KICAgICAgICAgICAgICAgICkuYWRkVG8obWFwX2VjODNkMjEwMTQ0MDRhN2E5YWQ1NDlmZDA2ZDE0YjY5KTsKICAgICAgICAgICAgCiAgICAKICAgICAgICAgICAgdmFyIHBvcHVwX2RiOWY5OTk1MGJmNTQwYTdiOTljYmI3ZWJlOGQ4ODU1ID0gTC5wb3B1cCh7bWF4V2lkdGg6ICczMDAnfSk7CgogICAgICAgICAgICAKICAgICAgICAgICAgICAgIHZhciBodG1sX2U1MjBlNDIxNmVhMTQ3OGJiY2EyNThlMDM0MzIyNGMwID0gJCgnPGRpdiBpZD0iaHRtbF9lNTIwZTQyMTZlYTE0NzhiYmNhMjU4ZTAzNDMyMjRjMCIgc3R5bGU9IndpZHRoOiAxMDAuMCU7IGhlaWdodDogMTAwLjAlOyI+Q29sbGVnZSBvciBVbml2ZXJzaXR5PC9kaXY+JylbMF07CiAgICAgICAgICAgICAgICBwb3B1cF9kYjlmOTk5NTBiZjU0MGE3Yjk5Y2JiN2ViZThkODg1NS5zZXRDb250ZW50KGh0bWxfZTUyMGU0MjE2ZWExNDc4YmJjYTI1OGUwMzQzMjI0YzApOwogICAgICAgICAgICAKCiAgICAgICAgICAgIGNpcmNsZV9tYXJrZXJfM2ZlOTZhZjNlMjE3NGQwYmJmOTQ0ZDhmYWRhNzU3YTYuYmluZFBvcHVwKHBvcHVwX2RiOWY5OTk1MGJmNTQwYTdiOTljYmI3ZWJlOGQ4ODU1KTsKCiAgICAgICAgICAgIAogICAgICAgIAogICAgCiAgICAgICAgICAgIHZhciBjaXJjbGVfbWFya2VyX2MwM2M2Yjc5ZjM2ZTQwZGRhMDIwODBiNGY2ZjgxZmQ0ID0gTC5jaXJjbGVNYXJrZXIoCiAgICAgICAgICAgICAgICBbMTguNTA5NzAyNzA2NjE1NDM1LDczLjg1NDI5NDk4MjE4MDUzXSwKICAgICAgICAgICAgICAgIHsKICAiYnViYmxpbmdNb3VzZUV2ZW50cyI6IHRydWUsCiAgImNvbG9yIjogImJsdWUiLAogICJkYXNoQXJyYXkiOiBudWxsLAogICJkYXNoT2Zmc2V0IjogbnVsbCwKICAiZmlsbCI6IHRydWUsCiAgImZpbGxDb2xvciI6ICJibHVlIiwKICAiZmlsbE9wYWNpdHkiOiAwLjYsCiAgImZpbGxSdWxlIjogImV2ZW5vZGQiLAogICJsaW5lQ2FwIjogInJvdW5kIiwKICAibGluZUpvaW4iOiAicm91bmQiLAogICJvcGFjaXR5IjogMS4wLAogICJyYWRpdXMiOiAzLAogICJzdHJva2UiOiB0cnVlLAogICJ3ZWlnaHQiOiAzCn0KICAgICAgICAgICAgICAgICkuYWRkVG8obWFwX2VjODNkMjEwMTQ0MDRhN2E5YWQ1NDlmZDA2ZDE0YjY5KTsKICAgICAgICAgICAgCiAgICAKICAgICAgICAgICAgdmFyIHBvcHVwXzg1M2YwYjk2ODc4MDQyNWQ4YjVkZDhiZWYzOGYzNzIwID0gTC5wb3B1cCh7bWF4V2lkdGg6ICczMDAnfSk7CgogICAgICAgICAgICAKICAgICAgICAgICAgICAgIHZhciBodG1sX2YyMjllNmU2OGY5YjQzM2I5MWRmODUxNDg4MDM5YWI0ID0gJCgnPGRpdiBpZD0iaHRtbF9mMjI5ZTZlNjhmOWI0MzNiOTFkZjg1MTQ4ODAzOWFiNCIgc3R5bGU9IndpZHRoOiAxMDAuMCU7IGhlaWdodDogMTAwLjAlOyI+Q29sbGVnZSBvciBVbml2ZXJzaXR5PC9kaXY+JylbMF07CiAgICAgICAgICAgICAgICBwb3B1cF84NTNmMGI5Njg3ODA0MjVkOGI1ZGQ4YmVmMzhmMzcyMC5zZXRDb250ZW50KGh0bWxfZjIyOWU2ZTY4ZjliNDMzYjkxZGY4NTE0ODgwMzlhYjQpOwogICAgICAgICAgICAKCiAgICAgICAgICAgIGNpcmNsZV9tYXJrZXJfYzAzYzZiNzlmMzZlNDBkZGEwMjA4MGI0ZjZmODFmZDQuYmluZFBvcHVwKHBvcHVwXzg1M2YwYjk2ODc4MDQyNWQ4YjVkZDhiZWYzOGYzNzIwKTsKCiAgICAgICAgICAgIAogICAgICAgIAogICAgCiAgICAgICAgICAgIHZhciBjaXJjbGVfbWFya2VyX2YwNTkxMDU4N2JkOTQzZDE5Y2M3ZTUxMjM3OTE0ZWVhID0gTC5jaXJjbGVNYXJrZXIoCiAgICAgICAgICAgICAgICBbMTguNjI0NTU3MjA4NTA5NDMzLDczLjgyMDcwOTUzMDExMTFdLAogICAgICAgICAgICAgICAgewogICJidWJibGluZ01vdXNlRXZlbnRzIjogdHJ1ZSwKICAiY29sb3IiOiAiYmx1ZSIsCiAgImRhc2hBcnJheSI6IG51bGwsCiAgImRhc2hPZmZzZXQiOiBudWxsLAogICJmaWxsIjogdHJ1ZSwKICAiZmlsbENvbG9yIjogImJsdWUiLAogICJmaWxsT3BhY2l0eSI6IDAuNiwKICAiZmlsbFJ1bGUiOiAiZXZlbm9kZCIsCiAgImxpbmVDYXAiOiAicm91bmQiLAogICJsaW5lSm9pbiI6ICJyb3VuZCIsCiAgIm9wYWNpdHkiOiAxLjAsCiAgInJhZGl1cyI6IDMsCiAgInN0cm9rZSI6IHRydWUsCiAgIndlaWdodCI6IDMKfQogICAgICAgICAgICAgICAgKS5hZGRUbyhtYXBfZWM4M2QyMTAxNDQwNGE3YTlhZDU0OWZkMDZkMTRiNjkpOwogICAgICAgICAgICAKICAgIAogICAgICAgICAgICB2YXIgcG9wdXBfNmQ2ZjIyNzVkMzBmNDIxZmFkYzUwODE4M2QzNDkzNmIgPSBMLnBvcHVwKHttYXhXaWR0aDogJzMwMCd9KTsKCiAgICAgICAgICAgIAogICAgICAgICAgICAgICAgdmFyIGh0bWxfNTgzMjAzNDhjNzk4NDc3ZjkxYzdjNzM0MTFiYTk4NmQgPSAkKCc8ZGl2IGlkPSJodG1sXzU4MzIwMzQ4Yzc5ODQ3N2Y5MWM3YzczNDExYmE5ODZkIiBzdHlsZT0id2lkdGg6IDEwMC4wJTsgaGVpZ2h0OiAxMDAuMCU7Ij5Db2xsZWdlIG9yIFVuaXZlcnNpdHk8L2Rpdj4nKVswXTsKICAgICAgICAgICAgICAgIHBvcHVwXzZkNmYyMjc1ZDMwZjQyMWZhZGM1MDgxODNkMzQ5MzZiLnNldENvbnRlbnQoaHRtbF81ODMyMDM0OGM3OTg0NzdmOTFjN2M3MzQxMWJhOTg2ZCk7CiAgICAgICAgICAgIAoKICAgICAgICAgICAgY2lyY2xlX21hcmtlcl9mMDU5MTA1ODdiZDk0M2QxOWNjN2U1MTIzNzkxNGVlYS5iaW5kUG9wdXAocG9wdXBfNmQ2ZjIyNzVkMzBmNDIxZmFkYzUwODE4M2QzNDkzNmIpOwoKICAgICAgICAgICAgCiAgICAgICAgCiAgICAKICAgICAgICAgICAgdmFyIGNpcmNsZV9tYXJrZXJfNDg0OTA2NDQ3ZDJjNGU4MGE3Yjc4MzZlYmE0OTRiOWIgPSBMLmNpcmNsZU1hcmtlcigKICAgICAgICAgICAgICAgIFsxOC42MjMyOTg2NDUwMTk1Myw3My44MDIyNDYwOTM3NV0sCiAgICAgICAgICAgICAgICB7CiAgImJ1YmJsaW5nTW91c2VFdmVudHMiOiB0cnVlLAogICJjb2xvciI6ICJibHVlIiwKICAiZGFzaEFycmF5IjogbnVsbCwKICAiZGFzaE9mZnNldCI6IG51bGwsCiAgImZpbGwiOiB0cnVlLAogICJmaWxsQ29sb3IiOiAiYmx1ZSIsCiAgImZpbGxPcGFjaXR5IjogMC42LAogICJmaWxsUnVsZSI6ICJldmVub2RkIiwKICAibGluZUNhcCI6ICJyb3VuZCIsCiAgImxpbmVKb2luIjogInJvdW5kIiwKICAib3BhY2l0eSI6IDEuMCwKICAicmFkaXVzIjogMywKICAic3Ryb2tlIjogdHJ1ZSwKICAid2VpZ2h0IjogMwp9CiAgICAgICAgICAgICAgICApLmFkZFRvKG1hcF9lYzgzZDIxMDE0NDA0YTdhOWFkNTQ5ZmQwNmQxNGI2OSk7CiAgICAgICAgICAgIAogICAgCiAgICAgICAgICAgIHZhciBwb3B1cF9mY2YzMjhkNDQ5ZTc0MmJhOTM0NWU3MWYzMDA5ZjEzZCA9IEwucG9wdXAoe21heFdpZHRoOiAnMzAwJ30pOwoKICAgICAgICAgICAgCiAgICAgICAgICAgICAgICB2YXIgaHRtbF84ZTFmN2Y5NjJiN2E0MzRhYjY5MWI1ODEzZTg4YzI1YSA9ICQoJzxkaXYgaWQ9Imh0bWxfOGUxZjdmOTYyYjdhNDM0YWI2OTFiNTgxM2U4OGMyNWEiIHN0eWxlPSJ3aWR0aDogMTAwLjAlOyBoZWlnaHQ6IDEwMC4wJTsiPkNvbGxlZ2Ugb3IgVW5pdmVyc2l0eTwvZGl2PicpWzBdOwogICAgICAgICAgICAgICAgcG9wdXBfZmNmMzI4ZDQ0OWU3NDJiYTkzNDVlNzFmMzAwOWYxM2Quc2V0Q29udGVudChodG1sXzhlMWY3Zjk2MmI3YTQzNGFiNjkxYjU4MTNlODhjMjVhKTsKICAgICAgICAgICAgCgogICAgICAgICAgICBjaXJjbGVfbWFya2VyXzQ4NDkwNjQ0N2QyYzRlODBhN2I3ODM2ZWJhNDk0YjliLmJpbmRQb3B1cChwb3B1cF9mY2YzMjhkNDQ5ZTc0MmJhOTM0NWU3MWYzMDA5ZjEzZCk7CgogICAgICAgICAgICAKICAgICAgICAKICAgIAogICAgICAgICAgICB2YXIgY2lyY2xlX21hcmtlcl81ZDRiMzNjOGQ2MzA0NzgxOWYyNWQzZTc3MDdhMmI3MSA9IEwuY2lyY2xlTWFya2VyKAogICAgICAgICAgICAgICAgWzE4LjYzMDY5MzQ0NDg0NjM3Miw3My43OTEzNTU5MTU0NjgyN10sCiAgICAgICAgICAgICAgICB7CiAgImJ1YmJsaW5nTW91c2VFdmVudHMiOiB0cnVlLAogICJjb2xvciI6ICJibHVlIiwKICAiZGFzaEFycmF5IjogbnVsbCwKICAiZGFzaE9mZnNldCI6IG51bGwsCiAgImZpbGwiOiB0cnVlLAogICJmaWxsQ29sb3IiOiAiYmx1ZSIsCiAgImZpbGxPcGFjaXR5IjogMC42LAogICJmaWxsUnVsZSI6ICJldmVub2RkIiwKICAibGluZUNhcCI6ICJyb3VuZCIsCiAgImxpbmVKb2luIjogInJvdW5kIiwKICAib3BhY2l0eSI6IDEuMCwKICAicmFkaXVzIjogMywKICAic3Ryb2tlIjogdHJ1ZSwKICAid2VpZ2h0IjogMwp9CiAgICAgICAgICAgICAgICApLmFkZFRvKG1hcF9lYzgzZDIxMDE0NDA0YTdhOWFkNTQ5ZmQwNmQxNGI2OSk7CiAgICAgICAgICAgIAogICAgCiAgICAgICAgICAgIHZhciBwb3B1cF84NmUyOTQwYzQ5YWQ0OTczOGRhMDY5NzFiNDhiNTVjZCA9IEwucG9wdXAoe21heFdpZHRoOiAnMzAwJ30pOwoKICAgICAgICAgICAgCiAgICAgICAgICAgICAgICB2YXIgaHRtbF9hY2E1MjQ3ODJmOWI0NWY2OGRkNThmMWU0NTllZGM1OCA9ICQoJzxkaXYgaWQ9Imh0bWxfYWNhNTI0NzgyZjliNDVmNjhkZDU4ZjFlNDU5ZWRjNTgiIHN0eWxlPSJ3aWR0aDogMTAwLjAlOyBoZWlnaHQ6IDEwMC4wJTsiPkNvbGxlZ2Ugb3IgVW5pdmVyc2l0eTwvZGl2PicpWzBdOwogICAgICAgICAgICAgICAgcG9wdXBfODZlMjk0MGM0OWFkNDk3MzhkYTA2OTcxYjQ4YjU1Y2Quc2V0Q29udGVudChodG1sX2FjYTUyNDc4MmY5YjQ1ZjY4ZGQ1OGYxZTQ1OWVkYzU4KTsKICAgICAgICAgICAgCgogICAgICAgICAgICBjaXJjbGVfbWFya2VyXzVkNGIzM2M4ZDYzMDQ3ODE5ZjI1ZDNlNzcwN2EyYjcxLmJpbmRQb3B1cChwb3B1cF84NmUyOTQwYzQ5YWQ0OTczOGRhMDY5NzFiNDhiNTVjZCk7CgogICAgICAgICAgICAKICAgICAgICAKICAgIAogICAgICAgICAgICB2YXIgY2lyY2xlX21hcmtlcl9iZDJlOWZkNjU0ZjY0NzM5YWE5NmYxOWQ0NTYwZWVkNSA9IEwuY2lyY2xlTWFya2VyKAogICAgICAgICAgICAgICAgWzE4LjYyNDc2NjQwODY5Niw3My44MjEwODg2Mjg2MzY5OV0sCiAgICAgICAgICAgICAgICB7CiAgImJ1YmJsaW5nTW91c2VFdmVudHMiOiB0cnVlLAogICJjb2xvciI6ICJibHVlIiwKICAiZGFzaEFycmF5IjogbnVsbCwKICAiZGFzaE9mZnNldCI6IG51bGwsCiAgImZpbGwiOiB0cnVlLAogICJmaWxsQ29sb3IiOiAiYmx1ZSIsCiAgImZpbGxPcGFjaXR5IjogMC42LAogICJmaWxsUnVsZSI6ICJldmVub2RkIiwKICAibGluZUNhcCI6ICJyb3VuZCIsCiAgImxpbmVKb2luIjogInJvdW5kIiwKICAib3BhY2l0eSI6IDEuMCwKICAicmFkaXVzIjogMywKICAic3Ryb2tlIjogdHJ1ZSwKICAid2VpZ2h0IjogMwp9CiAgICAgICAgICAgICAgICApLmFkZFRvKG1hcF9lYzgzZDIxMDE0NDA0YTdhOWFkNTQ5ZmQwNmQxNGI2OSk7CiAgICAgICAgICAgIAogICAgCiAgICAgICAgICAgIHZhciBwb3B1cF8wMmJjN2Y2ZmZjZTQ0OTkyYWY5NGY1NGExNDhjNjI4NyA9IEwucG9wdXAoe21heFdpZHRoOiAnMzAwJ30pOwoKICAgICAgICAgICAgCiAgICAgICAgICAgICAgICB2YXIgaHRtbF83NjM5OWJiYTRhZGI0NDBkOGY5NWVjZTllMWFmNzRmMiA9ICQoJzxkaXYgaWQ9Imh0bWxfNzYzOTliYmE0YWRiNDQwZDhmOTVlY2U5ZTFhZjc0ZjIiIHN0eWxlPSJ3aWR0aDogMTAwLjAlOyBoZWlnaHQ6IDEwMC4wJTsiPkNvbGxlZ2Ugb3IgVW5pdmVyc2l0eTwvZGl2PicpWzBdOwogICAgICAgICAgICAgICAgcG9wdXBfMDJiYzdmNmZmY2U0NDk5MmFmOTRmNTRhMTQ4YzYyODcuc2V0Q29udGVudChodG1sXzc2Mzk5YmJhNGFkYjQ0MGQ4Zjk1ZWNlOWUxYWY3NGYyKTsKICAgICAgICAgICAgCgogICAgICAgICAgICBjaXJjbGVfbWFya2VyX2JkMmU5ZmQ2NTRmNjQ3MzlhYTk2ZjE5ZDQ1NjBlZWQ1LmJpbmRQb3B1cChwb3B1cF8wMmJjN2Y2ZmZjZTQ0OTkyYWY5NGY1NGExNDhjNjI4Nyk7CgogICAgICAgICAgICAKICAgICAgICAKICAgIAogICAgICAgICAgICB2YXIgY2lyY2xlX21hcmtlcl8xMzNiN2YwYTk4NDE0MzQ1YjVjOGRmMTU4MzUyMmY1NyA9IEwuY2lyY2xlTWFya2VyKAogICAgICAgICAgICAgICAgWzE4LjYzODcyMzIxMTc2NDI0NCw3My44MDI4MTY0MDQyNzk1MV0sCiAgICAgICAgICAgICAgICB7CiAgImJ1YmJsaW5nTW91c2VFdmVudHMiOiB0cnVlLAogICJjb2xvciI6ICJibHVlIiwKICAiZGFzaEFycmF5IjogbnVsbCwKICAiZGFzaE9mZnNldCI6IG51bGwsCiAgImZpbGwiOiB0cnVlLAogICJmaWxsQ29sb3IiOiAiYmx1ZSIsCiAgImZpbGxPcGFjaXR5IjogMC42LAogICJmaWxsUnVsZSI6ICJldmVub2RkIiwKICAibGluZUNhcCI6ICJyb3VuZCIsCiAgImxpbmVKb2luIjogInJvdW5kIiwKICAib3BhY2l0eSI6IDEuMCwKICAicmFkaXVzIjogMywKICAic3Ryb2tlIjogdHJ1ZSwKICAid2VpZ2h0IjogMwp9CiAgICAgICAgICAgICAgICApLmFkZFRvKG1hcF9lYzgzZDIxMDE0NDA0YTdhOWFkNTQ5ZmQwNmQxNGI2OSk7CiAgICAgICAgICAgIAogICAgCiAgICAgICAgICAgIHZhciBwb3B1cF9hNDMwNWYzZDU0MWY0ZTdlOTMyZDljY2U2NmQzZjY4MiA9IEwucG9wdXAoe21heFdpZHRoOiAnMzAwJ30pOwoKICAgICAgICAgICAgCiAgICAgICAgICAgICAgICB2YXIgaHRtbF9hNTQ4ODhhNzAwODk0M2UyYjQ3YjhjYTIxYWM5ODRlNSA9ICQoJzxkaXYgaWQ9Imh0bWxfYTU0ODg4YTcwMDg5NDNlMmI0N2I4Y2EyMWFjOTg0ZTUiIHN0eWxlPSJ3aWR0aDogMTAwLjAlOyBoZWlnaHQ6IDEwMC4wJTsiPkNvbGxlZ2Ugb3IgVW5pdmVyc2l0eTwvZGl2PicpWzBdOwogICAgICAgICAgICAgICAgcG9wdXBfYTQzMDVmM2Q1NDFmNGU3ZTkzMmQ5Y2NlNjZkM2Y2ODIuc2V0Q29udGVudChodG1sX2E1NDg4OGE3MDA4OTQzZTJiNDdiOGNhMjFhYzk4NGU1KTsKICAgICAgICAgICAgCgogICAgICAgICAgICBjaXJjbGVfbWFya2VyXzEzM2I3ZjBhOTg0MTQzNDViNWM4ZGYxNTgzNTIyZjU3LmJpbmRQb3B1cChwb3B1cF9hNDMwNWYzZDU0MWY0ZTdlOTMyZDljY2U2NmQzZjY4Mik7CgogICAgICAgICAgICAKICAgICAgICAKICAgIAogICAgICAgICAgICB2YXIgY2lyY2xlX21hcmtlcl82MDFlYTlhOGRmZjg0MzMyYWM3YzVhNzhkY2YxM2Q5MCA9IEwuY2lyY2xlTWFya2VyKAogICAgICAgICAgICAgICAgWzE4LjY0NTU1Mzg3NDU3OTI5Miw3My43NTgzMDE3MzQ5MjQzMl0sCiAgICAgICAgICAgICAgICB7CiAgImJ1YmJsaW5nTW91c2VFdmVudHMiOiB0cnVlLAogICJjb2xvciI6ICJibHVlIiwKICAiZGFzaEFycmF5IjogbnVsbCwKICAiZGFzaE9mZnNldCI6IG51bGwsCiAgImZpbGwiOiB0cnVlLAogICJmaWxsQ29sb3IiOiAiYmx1ZSIsCiAgImZpbGxPcGFjaXR5IjogMC42LAogICJmaWxsUnVsZSI6ICJldmVub2RkIiwKICAibGluZUNhcCI6ICJyb3VuZCIsCiAgImxpbmVKb2luIjogInJvdW5kIiwKICAib3BhY2l0eSI6IDEuMCwKICAicmFkaXVzIjogMywKICAic3Ryb2tlIjogdHJ1ZSwKICAid2VpZ2h0IjogMwp9CiAgICAgICAgICAgICAgICApLmFkZFRvKG1hcF9lYzgzZDIxMDE0NDA0YTdhOWFkNTQ5ZmQwNmQxNGI2OSk7CiAgICAgICAgICAgIAogICAgCiAgICAgICAgICAgIHZhciBwb3B1cF83YmE4NzY1ZjA3MDc0YzkzYjZlYzdiNTJjYjYxNjZmNSA9IEwucG9wdXAoe21heFdpZHRoOiAnMzAwJ30pOwoKICAgICAgICAgICAgCiAgICAgICAgICAgICAgICB2YXIgaHRtbF84MWIwNDBjMDc2ZDE0MjM3OTEyYWQzODU3YTRlMmZjYyA9ICQoJzxkaXYgaWQ9Imh0bWxfODFiMDQwYzA3NmQxNDIzNzkxMmFkMzg1N2E0ZTJmY2MiIHN0eWxlPSJ3aWR0aDogMTAwLjAlOyBoZWlnaHQ6IDEwMC4wJTsiPkNvbGxlZ2Ugb3IgVW5pdmVyc2l0eTwvZGl2PicpWzBdOwogICAgICAgICAgICAgICAgcG9wdXBfN2JhODc2NWYwNzA3NGM5M2I2ZWM3YjUyY2I2MTY2ZjUuc2V0Q29udGVudChodG1sXzgxYjA0MGMwNzZkMTQyMzc5MTJhZDM4NTdhNGUyZmNjKTsKICAgICAgICAgICAgCgogICAgICAgICAgICBjaXJjbGVfbWFya2VyXzYwMWVhOWE4ZGZmODQzMzJhYzdjNWE3OGRjZjEzZDkwLmJpbmRQb3B1cChwb3B1cF83YmE4NzY1ZjA3MDc0YzkzYjZlYzdiNTJjYjYxNjZmNSk7CgogICAgICAgICAgICAKICAgICAgICAKICAgIAogICAgICAgICAgICB2YXIgY2lyY2xlX21hcmtlcl9mYTk3NGIzZjU2NmI0ZjhhYjFlNTIyOTllYzIxMTNiOCA9IEwuY2lyY2xlTWFya2VyKAogICAgICAgICAgICAgICAgWzE4LjYxODg0MzA3ODYxMzI4LDczLjgxMTgwNTcyNTA5NzY2XSwKICAgICAgICAgICAgICAgIHsKICAiYnViYmxpbmdNb3VzZUV2ZW50cyI6IHRydWUsCiAgImNvbG9yIjogImJsdWUiLAogICJkYXNoQXJyYXkiOiBudWxsLAogICJkYXNoT2Zmc2V0IjogbnVsbCwKICAiZmlsbCI6IHRydWUsCiAgImZpbGxDb2xvciI6ICJibHVlIiwKICAiZmlsbE9wYWNpdHkiOiAwLjYsCiAgImZpbGxSdWxlIjogImV2ZW5vZGQiLAogICJsaW5lQ2FwIjogInJvdW5kIiwKICAibGluZUpvaW4iOiAicm91bmQiLAogICJvcGFjaXR5IjogMS4wLAogICJyYWRpdXMiOiAzLAogICJzdHJva2UiOiB0cnVlLAogICJ3ZWlnaHQiOiAzCn0KICAgICAgICAgICAgICAgICkuYWRkVG8obWFwX2VjODNkMjEwMTQ0MDRhN2E5YWQ1NDlmZDA2ZDE0YjY5KTsKICAgICAgICAgICAgCiAgICAKICAgICAgICAgICAgdmFyIHBvcHVwXzA2YTVjN2NkNTYwYjQwMmNiOWI2NmJiN2FhM2FkYTlmID0gTC5wb3B1cCh7bWF4V2lkdGg6ICczMDAnfSk7CgogICAgICAgICAgICAKICAgICAgICAgICAgICAgIHZhciBodG1sXzEyNzQ4Y2EzNzViYzQxOGJhYjMwMDI5ODVjNjM2MjM1ID0gJCgnPGRpdiBpZD0iaHRtbF8xMjc0OGNhMzc1YmM0MThiYWIzMDAyOTg1YzYzNjIzNSIgc3R5bGU9IndpZHRoOiAxMDAuMCU7IGhlaWdodDogMTAwLjAlOyI+Q29sbGVnZSBvciBVbml2ZXJzaXR5PC9kaXY+JylbMF07CiAgICAgICAgICAgICAgICBwb3B1cF8wNmE1YzdjZDU2MGI0MDJjYjliNjZiYjdhYTNhZGE5Zi5zZXRDb250ZW50KGh0bWxfMTI3NDhjYTM3NWJjNDE4YmFiMzAwMjk4NWM2MzYyMzUpOwogICAgICAgICAgICAKCiAgICAgICAgICAgIGNpcmNsZV9tYXJrZXJfZmE5NzRiM2Y1NjZiNGY4YWIxZTUyMjk5ZWMyMTEzYjguYmluZFBvcHVwKHBvcHVwXzA2YTVjN2NkNTYwYjQwMmNiOWI2NmJiN2FhM2FkYTlmKTsKCiAgICAgICAgICAgIAogICAgICAgIAogICAgCiAgICAgICAgICAgIHZhciBjaXJjbGVfbWFya2VyX2JkYzcyZDMxYTljZDQ2MDE4ZjYzNmQ0N2I3ZjA3M2NkID0gTC5jaXJjbGVNYXJrZXIoCiAgICAgICAgICAgICAgICBbMTguNTk3OTMwOTMzNjI4MTM1LDczLjgzOTI4Mjk4OTUwMTk1XSwKICAgICAgICAgICAgICAgIHsKICAiYnViYmxpbmdNb3VzZUV2ZW50cyI6IHRydWUsCiAgImNvbG9yIjogImJsdWUiLAogICJkYXNoQXJyYXkiOiBudWxsLAogICJkYXNoT2Zmc2V0IjogbnVsbCwKICAiZmlsbCI6IHRydWUsCiAgImZpbGxDb2xvciI6ICJibHVlIiwKICAiZmlsbE9wYWNpdHkiOiAwLjYsCiAgImZpbGxSdWxlIjogImV2ZW5vZGQiLAogICJsaW5lQ2FwIjogInJvdW5kIiwKICAibGluZUpvaW4iOiAicm91bmQiLAogICJvcGFjaXR5IjogMS4wLAogICJyYWRpdXMiOiAzLAogICJzdHJva2UiOiB0cnVlLAogICJ3ZWlnaHQiOiAzCn0KICAgICAgICAgICAgICAgICkuYWRkVG8obWFwX2VjODNkMjEwMTQ0MDRhN2E5YWQ1NDlmZDA2ZDE0YjY5KTsKICAgICAgICAgICAgCiAgICAKICAgICAgICAgICAgdmFyIHBvcHVwXzU3MjlkMmRiZjU1YjRkZjFhOTZmNDFhZDg1ODQzMTAxID0gTC5wb3B1cCh7bWF4V2lkdGg6ICczMDAnfSk7CgogICAgICAgICAgICAKICAgICAgICAgICAgICAgIHZhciBodG1sXzg2NmIzMzM0ZTBmMzQ4MTE5Yzc1ZTIyNDc3ZjExOTMyID0gJCgnPGRpdiBpZD0iaHRtbF84NjZiMzMzNGUwZjM0ODExOWM3NWUyMjQ3N2YxMTkzMiIgc3R5bGU9IndpZHRoOiAxMDAuMCU7IGhlaWdodDogMTAwLjAlOyI+Q29sbGVnZSBvciBVbml2ZXJzaXR5PC9kaXY+JylbMF07CiAgICAgICAgICAgICAgICBwb3B1cF81NzI5ZDJkYmY1NWI0ZGYxYTk2ZjQxYWQ4NTg0MzEwMS5zZXRDb250ZW50KGh0bWxfODY2YjMzMzRlMGYzNDgxMTljNzVlMjI0NzdmMTE5MzIpOwogICAgICAgICAgICAKCiAgICAgICAgICAgIGNpcmNsZV9tYXJrZXJfYmRjNzJkMzFhOWNkNDYwMThmNjM2ZDQ3YjdmMDczY2QuYmluZFBvcHVwKHBvcHVwXzU3MjlkMmRiZjU1YjRkZjFhOTZmNDFhZDg1ODQzMTAxKTsKCiAgICAgICAgICAgIAogICAgICAgIAogICAgCiAgICAgICAgICAgIHZhciBjaXJjbGVfbWFya2VyXzA1MzdmMDNkODExMTQ1YWE5NWQwMGNiODRiOTE2MDBhID0gTC5jaXJjbGVNYXJrZXIoCiAgICAgICAgICAgICAgICBbMTguNjExNDYzNDY5MDgxNDY4LDczLjc0OTY1NDMzNTEyNjY5XSwKICAgICAgICAgICAgICAgIHsKICAiYnViYmxpbmdNb3VzZUV2ZW50cyI6IHRydWUsCiAgImNvbG9yIjogImJsdWUiLAogICJkYXNoQXJyYXkiOiBudWxsLAogICJkYXNoT2Zmc2V0IjogbnVsbCwKICAiZmlsbCI6IHRydWUsCiAgImZpbGxDb2xvciI6ICJibHVlIiwKICAiZmlsbE9wYWNpdHkiOiAwLjYsCiAgImZpbGxSdWxlIjogImV2ZW5vZGQiLAogICJsaW5lQ2FwIjogInJvdW5kIiwKICAibGluZUpvaW4iOiAicm91bmQiLAogICJvcGFjaXR5IjogMS4wLAogICJyYWRpdXMiOiAzLAogICJzdHJva2UiOiB0cnVlLAogICJ3ZWlnaHQiOiAzCn0KICAgICAgICAgICAgICAgICkuYWRkVG8obWFwX2VjODNkMjEwMTQ0MDRhN2E5YWQ1NDlmZDA2ZDE0YjY5KTsKICAgICAgICAgICAgCiAgICAKICAgICAgICAgICAgdmFyIHBvcHVwXzJlY2I3MWI4YWExMzRhYzk4OTlkZTI2MmM0MmMyMTFkID0gTC5wb3B1cCh7bWF4V2lkdGg6ICczMDAnfSk7CgogICAgICAgICAgICAKICAgICAgICAgICAgICAgIHZhciBodG1sX2MzMTMzYzdjYWQ0ODRmMzA5NTZkODA3ZTAwYWQxMGM5ID0gJCgnPGRpdiBpZD0iaHRtbF9jMzEzM2M3Y2FkNDg0ZjMwOTU2ZDgwN2UwMGFkMTBjOSIgc3R5bGU9IndpZHRoOiAxMDAuMCU7IGhlaWdodDogMTAwLjAlOyI+Q29sbGVnZSBvciBVbml2ZXJzaXR5PC9kaXY+JylbMF07CiAgICAgICAgICAgICAgICBwb3B1cF8yZWNiNzFiOGFhMTM0YWM5ODk5ZGUyNjJjNDJjMjExZC5zZXRDb250ZW50KGh0bWxfYzMxMzNjN2NhZDQ4NGYzMDk1NmQ4MDdlMDBhZDEwYzkpOwogICAgICAgICAgICAKCiAgICAgICAgICAgIGNpcmNsZV9tYXJrZXJfMDUzN2YwM2Q4MTExNDVhYTk1ZDAwY2I4NGI5MTYwMGEuYmluZFBvcHVwKHBvcHVwXzJlY2I3MWI4YWExMzRhYzk4OTlkZTI2MmM0MmMyMTFkKTsKCiAgICAgICAgICAgIAogICAgICAgIAogICAgCiAgICAgICAgICAgIHZhciBjaXJjbGVfbWFya2VyX2RkOThmZjM2OWVkZjRmZWJhYmMyMTE4MWYwN2QxZGM2ID0gTC5jaXJjbGVNYXJrZXIoCiAgICAgICAgICAgICAgICBbMTguNjIxNTE0NDMwMTg1ODYsNzMuODE4MDYxNTY0MTIwNThdLAogICAgICAgICAgICAgICAgewogICJidWJibGluZ01vdXNlRXZlbnRzIjogdHJ1ZSwKICAiY29sb3IiOiAiYmx1ZSIsCiAgImRhc2hBcnJheSI6IG51bGwsCiAgImRhc2hPZmZzZXQiOiBudWxsLAogICJmaWxsIjogdHJ1ZSwKICAiZmlsbENvbG9yIjogImJsdWUiLAogICJmaWxsT3BhY2l0eSI6IDAuNiwKICAiZmlsbFJ1bGUiOiAiZXZlbm9kZCIsCiAgImxpbmVDYXAiOiAicm91bmQiLAogICJsaW5lSm9pbiI6ICJyb3VuZCIsCiAgIm9wYWNpdHkiOiAxLjAsCiAgInJhZGl1cyI6IDMsCiAgInN0cm9rZSI6IHRydWUsCiAgIndlaWdodCI6IDMKfQogICAgICAgICAgICAgICAgKS5hZGRUbyhtYXBfZWM4M2QyMTAxNDQwNGE3YTlhZDU0OWZkMDZkMTRiNjkpOwogICAgICAgICAgICAKICAgIAogICAgICAgICAgICB2YXIgcG9wdXBfNWJhMGM0NjIzYmNmNDlmNDg5ZjBmNWU5NzExMTdhZWMgPSBMLnBvcHVwKHttYXhXaWR0aDogJzMwMCd9KTsKCiAgICAgICAgICAgIAogICAgICAgICAgICAgICAgdmFyIGh0bWxfMzI4MGIwYmIzZWYzNDFjMmFmOTFjNGMwN2Y3MzI4MzQgPSAkKCc8ZGl2IGlkPSJodG1sXzMyODBiMGJiM2VmMzQxYzJhZjkxYzRjMDdmNzMyODM0IiBzdHlsZT0id2lkdGg6IDEwMC4wJTsgaGVpZ2h0OiAxMDAuMCU7Ij5Db2xsZWdlIG9yIFVuaXZlcnNpdHk8L2Rpdj4nKVswXTsKICAgICAgICAgICAgICAgIHBvcHVwXzViYTBjNDYyM2JjZjQ5ZjQ4OWYwZjVlOTcxMTE3YWVjLnNldENvbnRlbnQoaHRtbF8zMjgwYjBiYjNlZjM0MWMyYWY5MWM0YzA3ZjczMjgzNCk7CiAgICAgICAgICAgIAoKICAgICAgICAgICAgY2lyY2xlX21hcmtlcl9kZDk4ZmYzNjllZGY0ZmViYWJjMjExODFmMDdkMWRjNi5iaW5kUG9wdXAocG9wdXBfNWJhMGM0NjIzYmNmNDlmNDg5ZjBmNWU5NzExMTdhZWMpOwoKICAgICAgICAgICAgCiAgICAgICAgCiAgICAKICAgICAgICAgICAgdmFyIGNpcmNsZV9tYXJrZXJfZWNmZmQzYzYzZTUzNDcxM2FiOTU3YWQ5OTQ5MTdjN2YgPSBMLmNpcmNsZU1hcmtlcigKICAgICAgICAgICAgICAgIFsxOC42MjQzMDE3MzIwNTg2NDcsNzMuODIyNzYwMDk5ODQ5NV0sCiAgICAgICAgICAgICAgICB7CiAgImJ1YmJsaW5nTW91c2VFdmVudHMiOiB0cnVlLAogICJjb2xvciI6ICJibHVlIiwKICAiZGFzaEFycmF5IjogbnVsbCwKICAiZGFzaE9mZnNldCI6IG51bGwsCiAgImZpbGwiOiB0cnVlLAogICJmaWxsQ29sb3IiOiAiYmx1ZSIsCiAgImZpbGxPcGFjaXR5IjogMC42LAogICJmaWxsUnVsZSI6ICJldmVub2RkIiwKICAibGluZUNhcCI6ICJyb3VuZCIsCiAgImxpbmVKb2luIjogInJvdW5kIiwKICAib3BhY2l0eSI6IDEuMCwKICAicmFkaXVzIjogMywKICAic3Ryb2tlIjogdHJ1ZSwKICAid2VpZ2h0IjogMwp9CiAgICAgICAgICAgICAgICApLmFkZFRvKG1hcF9lYzgzZDIxMDE0NDA0YTdhOWFkNTQ5ZmQwNmQxNGI2OSk7CiAgICAgICAgICAgIAogICAgCiAgICAgICAgICAgIHZhciBwb3B1cF8xYWJjZDI2NDdjYzA0YWMwODk4ZDE4MjM0YTc4NzQxNyA9IEwucG9wdXAoe21heFdpZHRoOiAnMzAwJ30pOwoKICAgICAgICAgICAgCiAgICAgICAgICAgICAgICB2YXIgaHRtbF9lODIzMmIwNDdhNWE0YjViYTJlYzcxYWQ0MmVlYTcwOCA9ICQoJzxkaXYgaWQ9Imh0bWxfZTgyMzJiMDQ3YTVhNGI1YmEyZWM3MWFkNDJlZWE3MDgiIHN0eWxlPSJ3aWR0aDogMTAwLjAlOyBoZWlnaHQ6IDEwMC4wJTsiPkNvbGxlZ2Ugb3IgVW5pdmVyc2l0eTwvZGl2PicpWzBdOwogICAgICAgICAgICAgICAgcG9wdXBfMWFiY2QyNjQ3Y2MwNGFjMDg5OGQxODIzNGE3ODc0MTcuc2V0Q29udGVudChodG1sX2U4MjMyYjA0N2E1YTRiNWJhMmVjNzFhZDQyZWVhNzA4KTsKICAgICAgICAgICAgCgogICAgICAgICAgICBjaXJjbGVfbWFya2VyX2VjZmZkM2M2M2U1MzQ3MTNhYjk1N2FkOTk0OTE3YzdmLmJpbmRQb3B1cChwb3B1cF8xYWJjZDI2NDdjYzA0YWMwODk4ZDE4MjM0YTc4NzQxNyk7CgogICAgICAgICAgICAKICAgICAgICAKICAgIAogICAgICAgICAgICB2YXIgY2lyY2xlX21hcmtlcl8wY2UyNTkxYjI3YTQ0YWY3OWNjYzgwN2VmYWI1NDA5NyA9IEwuY2lyY2xlTWFya2VyKAogICAgICAgICAgICAgICAgWzE4LjYyNDEzNDgyMTM4MTMzMiw3My44MTk1MDkwNDY2NjAzNl0sCiAgICAgICAgICAgICAgICB7CiAgImJ1YmJsaW5nTW91c2VFdmVudHMiOiB0cnVlLAogICJjb2xvciI6ICJibHVlIiwKICAiZGFzaEFycmF5IjogbnVsbCwKICAiZGFzaE9mZnNldCI6IG51bGwsCiAgImZpbGwiOiB0cnVlLAogICJmaWxsQ29sb3IiOiAiYmx1ZSIsCiAgImZpbGxPcGFjaXR5IjogMC42LAogICJmaWxsUnVsZSI6ICJldmVub2RkIiwKICAibGluZUNhcCI6ICJyb3VuZCIsCiAgImxpbmVKb2luIjogInJvdW5kIiwKICAib3BhY2l0eSI6IDEuMCwKICAicmFkaXVzIjogMywKICAic3Ryb2tlIjogdHJ1ZSwKICAid2VpZ2h0IjogMwp9CiAgICAgICAgICAgICAgICApLmFkZFRvKG1hcF9lYzgzZDIxMDE0NDA0YTdhOWFkNTQ5ZmQwNmQxNGI2OSk7CiAgICAgICAgICAgIAogICAgCiAgICAgICAgICAgIHZhciBwb3B1cF9mMjUwZDg1NDYyZGM0OWUwODNlNTMyN2FlNDE1YmE5OSA9IEwucG9wdXAoe21heFdpZHRoOiAnMzAwJ30pOwoKICAgICAgICAgICAgCiAgICAgICAgICAgICAgICB2YXIgaHRtbF8zMWQ1ZWFkZjViY2Q0YzFiYjIzMDNhYTNiMzk0OWY4MyA9ICQoJzxkaXYgaWQ9Imh0bWxfMzFkNWVhZGY1YmNkNGMxYmIyMzAzYWEzYjM5NDlmODMiIHN0eWxlPSJ3aWR0aDogMTAwLjAlOyBoZWlnaHQ6IDEwMC4wJTsiPkNvbGxlZ2Ugb3IgVW5pdmVyc2l0eTwvZGl2PicpWzBdOwogICAgICAgICAgICAgICAgcG9wdXBfZjI1MGQ4NTQ2MmRjNDllMDgzZTUzMjdhZTQxNWJhOTkuc2V0Q29udGVudChodG1sXzMxZDVlYWRmNWJjZDRjMWJiMjMwM2FhM2IzOTQ5ZjgzKTsKICAgICAgICAgICAgCgogICAgICAgICAgICBjaXJjbGVfbWFya2VyXzBjZTI1OTFiMjdhNDRhZjc5Y2NjODA3ZWZhYjU0MDk3LmJpbmRQb3B1cChwb3B1cF9mMjUwZDg1NDYyZGM0OWUwODNlNTMyN2FlNDE1YmE5OSk7CgogICAgICAgICAgICAKICAgICAgICAKICAgIAogICAgICAgICAgICB2YXIgY2lyY2xlX21hcmtlcl8xZDZlZWE1NjI3YjY0OWI0YjRlYjBjNTU5NmYwOWVlOCA9IEwuY2lyY2xlTWFya2VyKAogICAgICAgICAgICAgICAgWzE4LjYxODY5OTU0MzE1NzU3NSw3My44MjAzMDE3MTExOTAwMV0sCiAgICAgICAgICAgICAgICB7CiAgImJ1YmJsaW5nTW91c2VFdmVudHMiOiB0cnVlLAogICJjb2xvciI6ICJibHVlIiwKICAiZGFzaEFycmF5IjogbnVsbCwKICAiZGFzaE9mZnNldCI6IG51bGwsCiAgImZpbGwiOiB0cnVlLAogICJmaWxsQ29sb3IiOiAiYmx1ZSIsCiAgImZpbGxPcGFjaXR5IjogMC42LAogICJmaWxsUnVsZSI6ICJldmVub2RkIiwKICAibGluZUNhcCI6ICJyb3VuZCIsCiAgImxpbmVKb2luIjogInJvdW5kIiwKICAib3BhY2l0eSI6IDEuMCwKICAicmFkaXVzIjogMywKICAic3Ryb2tlIjogdHJ1ZSwKICAid2VpZ2h0IjogMwp9CiAgICAgICAgICAgICAgICApLmFkZFRvKG1hcF9lYzgzZDIxMDE0NDA0YTdhOWFkNTQ5ZmQwNmQxNGI2OSk7CiAgICAgICAgICAgIAogICAgCiAgICAgICAgICAgIHZhciBwb3B1cF81MGQxZjdhMDU5MDA0N2Y5OTRiNGExMTBiMmJhYjIxZiA9IEwucG9wdXAoe21heFdpZHRoOiAnMzAwJ30pOwoKICAgICAgICAgICAgCiAgICAgICAgICAgICAgICB2YXIgaHRtbF85MDM4MWE4MDM4MGI0YTg3YjJlOGQwY2M5Yjk2YWFiOSA9ICQoJzxkaXYgaWQ9Imh0bWxfOTAzODFhODAzODBiNGE4N2IyZThkMGNjOWI5NmFhYjkiIHN0eWxlPSJ3aWR0aDogMTAwLjAlOyBoZWlnaHQ6IDEwMC4wJTsiPkNvbGxlZ2Ugb3IgVW5pdmVyc2l0eTwvZGl2PicpWzBdOwogICAgICAgICAgICAgICAgcG9wdXBfNTBkMWY3YTA1OTAwNDdmOTk0YjRhMTEwYjJiYWIyMWYuc2V0Q29udGVudChodG1sXzkwMzgxYTgwMzgwYjRhODdiMmU4ZDBjYzliOTZhYWI5KTsKICAgICAgICAgICAgCgogICAgICAgICAgICBjaXJjbGVfbWFya2VyXzFkNmVlYTU2MjdiNjQ5YjRiNGViMGM1NTk2ZjA5ZWU4LmJpbmRQb3B1cChwb3B1cF81MGQxZjdhMDU5MDA0N2Y5OTRiNGExMTBiMmJhYjIxZik7CgogICAgICAgICAgICAKICAgICAgICAKICAgIAogICAgICAgICAgICB2YXIgY2lyY2xlX21hcmtlcl9mOGYyZWM2MTkzNmQ0YWU4ODlmZTQ0MzY0NDcyNWE4YyA9IEwuY2lyY2xlTWFya2VyKAogICAgICAgICAgICAgICAgWzE4LjYxODg0ODgyODI4ODg2NSw3My44MTk5NTEzMzA4ODMxN10sCiAgICAgICAgICAgICAgICB7CiAgImJ1YmJsaW5nTW91c2VFdmVudHMiOiB0cnVlLAogICJjb2xvciI6ICJibHVlIiwKICAiZGFzaEFycmF5IjogbnVsbCwKICAiZGFzaE9mZnNldCI6IG51bGwsCiAgImZpbGwiOiB0cnVlLAogICJmaWxsQ29sb3IiOiAiYmx1ZSIsCiAgImZpbGxPcGFjaXR5IjogMC42LAogICJmaWxsUnVsZSI6ICJldmVub2RkIiwKICAibGluZUNhcCI6ICJyb3VuZCIsCiAgImxpbmVKb2luIjogInJvdW5kIiwKICAib3BhY2l0eSI6IDEuMCwKICAicmFkaXVzIjogMywKICAic3Ryb2tlIjogdHJ1ZSwKICAid2VpZ2h0IjogMwp9CiAgICAgICAgICAgICAgICApLmFkZFRvKG1hcF9lYzgzZDIxMDE0NDA0YTdhOWFkNTQ5ZmQwNmQxNGI2OSk7CiAgICAgICAgICAgIAogICAgCiAgICAgICAgICAgIHZhciBwb3B1cF85OTBkNjZhMjJlMjM0ZGNjOTViMzk0NDg0MDI0NmEyOSA9IEwucG9wdXAoe21heFdpZHRoOiAnMzAwJ30pOwoKICAgICAgICAgICAgCiAgICAgICAgICAgICAgICB2YXIgaHRtbF83YmVjYmVlMDU3ZGU0MDZiYjJhNjU3N2U3YjI3OGMwMiA9ICQoJzxkaXYgaWQ9Imh0bWxfN2JlY2JlZTA1N2RlNDA2YmIyYTY1NzdlN2IyNzhjMDIiIHN0eWxlPSJ3aWR0aDogMTAwLjAlOyBoZWlnaHQ6IDEwMC4wJTsiPkNvbGxlZ2Ugb3IgVW5pdmVyc2l0eTwvZGl2PicpWzBdOwogICAgICAgICAgICAgICAgcG9wdXBfOTkwZDY2YTIyZTIzNGRjYzk1YjM5NDQ4NDAyNDZhMjkuc2V0Q29udGVudChodG1sXzdiZWNiZWUwNTdkZTQwNmJiMmE2NTc3ZTdiMjc4YzAyKTsKICAgICAgICAgICAgCgogICAgICAgICAgICBjaXJjbGVfbWFya2VyX2Y4ZjJlYzYxOTM2ZDRhZTg4OWZlNDQzNjQ0NzI1YThjLmJpbmRQb3B1cChwb3B1cF85OTBkNjZhMjJlMjM0ZGNjOTViMzk0NDg0MDI0NmEyOSk7CgogICAgICAgICAgICAKICAgICAgICAKICAgIAogICAgICAgICAgICB2YXIgY2lyY2xlX21hcmtlcl9lYjY5YmI5MTU0YTE0OTUwYmZkMzZiOTEwZTZiMmNlNyA9IEwuY2lyY2xlTWFya2VyKAogICAgICAgICAgICAgICAgWzE4LjYyMzA5MzIyNjE4NjM3Nyw3My44MjE3NjA2NjUxNDk4N10sCiAgICAgICAgICAgICAgICB7CiAgImJ1YmJsaW5nTW91c2VFdmVudHMiOiB0cnVlLAogICJjb2xvciI6ICJibHVlIiwKICAiZGFzaEFycmF5IjogbnVsbCwKICAiZGFzaE9mZnNldCI6IG51bGwsCiAgImZpbGwiOiB0cnVlLAogICJmaWxsQ29sb3IiOiAiYmx1ZSIsCiAgImZpbGxPcGFjaXR5IjogMC42LAogICJmaWxsUnVsZSI6ICJldmVub2RkIiwKICAibGluZUNhcCI6ICJyb3VuZCIsCiAgImxpbmVKb2luIjogInJvdW5kIiwKICAib3BhY2l0eSI6IDEuMCwKICAicmFkaXVzIjogMywKICAic3Ryb2tlIjogdHJ1ZSwKICAid2VpZ2h0IjogMwp9CiAgICAgICAgICAgICAgICApLmFkZFRvKG1hcF9lYzgzZDIxMDE0NDA0YTdhOWFkNTQ5ZmQwNmQxNGI2OSk7CiAgICAgICAgICAgIAogICAgCiAgICAgICAgICAgIHZhciBwb3B1cF80MzUzZDRhNTBlZDA0OTFkYWNhN2EzM2UzZjVhMDJhMSA9IEwucG9wdXAoe21heFdpZHRoOiAnMzAwJ30pOwoKICAgICAgICAgICAgCiAgICAgICAgICAgICAgICB2YXIgaHRtbF9iZGY4MDU3NDQ4MTA0YzU5OWEzYzg0NWFhMTZlMTdlMyA9ICQoJzxkaXYgaWQ9Imh0bWxfYmRmODA1NzQ0ODEwNGM1OTlhM2M4NDVhYTE2ZTE3ZTMiIHN0eWxlPSJ3aWR0aDogMTAwLjAlOyBoZWlnaHQ6IDEwMC4wJTsiPkNvbGxlZ2Ugb3IgVW5pdmVyc2l0eTwvZGl2PicpWzBdOwogICAgICAgICAgICAgICAgcG9wdXBfNDM1M2Q0YTUwZWQwNDkxZGFjYTdhMzNlM2Y1YTAyYTEuc2V0Q29udGVudChodG1sX2JkZjgwNTc0NDgxMDRjNTk5YTNjODQ1YWExNmUxN2UzKTsKICAgICAgICAgICAgCgogICAgICAgICAgICBjaXJjbGVfbWFya2VyX2ViNjliYjkxNTRhMTQ5NTBiZmQzNmI5MTBlNmIyY2U3LmJpbmRQb3B1cChwb3B1cF80MzUzZDRhNTBlZDA0OTFkYWNhN2EzM2UzZjVhMDJhMSk7CgogICAgICAgICAgICAKICAgICAgICAKICAgIAogICAgICAgICAgICB2YXIgY2lyY2xlX21hcmtlcl8xZTQ5NjM1ZTgzNTk0MTBhYTMwMGY4YjBiYjEyMWI2YSA9IEwuY2lyY2xlTWFya2VyKAogICAgICAgICAgICAgICAgWzE4LjYxNDc4OTY1MjY4MjYsNzMuNzg1MjIwNDA1MzIyMjldLAogICAgICAgICAgICAgICAgewogICJidWJibGluZ01vdXNlRXZlbnRzIjogdHJ1ZSwKICAiY29sb3IiOiAiYmx1ZSIsCiAgImRhc2hBcnJheSI6IG51bGwsCiAgImRhc2hPZmZzZXQiOiBudWxsLAogICJmaWxsIjogdHJ1ZSwKICAiZmlsbENvbG9yIjogImJsdWUiLAogICJmaWxsT3BhY2l0eSI6IDAuNiwKICAiZmlsbFJ1bGUiOiAiZXZlbm9kZCIsCiAgImxpbmVDYXAiOiAicm91bmQiLAogICJsaW5lSm9pbiI6ICJyb3VuZCIsCiAgIm9wYWNpdHkiOiAxLjAsCiAgInJhZGl1cyI6IDMsCiAgInN0cm9rZSI6IHRydWUsCiAgIndlaWdodCI6IDMKfQogICAgICAgICAgICAgICAgKS5hZGRUbyhtYXBfZWM4M2QyMTAxNDQwNGE3YTlhZDU0OWZkMDZkMTRiNjkpOwogICAgICAgICAgICAKICAgIAogICAgICAgICAgICB2YXIgcG9wdXBfOTNhZGFjMWZkMTM0NDNlZDg5MTdkZGQ4NTBhY2Q3MzAgPSBMLnBvcHVwKHttYXhXaWR0aDogJzMwMCd9KTsKCiAgICAgICAgICAgIAogICAgICAgICAgICAgICAgdmFyIGh0bWxfMzZjYmVhY2RkM2QxNGQ2MTliY2M4NDFlZDQwYjQyNWMgPSAkKCc8ZGl2IGlkPSJodG1sXzM2Y2JlYWNkZDNkMTRkNjE5YmNjODQxZWQ0MGI0MjVjIiBzdHlsZT0id2lkdGg6IDEwMC4wJTsgaGVpZ2h0OiAxMDAuMCU7Ij5Db2xsZWdlIG9yIFVuaXZlcnNpdHk8L2Rpdj4nKVswXTsKICAgICAgICAgICAgICAgIHBvcHVwXzkzYWRhYzFmZDEzNDQzZWQ4OTE3ZGRkODUwYWNkNzMwLnNldENvbnRlbnQoaHRtbF8zNmNiZWFjZGQzZDE0ZDYxOWJjYzg0MWVkNDBiNDI1Yyk7CiAgICAgICAgICAgIAoKICAgICAgICAgICAgY2lyY2xlX21hcmtlcl8xZTQ5NjM1ZTgzNTk0MTBhYTMwMGY4YjBiYjEyMWI2YS5iaW5kUG9wdXAocG9wdXBfOTNhZGFjMWZkMTM0NDNlZDg5MTdkZGQ4NTBhY2Q3MzApOwoKICAgICAgICAgICAgCiAgICAgICAgCiAgICAKICAgICAgICAgICAgdmFyIGNpcmNsZV9tYXJrZXJfMTUxYTViZTA0OWE0NGZhN2FjMGU5Y2I5OWUzOTVkODcgPSBMLmNpcmNsZU1hcmtlcigKICAgICAgICAgICAgICAgIFsxOC41ODc5OTM5MzU2MzYyNyw3My44NDQxMzE4NTk2MDI1OF0sCiAgICAgICAgICAgICAgICB7CiAgImJ1YmJsaW5nTW91c2VFdmVudHMiOiB0cnVlLAogICJjb2xvciI6ICJibHVlIiwKICAiZGFzaEFycmF5IjogbnVsbCwKICAiZGFzaE9mZnNldCI6IG51bGwsCiAgImZpbGwiOiB0cnVlLAogICJmaWxsQ29sb3IiOiAiYmx1ZSIsCiAgImZpbGxPcGFjaXR5IjogMC42LAogICJmaWxsUnVsZSI6ICJldmVub2RkIiwKICAibGluZUNhcCI6ICJyb3VuZCIsCiAgImxpbmVKb2luIjogInJvdW5kIiwKICAib3BhY2l0eSI6IDEuMCwKICAicmFkaXVzIjogMywKICAic3Ryb2tlIjogdHJ1ZSwKICAid2VpZ2h0IjogMwp9CiAgICAgICAgICAgICAgICApLmFkZFRvKG1hcF9lYzgzZDIxMDE0NDA0YTdhOWFkNTQ5ZmQwNmQxNGI2OSk7CiAgICAgICAgICAgIAogICAgCiAgICAgICAgICAgIHZhciBwb3B1cF82NzcxNGM1NDY2NmM0NTkyYWJmNzE4MGMyZTNiM2VmNSA9IEwucG9wdXAoe21heFdpZHRoOiAnMzAwJ30pOwoKICAgICAgICAgICAgCiAgICAgICAgICAgICAgICB2YXIgaHRtbF81NGQ1NWZmYTlmZDM0MmExOTEyMmQ2YTQxMTMxOGFhNyA9ICQoJzxkaXYgaWQ9Imh0bWxfNTRkNTVmZmE5ZmQzNDJhMTkxMjJkNmE0MTEzMThhYTciIHN0eWxlPSJ3aWR0aDogMTAwLjAlOyBoZWlnaHQ6IDEwMC4wJTsiPkNvbGxlZ2Ugb3IgVW5pdmVyc2l0eTwvZGl2PicpWzBdOwogICAgICAgICAgICAgICAgcG9wdXBfNjc3MTRjNTQ2NjZjNDU5MmFiZjcxODBjMmUzYjNlZjUuc2V0Q29udGVudChodG1sXzU0ZDU1ZmZhOWZkMzQyYTE5MTIyZDZhNDExMzE4YWE3KTsKICAgICAgICAgICAgCgogICAgICAgICAgICBjaXJjbGVfbWFya2VyXzE1MWE1YmUwNDlhNDRmYTdhYzBlOWNiOTllMzk1ZDg3LmJpbmRQb3B1cChwb3B1cF82NzcxNGM1NDY2NmM0NTkyYWJmNzE4MGMyZTNiM2VmNSk7CgogICAgICAgICAgICAKICAgICAgICAKICAgIAogICAgICAgICAgICB2YXIgY2lyY2xlX21hcmtlcl9mOGRjZTc3NmU0ZGM0MWI0YjY2NjYwM2FmNzg0MGFiMSA9IEwuY2lyY2xlTWFya2VyKAogICAgICAgICAgICAgICAgWzE4LjU2MzkzOTU5ODA5MTgxNyw3My43OTk4NTIyNTA5MDgzM10sCiAgICAgICAgICAgICAgICB7CiAgImJ1YmJsaW5nTW91c2VFdmVudHMiOiB0cnVlLAogICJjb2xvciI6ICJibHVlIiwKICAiZGFzaEFycmF5IjogbnVsbCwKICAiZGFzaE9mZnNldCI6IG51bGwsCiAgImZpbGwiOiB0cnVlLAogICJmaWxsQ29sb3IiOiAiYmx1ZSIsCiAgImZpbGxPcGFjaXR5IjogMC42LAogICJmaWxsUnVsZSI6ICJldmVub2RkIiwKICAibGluZUNhcCI6ICJyb3VuZCIsCiAgImxpbmVKb2luIjogInJvdW5kIiwKICAib3BhY2l0eSI6IDEuMCwKICAicmFkaXVzIjogMywKICAic3Ryb2tlIjogdHJ1ZSwKICAid2VpZ2h0IjogMwp9CiAgICAgICAgICAgICAgICApLmFkZFRvKG1hcF9lYzgzZDIxMDE0NDA0YTdhOWFkNTQ5ZmQwNmQxNGI2OSk7CiAgICAgICAgICAgIAogICAgCiAgICAgICAgICAgIHZhciBwb3B1cF8yYmJmZmUxYjQwZjM0ZDRlOWNmZjllZDFkZDI3YmIyMiA9IEwucG9wdXAoe21heFdpZHRoOiAnMzAwJ30pOwoKICAgICAgICAgICAgCiAgICAgICAgICAgICAgICB2YXIgaHRtbF9mMGVjNzY1ZTI5NjQ0ZjAzYjNiMjU4NGViYWYxYjYzMCA9ICQoJzxkaXYgaWQ9Imh0bWxfZjBlYzc2NWUyOTY0NGYwM2IzYjI1ODRlYmFmMWI2MzAiIHN0eWxlPSJ3aWR0aDogMTAwLjAlOyBoZWlnaHQ6IDEwMC4wJTsiPkNvbGxlZ2Ugb3IgVW5pdmVyc2l0eTwvZGl2PicpWzBdOwogICAgICAgICAgICAgICAgcG9wdXBfMmJiZmZlMWI0MGYzNGQ0ZTljZmY5ZWQxZGQyN2JiMjIuc2V0Q29udGVudChodG1sX2YwZWM3NjVlMjk2NDRmMDNiM2IyNTg0ZWJhZjFiNjMwKTsKICAgICAgICAgICAgCgogICAgICAgICAgICBjaXJjbGVfbWFya2VyX2Y4ZGNlNzc2ZTRkYzQxYjRiNjY2NjAzYWY3ODQwYWIxLmJpbmRQb3B1cChwb3B1cF8yYmJmZmUxYjQwZjM0ZDRlOWNmZjllZDFkZDI3YmIyMik7CgogICAgICAgICAgICAKICAgICAgICAKICAgIAogICAgICAgICAgICB2YXIgY2lyY2xlX21hcmtlcl85YTAwZmFiNzFkMDI0Yjc3YTFhMzc5ZmZhZjk2NjkwYiA9IEwuY2lyY2xlTWFya2VyKAogICAgICAgICAgICAgICAgWzE4LjU5NzAwNSw3My43NzY5NTldLAogICAgICAgICAgICAgICAgewogICJidWJibGluZ01vdXNlRXZlbnRzIjogdHJ1ZSwKICAiY29sb3IiOiAiYmx1ZSIsCiAgImRhc2hBcnJheSI6IG51bGwsCiAgImRhc2hPZmZzZXQiOiBudWxsLAogICJmaWxsIjogdHJ1ZSwKICAiZmlsbENvbG9yIjogImJsdWUiLAogICJmaWxsT3BhY2l0eSI6IDAuNiwKICAiZmlsbFJ1bGUiOiAiZXZlbm9kZCIsCiAgImxpbmVDYXAiOiAicm91bmQiLAogICJsaW5lSm9pbiI6ICJyb3VuZCIsCiAgIm9wYWNpdHkiOiAxLjAsCiAgInJhZGl1cyI6IDMsCiAgInN0cm9rZSI6IHRydWUsCiAgIndlaWdodCI6IDMKfQogICAgICAgICAgICAgICAgKS5hZGRUbyhtYXBfZWM4M2QyMTAxNDQwNGE3YTlhZDU0OWZkMDZkMTRiNjkpOwogICAgICAgICAgICAKICAgIAogICAgICAgICAgICB2YXIgcG9wdXBfYjMwYzdlNmRmZWZiNDFlNWIwMmExMzAwMTI4OGNmZGYgPSBMLnBvcHVwKHttYXhXaWR0aDogJzMwMCd9KTsKCiAgICAgICAgICAgIAogICAgICAgICAgICAgICAgdmFyIGh0bWxfYWRlYzRlMThhNzU0NGMzY2EyYmViYWY5MmEzMTljMTcgPSAkKCc8ZGl2IGlkPSJodG1sX2FkZWM0ZTE4YTc1NDRjM2NhMmJlYmFmOTJhMzE5YzE3IiBzdHlsZT0id2lkdGg6IDEwMC4wJTsgaGVpZ2h0OiAxMDAuMCU7Ij5Db2xsZWdlIG9yIFVuaXZlcnNpdHk8L2Rpdj4nKVswXTsKICAgICAgICAgICAgICAgIHBvcHVwX2IzMGM3ZTZkZmVmYjQxZTViMDJhMTMwMDEyODhjZmRmLnNldENvbnRlbnQoaHRtbF9hZGVjNGUxOGE3NTQ0YzNjYTJiZWJhZjkyYTMxOWMxNyk7CiAgICAgICAgICAgIAoKICAgICAgICAgICAgY2lyY2xlX21hcmtlcl85YTAwZmFiNzFkMDI0Yjc3YTFhMzc5ZmZhZjk2NjkwYi5iaW5kUG9wdXAocG9wdXBfYjMwYzdlNmRmZWZiNDFlNWIwMmExMzAwMTI4OGNmZGYpOwoKICAgICAgICAgICAgCiAgICAgICAgCiAgICAKICAgICAgICAgICAgdmFyIGNpcmNsZV9tYXJrZXJfMGRhMmE1Y2YyNTZjNGRjZGI1OTFiNjIwYmEwOTc4OTggPSBMLmNpcmNsZU1hcmtlcigKICAgICAgICAgICAgICAgIFsxOC41OTY5OTMsNzMuNzc2OTU5XSwKICAgICAgICAgICAgICAgIHsKICAiYnViYmxpbmdNb3VzZUV2ZW50cyI6IHRydWUsCiAgImNvbG9yIjogImJsdWUiLAogICJkYXNoQXJyYXkiOiBudWxsLAogICJkYXNoT2Zmc2V0IjogbnVsbCwKICAiZmlsbCI6IHRydWUsCiAgImZpbGxDb2xvciI6ICJibHVlIiwKICAiZmlsbE9wYWNpdHkiOiAwLjYsCiAgImZpbGxSdWxlIjogImV2ZW5vZGQiLAogICJsaW5lQ2FwIjogInJvdW5kIiwKICAibGluZUpvaW4iOiAicm91bmQiLAogICJvcGFjaXR5IjogMS4wLAogICJyYWRpdXMiOiAzLAogICJzdHJva2UiOiB0cnVlLAogICJ3ZWlnaHQiOiAzCn0KICAgICAgICAgICAgICAgICkuYWRkVG8obWFwX2VjODNkMjEwMTQ0MDRhN2E5YWQ1NDlmZDA2ZDE0YjY5KTsKICAgICAgICAgICAgCiAgICAKICAgICAgICAgICAgdmFyIHBvcHVwX2NjZDI4MzNjOGY4ZDRhZGI5MjkyM2Y4MmYxMzI5ZjhkID0gTC5wb3B1cCh7bWF4V2lkdGg6ICczMDAnfSk7CgogICAgICAgICAgICAKICAgICAgICAgICAgICAgIHZhciBodG1sX2UyNGMyZTc0ZDQ0MjRmYjBhNTcyOGJjMWE3MGU1OTA4ID0gJCgnPGRpdiBpZD0iaHRtbF9lMjRjMmU3NGQ0NDI0ZmIwYTU3MjhiYzFhNzBlNTkwOCIgc3R5bGU9IndpZHRoOiAxMDAuMCU7IGhlaWdodDogMTAwLjAlOyI+Q29sbGVnZSBvciBVbml2ZXJzaXR5PC9kaXY+JylbMF07CiAgICAgICAgICAgICAgICBwb3B1cF9jY2QyODMzYzhmOGQ0YWRiOTI5MjNmODJmMTMyOWY4ZC5zZXRDb250ZW50KGh0bWxfZTI0YzJlNzRkNDQyNGZiMGE1NzI4YmMxYTcwZTU5MDgpOwogICAgICAgICAgICAKCiAgICAgICAgICAgIGNpcmNsZV9tYXJrZXJfMGRhMmE1Y2YyNTZjNGRjZGI1OTFiNjIwYmEwOTc4OTguYmluZFBvcHVwKHBvcHVwX2NjZDI4MzNjOGY4ZDRhZGI5MjkyM2Y4MmYxMzI5ZjhkKTsKCiAgICAgICAgICAgIAogICAgICAgIAogICAgCiAgICAgICAgICAgIHZhciBjaXJjbGVfbWFya2VyXzI1OWQ1NWU5OWQxMDRhZWU5MzI3YjhlODI0YTUxMTNmID0gTC5jaXJjbGVNYXJrZXIoCiAgICAgICAgICAgICAgICBbMTguNjQ3MDA3NTY3NDQ4OCw3My43NzYzOTU5MTY5Mzg3N10sCiAgICAgICAgICAgICAgICB7CiAgImJ1YmJsaW5nTW91c2VFdmVudHMiOiB0cnVlLAogICJjb2xvciI6ICJibHVlIiwKICAiZGFzaEFycmF5IjogbnVsbCwKICAiZGFzaE9mZnNldCI6IG51bGwsCiAgImZpbGwiOiB0cnVlLAogICJmaWxsQ29sb3IiOiAiYmx1ZSIsCiAgImZpbGxPcGFjaXR5IjogMC42LAogICJmaWxsUnVsZSI6ICJldmVub2RkIiwKICAibGluZUNhcCI6ICJyb3VuZCIsCiAgImxpbmVKb2luIjogInJvdW5kIiwKICAib3BhY2l0eSI6IDEuMCwKICAicmFkaXVzIjogMywKICAic3Ryb2tlIjogdHJ1ZSwKICAid2VpZ2h0IjogMwp9CiAgICAgICAgICAgICAgICApLmFkZFRvKG1hcF9lYzgzZDIxMDE0NDA0YTdhOWFkNTQ5ZmQwNmQxNGI2OSk7CiAgICAgICAgICAgIAogICAgCiAgICAgICAgICAgIHZhciBwb3B1cF84MzJkOWFjZWExMDU0MWEwODA5MGVmYjg2NjJhNjJlMSA9IEwucG9wdXAoe21heFdpZHRoOiAnMzAwJ30pOwoKICAgICAgICAgICAgCiAgICAgICAgICAgICAgICB2YXIgaHRtbF82MjMzZDYwN2FmMTU0YjIxOTZlNjVhNWY1YzJmNjQ4YyA9ICQoJzxkaXYgaWQ9Imh0bWxfNjIzM2Q2MDdhZjE1NGIyMTk2ZTY1YTVmNWMyZjY0OGMiIHN0eWxlPSJ3aWR0aDogMTAwLjAlOyBoZWlnaHQ6IDEwMC4wJTsiPkNvbGxlZ2Ugb3IgVW5pdmVyc2l0eTwvZGl2PicpWzBdOwogICAgICAgICAgICAgICAgcG9wdXBfODMyZDlhY2VhMTA1NDFhMDgwOTBlZmI4NjYyYTYyZTEuc2V0Q29udGVudChodG1sXzYyMzNkNjA3YWYxNTRiMjE5NmU2NWE1ZjVjMmY2NDhjKTsKICAgICAgICAgICAgCgogICAgICAgICAgICBjaXJjbGVfbWFya2VyXzI1OWQ1NWU5OWQxMDRhZWU5MzI3YjhlODI0YTUxMTNmLmJpbmRQb3B1cChwb3B1cF84MzJkOWFjZWExMDU0MWEwODA5MGVmYjg2NjJhNjJlMSk7CgogICAgICAgICAgICAKICAgICAgICAKICAgIAogICAgICAgICAgICB2YXIgY2lyY2xlX21hcmtlcl9kZTFkYzkyOWMzMDg0NGI0YTYxNmUwMjBlYmIyNTBlZCA9IEwuY2lyY2xlTWFya2VyKAogICAgICAgICAgICAgICAgWzE4LjY0NzYxMDQ3OTQxNjA5LDczLjc3NjQ3MDY1NzYxMjRdLAogICAgICAgICAgICAgICAgewogICJidWJibGluZ01vdXNlRXZlbnRzIjogdHJ1ZSwKICAiY29sb3IiOiAiYmx1ZSIsCiAgImRhc2hBcnJheSI6IG51bGwsCiAgImRhc2hPZmZzZXQiOiBudWxsLAogICJmaWxsIjogdHJ1ZSwKICAiZmlsbENvbG9yIjogImJsdWUiLAogICJmaWxsT3BhY2l0eSI6IDAuNiwKICAiZmlsbFJ1bGUiOiAiZXZlbm9kZCIsCiAgImxpbmVDYXAiOiAicm91bmQiLAogICJsaW5lSm9pbiI6ICJyb3VuZCIsCiAgIm9wYWNpdHkiOiAxLjAsCiAgInJhZGl1cyI6IDMsCiAgInN0cm9rZSI6IHRydWUsCiAgIndlaWdodCI6IDMKfQogICAgICAgICAgICAgICAgKS5hZGRUbyhtYXBfZWM4M2QyMTAxNDQwNGE3YTlhZDU0OWZkMDZkMTRiNjkpOwogICAgICAgICAgICAKICAgIAogICAgICAgICAgICB2YXIgcG9wdXBfMzNiNzk5ZTQzN2NmNDIyNTg0YTBhN2NkMDFkMWM5MWQgPSBMLnBvcHVwKHttYXhXaWR0aDogJzMwMCd9KTsKCiAgICAgICAgICAgIAogICAgICAgICAgICAgICAgdmFyIGh0bWxfMmQ3YjNhNDI4Njk4NGQ2OThlNGNmYTNlNjA1MzFlNDcgPSAkKCc8ZGl2IGlkPSJodG1sXzJkN2IzYTQyODY5ODRkNjk4ZTRjZmEzZTYwNTMxZTQ3IiBzdHlsZT0id2lkdGg6IDEwMC4wJTsgaGVpZ2h0OiAxMDAuMCU7Ij5Db2xsZWdlIG9yIFVuaXZlcnNpdHk8L2Rpdj4nKVswXTsKICAgICAgICAgICAgICAgIHBvcHVwXzMzYjc5OWU0MzdjZjQyMjU4NGEwYTdjZDAxZDFjOTFkLnNldENvbnRlbnQoaHRtbF8yZDdiM2E0Mjg2OTg0ZDY5OGU0Y2ZhM2U2MDUzMWU0Nyk7CiAgICAgICAgICAgIAoKICAgICAgICAgICAgY2lyY2xlX21hcmtlcl9kZTFkYzkyOWMzMDg0NGI0YTYxNmUwMjBlYmIyNTBlZC5iaW5kUG9wdXAocG9wdXBfMzNiNzk5ZTQzN2NmNDIyNTg0YTBhN2NkMDFkMWM5MWQpOwoKICAgICAgICAgICAgCiAgICAgICAgCiAgICAKICAgICAgICAgICAgdmFyIGNpcmNsZV9tYXJrZXJfMDM1MWRmMWRhYzBjNDBjNWFkZjAzZTQxMGVhY2FkYWQgPSBMLmNpcmNsZU1hcmtlcigKICAgICAgICAgICAgICAgIFsxOC42NTI3NDgxMDc5MTAxNTYsNzMuNzgwMTQzNzM3NzkyOTddLAogICAgICAgICAgICAgICAgewogICJidWJibGluZ01vdXNlRXZlbnRzIjogdHJ1ZSwKICAiY29sb3IiOiAiYmx1ZSIsCiAgImRhc2hBcnJheSI6IG51bGwsCiAgImRhc2hPZmZzZXQiOiBudWxsLAogICJmaWxsIjogdHJ1ZSwKICAiZmlsbENvbG9yIjogImJsdWUiLAogICJmaWxsT3BhY2l0eSI6IDAuNiwKICAiZmlsbFJ1bGUiOiAiZXZlbm9kZCIsCiAgImxpbmVDYXAiOiAicm91bmQiLAogICJsaW5lSm9pbiI6ICJyb3VuZCIsCiAgIm9wYWNpdHkiOiAxLjAsCiAgInJhZGl1cyI6IDMsCiAgInN0cm9rZSI6IHRydWUsCiAgIndlaWdodCI6IDMKfQogICAgICAgICAgICAgICAgKS5hZGRUbyhtYXBfZWM4M2QyMTAxNDQwNGE3YTlhZDU0OWZkMDZkMTRiNjkpOwogICAgICAgICAgICAKICAgIAogICAgICAgICAgICB2YXIgcG9wdXBfMGUwNTYyZTk2NTg0NGE1Nzg2ZjFhZThkMzBhZDdkN2YgPSBMLnBvcHVwKHttYXhXaWR0aDogJzMwMCd9KTsKCiAgICAgICAgICAgIAogICAgICAgICAgICAgICAgdmFyIGh0bWxfZmQyNTZlNGJkODcxNDBkMmFiOWZkYzM5OTM5OGM1YzMgPSAkKCc8ZGl2IGlkPSJodG1sX2ZkMjU2ZTRiZDg3MTQwZDJhYjlmZGMzOTkzOThjNWMzIiBzdHlsZT0id2lkdGg6IDEwMC4wJTsgaGVpZ2h0OiAxMDAuMCU7Ij5Db2xsZWdlIG9yIFVuaXZlcnNpdHk8L2Rpdj4nKVswXTsKICAgICAgICAgICAgICAgIHBvcHVwXzBlMDU2MmU5NjU4NDRhNTc4NmYxYWU4ZDMwYWQ3ZDdmLnNldENvbnRlbnQoaHRtbF9mZDI1NmU0YmQ4NzE0MGQyYWI5ZmRjMzk5Mzk4YzVjMyk7CiAgICAgICAgICAgIAoKICAgICAgICAgICAgY2lyY2xlX21hcmtlcl8wMzUxZGYxZGFjMGM0MGM1YWRmMDNlNDEwZWFjYWRhZC5iaW5kUG9wdXAocG9wdXBfMGUwNTYyZTk2NTg0NGE1Nzg2ZjFhZThkMzBhZDdkN2YpOwoKICAgICAgICAgICAgCiAgICAgICAgCiAgICAKICAgICAgICAgICAgdmFyIGNpcmNsZV9tYXJrZXJfY2JmYmE1ZDI2NmFlNGIzNzhkOGQ2NzMwNDdlMDA1M2IgPSBMLmNpcmNsZU1hcmtlcigKICAgICAgICAgICAgICAgIFsxOC42NTIyMzYyNjA3Mzc0MjUsNzMuNzcxMzE3MTQ2ODkzNDhdLAogICAgICAgICAgICAgICAgewogICJidWJibGluZ01vdXNlRXZlbnRzIjogdHJ1ZSwKICAiY29sb3IiOiAiYmx1ZSIsCiAgImRhc2hBcnJheSI6IG51bGwsCiAgImRhc2hPZmZzZXQiOiBudWxsLAogICJmaWxsIjogdHJ1ZSwKICAiZmlsbENvbG9yIjogImJsdWUiLAogICJmaWxsT3BhY2l0eSI6IDAuNiwKICAiZmlsbFJ1bGUiOiAiZXZlbm9kZCIsCiAgImxpbmVDYXAiOiAicm91bmQiLAogICJsaW5lSm9pbiI6ICJyb3VuZCIsCiAgIm9wYWNpdHkiOiAxLjAsCiAgInJhZGl1cyI6IDMsCiAgInN0cm9rZSI6IHRydWUsCiAgIndlaWdodCI6IDMKfQogICAgICAgICAgICAgICAgKS5hZGRUbyhtYXBfZWM4M2QyMTAxNDQwNGE3YTlhZDU0OWZkMDZkMTRiNjkpOwogICAgICAgICAgICAKICAgIAogICAgICAgICAgICB2YXIgcG9wdXBfZmQ3YmI2ODdkZDhkNGJiMmJiZmZiOTVlOTJmNmExNjYgPSBMLnBvcHVwKHttYXhXaWR0aDogJzMwMCd9KTsKCiAgICAgICAgICAgIAogICAgICAgICAgICAgICAgdmFyIGh0bWxfMzk1ZGNhMTc5ZWE3NDQyNmI2MzAxMjM0ZmVhN2ZhN2UgPSAkKCc8ZGl2IGlkPSJodG1sXzM5NWRjYTE3OWVhNzQ0MjZiNjMwMTIzNGZlYTdmYTdlIiBzdHlsZT0id2lkdGg6IDEwMC4wJTsgaGVpZ2h0OiAxMDAuMCU7Ij5Db2xsZWdlIG9yIFVuaXZlcnNpdHk8L2Rpdj4nKVswXTsKICAgICAgICAgICAgICAgIHBvcHVwX2ZkN2JiNjg3ZGQ4ZDRiYjJiYmZmYjk1ZTkyZjZhMTY2LnNldENvbnRlbnQoaHRtbF8zOTVkY2ExNzllYTc0NDI2YjYzMDEyMzRmZWE3ZmE3ZSk7CiAgICAgICAgICAgIAoKICAgICAgICAgICAgY2lyY2xlX21hcmtlcl9jYmZiYTVkMjY2YWU0YjM3OGQ4ZDY3MzA0N2UwMDUzYi5iaW5kUG9wdXAocG9wdXBfZmQ3YmI2ODdkZDhkNGJiMmJiZmZiOTVlOTJmNmExNjYpOwoKICAgICAgICAgICAgCiAgICAgICAgCiAgICAKICAgICAgICAgICAgdmFyIGNpcmNsZV9tYXJrZXJfMTliN2Y1MzgzNDczNDk5NDkwNjE3ZTk1ODMyMmM4YjYgPSBMLmNpcmNsZU1hcmtlcigKICAgICAgICAgICAgICAgIFsxOC42MjEzNjY5Mjc2MjE2Niw3My44MzA2ODUxMzY0NzE5MV0sCiAgICAgICAgICAgICAgICB7CiAgImJ1YmJsaW5nTW91c2VFdmVudHMiOiB0cnVlLAogICJjb2xvciI6ICJibHVlIiwKICAiZGFzaEFycmF5IjogbnVsbCwKICAiZGFzaE9mZnNldCI6IG51bGwsCiAgImZpbGwiOiB0cnVlLAogICJmaWxsQ29sb3IiOiAiYmx1ZSIsCiAgImZpbGxPcGFjaXR5IjogMC42LAogICJmaWxsUnVsZSI6ICJldmVub2RkIiwKICAibGluZUNhcCI6ICJyb3VuZCIsCiAgImxpbmVKb2luIjogInJvdW5kIiwKICAib3BhY2l0eSI6IDEuMCwKICAicmFkaXVzIjogMywKICAic3Ryb2tlIjogdHJ1ZSwKICAid2VpZ2h0IjogMwp9CiAgICAgICAgICAgICAgICApLmFkZFRvKG1hcF9lYzgzZDIxMDE0NDA0YTdhOWFkNTQ5ZmQwNmQxNGI2OSk7CiAgICAgICAgICAgIAogICAgCiAgICAgICAgICAgIHZhciBwb3B1cF8yYjExNjU3YmMzODc0MDBhYjg4NjAyZWY3MWFmYzQwMyA9IEwucG9wdXAoe21heFdpZHRoOiAnMzAwJ30pOwoKICAgICAgICAgICAgCiAgICAgICAgICAgICAgICB2YXIgaHRtbF8xN2IyMDQ5MTJmNDM0Y2E5YmU1OTgzMDNkMTJhOTFiZCA9ICQoJzxkaXYgaWQ9Imh0bWxfMTdiMjA0OTEyZjQzNGNhOWJlNTk4MzAzZDEyYTkxYmQiIHN0eWxlPSJ3aWR0aDogMTAwLjAlOyBoZWlnaHQ6IDEwMC4wJTsiPkNvbGxlZ2Ugb3IgVW5pdmVyc2l0eTwvZGl2PicpWzBdOwogICAgICAgICAgICAgICAgcG9wdXBfMmIxMTY1N2JjMzg3NDAwYWI4ODYwMmVmNzFhZmM0MDMuc2V0Q29udGVudChodG1sXzE3YjIwNDkxMmY0MzRjYTliZTU5ODMwM2QxMmE5MWJkKTsKICAgICAgICAgICAgCgogICAgICAgICAgICBjaXJjbGVfbWFya2VyXzE5YjdmNTM4MzQ3MzQ5OTQ5MDYxN2U5NTgzMjJjOGI2LmJpbmRQb3B1cChwb3B1cF8yYjExNjU3YmMzODc0MDBhYjg4NjAyZWY3MWFmYzQwMyk7CgogICAgICAgICAgICAKICAgICAgICAKICAgIAogICAgICAgICAgICB2YXIgY2lyY2xlX21hcmtlcl8xN2MwNWY3ZWUwZjg0MDdmYWI5MzY5ZTM1ZGNiNWU5ZCA9IEwuY2lyY2xlTWFya2VyKAogICAgICAgICAgICAgICAgWzE4LjYxMjI3MTU1OTUwMzg2Myw3My43NjgzMDY1NjE4OTk4M10sCiAgICAgICAgICAgICAgICB7CiAgImJ1YmJsaW5nTW91c2VFdmVudHMiOiB0cnVlLAogICJjb2xvciI6ICJibHVlIiwKICAiZGFzaEFycmF5IjogbnVsbCwKICAiZGFzaE9mZnNldCI6IG51bGwsCiAgImZpbGwiOiB0cnVlLAogICJmaWxsQ29sb3IiOiAiYmx1ZSIsCiAgImZpbGxPcGFjaXR5IjogMC42LAogICJmaWxsUnVsZSI6ICJldmVub2RkIiwKICAibGluZUNhcCI6ICJyb3VuZCIsCiAgImxpbmVKb2luIjogInJvdW5kIiwKICAib3BhY2l0eSI6IDEuMCwKICAicmFkaXVzIjogMywKICAic3Ryb2tlIjogdHJ1ZSwKICAid2VpZ2h0IjogMwp9CiAgICAgICAgICAgICAgICApLmFkZFRvKG1hcF9lYzgzZDIxMDE0NDA0YTdhOWFkNTQ5ZmQwNmQxNGI2OSk7CiAgICAgICAgICAgIAogICAgCiAgICAgICAgICAgIHZhciBwb3B1cF84NjMyNDU1YzljY2Y0MzY0OGE4ZWM4OTBhYTQzMGNhNiA9IEwucG9wdXAoe21heFdpZHRoOiAnMzAwJ30pOwoKICAgICAgICAgICAgCiAgICAgICAgICAgICAgICB2YXIgaHRtbF8zNGRmODI1MTg2YTE0ODE5ODFhNzU5MzIwNDhiMzc1MSA9ICQoJzxkaXYgaWQ9Imh0bWxfMzRkZjgyNTE4NmExNDgxOTgxYTc1OTMyMDQ4YjM3NTEiIHN0eWxlPSJ3aWR0aDogMTAwLjAlOyBoZWlnaHQ6IDEwMC4wJTsiPkNvbGxlZ2Ugb3IgVW5pdmVyc2l0eTwvZGl2PicpWzBdOwogICAgICAgICAgICAgICAgcG9wdXBfODYzMjQ1NWM5Y2NmNDM2NDhhOGVjODkwYWE0MzBjYTYuc2V0Q29udGVudChodG1sXzM0ZGY4MjUxODZhMTQ4MTk4MWE3NTkzMjA0OGIzNzUxKTsKICAgICAgICAgICAgCgogICAgICAgICAgICBjaXJjbGVfbWFya2VyXzE3YzA1ZjdlZTBmODQwN2ZhYjkzNjllMzVkY2I1ZTlkLmJpbmRQb3B1cChwb3B1cF84NjMyNDU1YzljY2Y0MzY0OGE4ZWM4OTBhYTQzMGNhNik7CgogICAgICAgICAgICAKICAgICAgICAKICAgIAogICAgICAgICAgICB2YXIgY2lyY2xlX21hcmtlcl9kOTYwODVlYTQzNjA0MWNmOWI4MjEyZTE2YTNmYWFjNCA9IEwuY2lyY2xlTWFya2VyKAogICAgICAgICAgICAgICAgWzE4LjY1NjYwNTEyNTAwMzcyLDczLjc3NjQ2NDkxMjQxMjQ1XSwKICAgICAgICAgICAgICAgIHsKICAiYnViYmxpbmdNb3VzZUV2ZW50cyI6IHRydWUsCiAgImNvbG9yIjogImJsdWUiLAogICJkYXNoQXJyYXkiOiBudWxsLAogICJkYXNoT2Zmc2V0IjogbnVsbCwKICAiZmlsbCI6IHRydWUsCiAgImZpbGxDb2xvciI6ICJibHVlIiwKICAiZmlsbE9wYWNpdHkiOiAwLjYsCiAgImZpbGxSdWxlIjogImV2ZW5vZGQiLAogICJsaW5lQ2FwIjogInJvdW5kIiwKICAibGluZUpvaW4iOiAicm91bmQiLAogICJvcGFjaXR5IjogMS4wLAogICJyYWRpdXMiOiAzLAogICJzdHJva2UiOiB0cnVlLAogICJ3ZWlnaHQiOiAzCn0KICAgICAgICAgICAgICAgICkuYWRkVG8obWFwX2VjODNkMjEwMTQ0MDRhN2E5YWQ1NDlmZDA2ZDE0YjY5KTsKICAgICAgICAgICAgCiAgICAKICAgICAgICAgICAgdmFyIHBvcHVwXzI2ZTJlOTA0Zjg2OTQ1NjZiNzk0MmY5ZGFmYzc0NzkzID0gTC5wb3B1cCh7bWF4V2lkdGg6ICczMDAnfSk7CgogICAgICAgICAgICAKICAgICAgICAgICAgICAgIHZhciBodG1sXzM5OGNiNDEyMzc0MjQ2MTE5MDljOWJhODhiNmFjZjY5ID0gJCgnPGRpdiBpZD0iaHRtbF8zOThjYjQxMjM3NDI0NjExOTA5YzliYTg4YjZhY2Y2OSIgc3R5bGU9IndpZHRoOiAxMDAuMCU7IGhlaWdodDogMTAwLjAlOyI+Q29sbGVnZSBvciBVbml2ZXJzaXR5PC9kaXY+JylbMF07CiAgICAgICAgICAgICAgICBwb3B1cF8yNmUyZTkwNGY4Njk0NTY2Yjc5NDJmOWRhZmM3NDc5My5zZXRDb250ZW50KGh0bWxfMzk4Y2I0MTIzNzQyNDYxMTkwOWM5YmE4OGI2YWNmNjkpOwogICAgICAgICAgICAKCiAgICAgICAgICAgIGNpcmNsZV9tYXJrZXJfZDk2MDg1ZWE0MzYwNDFjZjliODIxMmUxNmEzZmFhYzQuYmluZFBvcHVwKHBvcHVwXzI2ZTJlOTA0Zjg2OTQ1NjZiNzk0MmY5ZGFmYzc0NzkzKTsKCiAgICAgICAgICAgIAogICAgICAgIAogICAgCiAgICAgICAgICAgIHZhciBjaXJjbGVfbWFya2VyXzQ4YjMwY2MyMTAwNTRiZjNhYjhmZTJjMDYzMmY1NjBmID0gTC5jaXJjbGVNYXJrZXIoCiAgICAgICAgICAgICAgICBbMTguNjIwNTE0NDA0NDEwNDI1LDczLjc0NjczMTI5NDI1NTc1XSwKICAgICAgICAgICAgICAgIHsKICAiYnViYmxpbmdNb3VzZUV2ZW50cyI6IHRydWUsCiAgImNvbG9yIjogImJsdWUiLAogICJkYXNoQXJyYXkiOiBudWxsLAogICJkYXNoT2Zmc2V0IjogbnVsbCwKICAiZmlsbCI6IHRydWUsCiAgImZpbGxDb2xvciI6ICJibHVlIiwKICAiZmlsbE9wYWNpdHkiOiAwLjYsCiAgImZpbGxSdWxlIjogImV2ZW5vZGQiLAogICJsaW5lQ2FwIjogInJvdW5kIiwKICAibGluZUpvaW4iOiAicm91bmQiLAogICJvcGFjaXR5IjogMS4wLAogICJyYWRpdXMiOiAzLAogICJzdHJva2UiOiB0cnVlLAogICJ3ZWlnaHQiOiAzCn0KICAgICAgICAgICAgICAgICkuYWRkVG8obWFwX2VjODNkMjEwMTQ0MDRhN2E5YWQ1NDlmZDA2ZDE0YjY5KTsKICAgICAgICAgICAgCiAgICAKICAgICAgICAgICAgdmFyIHBvcHVwXzNmYzVhMmIwMzhmOTQ1MmI4OGUyNzVhZDNlY2YzZjgxID0gTC5wb3B1cCh7bWF4V2lkdGg6ICczMDAnfSk7CgogICAgICAgICAgICAKICAgICAgICAgICAgICAgIHZhciBodG1sX2ViZmRhYTRiN2FmMzRmMTNhZmZiMzk4NTIzYWUwZDFlID0gJCgnPGRpdiBpZD0iaHRtbF9lYmZkYWE0YjdhZjM0ZjEzYWZmYjM5ODUyM2FlMGQxZSIgc3R5bGU9IndpZHRoOiAxMDAuMCU7IGhlaWdodDogMTAwLjAlOyI+Q29sbGVnZSBvciBVbml2ZXJzaXR5PC9kaXY+JylbMF07CiAgICAgICAgICAgICAgICBwb3B1cF8zZmM1YTJiMDM4Zjk0NTJiODhlMjc1YWQzZWNmM2Y4MS5zZXRDb250ZW50KGh0bWxfZWJmZGFhNGI3YWYzNGYxM2FmZmIzOTg1MjNhZTBkMWUpOwogICAgICAgICAgICAKCiAgICAgICAgICAgIGNpcmNsZV9tYXJrZXJfNDhiMzBjYzIxMDA1NGJmM2FiOGZlMmMwNjMyZjU2MGYuYmluZFBvcHVwKHBvcHVwXzNmYzVhMmIwMzhmOTQ1MmI4OGUyNzVhZDNlY2YzZjgxKTsKCiAgICAgICAgICAgIAogICAgICAgIAogICAgCiAgICAgICAgICAgIHZhciBjaXJjbGVfbWFya2VyX2M2YjViODZlOTY4ZTQ5ZDM5NmEzZTljNzViOTgzZDBhID0gTC5jaXJjbGVNYXJrZXIoCiAgICAgICAgICAgICAgICBbMTguNjYzNzEwNDcwMzY2NDQ2LDczLjc4MjM4MjM4MDc4NzU4XSwKICAgICAgICAgICAgICAgIHsKICAiYnViYmxpbmdNb3VzZUV2ZW50cyI6IHRydWUsCiAgImNvbG9yIjogImJsdWUiLAogICJkYXNoQXJyYXkiOiBudWxsLAogICJkYXNoT2Zmc2V0IjogbnVsbCwKICAiZmlsbCI6IHRydWUsCiAgImZpbGxDb2xvciI6ICJibHVlIiwKICAiZmlsbE9wYWNpdHkiOiAwLjYsCiAgImZpbGxSdWxlIjogImV2ZW5vZGQiLAogICJsaW5lQ2FwIjogInJvdW5kIiwKICAibGluZUpvaW4iOiAicm91bmQiLAogICJvcGFjaXR5IjogMS4wLAogICJyYWRpdXMiOiAzLAogICJzdHJva2UiOiB0cnVlLAogICJ3ZWlnaHQiOiAzCn0KICAgICAgICAgICAgICAgICkuYWRkVG8obWFwX2VjODNkMjEwMTQ0MDRhN2E5YWQ1NDlmZDA2ZDE0YjY5KTsKICAgICAgICAgICAgCiAgICAKICAgICAgICAgICAgdmFyIHBvcHVwXzMwYWZkMjUxNDhmYzRkOWFhNTY1YTkzNDFmNTc5MDE2ID0gTC5wb3B1cCh7bWF4V2lkdGg6ICczMDAnfSk7CgogICAgICAgICAgICAKICAgICAgICAgICAgICAgIHZhciBodG1sXzQxZTExMzcyOTE0NDQzMjJiNTZhMWY4YTJhYmIwZjM2ID0gJCgnPGRpdiBpZD0iaHRtbF80MWUxMTM3MjkxNDQ0MzIyYjU2YTFmOGEyYWJiMGYzNiIgc3R5bGU9IndpZHRoOiAxMDAuMCU7IGhlaWdodDogMTAwLjAlOyI+Q29sbGVnZSBvciBVbml2ZXJzaXR5PC9kaXY+JylbMF07CiAgICAgICAgICAgICAgICBwb3B1cF8zMGFmZDI1MTQ4ZmM0ZDlhYTU2NWE5MzQxZjU3OTAxNi5zZXRDb250ZW50KGh0bWxfNDFlMTEzNzI5MTQ0NDMyMmI1NmExZjhhMmFiYjBmMzYpOwogICAgICAgICAgICAKCiAgICAgICAgICAgIGNpcmNsZV9tYXJrZXJfYzZiNWI4NmU5NjhlNDlkMzk2YTNlOWM3NWI5ODNkMGEuYmluZFBvcHVwKHBvcHVwXzMwYWZkMjUxNDhmYzRkOWFhNTY1YTkzNDFmNTc5MDE2KTsKCiAgICAgICAgICAgIAogICAgICAgIAogICAgCiAgICAgICAgICAgIHZhciBjaXJjbGVfbWFya2VyX2Q2ZGE0Zjc2MGVmZjRmMGE5MGE2NzRkYzAzZThkMGM2ID0gTC5jaXJjbGVNYXJrZXIoCiAgICAgICAgICAgICAgICBbMTguNjU4MTM4NDI3NzU3NDU3LDczLjc3Njk5MzQ3MDExNjM3XSwKICAgICAgICAgICAgICAgIHsKICAiYnViYmxpbmdNb3VzZUV2ZW50cyI6IHRydWUsCiAgImNvbG9yIjogImJsdWUiLAogICJkYXNoQXJyYXkiOiBudWxsLAogICJkYXNoT2Zmc2V0IjogbnVsbCwKICAiZmlsbCI6IHRydWUsCiAgImZpbGxDb2xvciI6ICJibHVlIiwKICAiZmlsbE9wYWNpdHkiOiAwLjYsCiAgImZpbGxSdWxlIjogImV2ZW5vZGQiLAogICJsaW5lQ2FwIjogInJvdW5kIiwKICAibGluZUpvaW4iOiAicm91bmQiLAogICJvcGFjaXR5IjogMS4wLAogICJyYWRpdXMiOiAzLAogICJzdHJva2UiOiB0cnVlLAogICJ3ZWlnaHQiOiAzCn0KICAgICAgICAgICAgICAgICkuYWRkVG8obWFwX2VjODNkMjEwMTQ0MDRhN2E5YWQ1NDlmZDA2ZDE0YjY5KTsKICAgICAgICAgICAgCiAgICAKICAgICAgICAgICAgdmFyIHBvcHVwX2QxZmFiZWZkZDRjZTQ2MjA4MDAyNjQ3YmM2NjU5YTgxID0gTC5wb3B1cCh7bWF4V2lkdGg6ICczMDAnfSk7CgogICAgICAgICAgICAKICAgICAgICAgICAgICAgIHZhciBodG1sX2RlY2Y1M2VhMjg1NTRjZmJiZjA0Yzk3ZWUzY2FjNDEwID0gJCgnPGRpdiBpZD0iaHRtbF9kZWNmNTNlYTI4NTU0Y2ZiYmYwNGM5N2VlM2NhYzQxMCIgc3R5bGU9IndpZHRoOiAxMDAuMCU7IGhlaWdodDogMTAwLjAlOyI+Q29sbGVnZSBvciBVbml2ZXJzaXR5PC9kaXY+JylbMF07CiAgICAgICAgICAgICAgICBwb3B1cF9kMWZhYmVmZGQ0Y2U0NjIwODAwMjY0N2JjNjY1OWE4MS5zZXRDb250ZW50KGh0bWxfZGVjZjUzZWEyODU1NGNmYmJmMDRjOTdlZTNjYWM0MTApOwogICAgICAgICAgICAKCiAgICAgICAgICAgIGNpcmNsZV9tYXJrZXJfZDZkYTRmNzYwZWZmNGYwYTkwYTY3NGRjMDNlOGQwYzYuYmluZFBvcHVwKHBvcHVwX2QxZmFiZWZkZDRjZTQ2MjA4MDAyNjQ3YmM2NjU5YTgxKTsKCiAgICAgICAgICAgIAogICAgICAgIAogICAgCiAgICAgICAgICAgIHZhciBjaXJjbGVfbWFya2VyXzg3MzI1YThkMTI3OTQ2Nzk5YzdlZjFjMWJiNDE4OGZiID0gTC5jaXJjbGVNYXJrZXIoCiAgICAgICAgICAgICAgICBbMTguNjQ2MDE1ODA1MjAyNzIsNzMuNzU5NjAyMDM5NTM4MzZdLAogICAgICAgICAgICAgICAgewogICJidWJibGluZ01vdXNlRXZlbnRzIjogdHJ1ZSwKICAiY29sb3IiOiAiYmx1ZSIsCiAgImRhc2hBcnJheSI6IG51bGwsCiAgImRhc2hPZmZzZXQiOiBudWxsLAogICJmaWxsIjogdHJ1ZSwKICAiZmlsbENvbG9yIjogImJsdWUiLAogICJmaWxsT3BhY2l0eSI6IDAuNiwKICAiZmlsbFJ1bGUiOiAiZXZlbm9kZCIsCiAgImxpbmVDYXAiOiAicm91bmQiLAogICJsaW5lSm9pbiI6ICJyb3VuZCIsCiAgIm9wYWNpdHkiOiAxLjAsCiAgInJhZGl1cyI6IDMsCiAgInN0cm9rZSI6IHRydWUsCiAgIndlaWdodCI6IDMKfQogICAgICAgICAgICAgICAgKS5hZGRUbyhtYXBfZWM4M2QyMTAxNDQwNGE3YTlhZDU0OWZkMDZkMTRiNjkpOwogICAgICAgICAgICAKICAgIAogICAgICAgICAgICB2YXIgcG9wdXBfMGMyMjkzYjdkM2YwNDZhYmEyYjYyMTM4ZGY5NzRkYTIgPSBMLnBvcHVwKHttYXhXaWR0aDogJzMwMCd9KTsKCiAgICAgICAgICAgIAogICAgICAgICAgICAgICAgdmFyIGh0bWxfYTU5MWY4YjU2MTFmNDU1OGEwNDc1NDcwNWVmMGNhYzggPSAkKCc8ZGl2IGlkPSJodG1sX2E1OTFmOGI1NjExZjQ1NThhMDQ3NTQ3MDVlZjBjYWM4IiBzdHlsZT0id2lkdGg6IDEwMC4wJTsgaGVpZ2h0OiAxMDAuMCU7Ij5Db2xsZWdlIG9yIFVuaXZlcnNpdHk8L2Rpdj4nKVswXTsKICAgICAgICAgICAgICAgIHBvcHVwXzBjMjI5M2I3ZDNmMDQ2YWJhMmI2MjEzOGRmOTc0ZGEyLnNldENvbnRlbnQoaHRtbF9hNTkxZjhiNTYxMWY0NTU4YTA0NzU0NzA1ZWYwY2FjOCk7CiAgICAgICAgICAgIAoKICAgICAgICAgICAgY2lyY2xlX21hcmtlcl84NzMyNWE4ZDEyNzk0Njc5OWM3ZWYxYzFiYjQxODhmYi5iaW5kUG9wdXAocG9wdXBfMGMyMjkzYjdkM2YwNDZhYmEyYjYyMTM4ZGY5NzRkYTIpOwoKICAgICAgICAgICAgCiAgICAgICAgCiAgICAKICAgICAgICAgICAgdmFyIGNpcmNsZV9tYXJrZXJfYzVlOTUyOWY1MzA1NGY2M2FiMjFkNWZkZjBjNzI3NWIgPSBMLmNpcmNsZU1hcmtlcigKICAgICAgICAgICAgICAgIFsxOC42MTU3MjM5Njg3NTAzNzMsNzMuODQ2MTAxNzgxNzY2ODhdLAogICAgICAgICAgICAgICAgewogICJidWJibGluZ01vdXNlRXZlbnRzIjogdHJ1ZSwKICAiY29sb3IiOiAiYmx1ZSIsCiAgImRhc2hBcnJheSI6IG51bGwsCiAgImRhc2hPZmZzZXQiOiBudWxsLAogICJmaWxsIjogdHJ1ZSwKICAiZmlsbENvbG9yIjogImJsdWUiLAogICJmaWxsT3BhY2l0eSI6IDAuNiwKICAiZmlsbFJ1bGUiOiAiZXZlbm9kZCIsCiAgImxpbmVDYXAiOiAicm91bmQiLAogICJsaW5lSm9pbiI6ICJyb3VuZCIsCiAgIm9wYWNpdHkiOiAxLjAsCiAgInJhZGl1cyI6IDMsCiAgInN0cm9rZSI6IHRydWUsCiAgIndlaWdodCI6IDMKfQogICAgICAgICAgICAgICAgKS5hZGRUbyhtYXBfZWM4M2QyMTAxNDQwNGE3YTlhZDU0OWZkMDZkMTRiNjkpOwogICAgICAgICAgICAKICAgIAogICAgICAgICAgICB2YXIgcG9wdXBfMjRhNTY2ZTI4MTM2NDkwYTk4N2ZiMDVlNDEwZDRjMDYgPSBMLnBvcHVwKHttYXhXaWR0aDogJzMwMCd9KTsKCiAgICAgICAgICAgIAogICAgICAgICAgICAgICAgdmFyIGh0bWxfN2M1N2YzMWE4NTc4NGMyYjg1YjU2NDU3MjBkNTVkNzQgPSAkKCc8ZGl2IGlkPSJodG1sXzdjNTdmMzFhODU3ODRjMmI4NWI1NjQ1NzIwZDU1ZDc0IiBzdHlsZT0id2lkdGg6IDEwMC4wJTsgaGVpZ2h0OiAxMDAuMCU7Ij5Db2xsZWdlIG9yIFVuaXZlcnNpdHk8L2Rpdj4nKVswXTsKICAgICAgICAgICAgICAgIHBvcHVwXzI0YTU2NmUyODEzNjQ5MGE5ODdmYjA1ZTQxMGQ0YzA2LnNldENvbnRlbnQoaHRtbF83YzU3ZjMxYTg1Nzg0YzJiODViNTY0NTcyMGQ1NWQ3NCk7CiAgICAgICAgICAgIAoKICAgICAgICAgICAgY2lyY2xlX21hcmtlcl9jNWU5NTI5ZjUzMDU0ZjYzYWIyMWQ1ZmRmMGM3Mjc1Yi5iaW5kUG9wdXAocG9wdXBfMjRhNTY2ZTI4MTM2NDkwYTk4N2ZiMDVlNDEwZDRjMDYpOwoKICAgICAgICAgICAgCiAgICAgICAgCiAgICAKICAgICAgICAgICAgdmFyIGNpcmNsZV9tYXJrZXJfZTQzYjNhNjUyMzVlNGFjMmI5MzMzMjMyYTE3MDVjMDAgPSBMLmNpcmNsZU1hcmtlcigKICAgICAgICAgICAgICAgIFsxOC42NDU0NzQsNzMuNzU0MjA5XSwKICAgICAgICAgICAgICAgIHsKICAiYnViYmxpbmdNb3VzZUV2ZW50cyI6IHRydWUsCiAgImNvbG9yIjogImJsdWUiLAogICJkYXNoQXJyYXkiOiBudWxsLAogICJkYXNoT2Zmc2V0IjogbnVsbCwKICAiZmlsbCI6IHRydWUsCiAgImZpbGxDb2xvciI6ICJibHVlIiwKICAiZmlsbE9wYWNpdHkiOiAwLjYsCiAgImZpbGxSdWxlIjogImV2ZW5vZGQiLAogICJsaW5lQ2FwIjogInJvdW5kIiwKICAibGluZUpvaW4iOiAicm91bmQiLAogICJvcGFjaXR5IjogMS4wLAogICJyYWRpdXMiOiAzLAogICJzdHJva2UiOiB0cnVlLAogICJ3ZWlnaHQiOiAzCn0KICAgICAgICAgICAgICAgICkuYWRkVG8obWFwX2VjODNkMjEwMTQ0MDRhN2E5YWQ1NDlmZDA2ZDE0YjY5KTsKICAgICAgICAgICAgCiAgICAKICAgICAgICAgICAgdmFyIHBvcHVwXzZmNGY0MzIxYWY2YTRlMTFiNWFhNzJlNzkyODBiYWJkID0gTC5wb3B1cCh7bWF4V2lkdGg6ICczMDAnfSk7CgogICAgICAgICAgICAKICAgICAgICAgICAgICAgIHZhciBodG1sXzk0YzY1MjY0NDYxOTQ0MTk5YTMwNWRjNTNlNzUxMjkwID0gJCgnPGRpdiBpZD0iaHRtbF85NGM2NTI2NDQ2MTk0NDE5OWEzMDVkYzUzZTc1MTI5MCIgc3R5bGU9IndpZHRoOiAxMDAuMCU7IGhlaWdodDogMTAwLjAlOyI+Q29sbGVnZSBvciBVbml2ZXJzaXR5PC9kaXY+JylbMF07CiAgICAgICAgICAgICAgICBwb3B1cF82ZjRmNDMyMWFmNmE0ZTExYjVhYTcyZTc5MjgwYmFiZC5zZXRDb250ZW50KGh0bWxfOTRjNjUyNjQ0NjE5NDQxOTlhMzA1ZGM1M2U3NTEyOTApOwogICAgICAgICAgICAKCiAgICAgICAgICAgIGNpcmNsZV9tYXJrZXJfZTQzYjNhNjUyMzVlNGFjMmI5MzMzMjMyYTE3MDVjMDAuYmluZFBvcHVwKHBvcHVwXzZmNGY0MzIxYWY2YTRlMTFiNWFhNzJlNzkyODBiYWJkKTsKCiAgICAgICAgICAgIAogICAgICAgIAogICAgCiAgICAgICAgICAgIHZhciBjaXJjbGVfbWFya2VyXzNhZGI2ZjgxMjFhMTQwYjI5ZmU3NjM4NWM0YjgwN2VkID0gTC5jaXJjbGVNYXJrZXIoCiAgICAgICAgICAgICAgICBbMTguNjUxODczMjQ1MDMwMzQ1LDczLjc2MjIxMDU2MzE1ODI2XSwKICAgICAgICAgICAgICAgIHsKICAiYnViYmxpbmdNb3VzZUV2ZW50cyI6IHRydWUsCiAgImNvbG9yIjogImJsdWUiLAogICJkYXNoQXJyYXkiOiBudWxsLAogICJkYXNoT2Zmc2V0IjogbnVsbCwKICAiZmlsbCI6IHRydWUsCiAgImZpbGxDb2xvciI6ICJibHVlIiwKICAiZmlsbE9wYWNpdHkiOiAwLjYsCiAgImZpbGxSdWxlIjogImV2ZW5vZGQiLAogICJsaW5lQ2FwIjogInJvdW5kIiwKICAibGluZUpvaW4iOiAicm91bmQiLAogICJvcGFjaXR5IjogMS4wLAogICJyYWRpdXMiOiAzLAogICJzdHJva2UiOiB0cnVlLAogICJ3ZWlnaHQiOiAzCn0KICAgICAgICAgICAgICAgICkuYWRkVG8obWFwX2VjODNkMjEwMTQ0MDRhN2E5YWQ1NDlmZDA2ZDE0YjY5KTsKICAgICAgICAgICAgCiAgICAKICAgICAgICAgICAgdmFyIHBvcHVwX2VhOWRhZDViZjVjYzQ1OTVhNzk1MzZmOWE3NDVjZjVjID0gTC5wb3B1cCh7bWF4V2lkdGg6ICczMDAnfSk7CgogICAgICAgICAgICAKICAgICAgICAgICAgICAgIHZhciBodG1sXzI2YTBhYTNkY2ZmOTRiYThhZmEyY2RjMzE2ZmNhYzc0ID0gJCgnPGRpdiBpZD0iaHRtbF8yNmEwYWEzZGNmZjk0YmE4YWZhMmNkYzMxNmZjYWM3NCIgc3R5bGU9IndpZHRoOiAxMDAuMCU7IGhlaWdodDogMTAwLjAlOyI+Q29sbGVnZSBvciBVbml2ZXJzaXR5PC9kaXY+JylbMF07CiAgICAgICAgICAgICAgICBwb3B1cF9lYTlkYWQ1YmY1Y2M0NTk1YTc5NTM2ZjlhNzQ1Y2Y1Yy5zZXRDb250ZW50KGh0bWxfMjZhMGFhM2RjZmY5NGJhOGFmYTJjZGMzMTZmY2FjNzQpOwogICAgICAgICAgICAKCiAgICAgICAgICAgIGNpcmNsZV9tYXJrZXJfM2FkYjZmODEyMWExNDBiMjlmZTc2Mzg1YzRiODA3ZWQuYmluZFBvcHVwKHBvcHVwX2VhOWRhZDViZjVjYzQ1OTVhNzk1MzZmOWE3NDVjZjVjKTsKCiAgICAgICAgICAgIAogICAgICAgIAogICAgCiAgICAgICAgICAgIHZhciBjaXJjbGVfbWFya2VyX2M1NDQ1MDIwMmM2ODRhYmI5M2NmNTkyNzE5OTIxMGU0ID0gTC5jaXJjbGVNYXJrZXIoCiAgICAgICAgICAgICAgICBbMTguNjEyNTI3ODQ3MjkwMDQsNzMuNzQ5MTM3ODc4NDE3OTddLAogICAgICAgICAgICAgICAgewogICJidWJibGluZ01vdXNlRXZlbnRzIjogdHJ1ZSwKICAiY29sb3IiOiAiYmx1ZSIsCiAgImRhc2hBcnJheSI6IG51bGwsCiAgImRhc2hPZmZzZXQiOiBudWxsLAogICJmaWxsIjogdHJ1ZSwKICAiZmlsbENvbG9yIjogImJsdWUiLAogICJmaWxsT3BhY2l0eSI6IDAuNiwKICAiZmlsbFJ1bGUiOiAiZXZlbm9kZCIsCiAgImxpbmVDYXAiOiAicm91bmQiLAogICJsaW5lSm9pbiI6ICJyb3VuZCIsCiAgIm9wYWNpdHkiOiAxLjAsCiAgInJhZGl1cyI6IDMsCiAgInN0cm9rZSI6IHRydWUsCiAgIndlaWdodCI6IDMKfQogICAgICAgICAgICAgICAgKS5hZGRUbyhtYXBfZWM4M2QyMTAxNDQwNGE3YTlhZDU0OWZkMDZkMTRiNjkpOwogICAgICAgICAgICAKICAgIAogICAgICAgICAgICB2YXIgcG9wdXBfM2U5MTA1ZDkzMDM0NDEyZGJjYjhhNGY4ZGZlZDMzMWEgPSBMLnBvcHVwKHttYXhXaWR0aDogJzMwMCd9KTsKCiAgICAgICAgICAgIAogICAgICAgICAgICAgICAgdmFyIGh0bWxfZDk3MGFmZTUxYTNkNGU5YTg3YjcxNGZlM2JlZjI1NmEgPSAkKCc8ZGl2IGlkPSJodG1sX2Q5NzBhZmU1MWEzZDRlOWE4N2I3MTRmZTNiZWYyNTZhIiBzdHlsZT0id2lkdGg6IDEwMC4wJTsgaGVpZ2h0OiAxMDAuMCU7Ij5Db2xsZWdlIG9yIFVuaXZlcnNpdHk8L2Rpdj4nKVswXTsKICAgICAgICAgICAgICAgIHBvcHVwXzNlOTEwNWQ5MzAzNDQxMmRiY2I4YTRmOGRmZWQzMzFhLnNldENvbnRlbnQoaHRtbF9kOTcwYWZlNTFhM2Q0ZTlhODdiNzE0ZmUzYmVmMjU2YSk7CiAgICAgICAgICAgIAoKICAgICAgICAgICAgY2lyY2xlX21hcmtlcl9jNTQ0NTAyMDJjNjg0YWJiOTNjZjU5MjcxOTkyMTBlNC5iaW5kUG9wdXAocG9wdXBfM2U5MTA1ZDkzMDM0NDEyZGJjYjhhNGY4ZGZlZDMzMWEpOwoKICAgICAgICAgICAgCiAgICAgICAgCiAgICAKICAgICAgICAgICAgdmFyIGNpcmNsZV9tYXJrZXJfZjAxZTJkMzhlMzVmNGFlNmFhMzk4MWE1OTYwYTNhNWIgPSBMLmNpcmNsZU1hcmtlcigKICAgICAgICAgICAgICAgIFsxOC41NzkxNjYzNDUxNTAxNDYsNzMuODE4OTAwMTg2MjQ1M10sCiAgICAgICAgICAgICAgICB7CiAgImJ1YmJsaW5nTW91c2VFdmVudHMiOiB0cnVlLAogICJjb2xvciI6ICJibHVlIiwKICAiZGFzaEFycmF5IjogbnVsbCwKICAiZGFzaE9mZnNldCI6IG51bGwsCiAgImZpbGwiOiB0cnVlLAogICJmaWxsQ29sb3IiOiAiYmx1ZSIsCiAgImZpbGxPcGFjaXR5IjogMC42LAogICJmaWxsUnVsZSI6ICJldmVub2RkIiwKICAibGluZUNhcCI6ICJyb3VuZCIsCiAgImxpbmVKb2luIjogInJvdW5kIiwKICAib3BhY2l0eSI6IDEuMCwKICAicmFkaXVzIjogMywKICAic3Ryb2tlIjogdHJ1ZSwKICAid2VpZ2h0IjogMwp9CiAgICAgICAgICAgICAgICApLmFkZFRvKG1hcF9lYzgzZDIxMDE0NDA0YTdhOWFkNTQ5ZmQwNmQxNGI2OSk7CiAgICAgICAgICAgIAogICAgCiAgICAgICAgICAgIHZhciBwb3B1cF9mNjNiNzU1ODkxZDk0YmU4ODlkMzE3NzgwZGVhOWUxOSA9IEwucG9wdXAoe21heFdpZHRoOiAnMzAwJ30pOwoKICAgICAgICAgICAgCiAgICAgICAgICAgICAgICB2YXIgaHRtbF84N2EyNjg2NDc2Yzg0OTM0YjM1YjM1MjE1YTJiZjBjNCA9ICQoJzxkaXYgaWQ9Imh0bWxfODdhMjY4NjQ3NmM4NDkzNGIzNWIzNTIxNWEyYmYwYzQiIHN0eWxlPSJ3aWR0aDogMTAwLjAlOyBoZWlnaHQ6IDEwMC4wJTsiPkNvbGxlZ2Ugb3IgVW5pdmVyc2l0eTwvZGl2PicpWzBdOwogICAgICAgICAgICAgICAgcG9wdXBfZjYzYjc1NTg5MWQ5NGJlODg5ZDMxNzc4MGRlYTllMTkuc2V0Q29udGVudChodG1sXzg3YTI2ODY0NzZjODQ5MzRiMzViMzUyMTVhMmJmMGM0KTsKICAgICAgICAgICAgCgogICAgICAgICAgICBjaXJjbGVfbWFya2VyX2YwMWUyZDM4ZTM1ZjRhZTZhYTM5ODFhNTk2MGEzYTViLmJpbmRQb3B1cChwb3B1cF9mNjNiNzU1ODkxZDk0YmU4ODlkMzE3NzgwZGVhOWUxOSk7CgogICAgICAgICAgICAKICAgICAgICAKICAgIAogICAgICAgICAgICB2YXIgY2lyY2xlX21hcmtlcl84ZDZkZTc1M2YwZDU0ZTI3YmM0MGZmYTVjMWQ0NjAxMSA9IEwuY2lyY2xlTWFya2VyKAogICAgICAgICAgICAgICAgWzE4LjU3NDAyNTE2NzE2NTY1NCw3My43Nzc5MzU2NzgyMDczM10sCiAgICAgICAgICAgICAgICB7CiAgImJ1YmJsaW5nTW91c2VFdmVudHMiOiB0cnVlLAogICJjb2xvciI6ICJibHVlIiwKICAiZGFzaEFycmF5IjogbnVsbCwKICAiZGFzaE9mZnNldCI6IG51bGwsCiAgImZpbGwiOiB0cnVlLAogICJmaWxsQ29sb3IiOiAiYmx1ZSIsCiAgImZpbGxPcGFjaXR5IjogMC42LAogICJmaWxsUnVsZSI6ICJldmVub2RkIiwKICAibGluZUNhcCI6ICJyb3VuZCIsCiAgImxpbmVKb2luIjogInJvdW5kIiwKICAib3BhY2l0eSI6IDEuMCwKICAicmFkaXVzIjogMywKICAic3Ryb2tlIjogdHJ1ZSwKICAid2VpZ2h0IjogMwp9CiAgICAgICAgICAgICAgICApLmFkZFRvKG1hcF9lYzgzZDIxMDE0NDA0YTdhOWFkNTQ5ZmQwNmQxNGI2OSk7CiAgICAgICAgICAgIAogICAgCiAgICAgICAgICAgIHZhciBwb3B1cF9jNDNhZjIyZjJlMTQ0MmUyYTc0ODk5ZGIxMmEzMTNlNiA9IEwucG9wdXAoe21heFdpZHRoOiAnMzAwJ30pOwoKICAgICAgICAgICAgCiAgICAgICAgICAgICAgICB2YXIgaHRtbF8zNmFlYzRjNGZlMTk0YmM0YTI2MWM1NTVkYjYxYmVmYSA9ICQoJzxkaXYgaWQ9Imh0bWxfMzZhZWM0YzRmZTE5NGJjNGEyNjFjNTU1ZGI2MWJlZmEiIHN0eWxlPSJ3aWR0aDogMTAwLjAlOyBoZWlnaHQ6IDEwMC4wJTsiPkNvbGxlZ2Ugb3IgVW5pdmVyc2l0eTwvZGl2PicpWzBdOwogICAgICAgICAgICAgICAgcG9wdXBfYzQzYWYyMmYyZTE0NDJlMmE3NDg5OWRiMTJhMzEzZTYuc2V0Q29udGVudChodG1sXzM2YWVjNGM0ZmUxOTRiYzRhMjYxYzU1NWRiNjFiZWZhKTsKICAgICAgICAgICAgCgogICAgICAgICAgICBjaXJjbGVfbWFya2VyXzhkNmRlNzUzZjBkNTRlMjdiYzQwZmZhNWMxZDQ2MDExLmJpbmRQb3B1cChwb3B1cF9jNDNhZjIyZjJlMTQ0MmUyYTc0ODk5ZGIxMmEzMTNlNik7CgogICAgICAgICAgICAKICAgICAgICAKICAgIAogICAgICAgICAgICB2YXIgY2lyY2xlX21hcmtlcl82MTQ2NTlhMTNmNjk0YTQwODIzNDAzNTY4ODFkNDY5YyA9IEwuY2lyY2xlTWFya2VyKAogICAgICAgICAgICAgICAgWzE4LjYxMTYyMTg1NjY4OTQ1Myw3My43NDkwMTU4MDgxMDU0N10sCiAgICAgICAgICAgICAgICB7CiAgImJ1YmJsaW5nTW91c2VFdmVudHMiOiB0cnVlLAogICJjb2xvciI6ICJibHVlIiwKICAiZGFzaEFycmF5IjogbnVsbCwKICAiZGFzaE9mZnNldCI6IG51bGwsCiAgImZpbGwiOiB0cnVlLAogICJmaWxsQ29sb3IiOiAiYmx1ZSIsCiAgImZpbGxPcGFjaXR5IjogMC42LAogICJmaWxsUnVsZSI6ICJldmVub2RkIiwKICAibGluZUNhcCI6ICJyb3VuZCIsCiAgImxpbmVKb2luIjogInJvdW5kIiwKICAib3BhY2l0eSI6IDEuMCwKICAicmFkaXVzIjogMywKICAic3Ryb2tlIjogdHJ1ZSwKICAid2VpZ2h0IjogMwp9CiAgICAgICAgICAgICAgICApLmFkZFRvKG1hcF9lYzgzZDIxMDE0NDA0YTdhOWFkNTQ5ZmQwNmQxNGI2OSk7CiAgICAgICAgICAgIAogICAgCiAgICAgICAgICAgIHZhciBwb3B1cF8xN2UzOGI3YTNkNmI0Y2Y4OTY3ZTVhYWFlNDdiYTMyOCA9IEwucG9wdXAoe21heFdpZHRoOiAnMzAwJ30pOwoKICAgICAgICAgICAgCiAgICAgICAgICAgICAgICB2YXIgaHRtbF9lYzc3YTYzZWNiM2Q0OTA4YWVkYjViOTE5Yzk0ZjYwNyA9ICQoJzxkaXYgaWQ9Imh0bWxfZWM3N2E2M2VjYjNkNDkwOGFlZGI1YjkxOWM5NGY2MDciIHN0eWxlPSJ3aWR0aDogMTAwLjAlOyBoZWlnaHQ6IDEwMC4wJTsiPkNvbGxlZ2Ugb3IgVW5pdmVyc2l0eTwvZGl2PicpWzBdOwogICAgICAgICAgICAgICAgcG9wdXBfMTdlMzhiN2EzZDZiNGNmODk2N2U1YWFhZTQ3YmEzMjguc2V0Q29udGVudChodG1sX2VjNzdhNjNlY2IzZDQ5MDhhZWRiNWI5MTljOTRmNjA3KTsKICAgICAgICAgICAgCgogICAgICAgICAgICBjaXJjbGVfbWFya2VyXzYxNDY1OWExM2Y2OTRhNDA4MjM0MDM1Njg4MWQ0NjljLmJpbmRQb3B1cChwb3B1cF8xN2UzOGI3YTNkNmI0Y2Y4OTY3ZTVhYWFlNDdiYTMyOCk7CgogICAgICAgICAgICAKICAgICAgICAKICAgIAogICAgICAgICAgICB2YXIgY2lyY2xlX21hcmtlcl9mMTYzOGNmNTZiNjA0MjBhOGMyYTMyNmRiNmJhNmZiNSA9IEwuY2lyY2xlTWFya2VyKAogICAgICAgICAgICAgICAgWzE4LjYxMjA0NzE3ODc5ODMsNzMuNzQ5MTYxODU5Nzk4NDhdLAogICAgICAgICAgICAgICAgewogICJidWJibGluZ01vdXNlRXZlbnRzIjogdHJ1ZSwKICAiY29sb3IiOiAiYmx1ZSIsCiAgImRhc2hBcnJheSI6IG51bGwsCiAgImRhc2hPZmZzZXQiOiBudWxsLAogICJmaWxsIjogdHJ1ZSwKICAiZmlsbENvbG9yIjogImJsdWUiLAogICJmaWxsT3BhY2l0eSI6IDAuNiwKICAiZmlsbFJ1bGUiOiAiZXZlbm9kZCIsCiAgImxpbmVDYXAiOiAicm91bmQiLAogICJsaW5lSm9pbiI6ICJyb3VuZCIsCiAgIm9wYWNpdHkiOiAxLjAsCiAgInJhZGl1cyI6IDMsCiAgInN0cm9rZSI6IHRydWUsCiAgIndlaWdodCI6IDMKfQogICAgICAgICAgICAgICAgKS5hZGRUbyhtYXBfZWM4M2QyMTAxNDQwNGE3YTlhZDU0OWZkMDZkMTRiNjkpOwogICAgICAgICAgICAKICAgIAogICAgICAgICAgICB2YXIgcG9wdXBfOThjMzczMGE2Y2U4NGU4OWFjMTI1MGJmZDQ3MzZhNWUgPSBMLnBvcHVwKHttYXhXaWR0aDogJzMwMCd9KTsKCiAgICAgICAgICAgIAogICAgICAgICAgICAgICAgdmFyIGh0bWxfNGMzNmYzM2RmNDFmNDAyM2JmN2FmZDZjYzhhYjU4ODggPSAkKCc8ZGl2IGlkPSJodG1sXzRjMzZmMzNkZjQxZjQwMjNiZjdhZmQ2Y2M4YWI1ODg4IiBzdHlsZT0id2lkdGg6IDEwMC4wJTsgaGVpZ2h0OiAxMDAuMCU7Ij5Db2xsZWdlIG9yIFVuaXZlcnNpdHk8L2Rpdj4nKVswXTsKICAgICAgICAgICAgICAgIHBvcHVwXzk4YzM3MzBhNmNlODRlODlhYzEyNTBiZmQ0NzM2YTVlLnNldENvbnRlbnQoaHRtbF80YzM2ZjMzZGY0MWY0MDIzYmY3YWZkNmNjOGFiNTg4OCk7CiAgICAgICAgICAgIAoKICAgICAgICAgICAgY2lyY2xlX21hcmtlcl9mMTYzOGNmNTZiNjA0MjBhOGMyYTMyNmRiNmJhNmZiNS5iaW5kUG9wdXAocG9wdXBfOThjMzczMGE2Y2U4NGU4OWFjMTI1MGJmZDQ3MzZhNWUpOwoKICAgICAgICAgICAgCiAgICAgICAgCiAgICAKICAgICAgICAgICAgdmFyIGNpcmNsZV9tYXJrZXJfMzMzNDQ2ZmVhYWM3NDIwN2FjZjBjODg0MGJmMTczNmYgPSBMLmNpcmNsZU1hcmtlcigKICAgICAgICAgICAgICAgIFsxOC42MTY5NDQ3NTE0NDc3NSw3My43NDc5OTU0MjE4NDgyMl0sCiAgICAgICAgICAgICAgICB7CiAgImJ1YmJsaW5nTW91c2VFdmVudHMiOiB0cnVlLAogICJjb2xvciI6ICJibHVlIiwKICAiZGFzaEFycmF5IjogbnVsbCwKICAiZGFzaE9mZnNldCI6IG51bGwsCiAgImZpbGwiOiB0cnVlLAogICJmaWxsQ29sb3IiOiAiYmx1ZSIsCiAgImZpbGxPcGFjaXR5IjogMC42LAogICJmaWxsUnVsZSI6ICJldmVub2RkIiwKICAibGluZUNhcCI6ICJyb3VuZCIsCiAgImxpbmVKb2luIjogInJvdW5kIiwKICAib3BhY2l0eSI6IDEuMCwKICAicmFkaXVzIjogMywKICAic3Ryb2tlIjogdHJ1ZSwKICAid2VpZ2h0IjogMwp9CiAgICAgICAgICAgICAgICApLmFkZFRvKG1hcF9lYzgzZDIxMDE0NDA0YTdhOWFkNTQ5ZmQwNmQxNGI2OSk7CiAgICAgICAgICAgIAogICAgCiAgICAgICAgICAgIHZhciBwb3B1cF83ZTRlZGIzY2FjYmU0MDMwYWQ4YjNiY2QyZDViNjQ5YiA9IEwucG9wdXAoe21heFdpZHRoOiAnMzAwJ30pOwoKICAgICAgICAgICAgCiAgICAgICAgICAgICAgICB2YXIgaHRtbF81ODQ0ZTFjZDQ3N2M0YjMwODZkZGU4OGJkNTU4YWI0NCA9ICQoJzxkaXYgaWQ9Imh0bWxfNTg0NGUxY2Q0NzdjNGIzMDg2ZGRlODhiZDU1OGFiNDQiIHN0eWxlPSJ3aWR0aDogMTAwLjAlOyBoZWlnaHQ6IDEwMC4wJTsiPkNvbGxlZ2Ugb3IgVW5pdmVyc2l0eTwvZGl2PicpWzBdOwogICAgICAgICAgICAgICAgcG9wdXBfN2U0ZWRiM2NhY2JlNDAzMGFkOGIzYmNkMmQ1YjY0OWIuc2V0Q29udGVudChodG1sXzU4NDRlMWNkNDc3YzRiMzA4NmRkZTg4YmQ1NThhYjQ0KTsKICAgICAgICAgICAgCgogICAgICAgICAgICBjaXJjbGVfbWFya2VyXzMzMzQ0NmZlYWFjNzQyMDdhY2YwYzg4NDBiZjE3MzZmLmJpbmRQb3B1cChwb3B1cF83ZTRlZGIzY2FjYmU0MDMwYWQ4YjNiY2QyZDViNjQ5Yik7CgogICAgICAgICAgICAKICAgICAgICAKICAgIAogICAgICAgICAgICB2YXIgY2lyY2xlX21hcmtlcl81ODMzNDIxMjM0Y2U0OWVjOWIwN2Y1ZGYyNmYzOTBmMyA9IEwuY2lyY2xlTWFya2VyKAogICAgICAgICAgICAgICAgWzE4LjU3NTg0MjM5NDM2Mzk3NCw3My44MTYxNDg4MDMxMjM1XSwKICAgICAgICAgICAgICAgIHsKICAiYnViYmxpbmdNb3VzZUV2ZW50cyI6IHRydWUsCiAgImNvbG9yIjogImJsdWUiLAogICJkYXNoQXJyYXkiOiBudWxsLAogICJkYXNoT2Zmc2V0IjogbnVsbCwKICAiZmlsbCI6IHRydWUsCiAgImZpbGxDb2xvciI6ICJibHVlIiwKICAiZmlsbE9wYWNpdHkiOiAwLjYsCiAgImZpbGxSdWxlIjogImV2ZW5vZGQiLAogICJsaW5lQ2FwIjogInJvdW5kIiwKICAibGluZUpvaW4iOiAicm91bmQiLAogICJvcGFjaXR5IjogMS4wLAogICJyYWRpdXMiOiAzLAogICJzdHJva2UiOiB0cnVlLAogICJ3ZWlnaHQiOiAzCn0KICAgICAgICAgICAgICAgICkuYWRkVG8obWFwX2VjODNkMjEwMTQ0MDRhN2E5YWQ1NDlmZDA2ZDE0YjY5KTsKICAgICAgICAgICAgCiAgICAKICAgICAgICAgICAgdmFyIHBvcHVwXzUyZjczOGNlZWJmNDRlM2M4ZTk4ZDY5NTAwNzY0MGJlID0gTC5wb3B1cCh7bWF4V2lkdGg6ICczMDAnfSk7CgogICAgICAgICAgICAKICAgICAgICAgICAgICAgIHZhciBodG1sXzNlYzA4NTg0NzQzNTQyNzhhZTRhY2MwYTQzMzhkYjk4ID0gJCgnPGRpdiBpZD0iaHRtbF8zZWMwODU4NDc0MzU0Mjc4YWU0YWNjMGE0MzM4ZGI5OCIgc3R5bGU9IndpZHRoOiAxMDAuMCU7IGhlaWdodDogMTAwLjAlOyI+Q29sbGVnZSBvciBVbml2ZXJzaXR5PC9kaXY+JylbMF07CiAgICAgICAgICAgICAgICBwb3B1cF81MmY3MzhjZWViZjQ0ZTNjOGU5OGQ2OTUwMDc2NDBiZS5zZXRDb250ZW50KGh0bWxfM2VjMDg1ODQ3NDM1NDI3OGFlNGFjYzBhNDMzOGRiOTgpOwogICAgICAgICAgICAKCiAgICAgICAgICAgIGNpcmNsZV9tYXJrZXJfNTgzMzQyMTIzNGNlNDllYzliMDdmNWRmMjZmMzkwZjMuYmluZFBvcHVwKHBvcHVwXzUyZjczOGNlZWJmNDRlM2M4ZTk4ZDY5NTAwNzY0MGJlKTsKCiAgICAgICAgICAgIAogICAgICAgIAogICAgCiAgICAgICAgICAgIHZhciBjaXJjbGVfbWFya2VyXzE3Mzk1NmRlZjg2YTQ4Yzc4M2Y1N2NiZmUwYjkwZWU4ID0gTC5jaXJjbGVNYXJrZXIoCiAgICAgICAgICAgICAgICBbMTguNTQyMDc1MDk4MzAxNjYsNzMuODI3OTMwNjU3ODc3ODNdLAogICAgICAgICAgICAgICAgewogICJidWJibGluZ01vdXNlRXZlbnRzIjogdHJ1ZSwKICAiY29sb3IiOiAiYmx1ZSIsCiAgImRhc2hBcnJheSI6IG51bGwsCiAgImRhc2hPZmZzZXQiOiBudWxsLAogICJmaWxsIjogdHJ1ZSwKICAiZmlsbENvbG9yIjogImJsdWUiLAogICJmaWxsT3BhY2l0eSI6IDAuNiwKICAiZmlsbFJ1bGUiOiAiZXZlbm9kZCIsCiAgImxpbmVDYXAiOiAicm91bmQiLAogICJsaW5lSm9pbiI6ICJyb3VuZCIsCiAgIm9wYWNpdHkiOiAxLjAsCiAgInJhZGl1cyI6IDMsCiAgInN0cm9rZSI6IHRydWUsCiAgIndlaWdodCI6IDMKfQogICAgICAgICAgICAgICAgKS5hZGRUbyhtYXBfZWM4M2QyMTAxNDQwNGE3YTlhZDU0OWZkMDZkMTRiNjkpOwogICAgICAgICAgICAKICAgIAogICAgICAgICAgICB2YXIgcG9wdXBfNDFlMjQyMjQyYTM2NGE3MDlkYjMwZDVmYTkxMGZlMGQgPSBMLnBvcHVwKHttYXhXaWR0aDogJzMwMCd9KTsKCiAgICAgICAgICAgIAogICAgICAgICAgICAgICAgdmFyIGh0bWxfMWY0ZTM2ZGEwMWY2NDBkMThjMjA2NWQxMmFhZjljYTcgPSAkKCc8ZGl2IGlkPSJodG1sXzFmNGUzNmRhMDFmNjQwZDE4YzIwNjVkMTJhYWY5Y2E3IiBzdHlsZT0id2lkdGg6IDEwMC4wJTsgaGVpZ2h0OiAxMDAuMCU7Ij5Db2xsZWdlIG9yIFVuaXZlcnNpdHk8L2Rpdj4nKVswXTsKICAgICAgICAgICAgICAgIHBvcHVwXzQxZTI0MjI0MmEzNjRhNzA5ZGIzMGQ1ZmE5MTBmZTBkLnNldENvbnRlbnQoaHRtbF8xZjRlMzZkYTAxZjY0MGQxOGMyMDY1ZDEyYWFmOWNhNyk7CiAgICAgICAgICAgIAoKICAgICAgICAgICAgY2lyY2xlX21hcmtlcl8xNzM5NTZkZWY4NmE0OGM3ODNmNTdjYmZlMGI5MGVlOC5iaW5kUG9wdXAocG9wdXBfNDFlMjQyMjQyYTM2NGE3MDlkYjMwZDVmYTkxMGZlMGQpOwoKICAgICAgICAgICAgCiAgICAgICAgCiAgICAKICAgICAgICAgICAgdmFyIGNpcmNsZV9tYXJrZXJfYmU3MDg1ODQzY2MxNDVkZmExZWJkZWEyZjRmY2Y1MzQgPSBMLmNpcmNsZU1hcmtlcigKICAgICAgICAgICAgICAgIFsxOC42MDY2NDgxMjU1NDUwNiw3My43NTE5NDg2NDIyNTM3N10sCiAgICAgICAgICAgICAgICB7CiAgImJ1YmJsaW5nTW91c2VFdmVudHMiOiB0cnVlLAogICJjb2xvciI6ICJibHVlIiwKICAiZGFzaEFycmF5IjogbnVsbCwKICAiZGFzaE9mZnNldCI6IG51bGwsCiAgImZpbGwiOiB0cnVlLAogICJmaWxsQ29sb3IiOiAiYmx1ZSIsCiAgImZpbGxPcGFjaXR5IjogMC42LAogICJmaWxsUnVsZSI6ICJldmVub2RkIiwKICAibGluZUNhcCI6ICJyb3VuZCIsCiAgImxpbmVKb2luIjogInJvdW5kIiwKICAib3BhY2l0eSI6IDEuMCwKICAicmFkaXVzIjogMywKICAic3Ryb2tlIjogdHJ1ZSwKICAid2VpZ2h0IjogMwp9CiAgICAgICAgICAgICAgICApLmFkZFRvKG1hcF9lYzgzZDIxMDE0NDA0YTdhOWFkNTQ5ZmQwNmQxNGI2OSk7CiAgICAgICAgICAgIAogICAgCiAgICAgICAgICAgIHZhciBwb3B1cF8wMzJlMDA0YjgxMTg0NTI5OGY1ZmJmZGI4YjdhNTYxZCA9IEwucG9wdXAoe21heFdpZHRoOiAnMzAwJ30pOwoKICAgICAgICAgICAgCiAgICAgICAgICAgICAgICB2YXIgaHRtbF9iMDM1MGVkYmYxZjk0N2Q4OWZkM2I2MDM1MDFmYTJjYiA9ICQoJzxkaXYgaWQ9Imh0bWxfYjAzNTBlZGJmMWY5NDdkODlmZDNiNjAzNTAxZmEyY2IiIHN0eWxlPSJ3aWR0aDogMTAwLjAlOyBoZWlnaHQ6IDEwMC4wJTsiPkNvbGxlZ2Ugb3IgVW5pdmVyc2l0eTwvZGl2PicpWzBdOwogICAgICAgICAgICAgICAgcG9wdXBfMDMyZTAwNGI4MTE4NDUyOThmNWZiZmRiOGI3YTU2MWQuc2V0Q29udGVudChodG1sX2IwMzUwZWRiZjFmOTQ3ZDg5ZmQzYjYwMzUwMWZhMmNiKTsKICAgICAgICAgICAgCgogICAgICAgICAgICBjaXJjbGVfbWFya2VyX2JlNzA4NTg0M2NjMTQ1ZGZhMWViZGVhMmY0ZmNmNTM0LmJpbmRQb3B1cChwb3B1cF8wMzJlMDA0YjgxMTg0NTI5OGY1ZmJmZGI4YjdhNTYxZCk7CgogICAgICAgICAgICAKICAgICAgICAKICAgIAogICAgICAgICAgICB2YXIgY2lyY2xlX21hcmtlcl9iNDFhN2ZjNDBkZjg0Njg0YTg2NWFmZTE0OTc1MzI4MCA9IEwuY2lyY2xlTWFya2VyKAogICAgICAgICAgICAgICAgWzE4LjU3NDgzMDgwNTg4ODg5NCw3My43NzgwNTYzMjY0ODM0XSwKICAgICAgICAgICAgICAgIHsKICAiYnViYmxpbmdNb3VzZUV2ZW50cyI6IHRydWUsCiAgImNvbG9yIjogImJsdWUiLAogICJkYXNoQXJyYXkiOiBudWxsLAogICJkYXNoT2Zmc2V0IjogbnVsbCwKICAiZmlsbCI6IHRydWUsCiAgImZpbGxDb2xvciI6ICJibHVlIiwKICAiZmlsbE9wYWNpdHkiOiAwLjYsCiAgImZpbGxSdWxlIjogImV2ZW5vZGQiLAogICJsaW5lQ2FwIjogInJvdW5kIiwKICAibGluZUpvaW4iOiAicm91bmQiLAogICJvcGFjaXR5IjogMS4wLAogICJyYWRpdXMiOiAzLAogICJzdHJva2UiOiB0cnVlLAogICJ3ZWlnaHQiOiAzCn0KICAgICAgICAgICAgICAgICkuYWRkVG8obWFwX2VjODNkMjEwMTQ0MDRhN2E5YWQ1NDlmZDA2ZDE0YjY5KTsKICAgICAgICAgICAgCiAgICAKICAgICAgICAgICAgdmFyIHBvcHVwXzZmYTI5MzM2ZjM2NjQwNTY4MzAzNTRiMGM1ZmExNDA3ID0gTC5wb3B1cCh7bWF4V2lkdGg6ICczMDAnfSk7CgogICAgICAgICAgICAKICAgICAgICAgICAgICAgIHZhciBodG1sXzBiNjM3ZGUxMmI0ZDQyYTQ5ZGVlZWZkM2E4Y2E2MGRhID0gJCgnPGRpdiBpZD0iaHRtbF8wYjYzN2RlMTJiNGQ0MmE0OWRlZWVmZDNhOGNhNjBkYSIgc3R5bGU9IndpZHRoOiAxMDAuMCU7IGhlaWdodDogMTAwLjAlOyI+Q29sbGVnZSBvciBVbml2ZXJzaXR5PC9kaXY+JylbMF07CiAgICAgICAgICAgICAgICBwb3B1cF82ZmEyOTMzNmYzNjY0MDU2ODMwMzU0YjBjNWZhMTQwNy5zZXRDb250ZW50KGh0bWxfMGI2MzdkZTEyYjRkNDJhNDlkZWVlZmQzYThjYTYwZGEpOwogICAgICAgICAgICAKCiAgICAgICAgICAgIGNpcmNsZV9tYXJrZXJfYjQxYTdmYzQwZGY4NDY4NGE4NjVhZmUxNDk3NTMyODAuYmluZFBvcHVwKHBvcHVwXzZmYTI5MzM2ZjM2NjQwNTY4MzAzNTRiMGM1ZmExNDA3KTsKCiAgICAgICAgICAgIAogICAgICAgIAogICAgCiAgICAgICAgICAgIHZhciBjaXJjbGVfbWFya2VyX2I1ODYyZDlkOWFmZTQyMzU4NWE3NjhmZDE4NWI2MDQxID0gTC5jaXJjbGVNYXJrZXIoCiAgICAgICAgICAgICAgICBbMTguNTcxNTY1OTg1ODMzMTY4LDczLjgxNzQ4MTQxOTM0MTU5XSwKICAgICAgICAgICAgICAgIHsKICAiYnViYmxpbmdNb3VzZUV2ZW50cyI6IHRydWUsCiAgImNvbG9yIjogImJsdWUiLAogICJkYXNoQXJyYXkiOiBudWxsLAogICJkYXNoT2Zmc2V0IjogbnVsbCwKICAiZmlsbCI6IHRydWUsCiAgImZpbGxDb2xvciI6ICJibHVlIiwKICAiZmlsbE9wYWNpdHkiOiAwLjYsCiAgImZpbGxSdWxlIjogImV2ZW5vZGQiLAogICJsaW5lQ2FwIjogInJvdW5kIiwKICAibGluZUpvaW4iOiAicm91bmQiLAogICJvcGFjaXR5IjogMS4wLAogICJyYWRpdXMiOiAzLAogICJzdHJva2UiOiB0cnVlLAogICJ3ZWlnaHQiOiAzCn0KICAgICAgICAgICAgICAgICkuYWRkVG8obWFwX2VjODNkMjEwMTQ0MDRhN2E5YWQ1NDlmZDA2ZDE0YjY5KTsKICAgICAgICAgICAgCiAgICAKICAgICAgICAgICAgdmFyIHBvcHVwXzI5ZDVmM2YxYmYxYzRhY2Q4NmMzMDJlNDk4MGMyNWE3ID0gTC5wb3B1cCh7bWF4V2lkdGg6ICczMDAnfSk7CgogICAgICAgICAgICAKICAgICAgICAgICAgICAgIHZhciBodG1sX2E0MGZkMzRlZWQ1NjQ5ZmI4NzFkMTg4MzhiZTZjNGVkID0gJCgnPGRpdiBpZD0iaHRtbF9hNDBmZDM0ZWVkNTY0OWZiODcxZDE4ODM4YmU2YzRlZCIgc3R5bGU9IndpZHRoOiAxMDAuMCU7IGhlaWdodDogMTAwLjAlOyI+Q29sbGVnZSBvciBVbml2ZXJzaXR5PC9kaXY+JylbMF07CiAgICAgICAgICAgICAgICBwb3B1cF8yOWQ1ZjNmMWJmMWM0YWNkODZjMzAyZTQ5ODBjMjVhNy5zZXRDb250ZW50KGh0bWxfYTQwZmQzNGVlZDU2NDlmYjg3MWQxODgzOGJlNmM0ZWQpOwogICAgICAgICAgICAKCiAgICAgICAgICAgIGNpcmNsZV9tYXJrZXJfYjU4NjJkOWQ5YWZlNDIzNTg1YTc2OGZkMTg1YjYwNDEuYmluZFBvcHVwKHBvcHVwXzI5ZDVmM2YxYmYxYzRhY2Q4NmMzMDJlNDk4MGMyNWE3KTsKCiAgICAgICAgICAgIAogICAgICAgIAogICAgCiAgICAgICAgICAgIHZhciBjaXJjbGVfbWFya2VyX2Y3MzY3NTJhMTY2NzQxYjY4NmVlNWI4N2QyYTZlZTY2ID0gTC5jaXJjbGVNYXJrZXIoCiAgICAgICAgICAgICAgICBbMTguNjQ3MzExNTkyNDk5OTEsNzMuNzYwMjM5ODA5NDYyMTJdLAogICAgICAgICAgICAgICAgewogICJidWJibGluZ01vdXNlRXZlbnRzIjogdHJ1ZSwKICAiY29sb3IiOiAiYmx1ZSIsCiAgImRhc2hBcnJheSI6IG51bGwsCiAgImRhc2hPZmZzZXQiOiBudWxsLAogICJmaWxsIjogdHJ1ZSwKICAiZmlsbENvbG9yIjogImJsdWUiLAogICJmaWxsT3BhY2l0eSI6IDAuNiwKICAiZmlsbFJ1bGUiOiAiZXZlbm9kZCIsCiAgImxpbmVDYXAiOiAicm91bmQiLAogICJsaW5lSm9pbiI6ICJyb3VuZCIsCiAgIm9wYWNpdHkiOiAxLjAsCiAgInJhZGl1cyI6IDMsCiAgInN0cm9rZSI6IHRydWUsCiAgIndlaWdodCI6IDMKfQogICAgICAgICAgICAgICAgKS5hZGRUbyhtYXBfZWM4M2QyMTAxNDQwNGE3YTlhZDU0OWZkMDZkMTRiNjkpOwogICAgICAgICAgICAKICAgIAogICAgICAgICAgICB2YXIgcG9wdXBfOWI2NTA0ZjczOWE2NGI3NDlkZmYwZmJiYThlZTdlOGMgPSBMLnBvcHVwKHttYXhXaWR0aDogJzMwMCd9KTsKCiAgICAgICAgICAgIAogICAgICAgICAgICAgICAgdmFyIGh0bWxfNGJkNDViMzFmYTg0NDZlYWE0NDMxNzYxZjBhYzY3MTggPSAkKCc8ZGl2IGlkPSJodG1sXzRiZDQ1YjMxZmE4NDQ2ZWFhNDQzMTc2MWYwYWM2NzE4IiBzdHlsZT0id2lkdGg6IDEwMC4wJTsgaGVpZ2h0OiAxMDAuMCU7Ij5Db2xsZWdlIG9yIFVuaXZlcnNpdHk8L2Rpdj4nKVswXTsKICAgICAgICAgICAgICAgIHBvcHVwXzliNjUwNGY3MzlhNjRiNzQ5ZGZmMGZiYmE4ZWU3ZThjLnNldENvbnRlbnQoaHRtbF80YmQ0NWIzMWZhODQ0NmVhYTQ0MzE3NjFmMGFjNjcxOCk7CiAgICAgICAgICAgIAoKICAgICAgICAgICAgY2lyY2xlX21hcmtlcl9mNzM2NzUyYTE2Njc0MWI2ODZlZTViODdkMmE2ZWU2Ni5iaW5kUG9wdXAocG9wdXBfOWI2NTA0ZjczOWE2NGI3NDlkZmYwZmJiYThlZTdlOGMpOwoKICAgICAgICAgICAgCiAgICAgICAgCiAgICAKICAgICAgICAgICAgdmFyIGNpcmNsZV9tYXJrZXJfYjU4ODcyZjg5ZDVlNGE2NDg2OWRiYmQ2NTUxNTczZGEgPSBMLmNpcmNsZU1hcmtlcigKICAgICAgICAgICAgICAgIFsxOC41NjMxMTcyMzUxODM3MzYsNzMuODIwODE4NjY0NjA5NThdLAogICAgICAgICAgICAgICAgewogICJidWJibGluZ01vdXNlRXZlbnRzIjogdHJ1ZSwKICAiY29sb3IiOiAiYmx1ZSIsCiAgImRhc2hBcnJheSI6IG51bGwsCiAgImRhc2hPZmZzZXQiOiBudWxsLAogICJmaWxsIjogdHJ1ZSwKICAiZmlsbENvbG9yIjogImJsdWUiLAogICJmaWxsT3BhY2l0eSI6IDAuNiwKICAiZmlsbFJ1bGUiOiAiZXZlbm9kZCIsCiAgImxpbmVDYXAiOiAicm91bmQiLAogICJsaW5lSm9pbiI6ICJyb3VuZCIsCiAgIm9wYWNpdHkiOiAxLjAsCiAgInJhZGl1cyI6IDMsCiAgInN0cm9rZSI6IHRydWUsCiAgIndlaWdodCI6IDMKfQogICAgICAgICAgICAgICAgKS5hZGRUbyhtYXBfZWM4M2QyMTAxNDQwNGE3YTlhZDU0OWZkMDZkMTRiNjkpOwogICAgICAgICAgICAKICAgIAogICAgICAgICAgICB2YXIgcG9wdXBfNmQwNWY1MDQxMDdhNGFiOWExMzU5YzI2ZTI1N2MyNjEgPSBMLnBvcHVwKHttYXhXaWR0aDogJzMwMCd9KTsKCiAgICAgICAgICAgIAogICAgICAgICAgICAgICAgdmFyIGh0bWxfNzNkZDgyMjY5ZmViNDg3NjllNzY2YmRhNjJhMDkzNmEgPSAkKCc8ZGl2IGlkPSJodG1sXzczZGQ4MjI2OWZlYjQ4NzY5ZTc2NmJkYTYyYTA5MzZhIiBzdHlsZT0id2lkdGg6IDEwMC4wJTsgaGVpZ2h0OiAxMDAuMCU7Ij5Db2xsZWdlIG9yIFVuaXZlcnNpdHk8L2Rpdj4nKVswXTsKICAgICAgICAgICAgICAgIHBvcHVwXzZkMDVmNTA0MTA3YTRhYjlhMTM1OWMyNmUyNTdjMjYxLnNldENvbnRlbnQoaHRtbF83M2RkODIyNjlmZWI0ODc2OWU3NjZiZGE2MmEwOTM2YSk7CiAgICAgICAgICAgIAoKICAgICAgICAgICAgY2lyY2xlX21hcmtlcl9iNTg4NzJmODlkNWU0YTY0ODY5ZGJiZDY1NTE1NzNkYS5iaW5kUG9wdXAocG9wdXBfNmQwNWY1MDQxMDdhNGFiOWExMzU5YzI2ZTI1N2MyNjEpOwoKICAgICAgICAgICAgCiAgICAgICAgCiAgICAKICAgICAgICAgICAgdmFyIGNpcmNsZV9tYXJrZXJfNjAzNzQ0Y2RhYTA0NGU0NGI3Y2IzYzZhYTdjMDViMjAgPSBMLmNpcmNsZU1hcmtlcigKICAgICAgICAgICAgICAgIFsxOC41NTUwNzQxMzQ2MDMyMSw3My43OTcyNzg2ODY1NzUwNF0sCiAgICAgICAgICAgICAgICB7CiAgImJ1YmJsaW5nTW91c2VFdmVudHMiOiB0cnVlLAogICJjb2xvciI6ICJibHVlIiwKICAiZGFzaEFycmF5IjogbnVsbCwKICAiZGFzaE9mZnNldCI6IG51bGwsCiAgImZpbGwiOiB0cnVlLAogICJmaWxsQ29sb3IiOiAiYmx1ZSIsCiAgImZpbGxPcGFjaXR5IjogMC42LAogICJmaWxsUnVsZSI6ICJldmVub2RkIiwKICAibGluZUNhcCI6ICJyb3VuZCIsCiAgImxpbmVKb2luIjogInJvdW5kIiwKICAib3BhY2l0eSI6IDEuMCwKICAicmFkaXVzIjogMywKICAic3Ryb2tlIjogdHJ1ZSwKICAid2VpZ2h0IjogMwp9CiAgICAgICAgICAgICAgICApLmFkZFRvKG1hcF9lYzgzZDIxMDE0NDA0YTdhOWFkNTQ5ZmQwNmQxNGI2OSk7CiAgICAgICAgICAgIAogICAgCiAgICAgICAgICAgIHZhciBwb3B1cF9jYmY3NzU2OTA0ZDc0OTExOWM5ZThhNDUzOWI3OTAwZCA9IEwucG9wdXAoe21heFdpZHRoOiAnMzAwJ30pOwoKICAgICAgICAgICAgCiAgICAgICAgICAgICAgICB2YXIgaHRtbF9kZTc0ZDkyZjA2ZTQ0ZTUxYjA3ZTNjNzBhMjBmMzhiMSA9ICQoJzxkaXYgaWQ9Imh0bWxfZGU3NGQ5MmYwNmU0NGU1MWIwN2UzYzcwYTIwZjM4YjEiIHN0eWxlPSJ3aWR0aDogMTAwLjAlOyBoZWlnaHQ6IDEwMC4wJTsiPkNvbGxlZ2Ugb3IgVW5pdmVyc2l0eTwvZGl2PicpWzBdOwogICAgICAgICAgICAgICAgcG9wdXBfY2JmNzc1NjkwNGQ3NDkxMTljOWU4YTQ1MzliNzkwMGQuc2V0Q29udGVudChodG1sX2RlNzRkOTJmMDZlNDRlNTFiMDdlM2M3MGEyMGYzOGIxKTsKICAgICAgICAgICAgCgogICAgICAgICAgICBjaXJjbGVfbWFya2VyXzYwMzc0NGNkYWEwNDRlNDRiN2NiM2M2YWE3YzA1YjIwLmJpbmRQb3B1cChwb3B1cF9jYmY3NzU2OTA0ZDc0OTExOWM5ZThhNDUzOWI3OTAwZCk7CgogICAgICAgICAgICAKICAgICAgICAKICAgIAogICAgICAgICAgICB2YXIgY2lyY2xlX21hcmtlcl9iMTNlOGZjNTNiOTI0ZDg3YjdkMDcwZWI3MDhhZmUxZiA9IEwuY2lyY2xlTWFya2VyKAogICAgICAgICAgICAgICAgWzE4LjU3NDUxNjQ2MzMyMyw3My43Njc4MTI0NTM5Mjg2XSwKICAgICAgICAgICAgICAgIHsKICAiYnViYmxpbmdNb3VzZUV2ZW50cyI6IHRydWUsCiAgImNvbG9yIjogImJsdWUiLAogICJkYXNoQXJyYXkiOiBudWxsLAogICJkYXNoT2Zmc2V0IjogbnVsbCwKICAiZmlsbCI6IHRydWUsCiAgImZpbGxDb2xvciI6ICJibHVlIiwKICAiZmlsbE9wYWNpdHkiOiAwLjYsCiAgImZpbGxSdWxlIjogImV2ZW5vZGQiLAogICJsaW5lQ2FwIjogInJvdW5kIiwKICAibGluZUpvaW4iOiAicm91bmQiLAogICJvcGFjaXR5IjogMS4wLAogICJyYWRpdXMiOiAzLAogICJzdHJva2UiOiB0cnVlLAogICJ3ZWlnaHQiOiAzCn0KICAgICAgICAgICAgICAgICkuYWRkVG8obWFwX2VjODNkMjEwMTQ0MDRhN2E5YWQ1NDlmZDA2ZDE0YjY5KTsKICAgICAgICAgICAgCiAgICAKICAgICAgICAgICAgdmFyIHBvcHVwXzI2ZGE1NGFhNjRhZDQxOTRiMTM3ZGMzMzg4YjdhYjk5ID0gTC5wb3B1cCh7bWF4V2lkdGg6ICczMDAnfSk7CgogICAgICAgICAgICAKICAgICAgICAgICAgICAgIHZhciBodG1sXzZiMTI4YzAyMmJlNDQ3ZDFhYjZjNDkzZTBjYzU2MDc0ID0gJCgnPGRpdiBpZD0iaHRtbF82YjEyOGMwMjJiZTQ0N2QxYWI2YzQ5M2UwY2M1NjA3NCIgc3R5bGU9IndpZHRoOiAxMDAuMCU7IGhlaWdodDogMTAwLjAlOyI+Q29sbGVnZSBvciBVbml2ZXJzaXR5PC9kaXY+JylbMF07CiAgICAgICAgICAgICAgICBwb3B1cF8yNmRhNTRhYTY0YWQ0MTk0YjEzN2RjMzM4OGI3YWI5OS5zZXRDb250ZW50KGh0bWxfNmIxMjhjMDIyYmU0NDdkMWFiNmM0OTNlMGNjNTYwNzQpOwogICAgICAgICAgICAKCiAgICAgICAgICAgIGNpcmNsZV9tYXJrZXJfYjEzZThmYzUzYjkyNGQ4N2I3ZDA3MGViNzA4YWZlMWYuYmluZFBvcHVwKHBvcHVwXzI2ZGE1NGFhNjRhZDQxOTRiMTM3ZGMzMzg4YjdhYjk5KTsKCiAgICAgICAgICAgIAogICAgICAgIAogICAgCiAgICAgICAgICAgIHZhciBjaXJjbGVfbWFya2VyXzU5MWJjMzVkZWU2ZjQ5NThiNzk2NDZkNjFiMmViNWRjID0gTC5jaXJjbGVNYXJrZXIoCiAgICAgICAgICAgICAgICBbMTguNTM3MTMxMzQ2MDY0MTk2LDczLjgzNjQyNDI3ODMyMjI2XSwKICAgICAgICAgICAgICAgIHsKICAiYnViYmxpbmdNb3VzZUV2ZW50cyI6IHRydWUsCiAgImNvbG9yIjogImJsdWUiLAogICJkYXNoQXJyYXkiOiBudWxsLAogICJkYXNoT2Zmc2V0IjogbnVsbCwKICAiZmlsbCI6IHRydWUsCiAgImZpbGxDb2xvciI6ICJibHVlIiwKICAiZmlsbE9wYWNpdHkiOiAwLjYsCiAgImZpbGxSdWxlIjogImV2ZW5vZGQiLAogICJsaW5lQ2FwIjogInJvdW5kIiwKICAibGluZUpvaW4iOiAicm91bmQiLAogICJvcGFjaXR5IjogMS4wLAogICJyYWRpdXMiOiAzLAogICJzdHJva2UiOiB0cnVlLAogICJ3ZWlnaHQiOiAzCn0KICAgICAgICAgICAgICAgICkuYWRkVG8obWFwX2VjODNkMjEwMTQ0MDRhN2E5YWQ1NDlmZDA2ZDE0YjY5KTsKICAgICAgICAgICAgCiAgICAKICAgICAgICAgICAgdmFyIHBvcHVwXzljMGVlMmI3ZjY3MTRhZWE4MTc2OWNiNmVjYzk4OTI1ID0gTC5wb3B1cCh7bWF4V2lkdGg6ICczMDAnfSk7CgogICAgICAgICAgICAKICAgICAgICAgICAgICAgIHZhciBodG1sXzFmZTNkZmZkNmE0NjQwYWI5YjE0OTQ2YTM3YmY0MWIxID0gJCgnPGRpdiBpZD0iaHRtbF8xZmUzZGZmZDZhNDY0MGFiOWIxNDk0NmEzN2JmNDFiMSIgc3R5bGU9IndpZHRoOiAxMDAuMCU7IGhlaWdodDogMTAwLjAlOyI+Q29sbGVnZSBvciBVbml2ZXJzaXR5PC9kaXY+JylbMF07CiAgICAgICAgICAgICAgICBwb3B1cF85YzBlZTJiN2Y2NzE0YWVhODE3NjljYjZlY2M5ODkyNS5zZXRDb250ZW50KGh0bWxfMWZlM2RmZmQ2YTQ2NDBhYjliMTQ5NDZhMzdiZjQxYjEpOwogICAgICAgICAgICAKCiAgICAgICAgICAgIGNpcmNsZV9tYXJrZXJfNTkxYmMzNWRlZTZmNDk1OGI3OTY0NmQ2MWIyZWI1ZGMuYmluZFBvcHVwKHBvcHVwXzljMGVlMmI3ZjY3MTRhZWE4MTc2OWNiNmVjYzk4OTI1KTsKCiAgICAgICAgICAgIAogICAgICAgIAo8L3NjcmlwdD4=\" style=\"position:absolute;width:100%;height:100%;left:0;top:0;border:none !important;\" allowfullscreen webkitallowfullscreen mozallowfullscreen></iframe></div></div>"
      ],
      "text/plain": [
       "<folium.folium.Map at 0x7f376a7c2940>"
      ]
     },
     "execution_count": 95,
     "metadata": {},
     "output_type": "execute_result"
    }
   ],
   "source": [
    "venues_map = folium.Map(location=(k_means_cluster_centers[0,0],k_means_cluster_centers[0,1]), zoom_start=10.8)\n",
    "\n",
    "folium.features.CircleMarker(\n",
    "    [k_means_cluster_centers[0,0],k_means_cluster_centers[0,1]],\n",
    "    radius=7,\n",
    "    color='red',\n",
    "    popup='Centre 1',\n",
    "    fill = True,\n",
    "    fill_color = 'red',\n",
    "    fill_opacity = 0.9\n",
    ").add_to(venues_map)\n",
    "\n",
    "folium.features.CircleMarker(\n",
    "    [k_means_cluster_centers[1,0],k_means_cluster_centers[1,1]],\n",
    "    radius=7,\n",
    "    color='red',\n",
    "    popup='Centre 2',\n",
    "    fill = True,\n",
    "    fill_color = 'red',\n",
    "    fill_opacity = 0.9\n",
    ").add_to(venues_map)\n",
    "\n",
    "for lat, lng, label in zip(dataframe['location.lat'], dataframe['location.lng'], dataframe.name):\n",
    "    folium.features.CircleMarker(\n",
    "        [lat, lng],\n",
    "        radius=3,\n",
    "        color='blue',\n",
    "        popup='College or University',\n",
    "        fill = True,\n",
    "        fill_color='blue',\n",
    "        fill_opacity=0.6\n",
    "    ).add_to(venues_map)\n",
    "\n",
    "for lat, lng, label in zip(dataframe2['location.lat'], dataframe2['location.lng'], dataframe2.name):\n",
    "    folium.features.CircleMarker(\n",
    "        [lat, lng],\n",
    "        radius=3,\n",
    "        color='blue',\n",
    "        popup='College or University',\n",
    "        fill = True,\n",
    "        fill_color='blue',\n",
    "        fill_opacity=0.6\n",
    "    ).add_to(venues_map)\n",
    "venues_map"
   ]
  },
  {
   "cell_type": "markdown",
   "metadata": {},
   "source": [
    "Hence, from in the map we see the two red dots around which the centres should be opened and blue dots represent the college"
   ]
  }
 ],
 "metadata": {
  "kernelspec": {
   "display_name": "Python",
   "language": "python",
   "name": "conda-env-python-py"
  },
  "language_info": {
   "codemirror_mode": {
    "name": "ipython",
    "version": 3
   },
   "file_extension": ".py",
   "mimetype": "text/x-python",
   "name": "python",
   "nbconvert_exporter": "python",
   "pygments_lexer": "ipython3",
   "version": "3.6.7"
  }
 },
 "nbformat": 4,
 "nbformat_minor": 4
}
